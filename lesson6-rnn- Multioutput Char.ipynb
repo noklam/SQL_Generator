{
 "cells": [
  {
   "cell_type": "code",
   "execution_count": 1,
   "metadata": {
    "ExecuteTime": {
     "end_time": "2018-04-23T09:33:06.618307Z",
     "start_time": "2018-04-23T09:33:06.237272Z"
    }
   },
   "outputs": [],
   "source": [
    "%reload_ext autoreload\n",
    "%autoreload 2\n",
    "%matplotlib inline\n",
    "\n",
    "from fastai.io import *\n",
    "from fastai.conv_learner import *\n",
    "from fastai.text import *\n",
    "from fastai.column_data import *"
   ]
  },
  {
   "cell_type": "code",
   "execution_count": 2,
   "metadata": {
    "ExecuteTime": {
     "end_time": "2018-04-23T09:33:06.965516Z",
     "start_time": "2018-04-23T09:33:06.620318Z"
    }
   },
   "outputs": [],
   "source": [
    "from fsm import *"
   ]
  },
  {
   "cell_type": "code",
   "execution_count": 3,
   "metadata": {
    "ExecuteTime": {
     "end_time": "2018-04-23T09:33:07.310567Z",
     "start_time": "2018-04-23T09:33:06.967522Z"
    }
   },
   "outputs": [],
   "source": [
    "DATA_PATH = Path('data')\n",
    "DATA_PATH\n",
    "TMP_PATH = DATA_PATH/'tmp'\n",
    "TMP_PATH.mkdir(exist_ok=True)"
   ]
  },
  {
   "cell_type": "code",
   "execution_count": 4,
   "metadata": {
    "ExecuteTime": {
     "end_time": "2018-04-23T09:33:07.814526Z",
     "start_time": "2018-04-23T09:33:07.312072Z"
    }
   },
   "outputs": [],
   "source": [
    "sql_ids = np.load(TMP_PATH/'sql_ids_char.npy')\n",
    "sql_itos = pickle.load(open(TMP_PATH/'sql_itos_char.pkl','rb'))\n",
    "sql_stoi =  collections.defaultdict(lambda: 3, {v:k for k,v in enumerate(sql_itos)})"
   ]
  },
  {
   "cell_type": "code",
   "execution_count": 5,
   "metadata": {
    "ExecuteTime": {
     "end_time": "2018-04-23T09:33:08.270319Z",
     "start_time": "2018-04-23T09:33:07.816474Z"
    }
   },
   "outputs": [],
   "source": [
    "def get_next_random(inp):\n",
    "    idxs = T(np.array([char_indices[c] for c in inp]))\n",
    "    p = m(*VV(idxs))\n",
    "    p = to_np(p)[0]\n",
    "    pi = p.argsort()[-10:]\n",
    "    i = np.random.choice(pi, p=softmax_np(p[pi]))\n",
    "    return indices_char[i]\n",
    "def softmax_np (nparray):\n",
    "    ans = np.exp(nparray)\n",
    "    return ans/ans.sum()\n",
    "\n",
    "def get_next(inp):\n",
    "    idxs = T(np.array([char_indices[c] for c in inp]))\n",
    "    p = m(*VV(idxs))\n",
    "    i = np.argmax(to_np(p))\n",
    "    p = to_np(p)\n",
    "    \n",
    "    return indices_char[i]\n",
    "\n",
    "def get_sentence(inp):\n",
    "    sentence = inp\n",
    "    counter = 0\n",
    "    tmp = []\n",
    "    while \"_eos_\" not in tmp:   \n",
    "        tmp = get_next(sentence[-8:]) # always get last three\n",
    "        sentence += [tmp]\n",
    "        counter = counter+1\n",
    "        if counter> 500:\n",
    "            break\n",
    "    return sentence\n",
    "        \n",
    "\n",
    "def get_sentence_random(inp):\n",
    "    sentence = inp\n",
    "    counter = 0\n",
    "    tmp = []\n",
    "    while \"_eos_\" not in tmp:   \n",
    "        tmp = get_next_random(sentence[-8:]) # always get last three\n",
    "        sentence += [tmp]\n",
    "        counter = counter+1\n",
    "        if counter> 500:\n",
    "            break\n",
    "    return sentence\n",
    "        \n",
    "\n",
    "def show_sentence(inp):\n",
    "    sentence =''\n",
    "    captialize = False\n",
    "    for i in inp:\n",
    "        if i =='t_up':\n",
    "            captialize = True\n",
    "        else:            \n",
    "            if captialize:\n",
    "                sentence = sentence + \" \" + i.upper()       \n",
    "           \n",
    "            else:\n",
    "                sentence = sentence +\" \" + i\n",
    "            captialize = False\n",
    "    return sentence"
   ]
  },
  {
   "cell_type": "code",
   "execution_count": 6,
   "metadata": {
    "ExecuteTime": {
     "end_time": "2018-04-23T09:39:13.062325Z",
     "start_time": "2018-04-23T09:39:12.758442Z"
    }
   },
   "outputs": [],
   "source": [
    "# fsm = Rule_Parse_FSM()\n",
    "\n",
    "# get_next_random(\"select userid from users where \".split())\n",
    "\n",
    "# get_next_random_fsm(\"select userid from users where \".split(), fsm)"
   ]
  },
  {
   "cell_type": "markdown",
   "metadata": {},
   "source": [
    "## Setup"
   ]
  },
  {
   "cell_type": "markdown",
   "metadata": {},
   "source": [
    "Set up directory path"
   ]
  },
  {
   "cell_type": "code",
   "execution_count": 6,
   "metadata": {},
   "outputs": [
    {
     "name": "stdout",
     "output_type": "stream",
     "text": [
      "dev.db\t\t  SQL_tok.pkl\t     train.db\t\t TRN_PATHtrn.txt\r\n",
      "dev.jsonl\t  test.db\t     train.json\t\t val\r\n",
      "dev.tables.jsonl  test.jsonl\t     train.tables.jsonl  VAL_PATH\r\n",
      "nietzsche\t  test.tables.jsonl  trn\t\t VAL_PATHval.txt\r\n",
      "sql_queries.pkl   tmp\t\t     TRN_PATH\r\n"
     ]
    }
   ],
   "source": [
    "!ls data"
   ]
  },
  {
   "cell_type": "code",
   "execution_count": 33,
   "metadata": {},
   "outputs": [
    {
     "name": "stdout",
     "output_type": "stream",
     "text": [
      "dev.db            SQL_tok.pkl        train.db            TRN_PATHtrn.txt\r\n",
      "dev.jsonl         test.db            train.json          \u001b[0m\u001b[01;34mval\u001b[0m/\r\n",
      "dev.tables.jsonl  test.jsonl         train.tables.jsonl  \u001b[01;34mVAL_PATH\u001b[0m/\r\n",
      "\u001b[01;34mnietzsche\u001b[0m/        test.tables.jsonl  \u001b[01;34mtrn\u001b[0m/                VAL_PATHval.txt\r\n",
      "sql_queries.pkl   \u001b[01;34mtmp\u001b[0m/               \u001b[01;34mTRN_PATH\u001b[0m/\r\n"
     ]
    }
   ],
   "source": [
    "PATH='data/'\n",
    "\n",
    "TRN_PATH = 'trn/'\n",
    "VAL_PATH = 'val/'\n",
    "\n",
    "TRN = f'{PATH}{TRN_PATH}'\n",
    "VAL = f'{PATH}{VAL_PATH}'\n",
    "os.makedirs(TRN, exist_ok=True)\n",
    "os.makedirs(VAL, exist_ok=True)\n",
    "%ls {PATH}"
   ]
  },
  {
   "cell_type": "code",
   "execution_count": 7,
   "metadata": {},
   "outputs": [],
   "source": [
    "dataset = pd.read_json(DATA_PATH/'train.json')\n",
    "dataset.head()\n",
    "SQL = dataset.sql\n",
    "\n"
   ]
  },
  {
   "cell_type": "code",
   "execution_count": 8,
   "metadata": {},
   "outputs": [],
   "source": [
    "SQL = SQL.str.lower()\n"
   ]
  },
  {
   "cell_type": "code",
   "execution_count": 9,
   "metadata": {},
   "outputs": [],
   "source": [
    "SQL = SQL.apply(list)"
   ]
  },
  {
   "cell_type": "code",
   "execution_count": 10,
   "metadata": {},
   "outputs": [],
   "source": [
    "sql_tok = SQL"
   ]
  },
  {
   "cell_type": "code",
   "execution_count": 12,
   "metadata": {},
   "outputs": [],
   "source": [
    "lens=[len(i) for i in sql_tok]\n",
    "lens= np.array(lens)"
   ]
  },
  {
   "cell_type": "code",
   "execution_count": 13,
   "metadata": {},
   "outputs": [
    {
     "data": {
      "text/plain": [
       "array([1217,  831,   88,  599,  184,  186,  256,  352,  669,  123])"
      ]
     },
     "execution_count": 13,
     "metadata": {},
     "output_type": "execute_result"
    }
   ],
   "source": [
    "lens[:10]"
   ]
  },
  {
   "cell_type": "code",
   "execution_count": 310,
   "metadata": {},
   "outputs": [
    {
     "data": {
      "text/plain": [
       "\"select postid as [post link], 'http://stackoverflow.com/posts/' + cast(p.id as varchar(100)) + '/revisions', text from posthistory ph join posts p on p.id = ph.postid where posthistorytypeid = 2 and text = upper(text) collate sql_latin1_general_cp1_cs_as and ph.creationdate > (select creationdate from posts where id = (select max(id) from posts)) - 30 and p.posttypeid = 1\""
      ]
     },
     "execution_count": 310,
     "metadata": {},
     "output_type": "execute_result"
    }
   ],
   "source": [
    "SQL.apply(\"\".join).iloc[25]"
   ]
  },
  {
   "cell_type": "code",
   "execution_count": 14,
   "metadata": {},
   "outputs": [
    {
     "data": {
      "text/plain": [
       "(306.0687972676262, 1, 1922, 276.13404203894646)"
      ]
     },
     "execution_count": 14,
     "metadata": {},
     "output_type": "execute_result"
    }
   ],
   "source": [
    "lens.mean(),lens.min(),lens.max(),lens.std()"
   ]
  },
  {
   "cell_type": "code",
   "execution_count": 15,
   "metadata": {},
   "outputs": [],
   "source": [
    "sql_tok = [i for i in sql_tok if len(i)>=20] # Filter short sentence\n",
    "\n",
    "\n",
    "lens=[len(i) for i in sql_tok]\n",
    "lens= np.array(lens)"
   ]
  },
  {
   "cell_type": "code",
   "execution_count": 16,
   "metadata": {},
   "outputs": [
    {
     "data": {
      "text/plain": [
       "(308.173247051114, 20, 1922, 276.03243266193437)"
      ]
     },
     "execution_count": 16,
     "metadata": {},
     "output_type": "execute_result"
    }
   ],
   "source": [
    "lens.mean(),lens.min(),lens.max(),lens.std()"
   ]
  },
  {
   "cell_type": "code",
   "execution_count": 17,
   "metadata": {},
   "outputs": [
    {
     "data": {
      "text/plain": [
       "(array([0.48354, 0.74922, 0.87115, 0.93463, 0.96203, 0.97813, 0.98931, 0.99517, 0.99869, 1.     ]),\n",
       " array([  20. ,  210.2,  400.4,  590.6,  780.8,  971. , 1161.2, 1351.4, 1541.6, 1731.8, 1922. ]),\n",
       " <a list of 10 Patch objects>)"
      ]
     },
     "execution_count": 17,
     "metadata": {},
     "output_type": "execute_result"
    },
    {
     "data": {
      "image/png": "[encoded data removed]",
      "text/plain": [
       "<matplotlib.figure.Figure at 0x7f8ee1610c18>"
      ]
     },
     "metadata": {},
     "output_type": "display_data"
    }
   ],
   "source": [
    "plt.hist(lens,cumulative=True,density=True)"
   ]
  },
  {
   "cell_type": "code",
   "execution_count": 18,
   "metadata": {
    "collapsed": true
   },
   "outputs": [
    {
     "name": "stdout",
     "output_type": "stream",
     "text": [
      "Filter 1251 Long sentences\n"
     ]
    },
    {
     "data": {
      "text/plain": [
       "['s',\n",
       " 'e',\n",
       " 'l',\n",
       " 'e',\n",
       " 'c',\n",
       " 't',\n",
       " ' ',\n",
       " 'p',\n",
       " '.',\n",
       " 't',\n",
       " 'i',\n",
       " 't',\n",
       " 'l',\n",
       " 'e',\n",
       " ',',\n",
       " 'p',\n",
       " '.',\n",
       " 's',\n",
       " 'c',\n",
       " 'o',\n",
       " 'r',\n",
       " 'e',\n",
       " ',',\n",
       " 'p',\n",
       " '.',\n",
       " 'v',\n",
       " 'i',\n",
       " 'e',\n",
       " 'w',\n",
       " 'c',\n",
       " 'o',\n",
       " 'u',\n",
       " 'n',\n",
       " 't',\n",
       " ',',\n",
       " 'p',\n",
       " '.',\n",
       " 'a',\n",
       " 'n',\n",
       " 's',\n",
       " 'w',\n",
       " 'e',\n",
       " 'r',\n",
       " 'c',\n",
       " 'o',\n",
       " 'u',\n",
       " 'n',\n",
       " 't',\n",
       " ',',\n",
       " 'p',\n",
       " '.',\n",
       " 'c',\n",
       " 'o',\n",
       " 'm',\n",
       " 'm',\n",
       " 'e',\n",
       " 'n',\n",
       " 't',\n",
       " 'c',\n",
       " 'o',\n",
       " 'u',\n",
       " 'n',\n",
       " 't',\n",
       " ',',\n",
       " 'l',\n",
       " 'e',\n",
       " 'n',\n",
       " '(',\n",
       " 'p',\n",
       " '.',\n",
       " 'b',\n",
       " 'o',\n",
       " 'd',\n",
       " 'y',\n",
       " ')',\n",
       " ' ',\n",
       " 'a',\n",
       " 's',\n",
       " ' ',\n",
       " 'q',\n",
       " 'u',\n",
       " 'e',\n",
       " 's',\n",
       " '_',\n",
       " 's',\n",
       " 'i',\n",
       " 'z',\n",
       " 'e',\n",
       " ',',\n",
       " ' ',\n",
       " 'p',\n",
       " '.',\n",
       " 'f',\n",
       " 'a',\n",
       " 'v',\n",
       " 'o',\n",
       " 'r',\n",
       " 'i',\n",
       " 't',\n",
       " 'e',\n",
       " 'c',\n",
       " 'o',\n",
       " 'u',\n",
       " 'n',\n",
       " 't',\n",
       " ',',\n",
       " 'p',\n",
       " '.',\n",
       " 'i',\n",
       " 'd',\n",
       " ',',\n",
       " ' ',\n",
       " 'u',\n",
       " '.',\n",
       " 'r',\n",
       " 'e',\n",
       " 'p',\n",
       " 'u',\n",
       " 't',\n",
       " 'a',\n",
       " 't',\n",
       " 'i',\n",
       " 'o',\n",
       " 'n',\n",
       " ' ',\n",
       " 'a',\n",
       " 's',\n",
       " ' ',\n",
       " 'u',\n",
       " 's',\n",
       " 'e',\n",
       " 'r',\n",
       " '_',\n",
       " 'r',\n",
       " 'e',\n",
       " 'p',\n",
       " 'o',\n",
       " ',',\n",
       " 'u',\n",
       " '.',\n",
       " 'c',\n",
       " 'r',\n",
       " 'e',\n",
       " 'a',\n",
       " 't',\n",
       " 'i',\n",
       " 'o',\n",
       " 'n',\n",
       " 'd',\n",
       " 'a',\n",
       " 't',\n",
       " 'e',\n",
       " ' ',\n",
       " 'a',\n",
       " 's',\n",
       " ' ',\n",
       " 'u',\n",
       " 's',\n",
       " 'e',\n",
       " 'r',\n",
       " '_',\n",
       " 'j',\n",
       " 'o',\n",
       " 'i',\n",
       " 'n',\n",
       " '_',\n",
       " 'd',\n",
       " 'a',\n",
       " 't',\n",
       " 'e',\n",
       " ',',\n",
       " ' ',\n",
       " 'd',\n",
       " 'a',\n",
       " 't',\n",
       " 'e',\n",
       " 'd',\n",
       " 'i',\n",
       " 'f',\n",
       " 'f',\n",
       " '(',\n",
       " 'm',\n",
       " 'i',\n",
       " 'n',\n",
       " 'u',\n",
       " 't',\n",
       " 'e',\n",
       " ',',\n",
       " ' ',\n",
       " 'p',\n",
       " '.',\n",
       " 'c',\n",
       " 'r',\n",
       " 'e',\n",
       " 'a',\n",
       " 't',\n",
       " 'i',\n",
       " 'o',\n",
       " 'n',\n",
       " 'd',\n",
       " 'a',\n",
       " 't',\n",
       " 'e',\n",
       " ',',\n",
       " ' ',\n",
       " 'a',\n",
       " '.',\n",
       " 'c',\n",
       " 'r',\n",
       " 'e',\n",
       " 'a',\n",
       " 't',\n",
       " 'i',\n",
       " 'o',\n",
       " 'n',\n",
       " 'd',\n",
       " 'a',\n",
       " 't',\n",
       " 'e',\n",
       " ')',\n",
       " ' ',\n",
       " 'a',\n",
       " 's',\n",
       " ' ',\n",
       " 'q',\n",
       " 'a',\n",
       " 't',\n",
       " 'i',\n",
       " 'm',\n",
       " 'e',\n",
       " 'g',\n",
       " 'a',\n",
       " 'p',\n",
       " ' ',\n",
       " 'f',\n",
       " 'r',\n",
       " 'o',\n",
       " 'm',\n",
       " ' ',\n",
       " 'p',\n",
       " 'o',\n",
       " 's',\n",
       " 't',\n",
       " 's',\n",
       " ' ',\n",
       " 'a',\n",
       " 's',\n",
       " ' ',\n",
       " 'p',\n",
       " ',',\n",
       " ' ',\n",
       " 'p',\n",
       " 'o',\n",
       " 's',\n",
       " 't',\n",
       " 's',\n",
       " ' ',\n",
       " 'a',\n",
       " 's',\n",
       " ' ',\n",
       " 'a',\n",
       " ',',\n",
       " ' ',\n",
       " 'u',\n",
       " 's',\n",
       " 'e',\n",
       " 'r',\n",
       " 's',\n",
       " ' ',\n",
       " 'a',\n",
       " 's',\n",
       " ' ',\n",
       " 'u',\n",
       " ' ',\n",
       " 'w',\n",
       " 'h',\n",
       " 'e',\n",
       " 'r',\n",
       " 'e',\n",
       " ' ',\n",
       " 'p',\n",
       " '.',\n",
       " 'i',\n",
       " 'd',\n",
       " '=',\n",
       " 'a',\n",
       " '.',\n",
       " 'p',\n",
       " 'a',\n",
       " 'r',\n",
       " 'e',\n",
       " 'n',\n",
       " 't',\n",
       " 'i',\n",
       " 'd',\n",
       " ' ',\n",
       " 'a',\n",
       " 'n',\n",
       " 'd',\n",
       " ' ',\n",
       " 'p',\n",
       " '.',\n",
       " 'o',\n",
       " 'w',\n",
       " 'n',\n",
       " 'e',\n",
       " 'r',\n",
       " 'u',\n",
       " 's',\n",
       " 'e',\n",
       " 'r',\n",
       " 'i',\n",
       " 'd',\n",
       " '=',\n",
       " 'u',\n",
       " '.',\n",
       " 'i',\n",
       " 'd',\n",
       " ' ',\n",
       " 'a',\n",
       " 'n',\n",
       " 'd',\n",
       " ' ',\n",
       " 'a',\n",
       " '.',\n",
       " 'c',\n",
       " 'r',\n",
       " 'e',\n",
       " 'a',\n",
       " 't',\n",
       " 'i',\n",
       " 'o',\n",
       " 'n',\n",
       " 'd',\n",
       " 'a',\n",
       " 't',\n",
       " 'e',\n",
       " ' ',\n",
       " '=',\n",
       " ' ',\n",
       " '(',\n",
       " 's',\n",
       " 'e',\n",
       " 'l',\n",
       " 'e',\n",
       " 'c',\n",
       " 't',\n",
       " ' ',\n",
       " 'm',\n",
       " 'i',\n",
       " 'n',\n",
       " '(',\n",
       " 't',\n",
       " 'a',\n",
       " 'u',\n",
       " '.',\n",
       " 'c',\n",
       " 'r',\n",
       " 'e',\n",
       " 'a',\n",
       " 't',\n",
       " 'i',\n",
       " 'o',\n",
       " 'n',\n",
       " 'd',\n",
       " 'a',\n",
       " 't',\n",
       " 'e',\n",
       " ')',\n",
       " ' ',\n",
       " 'f',\n",
       " 'r',\n",
       " 'o',\n",
       " 'm',\n",
       " ' ',\n",
       " 'p',\n",
       " 'o',\n",
       " 's',\n",
       " 't',\n",
       " 's',\n",
       " ' ',\n",
       " 't',\n",
       " 'a',\n",
       " 'u',\n",
       " ' ',\n",
       " 'w',\n",
       " 'h',\n",
       " 'e',\n",
       " 'r',\n",
       " 'e',\n",
       " ' ',\n",
       " 't',\n",
       " 'a',\n",
       " 'u',\n",
       " '.',\n",
       " 'p',\n",
       " 'a',\n",
       " 'r',\n",
       " 'e',\n",
       " 'n',\n",
       " 't',\n",
       " 'i',\n",
       " 'd',\n",
       " '=',\n",
       " 'p',\n",
       " '.',\n",
       " 'i',\n",
       " 'd',\n",
       " ' ',\n",
       " 'g',\n",
       " 'r',\n",
       " 'o',\n",
       " 'u',\n",
       " 'p',\n",
       " ' ',\n",
       " 'b',\n",
       " 'y',\n",
       " ' ',\n",
       " 't',\n",
       " 'a',\n",
       " 'u',\n",
       " '.',\n",
       " 'p',\n",
       " 'a',\n",
       " 'r',\n",
       " 'e',\n",
       " 'n',\n",
       " 't',\n",
       " 'i',\n",
       " 'd',\n",
       " ')',\n",
       " ' ',\n",
       " 'a',\n",
       " 'n',\n",
       " 'd',\n",
       " ' ',\n",
       " '(',\n",
       " ' ',\n",
       " 'p',\n",
       " '.',\n",
       " 't',\n",
       " 'i',\n",
       " 't',\n",
       " 'l',\n",
       " 'e',\n",
       " ' ',\n",
       " 'l',\n",
       " 'i',\n",
       " 'k',\n",
       " 'e',\n",
       " ' ',\n",
       " \"'\",\n",
       " '%',\n",
       " 'r',\n",
       " 'e',\n",
       " 'c',\n",
       " 'o',\n",
       " 'm',\n",
       " 'm',\n",
       " 'e',\n",
       " 'n',\n",
       " 'd',\n",
       " 'e',\n",
       " 'd',\n",
       " ' ',\n",
       " 'm',\n",
       " 'e',\n",
       " 't',\n",
       " 'h',\n",
       " 'o',\n",
       " 'd',\n",
       " ' ',\n",
       " 'f',\n",
       " 'o',\n",
       " 'r',\n",
       " ' ',\n",
       " 'h',\n",
       " 'a',\n",
       " 'n',\n",
       " 'd',\n",
       " 'l',\n",
       " 'i',\n",
       " 'n',\n",
       " 'g',\n",
       " ' ',\n",
       " 'u',\n",
       " 'n',\n",
       " 's',\n",
       " 'u',\n",
       " 'p',\n",
       " 'p',\n",
       " 'o',\n",
       " 'r',\n",
       " 't',\n",
       " 'e',\n",
       " 'd',\n",
       " 'e',\n",
       " 'n',\n",
       " 'c',\n",
       " 'o',\n",
       " 'd',\n",
       " 'i',\n",
       " 'n',\n",
       " 'g',\n",
       " 'e',\n",
       " 'x',\n",
       " 'c',\n",
       " 'e',\n",
       " 'p',\n",
       " 't',\n",
       " 'i',\n",
       " 'o',\n",
       " 'n',\n",
       " ' ',\n",
       " 'f',\n",
       " 'r',\n",
       " 'o',\n",
       " 'm',\n",
       " ' ',\n",
       " 's',\n",
       " 't',\n",
       " 'r',\n",
       " 'i',\n",
       " 'n',\n",
       " 'g',\n",
       " '.',\n",
       " 'g',\n",
       " 'e',\n",
       " 't',\n",
       " 'b',\n",
       " 'y',\n",
       " 't',\n",
       " 'e',\n",
       " 's',\n",
       " '(',\n",
       " '\"',\n",
       " 'u',\n",
       " 't',\n",
       " 'f',\n",
       " '-',\n",
       " '8',\n",
       " '\"',\n",
       " ')',\n",
       " '%',\n",
       " \"'\",\n",
       " ' ',\n",
       " 'o',\n",
       " 'r',\n",
       " ' ',\n",
       " 'p',\n",
       " '.',\n",
       " 't',\n",
       " 'i',\n",
       " 't',\n",
       " 'l',\n",
       " 'e',\n",
       " ' ',\n",
       " 'l',\n",
       " 'i',\n",
       " 'k',\n",
       " 'e',\n",
       " ' ',\n",
       " \"'\",\n",
       " '%',\n",
       " 'w',\n",
       " 'a',\n",
       " 'y',\n",
       " ' ',\n",
       " 't',\n",
       " 'o',\n",
       " ' ',\n",
       " 'f',\n",
       " 'o',\n",
       " 'r',\n",
       " 'm',\n",
       " 'a',\n",
       " 't',\n",
       " ' ',\n",
       " 's',\n",
       " 't',\n",
       " 'r',\n",
       " 'i',\n",
       " 'n',\n",
       " 'g',\n",
       " 's',\n",
       " ' ',\n",
       " 'w',\n",
       " 'i',\n",
       " 't',\n",
       " 'h',\n",
       " ' ',\n",
       " '\"',\n",
       " '?',\n",
       " '\"',\n",
       " ' ',\n",
       " 'p',\n",
       " 'a',\n",
       " 'r',\n",
       " 'a',\n",
       " 'm',\n",
       " 'e',\n",
       " 't',\n",
       " 'e',\n",
       " 'r',\n",
       " 's',\n",
       " ' ',\n",
       " 't',\n",
       " 'o',\n",
       " ' ',\n",
       " 'f',\n",
       " 'u',\n",
       " 'l',\n",
       " 'l',\n",
       " ' ',\n",
       " 's',\n",
       " 't',\n",
       " 'r',\n",
       " 'i',\n",
       " 'n',\n",
       " 'g',\n",
       " ' ',\n",
       " 'i',\n",
       " 'n',\n",
       " ' ',\n",
       " 'j',\n",
       " 'a',\n",
       " 'v',\n",
       " 'a',\n",
       " '?',\n",
       " '%',\n",
       " \"'\",\n",
       " ' ',\n",
       " 'o',\n",
       " 'r',\n",
       " ' ',\n",
       " 'p',\n",
       " '.',\n",
       " 't',\n",
       " 'i',\n",
       " 't',\n",
       " 'l',\n",
       " 'e',\n",
       " ' ',\n",
       " 'l',\n",
       " 'i',\n",
       " 'k',\n",
       " 'e',\n",
       " ' ',\n",
       " \"'\",\n",
       " '%',\n",
       " 'h',\n",
       " 'o',\n",
       " 'w',\n",
       " ' ',\n",
       " 't',\n",
       " 'o',\n",
       " ' ',\n",
       " 'p',\n",
       " 'a',\n",
       " 'r',\n",
       " 's',\n",
       " 'e',\n",
       " ' ',\n",
       " 'a',\n",
       " ' ',\n",
       " 's',\n",
       " 't',\n",
       " 'r',\n",
       " 'i',\n",
       " 'n',\n",
       " 'g',\n",
       " ' ',\n",
       " 'w',\n",
       " 'i',\n",
       " 't',\n",
       " 'h',\n",
       " 'o',\n",
       " 'u',\n",
       " 't',\n",
       " ' ',\n",
       " 'r',\n",
       " 'e',\n",
       " 'g',\n",
       " 'u',\n",
       " 'l',\n",
       " 'a',\n",
       " 'r',\n",
       " ' ',\n",
       " 'e',\n",
       " 'x',\n",
       " 'p',\n",
       " 'r',\n",
       " 'e',\n",
       " 's',\n",
       " 's',\n",
       " 'i',\n",
       " 'o',\n",
       " 'n',\n",
       " 's',\n",
       " '%',\n",
       " \"'\",\n",
       " ' ',\n",
       " 'o',\n",
       " 'r',\n",
       " ' ',\n",
       " 'p',\n",
       " '.',\n",
       " 't',\n",
       " 'i',\n",
       " 't',\n",
       " 'l',\n",
       " 'e',\n",
       " ' ',\n",
       " 'l',\n",
       " 'i',\n",
       " 'k',\n",
       " 'e',\n",
       " ' ',\n",
       " \"'\",\n",
       " '%',\n",
       " 'h',\n",
       " 'o',\n",
       " 'w',\n",
       " ' ',\n",
       " 't',\n",
       " 'o',\n",
       " ' ',\n",
       " 'r',\n",
       " 'e',\n",
       " 'p',\n",
       " 'l',\n",
       " 'a',\n",
       " 'c',\n",
       " 'e',\n",
       " ' ',\n",
       " 's',\n",
       " 't',\n",
       " 'r',\n",
       " 'i',\n",
       " 'n',\n",
       " 'g',\n",
       " ' ',\n",
       " 'o',\n",
       " 'n',\n",
       " 'l',\n",
       " 'y',\n",
       " ' ',\n",
       " 'o',\n",
       " 'n',\n",
       " 'c',\n",
       " 'e',\n",
       " ' ',\n",
       " 'w',\n",
       " 'i',\n",
       " 't',\n",
       " 'h',\n",
       " 'o',\n",
       " 'u',\n",
       " 't',\n",
       " ' ',\n",
       " 'r',\n",
       " 'e',\n",
       " 'g',\n",
       " 'e',\n",
       " 'x',\n",
       " ' ',\n",
       " 'i',\n",
       " 'n',\n",
       " ' ',\n",
       " 'j',\n",
       " 'a',\n",
       " 'v',\n",
       " 'a',\n",
       " '?',\n",
       " '%',\n",
       " \"'\",\n",
       " ' ',\n",
       " 'o',\n",
       " 'r',\n",
       " ' ',\n",
       " 'p',\n",
       " '.',\n",
       " 't',\n",
       " 'i',\n",
       " 't',\n",
       " 'l',\n",
       " 'e',\n",
       " ' ',\n",
       " 'l',\n",
       " 'i',\n",
       " 'k',\n",
       " 'e',\n",
       " ' ',\n",
       " \"'\",\n",
       " '%',\n",
       " 'e',\n",
       " 'f',\n",
       " 'f',\n",
       " 'i',\n",
       " 'c',\n",
       " 'i',\n",
       " 'e',\n",
       " 'n',\n",
       " 't',\n",
       " 'l',\n",
       " 'y',\n",
       " ' ',\n",
       " 'r',\n",
       " 'e',\n",
       " 'm',\n",
       " 'o',\n",
       " 'v',\n",
       " 'i',\n",
       " 'n',\n",
       " 'g',\n",
       " ' ',\n",
       " 's',\n",
       " 'p',\n",
       " 'e',\n",
       " 'c',\n",
       " 'i',\n",
       " 'f',\n",
       " 'i',\n",
       " 'c',\n",
       " ' ',\n",
       " 'c',\n",
       " 'h',\n",
       " 'a',\n",
       " 'r',\n",
       " 'a',\n",
       " 'c',\n",
       " 't',\n",
       " 'e',\n",
       " 'r',\n",
       " 's',\n",
       " ' ',\n",
       " '(',\n",
       " 's',\n",
       " 'o',\n",
       " 'm',\n",
       " 'e',\n",
       " ' ',\n",
       " 'p',\n",
       " 'u',\n",
       " 'n',\n",
       " 'c',\n",
       " 't',\n",
       " 'u',\n",
       " 'a',\n",
       " 't',\n",
       " 'i',\n",
       " 'o',\n",
       " 'n',\n",
       " ')',\n",
       " ' ',\n",
       " 'f',\n",
       " 'r',\n",
       " 'o',\n",
       " 'm',\n",
       " ' ',\n",
       " 's',\n",
       " 't',\n",
       " 'r',\n",
       " 'i',\n",
       " 'n',\n",
       " 'g',\n",
       " 's',\n",
       " ' ',\n",
       " 'i',\n",
       " 'n',\n",
       " ' ',\n",
       " 'j',\n",
       " 'a',\n",
       " 'v',\n",
       " 'a',\n",
       " '?',\n",
       " '%',\n",
       " \"'\",\n",
       " ' ',\n",
       " 'o',\n",
       " 'r',\n",
       " ' ',\n",
       " 'p',\n",
       " '.',\n",
       " 't',\n",
       " 'i',\n",
       " 't',\n",
       " 'l',\n",
       " 'e',\n",
       " ' ',\n",
       " 'l',\n",
       " 'i',\n",
       " 'k',\n",
       " 'e',\n",
       " ' ',\n",
       " \"'\",\n",
       " '%',\n",
       " 's',\n",
       " 't',\n",
       " 'r',\n",
       " 'i',\n",
       " 'n',\n",
       " 'g',\n",
       " 's',\n",
       " ' ',\n",
       " 'a',\n",
       " 'r',\n",
       " 'e',\n",
       " ' ',\n",
       " 'i',\n",
       " 'm',\n",
       " 'm',\n",
       " 'u',\n",
       " 't',\n",
       " 'a',\n",
       " 'b',\n",
       " 'l',\n",
       " 'e',\n",
       " ' ',\n",
       " '-',\n",
       " ' ',\n",
       " 't',\n",
       " 'h',\n",
       " 'a',\n",
       " 't',\n",
       " ' ',\n",
       " 'm',\n",
       " 'e',\n",
       " 'a',\n",
       " 'n',\n",
       " 's',\n",
       " ' ',\n",
       " 'i',\n",
       " ' ',\n",
       " 's',\n",
       " 'h',\n",
       " 'o',\n",
       " 'u',\n",
       " 'l',\n",
       " 'd',\n",
       " ' ',\n",
       " 'n',\n",
       " 'e',\n",
       " 'v',\n",
       " 'e',\n",
       " 'r',\n",
       " ' ',\n",
       " 'u',\n",
       " 's',\n",
       " 'e',\n",
       " ' ',\n",
       " '+',\n",
       " '=',\n",
       " ' ',\n",
       " 'a',\n",
       " 'n',\n",
       " 'd',\n",
       " ' ',\n",
       " 'o',\n",
       " 'n',\n",
       " 'l',\n",
       " 'y',\n",
       " ' ',\n",
       " 's',\n",
       " 't',\n",
       " 'r',\n",
       " 'i',\n",
       " 'n',\n",
       " 'g',\n",
       " 'b',\n",
       " 'u',\n",
       " 'f',\n",
       " 'f',\n",
       " 'e',\n",
       " 'r',\n",
       " '?',\n",
       " '%',\n",
       " \"'\",\n",
       " ' ',\n",
       " 'o',\n",
       " 'r',\n",
       " ' ',\n",
       " 'p',\n",
       " '.',\n",
       " 't',\n",
       " 'i',\n",
       " 't',\n",
       " 'l',\n",
       " 'e',\n",
       " ' ',\n",
       " 'l',\n",
       " 'i',\n",
       " 'k',\n",
       " 'e',\n",
       " ' ',\n",
       " \"'\",\n",
       " '%',\n",
       " 'c',\n",
       " 'o',\n",
       " 'n',\n",
       " ...]"
      ]
     },
     "execution_count": 18,
     "metadata": {},
     "output_type": "execute_result"
    }
   ],
   "source": [
    "tmp = len(sql_tok)\n",
    "sql_tok = [i for i in sql_tok if len(i)>=4 and len(i)< int(lens.mean()+ 2*lens.std())] # Roughly 95% data\n",
    "print('Filter',tmp-len(sql_tok), 'Long sentences')\n",
    "\n",
    "SQL.iloc[0]"
   ]
  },
  {
   "cell_type": "code",
   "execution_count": 24,
   "metadata": {},
   "outputs": [
    {
     "data": {
      "text/plain": [
       "23165"
      ]
     },
     "execution_count": 24,
     "metadata": {},
     "output_type": "execute_result"
    }
   ],
   "source": [
    "len(sql_tok)"
   ]
  },
  {
   "cell_type": "code",
   "execution_count": 25,
   "metadata": {},
   "outputs": [],
   "source": [
    "def toks2ids(tok,pre):\n",
    "    freq = Counter(p for o in tok for p in o)\n",
    "    itos = [o for o,c in freq.most_common() ] ## Avoid rare tokens\n",
    "    itos.insert(0, '_bos_')\n",
    "    itos.insert(1, '_pad_')\n",
    "    itos.insert(2, '_eos_')\n",
    "    itos.insert(3, '_unk')\n",
    "    stoi = collections.defaultdict(lambda: 3, {v:k for k,v in enumerate(itos)})\n",
    "    ids = np.array([([0] + [stoi[o] for o in p] + [2]) for p in tok]) # pad bos at beginning and eos at the end\n",
    "    np.save(TMP_PATH/f'{pre}_ids_char.npy', ids)\n",
    "    pickle.dump(itos, open(TMP_PATH/f'{pre}_itos_char.pkl', 'wb'))\n",
    "    return ids,itos,stoi"
   ]
  },
  {
   "cell_type": "code",
   "execution_count": 26,
   "metadata": {},
   "outputs": [],
   "source": [
    "sql_ids,sql_itos,sql_stoi = toks2ids(sql_tok,'sql')"
   ]
  },
  {
   "cell_type": "code",
   "execution_count": 6,
   "metadata": {},
   "outputs": [],
   "source": [
    "sql_ids_concat = sql_ids # hacking"
   ]
  },
  {
   "cell_type": "code",
   "execution_count": 7,
   "metadata": {},
   "outputs": [],
   "source": [
    "sql_ids_concat= []\n",
    "for i in sql_ids:\n",
    "    sql_ids_concat += i"
   ]
  },
  {
   "cell_type": "code",
   "execution_count": 8,
   "metadata": {},
   "outputs": [
    {
     "data": {
      "text/plain": [
       "6118914"
      ]
     },
     "execution_count": 8,
     "metadata": {},
     "output_type": "execute_result"
    }
   ],
   "source": [
    "len(sql_ids_concat)"
   ]
  },
  {
   "cell_type": "code",
   "execution_count": 9,
   "metadata": {},
   "outputs": [],
   "source": [
    "# val_fraction = 0.2\n",
    "# text_length = len(sql_ids)\n",
    "\n",
    "\n",
    "# trn_lm = sql_ids[:-int(val_fraction*text_length)]\n",
    "# val_lm = sql_ids[-int(val_fraction*text_length):]\n",
    "\n",
    "# np.save(TRN+ 'trn_ids.npy', trn_lm)\n",
    "# np.save(VAL+'val_ids.npy', val_lm)\n",
    "\n",
    "# trn_lm = np.load(TRN+ 'trn_ids.npy')\n",
    "# val_lm = np.load(VAL+'val_ids.npy')\n",
    "\n",
    "# bs=64\n",
    "# bptt=70\n",
    "# n_fac=42; n_hidden=256\n",
    "\n",
    "# trn_dl = LanguageModelLoader(np.concatenate(trn_lm),bs, bptt)\n",
    "# val_dl = LanguageModelLoader(np.concatenate(val_lm),bs, bptt)\n",
    "\n",
    "# trn_lm.shape, val_lm.shape\n",
    "\n",
    "# md = LanguageModelData(PATH, 1 ,len(sql_itos), trn_dl, val_dl)\n",
    "\n",
    "# bidir=True\n",
    "# dropout=0.5\n",
    "\n",
    "# class CharSeqStatefulGRU(nn.Module):\n",
    "#     def __init__(self, vocab_size, n_fac, bs):\n",
    "#         super().__init__()\n",
    "#         self.vocab_size = vocab_size\n",
    "#         self.e = nn.Embedding(vocab_size, n_fac)\n",
    "#         self.rnn1 = nn.GRU(n_fac, n_hidden, dropout=dropout, bidirectional=bidir)\n",
    "#         self.rnn2 = nn.GRU(n_hidden+n_hidden*bidir, n_hidden//2,dropout=dropout, bidirectional=bidir)\n",
    "#         self.l_out = nn.Linear(n_hidden//2 +n_hidden//2 *bidir, vocab_size)\n",
    "#         self.init_hidden(bs)\n",
    "        \n",
    "#     def forward(self, *cs):\n",
    "#         bs = cs[0].size(0)\n",
    "#         if self.h1.size(1) != bs: self.init_hidden(bs)\n",
    "#         inp = self.e(torch.stack(cs))\n",
    "#         outp,h1 = self.rnn1(inp, self.h1)\n",
    "# #         outp = self.rnn_drop1(outp)\n",
    "#         self.h1 = repackage_var(h1)\n",
    "#         outp,h2 = self.rnn2(outp,self.h2)        \n",
    "#         self.h2 = repackage_var(h2)\n",
    "# #         outp = self.rnn_drop2(outp)\n",
    "        \n",
    "# #         pdb.set_trace()\n",
    "#         return F.log_softmax(self.l_out(outp), dim=-1)\n",
    "    \n",
    "#     def init_hidden(self, bs): \n",
    "#         self.h1 = V(torch.zeros(1+1*bidir, bs, n_hidden))\n",
    "#         self.h2 = V(torch.zeros(1+1*bidir, bs, n_hidden//2))\n",
    "\n",
    "# def nll_loss_seq(inp, targ):\n",
    "#     sl,bs,nh = inp.size()\n",
    "#     targ = targ.transpose(0,1).contiguous().view(-1)\n",
    "#     return F.nll_loss(inp.view(-1,nh), targ)\n",
    "\n",
    "# tmp = next(iter(md.trn_dl))\n",
    "\n",
    "# tmp\n",
    "\n",
    "\n",
    "\n",
    "# m = CharSeqStatefulGRU(len(sql_itos), n_fac, bs=bs)\n",
    "# opt_fn = partial(optim.Adam, betas=(0.8, 0.99))\n",
    "# learn = RNN_Learner(md, SingleModel(to_gpu(m)), opt_fn=opt_fn)\n",
    "# learn.crit = nll_loss_seq\n",
    "\n",
    "# learn.fit(1e-2, 1, cycle_len=5, use_clr_beta = (10,10,0.95,0.85))"
   ]
  },
  {
   "cell_type": "code",
   "execution_count": 10,
   "metadata": {
    "ExecuteTime": {
     "end_time": "2018-04-23T09:33:14.711970Z",
     "start_time": "2018-04-23T09:33:14.346007Z"
    }
   },
   "outputs": [
    {
     "data": {
      "text/plain": [
       "(23165,)"
      ]
     },
     "execution_count": 10,
     "metadata": {},
     "output_type": "execute_result"
    }
   ],
   "source": [
    "sql_ids.shape"
   ]
  },
  {
   "cell_type": "code",
   "execution_count": 11,
   "metadata": {
    "ExecuteTime": {
     "end_time": "2018-04-23T09:33:15.036560Z",
     "start_time": "2018-04-23T09:33:14.713978Z"
    }
   },
   "outputs": [
    {
     "name": "stdout",
     "output_type": "stream",
     "text": [
      "total words: 218\n"
     ]
    }
   ],
   "source": [
    "vocab_size = len(sql_itos)\n",
    "print('total words:', vocab_size)"
   ]
  },
  {
   "cell_type": "markdown",
   "metadata": {},
   "source": [
    "### Create inputs"
   ]
  },
  {
   "cell_type": "markdown",
   "metadata": {},
   "source": [
    "Create a list of every 4th character, starting at the 0th, 1st, 2nd, then 3rd characters"
   ]
  },
  {
   "cell_type": "code",
   "execution_count": 12,
   "metadata": {
    "ExecuteTime": {
     "end_time": "2018-04-23T09:33:15.773966Z",
     "start_time": "2018-04-23T09:33:15.434516Z"
    }
   },
   "outputs": [],
   "source": [
    "idx = sql_ids_concat"
   ]
  },
  {
   "cell_type": "code",
   "execution_count": 13,
   "metadata": {
    "ExecuteTime": {
     "end_time": "2018-04-23T09:33:16.090142Z",
     "start_time": "2018-04-23T09:33:15.773966Z"
    }
   },
   "outputs": [],
   "source": [
    "char_indices = sql_stoi\n",
    "indices_char = sql_itos"
   ]
  },
  {
   "cell_type": "markdown",
   "metadata": {},
   "source": [
    "### Create and train model"
   ]
  },
  {
   "cell_type": "markdown",
   "metadata": {},
   "source": [
    "Pick a size for our hidden state"
   ]
  },
  {
   "cell_type": "markdown",
   "metadata": {
    "collapsed": true
   },
   "source": [
    "## Multi-output model"
   ]
  },
  {
   "cell_type": "markdown",
   "metadata": {},
   "source": [
    "### GRU"
   ]
  },
  {
   "cell_type": "code",
   "execution_count": 14,
   "metadata": {
    "ExecuteTime": {
     "end_time": "2018-04-23T09:33:47.362607Z",
     "start_time": "2018-04-23T09:33:46.989362Z"
    }
   },
   "outputs": [],
   "source": [
    "import pdb"
   ]
  },
  {
   "cell_type": "code",
   "execution_count": 15,
   "metadata": {
    "ExecuteTime": {
     "end_time": "2018-04-23T09:33:47.697500Z",
     "start_time": "2018-04-23T09:33:47.362607Z"
    }
   },
   "outputs": [],
   "source": [
    "def nll_loss_seq(inp, targ):\n",
    "    sl,bs,nh = inp.size()\n",
    "    targ = targ.transpose(0,1).contiguous().view(-1)\n",
    "    return F.nll_loss(inp.view(-1,nh), targ)"
   ]
  },
  {
   "cell_type": "markdown",
   "metadata": {},
   "source": [
    "## Change CS length"
   ]
  },
  {
   "cell_type": "markdown",
   "metadata": {},
   "source": [
    "Bidir is clearly important, and it make sense as table schema comes after column name.\n",
    "Set Bidir to true and test longer cs=16, and test differe n_hidden and n_fac\n"
   ]
  },
  {
   "cell_type": "code",
   "execution_count": 16,
   "metadata": {},
   "outputs": [],
   "source": [
    "idx_tmp = idx.copy()"
   ]
  },
  {
   "cell_type": "code",
   "execution_count": 17,
   "metadata": {},
   "outputs": [],
   "source": [
    "idx = idx[:200000].copy()"
   ]
  },
  {
   "cell_type": "code",
   "execution_count": 88,
   "metadata": {},
   "outputs": [
    {
     "name": "stdout",
     "output_type": "stream",
     "text": [
      "(199992, 8)\n",
      "(199992,)\n",
      "(199992, 8)\n",
      "(199992,)\n"
     ]
    }
   ],
   "source": [
    "cs=8\n",
    "# c_in_dat = [[idx[i+j] for i in range(cs)] for j in range(0, len(idx)-cs-1, cs)]\n",
    "# c_out_dat = [[idx[i+j] for i in range(cs)] for j in range(1, len(idx)-cs, cs)]\n",
    "\n",
    "c_in_dat = [[idx[i+j] for i in range(cs)] for j in range(len(idx)-cs)]\n",
    "c_out_dat = [idx[j+cs] for j in range(len(idx)-cs)]\n",
    "\n",
    "xs = np.stack(c_in_dat)\n",
    "print(xs.shape)\n",
    "\n",
    "ys = np.stack(c_out_dat)\n",
    "print(ys.shape)\n",
    "\n",
    "xs = np.stack(c_in_dat)\n",
    "print(xs.shape)\n",
    "\n",
    "ys = np.stack(c_out_dat)\n",
    "print(ys.shape)"
   ]
  },
  {
   "cell_type": "code",
   "execution_count": 101,
   "metadata": {},
   "outputs": [
    {
     "data": {
      "text/plain": [
       "[[0, 15, 10, 5, 9, 6, 5, 4],\n",
       " [15, 10, 5, 9, 6, 5, 4, 6],\n",
       " [10, 5, 9, 6, 5, 4, 6, 9],\n",
       " [5, 9, 6, 5, 4, 6, 9, 31],\n",
       " [9, 6, 5, 4, 6, 9, 31, 17],\n",
       " [6, 5, 4, 6, 9, 31, 17, 5],\n",
       " [5, 4, 6, 9, 31, 17, 5, 4],\n",
       " [4, 6, 9, 31, 17, 5, 4, 34],\n",
       " [6, 9, 31, 17, 5, 4, 34, 15],\n",
       " [9, 31, 17, 5, 4, 34, 15, 16]]"
      ]
     },
     "execution_count": 101,
     "metadata": {},
     "output_type": "execute_result"
    }
   ],
   "source": [
    "c_in_dat[:10]"
   ]
  },
  {
   "cell_type": "code",
   "execution_count": 23,
   "metadata": {},
   "outputs": [
    {
     "data": {
      "text/plain": [
       "'_bos_create '"
      ]
     },
     "execution_count": 23,
     "metadata": {},
     "output_type": "execute_result"
    }
   ],
   "source": [
    "''.join([sql_itos[i] for i in xs[0]])"
   ]
  },
  {
   "cell_type": "code",
   "execution_count": 24,
   "metadata": {},
   "outputs": [
    {
     "data": {
      "text/plain": [
       "'create t'"
      ]
     },
     "execution_count": 24,
     "metadata": {},
     "output_type": "execute_result"
    }
   ],
   "source": [
    "''.join([sql_itos[i] for i in ys[0]])"
   ]
  },
  {
   "cell_type": "code",
   "execution_count": 25,
   "metadata": {},
   "outputs": [],
   "source": [
    "bs=256"
   ]
  },
  {
   "cell_type": "code",
   "execution_count": 26,
   "metadata": {},
   "outputs": [],
   "source": [
    "val_idx = get_cv_idxs(len(xs)-cs-1)\n",
    "md = ColumnarModelData.from_arrays('.', val_idx, xs, ys, bs=bs)"
   ]
  },
  {
   "cell_type": "code",
   "execution_count": 125,
   "metadata": {},
   "outputs": [],
   "source": [
    "bidir=False"
   ]
  },
  {
   "cell_type": "code",
   "execution_count": 173,
   "metadata": {},
   "outputs": [],
   "source": [
    "class CharSeqStatefulGRU(nn.Module):\n",
    "    def __init__(self, vocab_size, n_fac, bs):\n",
    "        super().__init__()\n",
    "        self.vocab_size = vocab_size\n",
    "        self.e = nn.Embedding(vocab_size, n_fac)\n",
    "        self.rnn1 = nn.GRU(n_fac, n_hidden, num_layers=1, dropout=dropout, bidirectional=False)\n",
    "#         self.rnn2 = nn.GRU(n_hidden+n_hidden*bidir, n_hidden//2,dropout=dropout, bidirectional=bidir)\n",
    "        self.l_out = nn.Linear(n_hidden, vocab_size)\n",
    "        self.init_hidden(bs)\n",
    "        \n",
    "    def forward(self, *cs):\n",
    "        bs = cs[0].size(0)\n",
    "        if self.h1.size(1) != bs: self.init_hidden(bs)\n",
    "        inp = self.e(torch.stack(cs))\n",
    "        outp,h1 = self.rnn1(inp, self.h1)\n",
    "#         outp = self.rnn_drop1(outp)\n",
    "        self.h1 = repackage_var(h1)\n",
    "#         outp,h2 = self.rnn2(outp,self.h2)        \n",
    "#         self.h2 = repackage_var(h2)\n",
    "#         outp = self.rnn_drop2(outp)\n",
    "        \n",
    "#         pdb.set_trace()\n",
    "#         return F.log_softmax(self.l_out(outp), dim=-1)\n",
    "        return F.log_softmax(self.l_out(outp), dim=-1)\n",
    "    \n",
    "    def init_hidden(self, bs): \n",
    "        self.h1 = V(torch.zeros(1, bs, n_hidden))\n",
    "#         self.h2 = V(torch.zeros(1+1*bidir, bs, n_hidden//2))"
   ]
  },
  {
   "cell_type": "code",
   "execution_count": 155,
   "metadata": {},
   "outputs": [],
   "source": [
    "n_hidden =64\n",
    "n_fac=32\n",
    "dropout=0\n",
    "bidir=True"
   ]
  },
  {
   "cell_type": "code",
   "execution_count": null,
   "metadata": {},
   "outputs": [],
   "source": []
  },
  {
   "cell_type": "code",
   "execution_count": 156,
   "metadata": {},
   "outputs": [],
   "source": [
    "# def accuracy(preds, targs):\n",
    "#     preds = torch.max(preds.view(-1,len(sql_itos)), dim=1)[1]\n",
    "#     targs = targs.transpose(0,1).contiguous().view(-1)\n",
    "#     return (preds==targs).float().mean()\n",
    "def accuracy(preds, targs):\n",
    "    preds = torch.max(preds.view(-1,len(sql_itos)), dim=1)[1]\n",
    "    targs = targs.transpose(0,1).contiguous().view(-1)\n",
    "    return (preds==targs).float().mean()\n"
   ]
  },
  {
   "cell_type": "code",
   "execution_count": 174,
   "metadata": {
    "scrolled": true
   },
   "outputs": [
    {
     "name": "stdout",
     "output_type": "stream",
     "text": [
      "n_hidden: 64 n_fac: 32 bidir: True dropout: 0\n"
     ]
    },
    {
     "data": {
      "application/vnd.jupyter.widget-view+json": {
       "model_id": "dd831fb7c04f494784c03287e0811585",
       "version_major": 2,
       "version_minor": 0
      },
      "text/html": [
       "<p>Failed to display Jupyter Widget of type <code>HBox</code>.</p>\n",
       "<p>\n",
       "  If you're reading this message in the Jupyter Notebook or JupyterLab Notebook, it may mean\n",
       "  that the widgets JavaScript is still loading. If this message persists, it\n",
       "  likely means that the widgets JavaScript library is either not installed or\n",
       "  not enabled. See the <a href=\"https://ipywidgets.readthedocs.io/en/stable/user_install.html\">Jupyter\n",
       "  Widgets Documentation</a> for setup instructions.\n",
       "</p>\n",
       "<p>\n",
       "  If you're reading this message in another frontend (for example, a static\n",
       "  rendering on GitHub or <a href=\"https://nbviewer.jupyter.org/\">NBViewer</a>),\n",
       "  it may mean that your frontend doesn't currently support widgets.\n",
       "</p>\n"
      ],
      "text/plain": [
       "HBox(children=(IntProgress(value=0, description='Epoch', max=1), HTML(value='')))"
      ]
     },
     "metadata": {},
     "output_type": "display_data"
    },
    {
     "name": "stdout",
     "output_type": "stream",
     "text": [
      "epoch      trn_loss   val_loss   accuracy                 \n",
      "    0      2.794923   2.416535   0.356618  \n",
      "\n"
     ]
    },
    {
     "data": {
      "text/plain": [
       "[array([2.41654]), 0.3566176459735849]"
      ]
     },
     "execution_count": 174,
     "metadata": {},
     "output_type": "execute_result"
    }
   ],
   "source": [
    "print('n_hidden:',n_hidden,'n_fac:',n_fac,'bidir:',bidir,'dropout:',dropout)\n",
    "            \n",
    "m = CharSeqStatefulGRU(len(sql_itos), n_fac, bs=bs)\n",
    "opt_fn = partial(optim.Adam, betas=(0.8, 0.99))\n",
    "learn = RNN_Learner(md, SingleModel(to_gpu(m)), opt_fn=opt_fn)\n",
    "# learn.crit = nll_loss_seq\n",
    "learn.crit = nll_loss_seq\n",
    "learn.metrics = [accuracy]\n",
    "learn.fit(1e-2, 5, cycle_len=1, use_clr_beta = (10,10,0.95,0.85))"
   ]
  },
  {
   "cell_type": "code",
   "execution_count": 158,
   "metadata": {},
   "outputs": [],
   "source": [
    "??F.nll_loss"
   ]
  },
  {
   "cell_type": "code",
   "execution_count": 181,
   "metadata": {},
   "outputs": [
    {
     "data": {
      "application/vnd.jupyter.widget-view+json": {
       "model_id": "feaa5d4a65a34536998448a3baa385b2",
       "version_major": 2,
       "version_minor": 0
      },
      "text/html": [
       "<p>Failed to display Jupyter Widget of type <code>HBox</code>.</p>\n",
       "<p>\n",
       "  If you're reading this message in the Jupyter Notebook or JupyterLab Notebook, it may mean\n",
       "  that the widgets JavaScript is still loading. If this message persists, it\n",
       "  likely means that the widgets JavaScript library is either not installed or\n",
       "  not enabled. See the <a href=\"https://ipywidgets.readthedocs.io/en/stable/user_install.html\">Jupyter\n",
       "  Widgets Documentation</a> for setup instructions.\n",
       "</p>\n",
       "<p>\n",
       "  If you're reading this message in another frontend (for example, a static\n",
       "  rendering on GitHub or <a href=\"https://nbviewer.jupyter.org/\">NBViewer</a>),\n",
       "  it may mean that your frontend doesn't currently support widgets.\n",
       "</p>\n"
      ],
      "text/plain": [
       "HBox(children=(IntProgress(value=0, description='Epoch', max=5), HTML(value='')))"
      ]
     },
     "metadata": {},
     "output_type": "display_data"
    },
    {
     "name": "stdout",
     "output_type": "stream",
     "text": [
      "epoch      trn_loss   val_loss   accuracy                 \n",
      "    0      1.501184   1.546828   0.58741   \n",
      "    1      1.501011   1.552246   0.582733                 \n",
      "    2      1.499671   1.529108   0.589661                 \n",
      "    3      1.474694   1.504407   0.596564                 \n",
      "    4      1.452157   1.494146   0.597864                 \n",
      "\n"
     ]
    },
    {
     "data": {
      "text/plain": [
       "[array([1.49415]), 0.5978641435593403]"
      ]
     },
     "execution_count": 181,
     "metadata": {},
     "output_type": "execute_result"
    }
   ],
   "source": [
    "learn.fit(1e-2, 1, cycle_len=5, use_clr_beta = (10,10,0.95,0.85))"
   ]
  },
  {
   "cell_type": "code",
   "execution_count": 183,
   "metadata": {},
   "outputs": [
    {
     "data": {
      "application/vnd.jupyter.widget-view+json": {
       "model_id": "237c1ce08d174e2c914971c6a338f9df",
       "version_major": 2,
       "version_minor": 0
      },
      "text/html": [
       "<p>Failed to display Jupyter Widget of type <code>HBox</code>.</p>\n",
       "<p>\n",
       "  If you're reading this message in the Jupyter Notebook or JupyterLab Notebook, it may mean\n",
       "  that the widgets JavaScript is still loading. If this message persists, it\n",
       "  likely means that the widgets JavaScript library is either not installed or\n",
       "  not enabled. See the <a href=\"https://ipywidgets.readthedocs.io/en/stable/user_install.html\">Jupyter\n",
       "  Widgets Documentation</a> for setup instructions.\n",
       "</p>\n",
       "<p>\n",
       "  If you're reading this message in another frontend (for example, a static\n",
       "  rendering on GitHub or <a href=\"https://nbviewer.jupyter.org/\">NBViewer</a>),\n",
       "  it may mean that your frontend doesn't currently support widgets.\n",
       "</p>\n"
      ],
      "text/plain": [
       "HBox(children=(IntProgress(value=0, description='Epoch', max=5), HTML(value='')))"
      ]
     },
     "metadata": {},
     "output_type": "display_data"
    },
    {
     "name": "stdout",
     "output_type": "stream",
     "text": [
      "epoch      trn_loss   val_loss   accuracy                 \n",
      "    0      1.436027   1.491136   0.59929   \n",
      "    1      1.434619   1.490862   0.59924                  \n",
      "    2      1.43159    1.490431   0.599365                 \n",
      "    3      1.435149   1.490194   0.599565                 \n",
      "    4      1.43776    1.490163   0.599565                 \n",
      "\n"
     ]
    },
    {
     "data": {
      "text/plain": [
       "[array([1.49016]), 0.5995648238075977]"
      ]
     },
     "execution_count": 183,
     "metadata": {},
     "output_type": "execute_result"
    }
   ],
   "source": [
    "learn.fit(1e-4, 1, cycle_len=5, use_clr_beta = (10,10,0.95,0.85))"
   ]
  },
  {
   "cell_type": "code",
   "execution_count": 184,
   "metadata": {},
   "outputs": [],
   "source": [
    "def get_next(inp):\n",
    "    idxs = T(np.array([char_indices[c] for c in inp]))\n",
    "    p = m(*VV(idxs))\n",
    "    p = to_np(p)    \n",
    "    i = np.argmax(p[-1,:,:])\n",
    "#     i =np.argmax(p)\n",
    "    \n",
    "    return indices_char[i]"
   ]
  },
  {
   "cell_type": "code",
   "execution_count": 185,
   "metadata": {},
   "outputs": [
    {
     "data": {
      "text/plain": [
       "\"_bos_select id from comments where lower(text) like '%accept %answer%' order by len(text) asc_eos_\""
      ]
     },
     "execution_count": 185,
     "metadata": {},
     "output_type": "execute_result"
    }
   ],
   "source": [
    "''.join([ indices_char[i] for i in sql_ids[1]])"
   ]
  },
  {
   "cell_type": "code",
   "execution_count": 186,
   "metadata": {},
   "outputs": [],
   "source": [
    "def sentence(inp):\n",
    "    counter = 0\n",
    "    tmp =inp\n",
    "    for i in range(600):\n",
    "        tmp = tmp + get_next(tmp[-70:])\n",
    "    return tmp"
   ]
  },
  {
   "cell_type": "code",
   "execution_count": 187,
   "metadata": {},
   "outputs": [],
   "source": [
    "tmp = next(iter(md.val_dl))"
   ]
  },
  {
   "cell_type": "code",
   "execution_count": 188,
   "metadata": {},
   "outputs": [
    {
     "data": {
      "text/plain": [
       "'update'"
      ]
     },
     "execution_count": 188,
     "metadata": {},
     "output_type": "execute_result"
    }
   ],
   "source": [
    "['update','select','insert','delete'][0]    "
   ]
  },
  {
   "cell_type": "code",
   "execution_count": 189,
   "metadata": {},
   "outputs": [],
   "source": [
    "def test_case():\n",
    "    sample = ['updat','selec','delet','inser']\n",
    "    for i in sample:\n",
    "        print('Input:', i, 'output:', i+get_next(i))\n",
    "              \n",
    "    sample = ['update','select','insert','delete']          \n",
    "    for i in sample:\n",
    "            print('Input:', i, 'output:', sentence(i))    "
   ]
  },
  {
   "cell_type": "code",
   "execution_count": 190,
   "metadata": {},
   "outputs": [
    {
     "data": {
      "text/plain": [
       "'e'"
      ]
     },
     "execution_count": 190,
     "metadata": {},
     "output_type": "execute_result"
    }
   ],
   "source": [
    "get_next('updat')"
   ]
  },
  {
   "cell_type": "code",
   "execution_count": 191,
   "metadata": {},
   "outputs": [
    {
     "name": "stdout",
     "output_type": "stream",
     "text": [
      "Input: updat output: update\n",
      "Input: selec output: select\n",
      "Input: delet output: deleti\n",
      "Input: inser output: insert\n",
      "Input: update output: update as [post link], reputation desc_eos_tags p where posts where posts where posts where posts where posts where posts where posts where posts where posts where posts where posts where posts where posts where posts where posts where posts where posts where posts where posts where posts where posts where posts where posts where posts where posts where posts where posts where posts where posts where posts where posts where posts where posts where posts where posts where posts where posts where posts where posts where posts where posts where posts where posts where posts where posts where posts where po\n",
      "Input: select output: select top 100 and posts where posts where posts where posts where posts where posts where posts where posts where posts where posts where posts where posts where posts where posts where posts where posts where posts where posts where posts where posts where posts where posts where posts where posts where posts where posts where posts where posts where posts where posts where posts where posts where posts where posts where posts where posts where posts where posts where posts where posts where posts where posts where posts where posts where posts where posts where posts where posts where posts where\n",
      "Input: insert output: insert inner join posts where posts where posts where posts where posts where posts where posts where posts where posts where posts where posts where posts where posts where posts where posts where posts where posts where posts where posts where posts where posts where posts where posts where posts where posts where posts where posts where posts where posts where posts where posts where posts where posts where posts where posts where posts where posts where posts where posts where posts where posts where posts where posts where posts where posts where posts where posts where posts where posts where \n",
      "Input: delete output: delete as [post link], reputation desc_eos_tags p where posts where posts where posts where posts where posts where posts where posts where posts where posts where posts where posts where posts where posts where posts where posts where posts where posts where posts where posts where posts where posts where posts where posts where posts where posts where posts where posts where posts where posts where posts where posts where posts where posts where posts where posts where posts where posts where posts where posts where posts where posts where posts where posts where posts where posts where posts where po\n"
     ]
    }
   ],
   "source": [
    "test_case()"
   ]
  },
  {
   "cell_type": "code",
   "execution_count": 192,
   "metadata": {},
   "outputs": [
    {
     "name": "stdout",
     "output_type": "stream",
     "text": [
      "Input: updat output: update\n",
      "Input: selec output: select\n",
      "Input: delet output: deleti\n",
      "Input: inser output: insert\n",
      "Input: update output: update as [post link], reputation desc_eos_tags p where posts where posts where posts where posts where posts where posts where posts where posts where posts where posts where posts where posts where posts where posts where posts where posts where posts where posts where posts where posts where posts where posts where posts where posts where posts where posts where posts where posts where posts where posts where posts where posts where posts where posts where posts where posts where posts where posts where posts where posts where posts where posts where posts where posts where posts where posts where po\n",
      "Input: select output: select top 100 and posts where posts where posts where posts where posts where posts where posts where posts where posts where posts where posts where posts where posts where posts where posts where posts where posts where posts where posts where posts where posts where posts where posts where posts where posts where posts where posts where posts where posts where posts where posts where posts where posts where posts where posts where posts where posts where posts where posts where posts where posts where posts where posts where posts where posts where posts where posts where posts where posts where\n",
      "Input: insert output: insert inner join posts where posts where posts where posts where posts where posts where posts where posts where posts where posts where posts where posts where posts where posts where posts where posts where posts where posts where posts where posts where posts where posts where posts where posts where posts where posts where posts where posts where posts where posts where posts where posts where posts where posts where posts where posts where posts where posts where posts where posts where posts where posts where posts where posts where posts where posts where posts where posts where posts where \n",
      "Input: delete output: delete as [post link], reputation desc_eos_tags p where posts where posts where posts where posts where posts where posts where posts where posts where posts where posts where posts where posts where posts where posts where posts where posts where posts where posts where posts where posts where posts where posts where posts where posts where posts where posts where posts where posts where posts where posts where posts where posts where posts where posts where posts where posts where posts where posts where posts where posts where posts where posts where posts where posts where posts where posts where po\n"
     ]
    }
   ],
   "source": [
    "test_case()"
   ]
  },
  {
   "cell_type": "code",
   "execution_count": null,
   "metadata": {},
   "outputs": [],
   "source": []
  },
  {
   "cell_type": "markdown",
   "metadata": {},
   "source": [
    "# Test on old text file see if error"
   ]
  },
  {
   "cell_type": "code",
   "execution_count": null,
   "metadata": {},
   "outputs": [],
   "source": []
  }
 ],
 "metadata": {
  "kernelspec": {
   "display_name": "Python 3",
   "language": "python",
   "name": "python3"
  },
  "language_info": {
   "codemirror_mode": {
    "name": "ipython",
    "version": 3
   },
   "file_extension": ".py",
   "mimetype": "text/x-python",
   "name": "python",
   "nbconvert_exporter": "python",
   "pygments_lexer": "ipython3",
   "version": "3.6.4"
  },
  "nav_menu": {},
  "toc": {
   "colors": {
    "hover_highlight": "#DAA520",
    "navigate_num": "#000000",
    "navigate_text": "#333333",
    "running_highlight": "#FF0000",
    "selected_highlight": "#FFD700",
    "sidebar_border": "#EEEEEE",
    "wrapper_background": "#FFFFFF"
   },
   "moveMenuLeft": true,
   "nav_menu": {
    "height": "216px",
    "width": "252px"
   },
   "navigate_menu": true,
   "number_sections": true,
   "sideBar": true,
   "threshold": 4,
   "toc_cell": false,
   "toc_section_display": "block",
   "toc_window_display": false,
   "widenNotebook": false
  },
  "varInspector": {
   "cols": {
    "lenName": 16,
    "lenType": 16,
    "lenVar": 40
   },
   "kernels_config": {
    "python": {
     "delete_cmd_postfix": "",
     "delete_cmd_prefix": "del ",
     "library": "var_list.py",
     "varRefreshCmd": "print(var_dic_list())"
    },
    "r": {
     "delete_cmd_postfix": ") ",
     "delete_cmd_prefix": "rm(",
     "library": "var_list.r",
     "varRefreshCmd": "cat(var_dic_list()) "
    }
   },
   "types_to_exclude": [
    "module",
    "function",
    "builtin_function_or_method",
    "instance",
    "_Feature"
   ],
   "window_display": false
  }
 },
 "nbformat": 4,
 "nbformat_minor": 1
}
