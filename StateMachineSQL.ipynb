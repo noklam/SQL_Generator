{
 "cells": [
  {
   "cell_type": "code",
   "execution_count": 1,
   "metadata": {
    "ExecuteTime": {
     "end_time": "2018-04-19T07:34:16.983500Z",
     "start_time": "2018-04-19T07:34:15.624125Z"
    }
   },
   "outputs": [],
   "source": [
    "import numpy as np\n",
    "import pandas as pd\n",
    "import re "
   ]
  },
  {
   "cell_type": "code",
   "execution_count": 2,
   "metadata": {
    "ExecuteTime": {
     "end_time": "2018-04-19T07:35:41.509180Z",
     "start_time": "2018-04-19T07:35:41.507174Z"
    }
   },
   "outputs": [],
   "source": [
    "example = \"SELECT user FROM USERS WHERE userid >= 1000\"\n"
   ]
  },
  {
   "cell_type": "markdown",
   "metadata": {},
   "source": [
    "## Class"
   ]
  },
  {
   "cell_type": "code",
   "execution_count": null,
   "metadata": {},
   "outputs": [],
   "source": [
    "class Rule:\n",
    "    def __init__(self):\n",
    "        self.prefix = \"\"\n",
    "        self.subject = \"\"\n",
    "        self.op = None\n",
    "\n",
    "    def __repr__(self):\n",
    "        op = self.op\n",
    "        if not op:\n",
    "            op = ''\n",
    "        return \"<Rule: {} {}({})>\".format(op, self.prefix, self.subject)"
   ]
  },
  {
   "cell_type": "code",
   "execution_count": 3,
   "metadata": {
    "ExecuteTime": {
     "end_time": "2018-04-19T09:20:10.713030Z",
     "start_time": "2018-04-19T09:20:10.683949Z"
    }
   },
   "outputs": [],
   "source": [
    "class RuleGroup:\n",
    "    def __init__(self, parent, level, op):\n",
    "        self.op = op\n",
    "        self.parent = parent\n",
    "        self.level = level\n",
    "        self.rule_count = 1\n",
    "        self.rules = [Rule(), ]\n",
    "\n",
    "    def __repr__(self):\n",
    "        return \"<RuleGroup: {}>\".format(self.__dict__)"
   ]
  },
  {
   "cell_type": "code",
   "execution_count": 4,
   "metadata": {
    "ExecuteTime": {
     "end_time": "2018-04-19T09:20:11.284738Z",
     "start_time": "2018-04-19T09:20:11.235607Z"
    }
   },
   "outputs": [],
   "source": [
    "class Rule_Parse_FSM:\n",
    "\n",
    "    def __init__(self, input_str):\n",
    "        self.input_str = input_str\n",
    "        self.current_state = S_NEW_GROUP\n",
    "        self.group_current_level = 0\n",
    "        self.current_group = RuleGroup(None, self.group_current_level, None)\n",
    "        self.current_char = ''\n",
    "\n",
    "    def run(self):\n",
    "        for c in self.input_str:\n",
    "            if not self.process_next(c):\n",
    "                print(\"skip '{}' in {}\".format(c, self.current_state))\n",
    "\n",
    "    def process_next(self, achar):\n",
    "        self.current_char = achar\n",
    "        frozen_state = self.current_state\n",
    "        for transition in FSM_MAP:\n",
    "            if transition['src'] == frozen_state:\n",
    "                if self.iterate_re_evaluators(achar, transition):\n",
    "                    return True\n",
    "        return False\n",
    "\n",
    "    def iterate_re_evaluators(self, achar, transition):\n",
    "        condition = transition['condition_re_compiled']\n",
    "        if condition.match(achar):\n",
    "            self.update_state(\n",
    "                transition['dst'], transition['callback'])\n",
    "            return True\n",
    "        return False\n",
    "\n",
    "    def update_state(self, new_state, callback):\n",
    "        print(\"{} -> {} : {}\".format(self.current_char,\n",
    "                                     self.current_state,\n",
    "                                     new_state))\n",
    "        self.current_state = new_state\n",
    "        callback(self)"
   ]
  },
  {
   "cell_type": "code",
   "execution_count": 5,
   "metadata": {
    "ExecuteTime": {
     "end_time": "2018-04-19T09:26:25.666049Z",
     "start_time": "2018-04-19T09:26:25.610940Z"
    }
   },
   "outputs": [],
   "source": [
    "def transition_skip(fsm_obj):\n",
    "    pass\n",
    "\n",
    "\n",
    "def transition_new_group(fsm_obj):\n",
    "    fsm_obj.group_current_level += 1\n",
    "    fsm_obj.current_group = RuleGroup(fsm_obj.current_group,\n",
    "                                      fsm_obj.group_current_level,\n",
    "                                      None)\n",
    "\n",
    "\n",
    "def transition_append_pre(fsm_obj):\n",
    "    rule_count = fsm_obj.current_group.rule_count\n",
    "    fsm_obj.current_group.rules[rule_count - 1].prefix += fsm_obj.current_char\n",
    "\n",
    "\n",
    "def transition_add_op(fsm_obj):\n",
    "    rule_count = fsm_obj.current_group.rule_count\n",
    "    fsm_obj.current_group.rules[rule_count - 1].op = fsm_obj.current_char\n",
    "\n",
    "\n",
    "def transition_end_group(fsm_obj):\n",
    "    fsm_obj.group_current_level += 1\n",
    "    fsm_obj.current_group = RuleGroup(fsm_obj.current_group,\n",
    "                                      fsm_obj.group_current_level,\n",
    "                                      None)\n",
    "\n",
    "\n",
    "def transition_end_rule(fsm_obj):\n",
    "    pass\n",
    "\n",
    "\n",
    "def transition_add_op_new_rule(fsm_obj):\n",
    "    fsm_obj.current_group.rule_count += 1\n",
    "    fsm_obj.current_group.rules.append(Rule())\n",
    "    rule_count = fsm_obj.current_group.rule_count\n",
    "    fsm_obj.current_group.rules[rule_count - 1].op = fsm_obj.current_char\n",
    "\n",
    "\n",
    "def transition_append_subj(fsm_obj):\n",
    "    rule_count = fsm_obj.current_group.rule_count\n",
    "    fsm_obj.current_group.rules[rule_count - 1].subject += fsm_obj.current_char\n",
    "\n",
    "\n",
    "def transition_add_op_new_group(fsm_obj):\n",
    "    fsm_obj.current_group.op = fsm_obj.current_char"
   ]
  },
  {
   "cell_type": "code",
   "execution_count": null,
   "metadata": {},
   "outputs": [],
   "source": []
  }
 ],
 "metadata": {
  "kernelspec": {
   "display_name": "Python 3",
   "language": "python",
   "name": "python3"
  },
  "language_info": {
   "codemirror_mode": {
    "name": "ipython",
    "version": 3
   },
   "file_extension": ".py",
   "mimetype": "text/x-python",
   "name": "python",
   "nbconvert_exporter": "python",
   "pygments_lexer": "ipython3",
   "version": "3.6.4"
  }
 },
 "nbformat": 4,
 "nbformat_minor": 2
}
