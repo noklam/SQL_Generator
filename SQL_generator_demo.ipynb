{
 "cells": [
  {
   "cell_type": "code",
   "execution_count": 1,
   "metadata": {
    "ExecuteTime": {
     "end_time": "2018-04-23T09:33:06.618307Z",
     "start_time": "2018-04-23T09:33:06.237272Z"
    }
   },
   "outputs": [],
   "source": [
    "%reload_ext autoreload\n",
    "%autoreload 2\n",
    "%matplotlib inline\n",
    "\n",
    "from fastai.io import *\n",
    "from fastai.conv_learner import *\n",
    "from fastai.text import *\n",
    "from fastai.column_data import *"
   ]
  },
  {
   "cell_type": "code",
   "execution_count": 2,
   "metadata": {
    "ExecuteTime": {
     "end_time": "2018-04-23T09:33:06.965516Z",
     "start_time": "2018-04-23T09:33:06.620318Z"
    }
   },
   "outputs": [],
   "source": [
    "# from fsm import *"
   ]
  },
  {
   "cell_type": "code",
   "execution_count": 3,
   "metadata": {
    "ExecuteTime": {
     "end_time": "2018-04-23T09:33:07.310567Z",
     "start_time": "2018-04-23T09:33:06.967522Z"
    }
   },
   "outputs": [],
   "source": [
    "DATA_PATH = Path('data')\n",
    "DATA_PATH\n",
    "TMP_PATH = DATA_PATH/'tmp'\n",
    "TMP_PATH.mkdir(exist_ok=True)"
   ]
  },
  {
   "cell_type": "code",
   "execution_count": 4,
   "metadata": {
    "ExecuteTime": {
     "end_time": "2018-04-23T09:33:07.814526Z",
     "start_time": "2018-04-23T09:33:07.312072Z"
    }
   },
   "outputs": [],
   "source": [
    "sql_ids = np.load(TMP_PATH/'sql_ids.npy')\n",
    "sql_itos = pickle.load(open(TMP_PATH/'sql_itos.pkl','rb'))\n",
    "sql_stoi =  collections.defaultdict(lambda: 3, {v:k for k,v in enumerate(sql_itos)})"
   ]
  },
  {
   "cell_type": "code",
   "execution_count": 5,
   "metadata": {
    "ExecuteTime": {
     "end_time": "2018-04-23T09:39:13.062325Z",
     "start_time": "2018-04-23T09:39:12.758442Z"
    }
   },
   "outputs": [],
   "source": [
    "# fsm = Rule_Parse_FSM()\n",
    "# get_next_random(\"select userid from users where \".split())\n",
    "# get_next_random_fsm(\"select userid from users where \".split(), fsm)"
   ]
  },
  {
   "cell_type": "markdown",
   "metadata": {},
   "source": [
    "## Setup"
   ]
  },
  {
   "cell_type": "markdown",
   "metadata": {},
   "source": [
    "Set up directory path"
   ]
  },
  {
   "cell_type": "code",
   "execution_count": 6,
   "metadata": {
    "ExecuteTime": {
     "end_time": "2018-04-23T09:39:13.586123Z",
     "start_time": "2018-04-23T09:39:13.230367Z"
    }
   },
   "outputs": [
    {
     "data": {
      "text/html": [
       "<div>\n",
       "<style scoped>\n",
       "    .dataframe tbody tr th:only-of-type {\n",
       "        vertical-align: middle;\n",
       "    }\n",
       "\n",
       "    .dataframe tbody tr th {\n",
       "        vertical-align: top;\n",
       "    }\n",
       "\n",
       "    .dataframe thead th {\n",
       "        text-align: right;\n",
       "    }\n",
       "</style>\n",
       "<table border=\"1\" class=\"dataframe\">\n",
       "  <thead>\n",
       "    <tr style=\"text-align: right;\">\n",
       "      <th></th>\n",
       "      <th>comments</th>\n",
       "      <th>description</th>\n",
       "      <th>id</th>\n",
       "      <th>sql</th>\n",
       "      <th>sql_plain</th>\n",
       "      <th>title</th>\n",
       "      <th>url</th>\n",
       "    </tr>\n",
       "  </thead>\n",
       "  <tbody>\n",
       "    <tr>\n",
       "      <th>0</th>\n",
       "      <td>[]</td>\n",
       "      <td></td>\n",
       "      <td>586912</td>\n",
       "      <td>SELECT p.Title,p.score,p.ViewCount,p.AnswerCou...</td>\n",
       "      <td>SELECT \\np.Title,p.score,p.ViewCount,p.AnswerC...</td>\n",
       "      <td>Repent 151-160</td>\n",
       "      <td>http://data.stackexchange.com/stackoverflow/re...</td>\n",
       "    </tr>\n",
       "  </tbody>\n",
       "</table>\n",
       "</div>"
      ],
      "text/plain": [
       "  comments description      id  \\\n",
       "0       []              586912   \n",
       "\n",
       "                                                 sql  \\\n",
       "0  SELECT p.Title,p.score,p.ViewCount,p.AnswerCou...   \n",
       "\n",
       "                                           sql_plain           title  \\\n",
       "0  SELECT \\np.Title,p.score,p.ViewCount,p.AnswerC...  Repent 151-160   \n",
       "\n",
       "                                                 url  \n",
       "0  http://data.stackexchange.com/stackoverflow/re...  "
      ]
     },
     "execution_count": 6,
     "metadata": {},
     "output_type": "execute_result"
    }
   ],
   "source": [
    "dataset = pd.read_json(DATA_PATH/'train.json')\n",
    "dataset.head(1)\n"
   ]
  },
  {
   "cell_type": "code",
   "execution_count": 7,
   "metadata": {
    "ExecuteTime": {
     "end_time": "2018-04-23T09:39:13.936630Z",
     "start_time": "2018-04-23T09:39:13.587125Z"
    }
   },
   "outputs": [],
   "source": [
    "# get_next_random(\"select userid from users where \".split())\n",
    "\n",
    "SQL = dataset.sql\n",
    "SQL = SQL.str.lower() # Pad space around non character string"
   ]
  },
  {
   "cell_type": "code",
   "execution_count": 8,
   "metadata": {},
   "outputs": [],
   "source": [
    "SQL = SQL.str.replace('(\\W)', r' \\1 ')"
   ]
  },
  {
   "cell_type": "code",
   "execution_count": 9,
   "metadata": {},
   "outputs": [
    {
     "data": {
      "text/plain": [
       "0    select   p . title , p . score , p . viewcount...\n",
       "1    create   table    # customerdb    (    id   in...\n",
       "Name: sql, dtype: object"
      ]
     },
     "execution_count": 9,
     "metadata": {},
     "output_type": "execute_result"
    }
   ],
   "source": [
    "SQL[:2]"
   ]
  },
  {
   "cell_type": "markdown",
   "metadata": {},
   "source": [
    "###  Weird Spacy"
   ]
  },
  {
   "cell_type": "code",
   "execution_count": 10,
   "metadata": {},
   "outputs": [],
   "source": [
    "tmp =[\"id userid normal ac hed wed theyd  itd ID WED\"]"
   ]
  },
  {
   "cell_type": "code",
   "execution_count": 11,
   "metadata": {},
   "outputs": [
    {
     "data": {
      "text/plain": [
       "[['i',\n",
       "  'd',\n",
       "  'userid',\n",
       "  'normal',\n",
       "  'ac',\n",
       "  'he',\n",
       "  'd',\n",
       "  'we',\n",
       "  'd',\n",
       "  'they',\n",
       "  'd',\n",
       "  'it',\n",
       "  'd',\n",
       "  'i',\n",
       "  'd',\n",
       "  't_up',\n",
       "  'we',\n",
       "  'd']]"
      ]
     },
     "execution_count": 11,
     "metadata": {},
     "output_type": "execute_result"
    }
   ],
   "source": [
    "Tokenizer.proc_all(tmp,lang='en') ## Seems confirm Jeremy's Theory"
   ]
  },
  {
   "cell_type": "markdown",
   "metadata": {},
   "source": [
    "## Parallel processing"
   ]
  },
  {
   "cell_type": "code",
   "execution_count": 12,
   "metadata": {},
   "outputs": [],
   "source": [
    "def lambda_split(x):\n",
    "    return x.split() "
   ]
  },
  {
   "cell_type": "code",
   "execution_count": 13,
   "metadata": {},
   "outputs": [],
   "source": [
    "def proc_all_mp(ss):\n",
    "        ncpus = num_cpus()//2\n",
    "        with ProcessPoolExecutor(ncpus) as e:\n",
    "            return list(e.map(lambda_split, ss))"
   ]
  },
  {
   "cell_type": "code",
   "execution_count": 14,
   "metadata": {},
   "outputs": [
    {
     "name": "stdout",
     "output_type": "stream",
     "text": [
      "CPU times: user 7.65 s, sys: 2.3 s, total: 9.95 s\n",
      "Wall time: 8.06 s\n"
     ]
    }
   ],
   "source": [
    "%time tmp = proc_all_mp(SQL)"
   ]
  },
  {
   "cell_type": "code",
   "execution_count": 15,
   "metadata": {},
   "outputs": [
    {
     "name": "stdout",
     "output_type": "stream",
     "text": [
      "CPU times: user 214 ms, sys: 36 ms, total: 250 ms\n",
      "Wall time: 249 ms\n",
      "\n"
     ]
    }
   ],
   "source": [
    "%time [i.split() for i in SQL]\n",
    "print(\"\")"
   ]
  },
  {
   "cell_type": "code",
   "execution_count": 16,
   "metadata": {},
   "outputs": [
    {
     "name": "stdout",
     "output_type": "stream",
     "text": [
      "CPU times: user 162 ms, sys: 19.6 ms, total: 182 ms\n",
      "Wall time: 181 ms\n",
      "\n"
     ]
    }
   ],
   "source": [
    "%time SQL.apply(lambda x : x.split())\n",
    "print(\"\")"
   ]
  },
  {
   "cell_type": "code",
   "execution_count": 17,
   "metadata": {},
   "outputs": [
    {
     "name": "stdout",
     "output_type": "stream",
     "text": [
      "CPU times: user 326 ms, sys: 30.9 ms, total: 357 ms\n",
      "Wall time: 356 ms\n",
      "\n"
     ]
    }
   ],
   "source": [
    "%time SQL.str.split()\n",
    "print(\"\")"
   ]
  },
  {
   "cell_type": "code",
   "execution_count": 18,
   "metadata": {
    "ExecuteTime": {
     "end_time": "2018-04-23T09:39:14.666474Z",
     "start_time": "2018-04-23T09:39:14.281573Z"
    },
    "scrolled": true
   },
   "outputs": [
    {
     "data": {
      "text/plain": [
       "'select p . title , p . score , p . viewcount , p . answercount , p . commentcount , len ( p . body ) as ques_size , p . favoritecount , p . id , u . reputation as user_repo , u . creationdate as user_join_date , datediff ( minute , p . creationdate , a . creationdate ) as qatimegap from posts as p , posts as a , users as u where p . id = a . parentid and p . owneruserid = u . id and a . creationdate = ( select min ( tau . creationdate ) from posts tau where tau . parentid = p . id group by tau . parentid ) and ( p . title like \\' % recommended method for handling unsupportedencodingexception from string . getbytes ( \" utf - 8 \" ) % \\' or p . title like \\' % way to format strings with \" ? \" parameters to full string in java ? % \\' or p . title like \\' % how to parse a string without regular expressions % \\' or p . title like \\' % how to replace string only once without regex in java ? % \\' or p . title like \\' % efficiently removing specific characters ( some punctuation ) from strings in java ? % \\' or p . title like \\' % strings are immutable - that means i should never use + = and only stringbuffer ? % \\' or p . title like \\' % concatenation of strings and characters % \\' or p . title like \\' % java - convert integer to string % \\' or p . title like \\' % function to remove duplicate characters in a string % \\' or p . title like \\' % better template language needed % \\' )'"
      ]
     },
     "execution_count": 18,
     "metadata": {},
     "output_type": "execute_result"
    }
   ],
   "source": [
    "sql_tok = SQL.str.split()\n",
    "\" \".join(sql_tok[0])"
   ]
  },
  {
   "cell_type": "markdown",
   "metadata": {},
   "source": [
    "Clean up SQL that are too long/short."
   ]
  },
  {
   "cell_type": "code",
   "execution_count": 19,
   "metadata": {},
   "outputs": [],
   "source": [
    "lens=[len(i) for i in sql_tok]\n",
    "lens= np.array(lens)"
   ]
  },
  {
   "cell_type": "code",
   "execution_count": 20,
   "metadata": {},
   "outputs": [
    {
     "data": {
      "text/plain": [
       "array([316, 308,  24, 178,  44,  52,  84,  99, 190,  38])"
      ]
     },
     "execution_count": 20,
     "metadata": {},
     "output_type": "execute_result"
    }
   ],
   "source": [
    "lens[:10]"
   ]
  },
  {
   "cell_type": "code",
   "execution_count": 21,
   "metadata": {},
   "outputs": [
    {
     "data": {
      "text/plain": [
       "(83.80332601447508, 1, 863, 79.63395093587785)"
      ]
     },
     "execution_count": 21,
     "metadata": {},
     "output_type": "execute_result"
    }
   ],
   "source": [
    "lens.mean(),lens.min(),lens.max(),lens.std()"
   ]
  },
  {
   "cell_type": "code",
   "execution_count": 22,
   "metadata": {},
   "outputs": [
    {
     "data": {
      "text/plain": [
       "(array([0.66122, 0.8905 , 0.95857, 0.98248, 0.99435, 0.99829, 0.99955, 0.9998 , 0.99992, 1.     ]),\n",
       " array([  1. ,  87.2, 173.4, 259.6, 345.8, 432. , 518.2, 604.4, 690.6, 776.8, 863. ]),\n",
       " <a list of 10 Patch objects>)"
      ]
     },
     "execution_count": 22,
     "metadata": {},
     "output_type": "execute_result"
    },
    {
     "data": {
      "image/png": "[encoded data removed]",
      "text/plain": [
       "<matplotlib.figure.Figure at 0x7efeab49bf60>"
      ]
     },
     "metadata": {},
     "output_type": "display_data"
    }
   ],
   "source": [
    "plt.hist(lens,cumulative=True,density=True)"
   ]
  },
  {
   "cell_type": "code",
   "execution_count": 23,
   "metadata": {},
   "outputs": [
    {
     "name": "stdout",
     "output_type": "stream",
     "text": [
      "Filter out  1239 sentences\n"
     ]
    }
   ],
   "source": [
    "tmp = len(sql_tok)\n",
    "sql_tok = [i for i in sql_tok if len(i)>=4 and len(i)< int(lens.mean()+ 2*lens.std())] # Roughly 95% data\n",
    "print('Filter out ', tmp - len(sql_tok), \"sentences\")"
   ]
  },
  {
   "cell_type": "code",
   "execution_count": 24,
   "metadata": {
    "ExecuteTime": {
     "end_time": "2018-04-23T09:39:14.670488Z",
     "start_time": "2018-04-23T09:39:13.883Z"
    }
   },
   "outputs": [],
   "source": [
    "def toks2ids(tok,pre):\n",
    "    freq = Counter(p for o in tok for p in o)\n",
    "    itos = [o for o,c in freq.most_common()] ## Avoid rare tokens\n",
    "    itos.insert(0, '_bos_')\n",
    "    itos.insert(1, '_pad_')\n",
    "    itos.insert(2, '_eos_')\n",
    "    itos.insert(3, '_unk')\n",
    "    stoi = collections.defaultdict(lambda: 3, {v:k for k,v in enumerate(itos)})\n",
    "    ids = np.array([([0] + [stoi[o] for o in p] + [2]) for p in tok]) # pad bos at beginning and eos at the end\n",
    "    np.save(TMP_PATH/f'{pre}_ids.npy', ids)\n",
    "    pickle.dump(itos, open(TMP_PATH/f'{pre}_itos.pkl', 'wb'))\n",
    "    return ids,itos,stoi"
   ]
  },
  {
   "cell_type": "code",
   "execution_count": 25,
   "metadata": {
    "ExecuteTime": {
     "end_time": "2018-04-20T09:57:59.312786Z",
     "start_time": "2018-04-20T09:57:58.409179Z"
    }
   },
   "outputs": [],
   "source": [
    "sql_ids,sql_itos,sql_stoi = toks2ids(sql_tok,'sql')"
   ]
  },
  {
   "cell_type": "code",
   "execution_count": 26,
   "metadata": {
    "ExecuteTime": {
     "end_time": "2018-04-23T09:33:14.241166Z",
     "start_time": "2018-04-23T09:33:13.828035Z"
    }
   },
   "outputs": [],
   "source": [
    "sql_ids_concat= []\n",
    "for i in sql_ids:\n",
    "    sql_ids_concat += i"
   ]
  },
  {
   "cell_type": "code",
   "execution_count": 27,
   "metadata": {},
   "outputs": [
    {
     "data": {
      "text/plain": [
       "16288"
      ]
     },
     "execution_count": 27,
     "metadata": {},
     "output_type": "execute_result"
    }
   ],
   "source": [
    "len(sql_itos)"
   ]
  },
  {
   "cell_type": "code",
   "execution_count": 28,
   "metadata": {
    "ExecuteTime": {
     "end_time": "2018-04-23T09:33:14.711970Z",
     "start_time": "2018-04-23T09:33:14.346007Z"
    }
   },
   "outputs": [
    {
     "data": {
      "text/plain": [
       "(23355,)"
      ]
     },
     "execution_count": 28,
     "metadata": {},
     "output_type": "execute_result"
    }
   ],
   "source": [
    "sql_ids.shape"
   ]
  },
  {
   "cell_type": "code",
   "execution_count": 29,
   "metadata": {
    "ExecuteTime": {
     "end_time": "2018-04-23T09:33:15.036560Z",
     "start_time": "2018-04-23T09:33:14.713978Z"
    }
   },
   "outputs": [
    {
     "name": "stdout",
     "output_type": "stream",
     "text": [
      "total words: 16288\n"
     ]
    }
   ],
   "source": [
    "vocab_size = len(sql_itos)\n",
    "print('total words:', vocab_size)"
   ]
  },
  {
   "cell_type": "markdown",
   "metadata": {},
   "source": [
    "### Create inputs"
   ]
  },
  {
   "cell_type": "code",
   "execution_count": 272,
   "metadata": {},
   "outputs": [],
   "source": [
    "cs=16\n",
    "\n",
    "c_in_dat = [[sql_ids_concat[i+j] for i in range(cs)] for j in range(0, len(sql_ids_concat)-cs-1, cs)]\n",
    "c_out_dat = [[sql_ids_concat[i+j] for i in range(cs)] for j in range(1, len(sql_ids_concat)-cs, cs)]\n",
    "\n",
    "xs = np.stack(c_in_dat)\n",
    "ys = np.stack(c_out_dat)"
   ]
  },
  {
   "cell_type": "code",
   "execution_count": 31,
   "metadata": {},
   "outputs": [
    {
     "data": {
      "text/plain": [
       "((106545, 16), (106545, 16))"
      ]
     },
     "execution_count": 31,
     "metadata": {},
     "output_type": "execute_result"
    }
   ],
   "source": [
    "xs.shape,ys.shape"
   ]
  },
  {
   "cell_type": "code",
   "execution_count": 32,
   "metadata": {},
   "outputs": [
    {
     "data": {
      "text/plain": [
       "array([[  0,  12,  11,  13, 103,  19,  90,   6, 104,   7,  35,   8,  22, 497,  22, 123],\n",
       "       [ 22,   8,  24,  18, 121,   6, 104,   7, 114,   2,   0,  76,  31,  13, 146,   9],\n",
       "       [140,   6, 146,   5,   8,  14,  14, 237, 125, 194,  39, 330,  39, 100,  14,  14]])"
      ]
     },
     "execution_count": 32,
     "metadata": {},
     "output_type": "execute_result"
    }
   ],
   "source": [
    "xs[:3]"
   ]
  },
  {
   "cell_type": "code",
   "execution_count": 33,
   "metadata": {},
   "outputs": [
    {
     "data": {
      "text/plain": [
       "array([[ 12,  11,  13, 103,  19,  90,   6, 104,   7,  35,   8,  22, 497,  22, 123,  22],\n",
       "       [  8,  24,  18, 121,   6, 104,   7, 114,   2,   0,  76,  31,  13, 146,   9, 140],\n",
       "       [  6, 146,   5,   8,  14,  14, 237, 125, 194,  39, 330,  39, 100,  14,  14,   8]])"
      ]
     },
     "execution_count": 33,
     "metadata": {},
     "output_type": "execute_result"
    }
   ],
   "source": [
    "ys[:3]"
   ]
  },
  {
   "cell_type": "code",
   "execution_count": 34,
   "metadata": {},
   "outputs": [],
   "source": [
    "bs=256"
   ]
  },
  {
   "cell_type": "code",
   "execution_count": 35,
   "metadata": {},
   "outputs": [],
   "source": [
    "val_idx = get_cv_idxs(len(xs)-cs-1)\n",
    "md = ColumnarModelData.from_arrays('.', val_idx, xs, ys, bs=bs)"
   ]
  },
  {
   "cell_type": "markdown",
   "metadata": {},
   "source": [
    "## Model"
   ]
  },
  {
   "cell_type": "code",
   "execution_count": 36,
   "metadata": {},
   "outputs": [],
   "source": [
    "import pdb"
   ]
  },
  {
   "cell_type": "code",
   "execution_count": 37,
   "metadata": {},
   "outputs": [],
   "source": [
    "n_hidden=256\n",
    "n_fac=128\n",
    "dropout=0.5\n",
    "bidir=True"
   ]
  },
  {
   "cell_type": "code",
   "execution_count": 38,
   "metadata": {},
   "outputs": [],
   "source": [
    "class CharSeqStatefulGRU(nn.Module):\n",
    "    def __init__(self, vocab_size, n_fac, bs):\n",
    "        super().__init__()\n",
    "        self.vocab_size = vocab_size\n",
    "        self.e = nn.Embedding(vocab_size, n_fac)\n",
    "        self.rnn1 = nn.GRU(n_fac, n_hidden, num_layers=2, dropout=dropout, bidirectional=bidir)\n",
    "        self.l_out = nn.Linear(n_hidden+n_hidden*bidir, vocab_size)\n",
    "        self.init_hidden(bs)\n",
    "        \n",
    "    def forward(self, *cs):\n",
    "        bs = cs[0].size(0)\n",
    "        if self.h1.size(1) != bs: self.init_hidden(bs)\n",
    "        inp = self.e(torch.stack(cs))\n",
    "        outp,h1 = self.rnn1(inp, self.h1)\n",
    "        self.h1 = repackage_var(h1)\n",
    "        #pdb.set_trace()\n",
    "        return F.log_softmax(self.l_out(outp), dim=-1)\n",
    "    \n",
    "    def init_hidden(self, bs): \n",
    "        self.h1 = V(torch.zeros(2*bidir+2, bs, n_hidden))\n",
    "       "
   ]
  },
  {
   "cell_type": "code",
   "execution_count": 39,
   "metadata": {},
   "outputs": [
    {
     "data": {
      "text/plain": [
       "\n",
       " 4.2039e-44\n",
       " 0.0000e+00\n",
       " 9.8091e-44\n",
       "     ⋮     \n",
       " 3.0833e-41\n",
       " 1.1210e-44\n",
       " 0.0000e+00\n",
       "[torch.FloatTensor of size 2000]"
      ]
     },
     "execution_count": 39,
     "metadata": {},
     "output_type": "execute_result"
    }
   ],
   "source": [
    "torch.Tensor(2,10,100).transpose(0,1).contiguous().view(-1)"
   ]
  },
  {
   "cell_type": "code",
   "execution_count": 40,
   "metadata": {},
   "outputs": [],
   "source": [
    "def nll_loss_seq(inp, targ):\n",
    "    sl,bs,nh = inp.size()\n",
    "    targ = targ.transpose(0,1).contiguous().view(-1)\n",
    "    targ = targ.view(-1)\n",
    "    return F.nll_loss(inp.view(-1,nh), targ)"
   ]
  },
  {
   "cell_type": "code",
   "execution_count": 41,
   "metadata": {},
   "outputs": [
    {
     "name": "stdout",
     "output_type": "stream",
     "text": [
      "n_hidden: 256 n_fac: 128 bidir: True dropout: 0.5\n"
     ]
    }
   ],
   "source": [
    "print('n_hidden:',n_hidden,'n_fac:',n_fac,'bidir:',bidir,'dropout:',dropout)\n",
    "            \n",
    "m = CharSeqStatefulGRU(len(sql_itos), n_fac, bs=bs)\n",
    "opt_fn = partial(optim.Adam, betas=(0.8, 0.99))\n",
    "learn = RNN_Learner(md, SingleModel(to_gpu(m)), opt_fn=opt_fn)\n",
    "learn.crit = nll_loss_seq"
   ]
  },
  {
   "cell_type": "code",
   "execution_count": 42,
   "metadata": {},
   "outputs": [],
   "source": [
    "def accuracy(preds, targs):\n",
    "    preds = torch.max(preds.view(-1,len(sql_itos)), dim=1)[1]\n",
    "    targs = targs.transpose(0,1).contiguous().view(-1)\n",
    "    return (preds==targs).float().mean()"
   ]
  },
  {
   "cell_type": "code",
   "execution_count": 43,
   "metadata": {},
   "outputs": [],
   "source": [
    "learn.metrics = [accuracy]"
   ]
  },
  {
   "cell_type": "code",
   "execution_count": 44,
   "metadata": {},
   "outputs": [
    {
     "data": {
      "application/vnd.jupyter.widget-view+json": {
       "model_id": "2409a695dcf94d46ab8d86431b06cf8d",
       "version_major": 2,
       "version_minor": 0
      },
      "text/html": [
       "<p>Failed to display Jupyter Widget of type <code>HBox</code>.</p>\n",
       "<p>\n",
       "  If you're reading this message in the Jupyter Notebook or JupyterLab Notebook, it may mean\n",
       "  that the widgets JavaScript is still loading. If this message persists, it\n",
       "  likely means that the widgets JavaScript library is either not installed or\n",
       "  not enabled. See the <a href=\"https://ipywidgets.readthedocs.io/en/stable/user_install.html\">Jupyter\n",
       "  Widgets Documentation</a> for setup instructions.\n",
       "</p>\n",
       "<p>\n",
       "  If you're reading this message in another frontend (for example, a static\n",
       "  rendering on GitHub or <a href=\"https://nbviewer.jupyter.org/\">NBViewer</a>),\n",
       "  it may mean that your frontend doesn't currently support widgets.\n",
       "</p>\n"
      ],
      "text/plain": [
       "HBox(children=(IntProgress(value=0, description='Epoch', max=1), HTML(value='')))"
      ]
     },
     "metadata": {},
     "output_type": "display_data"
    },
    {
     "name": "stdout",
     "output_type": "stream",
     "text": [
      " 69%|██████▉   | 229/333 [00:35<00:16,  6.41it/s, loss=7.79]"
     ]
    }
   ],
   "source": [
    "learn.lr_find()"
   ]
  },
  {
   "cell_type": "code",
   "execution_count": 45,
   "metadata": {},
   "outputs": [
    {
     "data": {
      "image/png": "[encoded data removed]",
      "text/plain": [
       "<matplotlib.figure.Figure at 0x7efe95e5da58>"
      ]
     },
     "metadata": {},
     "output_type": "display_data"
    }
   ],
   "source": [
    "learn.sched.plot()"
   ]
  },
  {
   "cell_type": "code",
   "execution_count": 46,
   "metadata": {},
   "outputs": [
    {
     "data": {
      "application/vnd.jupyter.widget-view+json": {
       "model_id": "7dcb78a22a644ae794913e68328724bd",
       "version_major": 2,
       "version_minor": 0
      },
      "text/html": [
       "<p>Failed to display Jupyter Widget of type <code>HBox</code>.</p>\n",
       "<p>\n",
       "  If you're reading this message in the Jupyter Notebook or JupyterLab Notebook, it may mean\n",
       "  that the widgets JavaScript is still loading. If this message persists, it\n",
       "  likely means that the widgets JavaScript library is either not installed or\n",
       "  not enabled. See the <a href=\"https://ipywidgets.readthedocs.io/en/stable/user_install.html\">Jupyter\n",
       "  Widgets Documentation</a> for setup instructions.\n",
       "</p>\n",
       "<p>\n",
       "  If you're reading this message in another frontend (for example, a static\n",
       "  rendering on GitHub or <a href=\"https://nbviewer.jupyter.org/\">NBViewer</a>),\n",
       "  it may mean that your frontend doesn't currently support widgets.\n",
       "</p>\n"
      ],
      "text/plain": [
       "HBox(children=(IntProgress(value=0, description='Epoch', max=1), HTML(value='')))"
      ]
     },
     "metadata": {},
     "output_type": "display_data"
    },
    {
     "name": "stdout",
     "output_type": "stream",
     "text": [
      "  7%|▋         | 24/333 [00:03<00:47,  6.48it/s, loss=9.64] \n",
      "  8%|▊         | 25/333 [00:03<00:47,  6.47it/s, loss=9.63]"
     ]
    },
    {
     "name": "stderr",
     "output_type": "stream",
     "text": [
      "Exception in thread Thread-5:\n",
      "Traceback (most recent call last):\n",
      "  File \"/home/channoklam_cnl/anaconda3/envs/fastai/lib/python3.6/threading.py\", line 916, in _bootstrap_inner\n",
      "    self.run()\n",
      "  File \"/home/channoklam_cnl/anaconda3/envs/fastai/lib/python3.6/site-packages/tqdm/_tqdm.py\", line 144, in run\n",
      "    for instance in self.tqdm_cls._instances:\n",
      "  File \"/home/channoklam_cnl/anaconda3/envs/fastai/lib/python3.6/_weakrefset.py\", line 60, in __iter__\n",
      "    for itemref in self.data:\n",
      "RuntimeError: Set changed size during iteration\n",
      "\n"
     ]
    },
    {
     "name": "stdout",
     "output_type": "stream",
     "text": [
      "epoch      trn_loss   val_loss   accuracy                   \n",
      "    0      3.915841   3.71871    0.365472  \n",
      "\n"
     ]
    },
    {
     "data": {
      "text/plain": [
       "[array([3.71871]), 0.365471720338791]"
      ]
     },
     "execution_count": 46,
     "metadata": {},
     "output_type": "execute_result"
    }
   ],
   "source": [
    "learn.fit(1e-4, 1, cycle_len=1,use_clr_beta = (5,10,0.95,0.85))"
   ]
  },
  {
   "cell_type": "markdown",
   "metadata": {},
   "source": [
    "# Run some test to generate some sentence at each training stage"
   ]
  },
  {
   "cell_type": "code",
   "execution_count": 54,
   "metadata": {
    "scrolled": false
   },
   "outputs": [],
   "source": [
    "def get_next(inp):\n",
    "    idxs = T(np.array([sql_stoi[c] for c in inp]))\n",
    "    p = m(*VV(idxs))\n",
    "    p = to_np(p)\n",
    "    i = np.argmax(p[-1,:,:],2)\n",
    "    \n",
    "    return sql_itos[i]\n",
    "\n",
    "def get_next_random(inp):\n",
    "    idxs = T(np.array([sql_stoi[c] for c in inp]))\n",
    "    p = m(*VV(idxs))\n",
    "    p = to_np(p)[0]\n",
    "    pi = p.argsort()[-10:] # Sample the 10 most possible token only\n",
    "    i = np.random.choice(pi, p=softmax_np(p[pi]))\n",
    "    return sql_itos[i]\n",
    "\n",
    "def softmax_np (nparray):\n",
    "    ans = np.exp(nparray)\n",
    "    return ans/ans.sum()\n",
    "\n",
    "\n",
    "\n",
    "def get_sentence(inp):\n",
    "    sentence = inp\n",
    "    counter = 0\n",
    "    tmp = []\n",
    "    while \"_eos_\" not in tmp:   \n",
    "        tmp = get_next(sentence[-cs:]) \n",
    "        sentence += [tmp]\n",
    "        counter = counter+1\n",
    "        if counter> 500:\n",
    "            break\n",
    "    return sentence\n",
    "\n",
    "def get_sentence_random(inp):\n",
    "    sentence = inp\n",
    "    counter = 0\n",
    "    tmp = []\n",
    "    while \"_eos_\" not in tmp:   \n",
    "        tmp = get_next_random(sentence[-cs:]) \n",
    "        sentence += [tmp]\n",
    "        counter = counter+1\n",
    "        if counter> 100:\n",
    "            break\n",
    "    return sentence"
   ]
  },
  {
   "cell_type": "code",
   "execution_count": 144,
   "metadata": {},
   "outputs": [],
   "source": [
    "def test_case():\n",
    "    sample = ['update','select','delete','insert']\n",
    "    \n",
    "    for i in sample:\n",
    "        print('Input:', i, 'output:', i + \" \" + get_next(i))\n",
    "              \n",
    "             \n",
    "    for i in sample:\n",
    "        print('Input:', i, 'output:', get_sentence([i]))    \n",
    "    print('For Random Generation')\n",
    "      \n",
    "    for i in sample:\n",
    "        print('Input:', i, 'output:', i + \" \" + get_next_random(i))\n",
    "                         \n",
    "    for i in sample:\n",
    "        print('Input:', i, 'output:', get_sentence_random([i]))    "
   ]
  },
  {
   "cell_type": "code",
   "execution_count": 145,
   "metadata": {},
   "outputs": [
    {
     "name": "stdout",
     "output_type": "stream",
     "text": [
      "Input: update output: update on\n",
      "Input: select output: select on\n",
      "Input: delete output: delete on\n",
      "Input: insert output: insert d\n",
      "Input: update output: ['update', 'i', 'update', 'update', 'update', 'update', 'update', 'update', 'update', 'update', 'update', 'update', 'update', 'update', 'update', 'update', 'update', 'update', 'i', 'update', 'update', 'update', 'update', 'update', 'update', 'update', 'update', 'update', 'update', 'update', 'update', 'update', 'update', 'update', 'update', 'i', 'update', 'update', 'update', 'update', 'update', 'update', 'update', 'update', 'update', 'update', 'update', 'update', 'update', 'update', 'update', 'update', 'i', 'update', 'update', 'update', 'update', 'update', 'update', 'update', 'update', 'update', 'update', 'update', 'update', 'update', 'update', 'update', 'update', 'i', 'update', 'update', 'update', 'update', 'update', 'update', 'update', 'update', 'update', 'update', 'update', 'update', 'update', 'update', 'update', 'update', 'i', 'update', 'update', 'update', 'update', 'update', 'update', 'update', 'update', 'update', 'update', 'update', 'update', 'update', 'update', 'update', 'update', 'i', 'update', 'update', 'update', 'update', 'update', 'update', 'update', 'update', 'update', 'update', 'update', 'update', 'update', 'update', 'update', 'update', 'i', 'update', 'update', 'update', 'update', 'update', 'update', 'update', 'update', 'update', 'update', 'update', 'update', 'update', 'update', 'update', 'update', 'i', 'update', 'update', 'update', 'update', 'update', 'update', 'update', 'update', 'update', 'update', 'update', 'update', 'update', 'update', 'update', 'update', 'i', 'update', 'update', 'update', 'update', 'update', 'update', 'update', 'update', 'update', 'update', 'update', 'update', 'update', 'update', 'update', 'update', 'i', 'update', 'update', 'update', 'update', 'update', 'update', 'update', 'update', 'update', 'update', 'update', 'update', 'update', 'update', 'update', 'update', 'i', 'update', 'update', 'update', 'update', 'update', 'update', 'update', 'update', 'update', 'update', 'update', 'update', 'update', 'update', 'update', 'update', 'i', 'update', 'update', 'update', 'update', 'update', 'update', 'update', 'update', 'update', 'update', 'update', 'update', 'update', 'update', 'update', 'update', 'i', 'update', 'update', 'update', 'update', 'update', 'update', 'update', 'update', 'update', 'update', 'update', 'update', 'update', 'update', 'update', 'update', 'i', 'update', 'update', 'update', 'update', 'update', 'update', 'update', 'update', 'update', 'update', 'update', 'update', 'update', 'update', 'update', 'update', 'i', 'update', 'update', 'update', 'update', 'update', 'update', 'update', 'update', 'update', 'update', 'update', 'update', 'update', 'update', 'update', 'update', 'i', 'update', 'update', 'update', 'update', 'update', 'update', 'update', 'update', 'update', 'update', 'update', 'update', 'update', 'update', 'update', 'update', 'i', 'update', 'update', 'update', 'update', 'update', 'update', 'update', 'update', 'update', 'update', 'update', 'update', 'update', 'update', 'update', 'update', 'i', 'update', 'update', 'update', 'update', 'update', 'update', 'update', 'update', 'update', 'update', 'update', 'update', 'update', 'update', 'update', 'update', 'i', 'update', 'update', 'update', 'update', 'update', 'update', 'update', 'update', 'update', 'update', 'update', 'update', 'update', 'update', 'update', 'update', 'i', 'update', 'update', 'update', 'update', 'update', 'update', 'update', 'update', 'update', 'update', 'update', 'update', 'update', 'update', 'update', 'update', 'i', 'update', 'update', 'update', 'update', 'update', 'update', 'update', 'update', 'update', 'update', 'update', 'update', 'update', 'update', 'update', 'update', 'i', 'update', 'update', 'update', 'update', 'update', 'update', 'update', 'update', 'update', 'update', 'update', 'update', 'update', 'update', 'update', 'update', 'i', 'update', 'update', 'update', 'update', 'update', 'update', 'update', 'update', 'update', 'update', 'update', 'update', 'update', 'update', 'update', 'update', 'i', 'update', 'update', 'update', 'update', 'update', 'update', 'update', 'update', 'update', 'update', 'update', 'update', 'update', 'update', 'update', 'update', 'i', 'update', 'update', 'update', 'update', 'update', 'update', 'update', 'update', 'update', 'update', 'update', 'update', 'update', 'update', 'update', 'update', 'i', 'update', 'update', 'update', 'update', 'update', 'update', 'update', 'update', 'update', 'update', 'update', 'update', 'update', 'update', 'update', 'update', 'i', 'update', 'update', 'update', 'update', 'update', 'update', 'update', 'update', 'update', 'update', 'update', 'update', 'update', 'update', 'update', 'update', 'i', 'update', 'update', 'update', 'update', 'update', 'update', 'update', 'update', 'update', 'update', 'update', 'update', 'update', 'update', 'update', 'update', 'i', 'update', 'update', 'update', 'update', 'update', 'update', 'update']\n",
      "Input: select output: ['select', 'count', '(', '*', ')', 'as', '[', 'rep', ']', ',', 'count', '(', '*', ')', 'as', '[', 'rep', ']', ',', '(', '*', ')', 'as', '[', 'rep', ']', ',', 'count', '(', '*', ')', 'as', '[', 'rep', ']', ',', '(', '*', ')', 'as', '[', 'rep', ']', ',', 'count', '(', '*', ')', 'as', '[', 'rep', ']', ',', '(', '*', ')', 'as', '[', 'rep', ']', ',', 'count', '(', '*', ')', 'as', '[', 'rep', ']', ',', '(', '*', ')', 'as', '[', 'rep', ']', ',', 'count', '(', '*', ')', 'as', '[', 'rep', ']', ',', '(', '*', ')', 'as', '[', 'rep', ']', ',', 'count', '(', '*', ')', 'as', '[', 'rep', ']', ',', '(', '*', ')', 'as', '[', 'rep', ']', ',', 'count', '(', '*', ')', 'as', '[', 'rep', ']', ',', '(', '*', ')', 'as', '[', 'rep', ']', ',', 'count', '(', '*', ')', 'as', '[', 'rep', ']', ',', '(', '*', ')', 'as', '[', 'rep', ']', ',', 'count', '(', '*', ')', 'as', '[', 'rep', ']', ',', '(', '*', ')', 'as', '[', 'rep', ']', ',', 'count', '(', '*', ')', 'as', '[', 'rep', ']', ',', '(', '*', ')', 'as', '[', 'rep', ']', ',', 'count', '(', '*', ')', 'as', '[', 'rep', ']', ',', '(', '*', ')', 'as', '[', 'rep', ']', ',', 'count', '(', '*', ')', 'as', '[', 'rep', ']', ',', '(', '*', ')', 'as', '[', 'rep', ']', ',', 'count', '(', '*', ')', 'as', '[', 'rep', ']', ',', '(', '*', ')', 'as', '[', 'rep', ']', ',', 'count', '(', '*', ')', 'as', '[', 'rep', ']', ',', '(', '*', ')', 'as', '[', 'rep', ']', ',', 'count', '(', '*', ')', 'as', '[', 'rep', ']', ',', '(', '*', ')', 'as', '[', 'rep', ']', ',', 'count', '(', '*', ')', 'as', '[', 'rep', ']', ',', '(', '*', ')', 'as', '[', 'rep', ']', ',', 'count', '(', '*', ')', 'as', '[', 'rep', ']', ',', '(', '*', ')', 'as', '[', 'rep', ']', ',', 'count', '(', '*', ')', 'as', '[', 'rep', ']', ',', '(', '*', ')', 'as', '[', 'rep', ']', ',', 'count', '(', '*', ')', 'as', '[', 'rep', ']', ',', '(', '*', ')', 'as', '[', 'rep', ']', ',', 'count', '(', '*', ')', 'as', '[', 'rep', ']', ',', '(', '*', ')', 'as', '[', 'rep', ']', ',', 'count', '(', '*', ')', 'as', '[', 'rep', ']', ',', '(', '*', ')', 'as', '[', 'rep', ']', ',', 'count', '(', '*', ')', 'as', '[', 'rep', ']', ',', '(', '*', ')', 'as', '[', 'rep', ']', ',', 'count', '(', '*', ')', 'as', '[', 'rep', ']', ',', '(', '*', ')', 'as', '[', 'rep', ']', ',', 'count', '(', '*', ')', 'as', '[', 'rep', ']', ',', '(', '*', ')', 'as', '[', 'rep', ']', ',', 'count', '(', '*', ')', 'as', '[', 'rep', ']', ',', '(', '*', ')', 'as', '[', 'rep', ']', ',', 'count', '(', '*', ')', 'as', '[', 'rep', ']', ',', '(', '*', ')', 'as', '[', 'rep', ']', ',', 'count', '(', '*', ')', 'as', '[', 'rep', ']', ',', '(', '*', ')', 'as', '[', 'rep', ']', ',', 'count', '(', '*', ')', 'as', '[', 'rep', ']', ',', '(', '*', ')', 'as', '[', 'rep', ']', ',', 'count', '(', '*', ')', 'as', '[', 'rep', ']', ',', '(', '*', ')', 'as', '[', 'rep', ']']\n",
      "Input: delete output: ['delete', ',', 'delete', 'delete', 'delete', 'delete', 'delete', 'delete', 'delete', 'delete', 'delete', 'delete', 'delete', 'delete', 'delete', 'delete', 'delete', 'delete', ',', 'delete', 'delete', 'delete', 'delete', 'delete', 'delete', 'delete', 'delete', 'delete', 'delete', 'delete', 'delete', 'delete', 'delete', 'delete', 'delete', ',', 'delete', 'delete', 'delete', 'delete', 'delete', 'delete', 'delete', 'delete', 'delete', 'delete', 'delete', 'delete', 'delete', 'delete', 'delete', 'delete', ',', 'delete', 'delete', 'delete', 'delete', 'delete', 'delete', 'delete', 'delete', 'delete', 'delete', 'delete', 'delete', 'delete', 'delete', 'delete', 'delete', ',', 'delete', 'delete', 'delete', 'delete', 'delete', 'delete', 'delete', 'delete', 'delete', 'delete', 'delete', 'delete', 'delete', 'delete', 'delete', 'delete', ',', 'delete', 'delete', 'delete', 'delete', 'delete', 'delete', 'delete', 'delete', 'delete', 'delete', 'delete', 'delete', 'delete', 'delete', 'delete', 'delete', ',', 'delete', 'delete', 'delete', 'delete', 'delete', 'delete', 'delete', 'delete', 'delete', 'delete', 'delete', 'delete', 'delete', 'delete', 'delete', 'delete', ',', 'delete', 'delete', 'delete', 'delete', 'delete', 'delete', 'delete', 'delete', 'delete', 'delete', 'delete', 'delete', 'delete', 'delete', 'delete', 'delete', ',', 'delete', 'delete', 'delete', 'delete', 'delete', 'delete', 'delete', 'delete', 'delete', 'delete', 'delete', 'delete', 'delete', 'delete', 'delete', 'delete', ',', 'delete', 'delete', 'delete', 'delete', 'delete', 'delete', 'delete', 'delete', 'delete', 'delete', 'delete', 'delete', 'delete', 'delete', 'delete', 'delete', ',', 'delete', 'delete', 'delete', 'delete', 'delete', 'delete', 'delete', 'delete', 'delete', 'delete', 'delete', 'delete', 'delete', 'delete', 'delete', 'delete', ',', 'delete', 'delete', 'delete', 'delete', 'delete', 'delete', 'delete', 'delete', 'delete', 'delete', 'delete', 'delete', 'delete', 'delete', 'delete', 'delete', ',', 'delete', 'delete', 'delete', 'delete', 'delete', 'delete', 'delete', 'delete', 'delete', 'delete', 'delete', 'delete', 'delete', 'delete', 'delete', 'delete', ',', 'delete', 'delete', 'delete', 'delete', 'delete', 'delete', 'delete', 'delete', 'delete', 'delete', 'delete', 'delete', 'delete', 'delete', 'delete', 'delete', ',', 'delete', 'delete', 'delete', 'delete', 'delete', 'delete', 'delete', 'delete', 'delete', 'delete', 'delete', 'delete', 'delete', 'delete', 'delete', 'delete', ',', 'delete', 'delete', 'delete', 'delete', 'delete', 'delete', 'delete', 'delete', 'delete', 'delete', 'delete', 'delete', 'delete', 'delete', 'delete', 'delete', ',', 'delete', 'delete', 'delete', 'delete', 'delete', 'delete', 'delete', 'delete', 'delete', 'delete', 'delete', 'delete', 'delete', 'delete', 'delete', 'delete', ',', 'delete', 'delete', 'delete', 'delete', 'delete', 'delete', 'delete', 'delete', 'delete', 'delete', 'delete', 'delete', 'delete', 'delete', 'delete', 'delete', ',', 'delete', 'delete', 'delete', 'delete', 'delete', 'delete', 'delete', 'delete', 'delete', 'delete', 'delete', 'delete', 'delete', 'delete', 'delete', 'delete', ',', 'delete', 'delete', 'delete', 'delete', 'delete', 'delete', 'delete', 'delete', 'delete', 'delete', 'delete', 'delete', 'delete', 'delete', 'delete', 'delete', ',', 'delete', 'delete', 'delete', 'delete', 'delete', 'delete', 'delete', 'delete', 'delete', 'delete', 'delete', 'delete', 'delete', 'delete', 'delete', 'delete', ',', 'delete', 'delete', 'delete', 'delete', 'delete', 'delete', 'delete', 'delete', 'delete', 'delete', 'delete', 'delete', 'delete', 'delete', 'delete', 'delete', ',', 'delete', 'delete', 'delete', 'delete', 'delete', 'delete', 'delete', 'delete', 'delete', 'delete', 'delete', 'delete', 'delete', 'delete', 'delete', 'delete', ',', 'delete', 'delete', 'delete', 'delete', 'delete', 'delete', 'delete', 'delete', 'delete', 'delete', 'delete', 'delete', 'delete', 'delete', 'delete', 'delete', ',', 'delete', 'delete', 'delete', 'delete', 'delete', 'delete', 'delete', 'delete', 'delete', 'delete', 'delete', 'delete', 'delete', 'delete', 'delete', 'delete', ',', 'delete', 'delete', 'delete', 'delete', 'delete', 'delete', 'delete', 'delete', 'delete', 'delete', 'delete', 'delete', 'delete', 'delete', 'delete', 'delete', ',', 'delete', 'delete', 'delete', 'delete', 'delete', 'delete', 'delete', 'delete', 'delete', 'delete', 'delete', 'delete', 'delete', 'delete', 'delete', 'delete', ',', 'delete', 'delete', 'delete', 'delete', 'delete', 'delete', 'delete', 'delete', 'delete', 'delete', 'delete', 'delete', 'delete', 'delete', 'delete', 'delete', ',', 'delete', 'delete', 'delete', 'delete', 'delete', 'delete', 'delete', 'delete', 'delete', 'delete', 'delete', 'delete', 'delete', 'delete', 'delete', 'delete', ',', 'delete', 'delete', 'delete', 'delete', 'delete', 'delete', 'delete']\n"
     ]
    },
    {
     "name": "stdout",
     "output_type": "stream",
     "text": [
      "Input: insert output: ['insert', 'into', 'insert', 'insert', 'into', 'insert', 'into', 'insert', 'into', 'insert', 'into', 'insert', 'into', 'insert', 'into', 'insert', 'into', 'insert', 'into', 'insert', 'into', 'into', 'insert', 'into', 'insert', 'into', 'insert', 'into', 'insert', 'into', 'insert', 'into', 'insert', 'into', 'insert', 'into', 'insert', 'into', 'into', 'insert', 'into', 'insert', 'into', 'insert', 'into', 'insert', 'into', 'insert', 'into', 'insert', 'into', 'insert', 'into', 'insert', 'into', 'into', 'insert', 'into', 'insert', 'into', 'insert', 'into', 'insert', 'into', 'insert', 'into', 'insert', 'into', 'insert', 'into', 'insert', 'into', 'into', 'insert', 'into', 'insert', 'into', 'insert', 'into', 'insert', 'into', 'insert', 'into', 'insert', 'into', 'insert', 'into', 'insert', 'into', 'into', 'insert', 'into', 'insert', 'into', 'insert', 'into', 'insert', 'into', 'insert', 'into', 'insert', 'into', 'insert', 'into', 'insert', 'into', 'into', 'insert', 'into', 'insert', 'into', 'insert', 'into', 'insert', 'into', 'insert', 'into', 'insert', 'into', 'insert', 'into', 'insert', 'into', 'into', 'insert', 'into', 'insert', 'into', 'insert', 'into', 'insert', 'into', 'insert', 'into', 'insert', 'into', 'insert', 'into', 'insert', 'into', 'into', 'insert', 'into', 'insert', 'into', 'insert', 'into', 'insert', 'into', 'insert', 'into', 'insert', 'into', 'insert', 'into', 'insert', 'into', 'into', 'insert', 'into', 'insert', 'into', 'insert', 'into', 'insert', 'into', 'insert', 'into', 'insert', 'into', 'insert', 'into', 'insert', 'into', 'into', 'insert', 'into', 'insert', 'into', 'insert', 'into', 'insert', 'into', 'insert', 'into', 'insert', 'into', 'insert', 'into', 'insert', 'into', 'into', 'insert', 'into', 'insert', 'into', 'insert', 'into', 'insert', 'into', 'insert', 'into', 'insert', 'into', 'insert', 'into', 'insert', 'into', 'into', 'insert', 'into', 'insert', 'into', 'insert', 'into', 'insert', 'into', 'insert', 'into', 'insert', 'into', 'insert', 'into', 'insert', 'into', 'into', 'insert', 'into', 'insert', 'into', 'insert', 'into', 'insert', 'into', 'insert', 'into', 'insert', 'into', 'insert', 'into', 'insert', 'into', 'into', 'insert', 'into', 'insert', 'into', 'insert', 'into', 'insert', 'into', 'insert', 'into', 'insert', 'into', 'insert', 'into', 'insert', 'into', 'into', 'insert', 'into', 'insert', 'into', 'insert', 'into', 'insert', 'into', 'insert', 'into', 'insert', 'into', 'insert', 'into', 'insert', 'into', 'into', 'insert', 'into', 'insert', 'into', 'insert', 'into', 'insert', 'into', 'insert', 'into', 'insert', 'into', 'insert', 'into', 'insert', 'into', 'into', 'insert', 'into', 'insert', 'into', 'insert', 'into', 'insert', 'into', 'insert', 'into', 'insert', 'into', 'insert', 'into', 'insert', 'into', 'into', 'insert', 'into', 'insert', 'into', 'insert', 'into', 'insert', 'into', 'insert', 'into', 'insert', 'into', 'insert', 'into', 'insert', 'into', 'into', 'insert', 'into', 'insert', 'into', 'insert', 'into', 'insert', 'into', 'insert', 'into', 'insert', 'into', 'insert', 'into', 'insert', 'into', 'into', 'insert', 'into', 'insert', 'into', 'insert', 'into', 'insert', 'into', 'insert', 'into', 'insert', 'into', 'insert', 'into', 'insert', 'into', 'into', 'insert', 'into', 'insert', 'into', 'insert', 'into', 'insert', 'into', 'insert', 'into', 'insert', 'into', 'insert', 'into', 'insert', 'into', 'into', 'insert', 'into', 'insert', 'into', 'insert', 'into', 'insert', 'into', 'insert', 'into', 'insert', 'into', 'insert', 'into', 'insert', 'into', 'into', 'insert', 'into', 'insert', 'into', 'insert', 'into', 'insert', 'into', 'insert', 'into', 'insert', 'into', 'insert', 'into', 'insert', 'into', 'into', 'insert', 'into', 'insert', 'into', 'insert', 'into', 'insert', 'into', 'insert', 'into', 'insert', 'into', 'insert', 'into', 'insert', 'into', 'into', 'insert', 'into', 'insert', 'into', 'insert', 'into', 'insert', 'into', 'insert', 'into', 'insert', 'into', 'insert', 'into', 'insert', 'into', 'into', 'insert', 'into', 'insert', 'into', 'insert', 'into', 'insert', 'into', 'insert', 'into', 'insert', 'into', 'insert', 'into', 'insert', 'into', 'into', 'insert', 'into', 'insert', 'into', 'insert', 'into', 'insert', 'into', 'insert', 'into', 'insert', 'into', 'insert', 'into', 'insert', 'into', 'into', 'insert', 'into', 'insert', 'into', 'insert', 'into', 'insert', 'into', 'insert', 'into', 'insert', 'into', 'insert', 'into', 'insert', 'into', 'into', 'insert', 'into', 'insert', 'into']\n",
      "For Random Generation\n"
     ]
    },
    {
     "ename": "IndexError",
     "evalue": "index 2512 is out of bounds for axis 0 with size 1",
     "output_type": "error",
     "traceback": [
      "\u001b[0;31m---------------------------------------------------------------------------\u001b[0m",
      "\u001b[0;31mIndexError\u001b[0m                                Traceback (most recent call last)",
      "\u001b[0;32m<ipython-input-145-c99814d06680>\u001b[0m in \u001b[0;36m<module>\u001b[0;34m()\u001b[0m\n\u001b[0;32m----> 1\u001b[0;31m \u001b[0mtest_case\u001b[0m\u001b[0;34m(\u001b[0m\u001b[0;34m)\u001b[0m\u001b[0;34m\u001b[0m\u001b[0m\n\u001b[0m",
      "\u001b[0;32m<ipython-input-144-ca3b4d7544be>\u001b[0m in \u001b[0;36mtest_case\u001b[0;34m()\u001b[0m\n\u001b[1;32m     11\u001b[0m \u001b[0;34m\u001b[0m\u001b[0m\n\u001b[1;32m     12\u001b[0m     \u001b[0;32mfor\u001b[0m \u001b[0mi\u001b[0m \u001b[0;32min\u001b[0m \u001b[0msample\u001b[0m\u001b[0;34m:\u001b[0m\u001b[0;34m\u001b[0m\u001b[0m\n\u001b[0;32m---> 13\u001b[0;31m         \u001b[0mprint\u001b[0m\u001b[0;34m(\u001b[0m\u001b[0;34m'Input:'\u001b[0m\u001b[0;34m,\u001b[0m \u001b[0mi\u001b[0m\u001b[0;34m,\u001b[0m \u001b[0;34m'output:'\u001b[0m\u001b[0;34m,\u001b[0m \u001b[0mi\u001b[0m \u001b[0;34m+\u001b[0m \u001b[0;34m\" \"\u001b[0m \u001b[0;34m+\u001b[0m \u001b[0mget_next_random\u001b[0m\u001b[0;34m(\u001b[0m\u001b[0mi\u001b[0m\u001b[0;34m)\u001b[0m\u001b[0;34m)\u001b[0m\u001b[0;34m\u001b[0m\u001b[0m\n\u001b[0m\u001b[1;32m     14\u001b[0m \u001b[0;34m\u001b[0m\u001b[0m\n\u001b[1;32m     15\u001b[0m     \u001b[0;32mfor\u001b[0m \u001b[0mi\u001b[0m \u001b[0;32min\u001b[0m \u001b[0msample\u001b[0m\u001b[0;34m:\u001b[0m\u001b[0;34m\u001b[0m\u001b[0m\n",
      "\u001b[0;32m<ipython-input-54-6d7e72697115>\u001b[0m in \u001b[0;36mget_next_random\u001b[0;34m(inp)\u001b[0m\n\u001b[1;32m     12\u001b[0m     \u001b[0mp\u001b[0m \u001b[0;34m=\u001b[0m \u001b[0mto_np\u001b[0m\u001b[0;34m(\u001b[0m\u001b[0mp\u001b[0m\u001b[0;34m)\u001b[0m\u001b[0;34m[\u001b[0m\u001b[0;36m0\u001b[0m\u001b[0;34m]\u001b[0m\u001b[0;34m\u001b[0m\u001b[0m\n\u001b[1;32m     13\u001b[0m     \u001b[0mpi\u001b[0m \u001b[0;34m=\u001b[0m \u001b[0mp\u001b[0m\u001b[0;34m.\u001b[0m\u001b[0margsort\u001b[0m\u001b[0;34m(\u001b[0m\u001b[0;34m)\u001b[0m\u001b[0;34m[\u001b[0m\u001b[0;34m-\u001b[0m\u001b[0;36m10\u001b[0m\u001b[0;34m:\u001b[0m\u001b[0;34m]\u001b[0m \u001b[0;31m# Sample the 10 most possible token only\u001b[0m\u001b[0;34m\u001b[0m\u001b[0m\n\u001b[0;32m---> 14\u001b[0;31m     \u001b[0mi\u001b[0m \u001b[0;34m=\u001b[0m \u001b[0mnp\u001b[0m\u001b[0;34m.\u001b[0m\u001b[0mrandom\u001b[0m\u001b[0;34m.\u001b[0m\u001b[0mchoice\u001b[0m\u001b[0;34m(\u001b[0m\u001b[0mpi\u001b[0m\u001b[0;34m,\u001b[0m \u001b[0mp\u001b[0m\u001b[0;34m=\u001b[0m\u001b[0msoftmax_np\u001b[0m\u001b[0;34m(\u001b[0m\u001b[0mp\u001b[0m\u001b[0;34m[\u001b[0m\u001b[0mpi\u001b[0m\u001b[0;34m]\u001b[0m\u001b[0;34m)\u001b[0m\u001b[0;34m)\u001b[0m\u001b[0;34m\u001b[0m\u001b[0m\n\u001b[0m\u001b[1;32m     15\u001b[0m     \u001b[0;32mreturn\u001b[0m \u001b[0msql_itos\u001b[0m\u001b[0;34m[\u001b[0m\u001b[0mi\u001b[0m\u001b[0;34m]\u001b[0m\u001b[0;34m\u001b[0m\u001b[0m\n\u001b[1;32m     16\u001b[0m \u001b[0;34m\u001b[0m\u001b[0m\n",
      "\u001b[0;31mIndexError\u001b[0m: index 2512 is out of bounds for axis 0 with size 1"
     ]
    }
   ],
   "source": [
    "test_case()"
   ]
  },
  {
   "cell_type": "code",
   "execution_count": 50,
   "metadata": {},
   "outputs": [
    {
     "data": {
      "application/vnd.jupyter.widget-view+json": {
       "model_id": "61b4032010764838880476f0f1b492aa",
       "version_major": 2,
       "version_minor": 0
      },
      "text/html": [
       "<p>Failed to display Jupyter Widget of type <code>HBox</code>.</p>\n",
       "<p>\n",
       "  If you're reading this message in the Jupyter Notebook or JupyterLab Notebook, it may mean\n",
       "  that the widgets JavaScript is still loading. If this message persists, it\n",
       "  likely means that the widgets JavaScript library is either not installed or\n",
       "  not enabled. See the <a href=\"https://ipywidgets.readthedocs.io/en/stable/user_install.html\">Jupyter\n",
       "  Widgets Documentation</a> for setup instructions.\n",
       "</p>\n",
       "<p>\n",
       "  If you're reading this message in another frontend (for example, a static\n",
       "  rendering on GitHub or <a href=\"https://nbviewer.jupyter.org/\">NBViewer</a>),\n",
       "  it may mean that your frontend doesn't currently support widgets.\n",
       "</p>\n"
      ],
      "text/plain": [
       "HBox(children=(IntProgress(value=0, description='Epoch', max=1), HTML(value='')))"
      ]
     },
     "metadata": {},
     "output_type": "display_data"
    },
    {
     "name": "stdout",
     "output_type": "stream",
     "text": [
      "epoch      trn_loss   val_loss   accuracy                    \n",
      "    0      0.715398   0.639467   0.909927  \n",
      "\n"
     ]
    },
    {
     "data": {
      "text/plain": [
       "[array([0.63947]), 0.9099272468956779]"
      ]
     },
     "execution_count": 50,
     "metadata": {},
     "output_type": "execute_result"
    }
   ],
   "source": [
    "learn.fit(1e-3, 1, cycle_len=1,use_clr_beta = (5,10,0.95,0.85))"
   ]
  },
  {
   "cell_type": "code",
   "execution_count": 51,
   "metadata": {},
   "outputs": [
    {
     "name": "stdout",
     "output_type": "stream",
     "text": [
      "Input: update output: update .\n",
      "Input: select output: select .\n",
      "Input: delete output: delete on\n",
      "Input: insert output: insert (\n",
      "Input: update output: ['update', 'i', '_eos_']\n",
      "Input: select output: ['select', 'top', 'select', 'top', 'select', 'top', 'select', 'top', 'select', 'top', 'select', 'top', 'select', 'top', 'select', 'top', 'select', 'top', '100', '*', 'top', 'select', 'top', 'select', 'top', 'select', 'top', 'select', 'top', 'select', 'top', 'select', 'top', 'select', 'top', '100', '*', 'top', 'select', 'top', 'select', 'top', 'select', 'top', 'select', 'top', 'select', 'top', 'select', 'top', 'select', 'top', '100', '*', 'top', 'select', 'top', 'select', 'top', 'select', 'top', 'select', 'top', 'select', 'top', 'select', 'top', 'select', 'top', '100', '*', 'top', 'select', 'top', 'select', 'top', 'select', 'top', 'select', 'top', 'select', 'top', 'select', 'top', 'select', 'top', '100', '*', 'top', 'select', 'top', 'select', 'top', 'select', 'top', 'select', 'top', 'select', 'top', 'select', 'top', 'select', 'top', '100', '*', 'top', 'select', 'top', 'select', 'top', 'select', 'top', 'select', 'top', 'select', 'top', 'select', 'top', 'select', 'top', '100', '*', 'top', 'select', 'top', 'select', 'top', 'select', 'top', 'select', 'top', 'select', 'top', 'select', 'top', 'select', 'top', '100', '*', 'top', 'select', 'top', 'select', 'top', 'select', 'top', 'select', 'top', 'select', 'top', 'select', 'top', 'select', 'top', '100', '*', 'top', 'select', 'top', 'select', 'top', 'select', 'top', 'select', 'top', 'select', 'top', 'select', 'top', 'select', 'top', '100', '*', 'top', 'select', 'top', 'select', 'top', 'select', 'top', 'select', 'top', 'select', 'top', 'select', 'top', 'select', 'top', '100', '*', 'top', 'select', 'top', 'select', 'top', 'select', 'top', 'select', 'top', 'select', 'top', 'select', 'top', 'select', 'top', '100', '*', 'top', 'select', 'top', 'select', 'top', 'select', 'top', 'select', 'top', 'select', 'top', 'select', 'top', 'select', 'top', '100', '*', 'top', 'select', 'top', 'select', 'top', 'select', 'top', 'select', 'top', 'select', 'top', 'select', 'top', 'select', 'top', '100', '*', 'top', 'select', 'top', 'select', 'top', 'select', 'top', 'select', 'top', 'select', 'top', 'select', 'top', 'select', 'top', '100', '*', 'top', 'select', 'top', 'select', 'top', 'select', 'top', 'select', 'top', 'select', 'top', 'select', 'top', 'select', 'top', '100', '*', 'top', 'select', 'top', 'select', 'top', 'select', 'top', 'select', 'top', 'select', 'top', 'select', 'top', 'select', 'top', '100', '*', 'top', 'select', 'top', 'select', 'top', 'select', 'top', 'select', 'top', 'select', 'top', 'select', 'top', 'select', 'top', '100', '*', 'top', 'select', 'top', 'select', 'top', 'select', 'top', 'select', 'top', 'select', 'top', 'select', 'top', 'select', 'top', '100', '*', 'top', 'select', 'top', 'select', 'top', 'select', 'top', 'select', 'top', 'select', 'top', 'select', 'top', 'select', 'top', '100', '*', 'top', 'select', 'top', 'select', 'top', 'select', 'top', 'select', 'top', 'select', 'top', 'select', 'top', 'select', 'top', '100', '*', 'top', 'select', 'top', 'select', 'top', 'select', 'top', 'select', 'top', 'select', 'top', 'select', 'top', 'select', 'top', '100', '*', 'top', 'select', 'top', 'select', 'top', 'select', 'top', 'select', 'top', 'select', 'top', 'select', 'top', 'select', 'top', '100', '*', 'top', 'select', 'top', 'select', 'top', 'select', 'top', 'select', 'top', 'select', 'top', 'select', 'top', 'select', 'top', '100', '*', 'top', 'select', 'top', 'select', 'top', 'select', 'top', 'select', 'top', 'select', 'top', 'select', 'top', 'select', 'top', '100', '*', 'top', 'select', 'top', 'select', 'top', 'select', 'top', 'select', 'top', 'select', 'top', 'select', 'top', 'select', 'top', '100', '*', 'top', 'select', 'top', 'select', 'top', 'select', 'top', 'select', 'top', 'select', 'top', 'select', 'top', 'select', 'top', '100', '*', 'top', 'select', 'top', 'select', 'top', 'select', 'top', 'select', 'top', 'select', 'top', 'select', 'top', 'select', 'top', '100', '*', 'top', 'select', 'top', 'select', 'top', 'select', 'top', 'select', 'top', 'select', 'top', 'select', 'top', 'select', 'top', '100', '*', 'top', 'select', 'top', 'select', 'top', 'select']\n",
      "Input: insert output: ['insert', 'top', 'insert', 'into', 'insert', 'into', 'insert', 'into', 'into', 'into', 'into', 'into', 'into', 'into', 'into', 'into', 'into', 'into', 'into', 'into', 'into', 'into', 'into', 'into', 'into', 'denominational', 'denominational', 'denominational', 'denominational', 'denominational', 'let', 'let', 'let', 'let', '341750', 'let', '5433425', '5433425', '5433425', 'acceptcounts', 'into', 'into', 's', 'v', '.', 'score', '>', '=', 'q', '.', 'id', '=', 'posttags', '.', 'postid', 'left', 'join', 'posttypes', 'on', 'votes', 'v', '.', 'score', '>', '=', 'q', '.', 'id', '=', 'posttags', '.', 'postid', 'left', 'join', 'posttypes', 'on', 'votes', 'v', '.', 'score', '>', '=', 'q', '.', 'id', '=', 'posttags', '.', 'postid', 'left', 'join', 'posttypes', 'on', 'votes', 'v', '.', 'score', '>', '=', 'q', '.', 'id', '=', 'posttags', '.', 'postid', 'left', 'join', 'posttypes', 'on', 'votes', 'v', '.', 'score', '>', '=', 'q', '.', 'id', '=', 'posttags', '.', 'postid', 'left', 'join', 'posttypes', 'on', 'votes', 'v', '.', 'score', '>', '=', 'q', '.', 'id', '=', 'posttags', '.', 'postid', 'left', 'join', 'posttypes', 'on', 'votes', 'v', '.', 'score', '>', '=', 'q', '.', 'id', '=', 'posttags', '.', 'postid', 'left', 'join', 'posttypes', 'on', 'votes', 'v', '.', 'score', '>', '=', 'q', '.', 'id', '=', 'posttags', '.', 'postid', 'left', 'join', 'posttypes', 'on', 'votes', 'v', '.', 'score', '>', '=', 'q', '.', 'id', '=', 'posttags', '.', 'postid', 'left', 'join', 'posttypes', 'on', 'votes', 'v', '.', 'score', '>', '=', 'q', '.', 'id', '=', 'posttags', '.', 'postid', 'left', 'join', 'posttypes', 'on', 'votes', 'v', '.', 'score', '>', '=', 'q', '.', 'id', '=', 'posttags', '.', 'postid', 'left', 'join', 'posttypes', 'on', 'votes', 'v', '.', 'score', '>', '=', 'q', '.', 'id', '=', 'posttags', '.', 'postid', 'left', 'join', 'posttypes', 'on', 'votes', 'v', '.', 'score', '>', '=', 'q', '.', 'id', '=', 'posttags', '.', 'postid', 'left', 'join', 'posttypes', 'on', 'votes', 'v', '.', 'score', '>', '=', 'q', '.', 'id', '=', 'posttags', '.', 'postid', 'left', 'join', 'posttypes', 'on', 'votes', 'v', '.', 'score', '>', '=', 'q', '.', 'id', '=', 'posttags', '.', 'postid', 'left', 'join', 'posttypes', 'on', 'votes', 'v', '.', 'score', '>', '=', 'q', '.', 'id', '=', 'posttags', '.', 'postid', 'left', 'join', 'posttypes', 'on', 'votes', 'v', '.', 'score', '>', '=', 'q', '.', 'id', '=', 'posttags', '.', 'postid', 'left', 'join', 'posttypes', 'on', 'votes', 'v', '.', 'score', '>', '=', 'q', '.', 'id', '=', 'posttags', '.', 'postid', 'left', 'join', 'posttypes', 'on', 'votes', 'v', '.', 'score', '>', '=', 'q', '.', 'id', '=', 'posttags', '.', 'postid', 'left', 'join', 'posttypes', 'on', 'votes', 'v', '.', 'score', '>', '=', 'q', '.', 'id', '=', 'posttags', '.', 'postid', 'left', 'join', 'posttypes', 'on', 'votes', 'v', '.', 'score', '>', '=', 'q', '.', 'id', '=', 'posttags', '.', 'postid', 'left', 'join', 'posttypes', 'on', 'votes', 'v', '.', 'score', '>', '=', 'q', '.', 'id', '=', 'posttags', '.', 'postid', 'left', 'join', 'posttypes', 'on', 'votes', 'v', '.', 'score', '>', '=', 'q', '.', 'id', '=', 'posttags', '.', 'postid', 'left', 'join', 'posttypes', 'on', 'votes', 'v', '.', 'score', '>', '=', 'q', '.', 'id', '=', 'posttags', '.', 'postid', 'left', 'join', 'posttypes', 'on', 'votes', 'v', '.', 'score', '>', '=', 'q', '.', 'id', '=', 'posttags', '.', 'postid', 'left', 'join', 'posttypes', 'on', 'votes', 'v', '.', 'score', '>', '=', 'q', '.', 'id', '=', 'posttags', '.', 'postid', 'left', 'join', 'posttypes', 'on', 'votes', 'v', '.', 'score', '>', '=', 'q', '.', 'id', '=', 'posttags', '.', 'postid', 'left', 'join', 'posttypes', 'on', 'votes']\n",
      "Input: delete output: ['delete', 'v', 'on', 'p', '.', 'postid', '=', 'p', '.', 'postid', '=', 'p', '.', 'postid', '=', 'p', '.', 'postid', '=', 'on', 'p', '.', 'postid', '=', 'p', '.', 'postid', '=', 'p', '.', 'postid', '=', 'p', '.', 'postid', '=', 'on', 'p', '.', 'postid', '=', 'p', '.', 'postid', '=', 'p', '.', 'postid', '=', 'p', '.', 'postid', '=', 'on', 'p', '.', 'postid', '=', 'p', '.', 'postid', '=', 'p', '.', 'postid', '=', 'p', '.', 'postid', '=', 'on', 'p', '.', 'postid', '=', 'p', '.', 'postid', '=', 'p', '.', 'postid', '=', 'p', '.', 'postid', '=', 'on', 'p', '.', 'postid', '=', 'p', '.', 'postid', '=', 'p', '.', 'postid', '=', 'p', '.', 'postid', '=', 'on', 'p', '.', 'postid', '=', 'p', '.', 'postid', '=', 'p', '.', 'postid', '=', 'p', '.', 'postid', '=', 'on', 'p', '.', 'postid', '=', 'p', '.', 'postid', '=', 'p', '.', 'postid', '=', 'p', '.', 'postid', '=', 'on', 'p', '.', 'postid', '=', 'p', '.', 'postid', '=', 'p', '.', 'postid', '=', 'p', '.', 'postid', '=', 'on', 'p', '.', 'postid', '=', 'p', '.', 'postid', '=', 'p', '.', 'postid', '=', 'p', '.', 'postid', '=', 'on', 'p', '.', 'postid', '=', 'p', '.', 'postid', '=', 'p', '.', 'postid', '=', 'p', '.', 'postid', '=', 'on', 'p', '.', 'postid', '=', 'p', '.', 'postid', '=', 'p', '.', 'postid', '=', 'p', '.', 'postid', '=', 'on', 'p', '.', 'postid', '=', 'p', '.', 'postid', '=', 'p', '.', 'postid', '=', 'p', '.', 'postid', '=', 'on', 'p', '.', 'postid', '=', 'p', '.', 'postid', '=', 'p', '.', 'postid', '=', 'p', '.', 'postid', '=', 'on', 'p', '.', 'postid', '=', 'p', '.', 'postid', '=', 'p', '.', 'postid', '=', 'p', '.', 'postid', '=', 'on', 'p', '.', 'postid', '=', 'p', '.', 'postid', '=', 'p', '.', 'postid', '=', 'p', '.', 'postid', '=', 'on', 'p', '.', 'postid', '=', 'p', '.', 'postid', '=', 'p', '.', 'postid', '=', 'p', '.', 'postid', '=', 'on', 'p', '.', 'postid', '=', 'p', '.', 'postid', '=', 'p', '.', 'postid', '=', 'p', '.', 'postid', '=', 'on', 'p', '.', 'postid', '=', 'p', '.', 'postid', '=', 'p', '.', 'postid', '=', 'p', '.', 'postid', '=', 'on', 'p', '.', 'postid', '=', 'p', '.', 'postid', '=', 'p', '.', 'postid', '=', 'p', '.', 'postid', '=', 'on', 'p', '.', 'postid', '=', 'p', '.', 'postid', '=', 'p', '.', 'postid', '=', 'p', '.', 'postid', '=', 'on', 'p', '.', 'postid', '=', 'p', '.', 'postid', '=', 'p', '.', 'postid', '=', 'p', '.', 'postid', '=', 'on', 'p', '.', 'postid', '=', 'p', '.', 'postid', '=', 'p', '.', 'postid', '=', 'p', '.', 'postid', '=', 'on', 'p', '.', 'postid', '=', 'p', '.', 'postid', '=', 'p', '.', 'postid', '=', 'p', '.', 'postid', '=', 'on', 'p', '.', 'postid', '=', 'p', '.', 'postid', '=', 'p', '.', 'postid', '=', 'p', '.', 'postid', '=', 'on', 'p', '.', 'postid', '=', 'p', '.', 'postid', '=', 'p', '.', 'postid', '=', 'p', '.', 'postid', '=', 'on', 'p', '.', 'postid', '=', 'p', '.', 'postid', '=', 'p', '.', 'postid', '=', 'p', '.', 'postid', '=', 'on', 'p', '.', 'postid', '=', 'p', '.', 'postid', '=', 'p', '.', 'postid', '=', 'p', '.', 'postid', '=', 'on', 'p', '.', 'postid', '=', 'p', '.', 'postid', '=', 'p', '.', 'postid', '=', 'p', '.', 'postid', '=', 'on', 'p', '.', 'postid', '=', 'p', '.']\n"
     ]
    }
   ],
   "source": [
    "test_case()"
   ]
  },
  {
   "cell_type": "code",
   "execution_count": 52,
   "metadata": {},
   "outputs": [
    {
     "data": {
      "application/vnd.jupyter.widget-view+json": {
       "model_id": "5e2e7155189043aaab15d9d5216184cc",
       "version_major": 2,
       "version_minor": 0
      },
      "text/html": [
       "<p>Failed to display Jupyter Widget of type <code>HBox</code>.</p>\n",
       "<p>\n",
       "  If you're reading this message in the Jupyter Notebook or JupyterLab Notebook, it may mean\n",
       "  that the widgets JavaScript is still loading. If this message persists, it\n",
       "  likely means that the widgets JavaScript library is either not installed or\n",
       "  not enabled. See the <a href=\"https://ipywidgets.readthedocs.io/en/stable/user_install.html\">Jupyter\n",
       "  Widgets Documentation</a> for setup instructions.\n",
       "</p>\n",
       "<p>\n",
       "  If you're reading this message in another frontend (for example, a static\n",
       "  rendering on GitHub or <a href=\"https://nbviewer.jupyter.org/\">NBViewer</a>),\n",
       "  it may mean that your frontend doesn't currently support widgets.\n",
       "</p>\n"
      ],
      "text/plain": [
       "HBox(children=(IntProgress(value=0, description='Epoch', max=3), HTML(value='')))"
      ]
     },
     "metadata": {},
     "output_type": "display_data"
    },
    {
     "name": "stdout",
     "output_type": "stream",
     "text": [
      "epoch      trn_loss   val_loss   accuracy                    \n",
      "    0      0.528536   0.482446   0.930122  \n",
      "    1      0.382462   0.382661   0.943244                    \n",
      "    2      0.320223   0.360264   0.947257                    \n",
      "\n"
     ]
    },
    {
     "data": {
      "text/plain": [
       "[array([0.36026]), 0.9472570996613492]"
      ]
     },
     "execution_count": 52,
     "metadata": {},
     "output_type": "execute_result"
    }
   ],
   "source": [
    "learn.fit(1e-3, 1, cycle_len=3,use_clr_beta = (5,10,0.95,0.85))"
   ]
  },
  {
   "cell_type": "code",
   "execution_count": 55,
   "metadata": {},
   "outputs": [
    {
     "name": "stdout",
     "output_type": "stream",
     "text": [
      "Input: update output: update cross\n",
      "Input: select output: select on\n",
      "Input: delete output: delete on\n",
      "Input: insert output: insert d\n",
      "Input: update output: ['update', 'i', 'update', 'update', 'update', 'update', 'update', 'update', 'update', 'update', 'update', 'update', 'update', 'update', 'update', 'update', 'update', 'update', 'i', 'update', 'update', 'update', 'update', 'update', 'update', 'update', 'update', 'update', 'update', 'update', 'update', 'update', 'update', 'update', 'update', 'i', 'update', 'update', 'update', 'update', 'update', 'update', 'update', 'update', 'update', 'update', 'update', 'update', 'update', 'update', 'update', 'update', 'i', 'update', 'update', 'update', 'update', 'update', 'update', 'update', 'update', 'update', 'update', 'update', 'update', 'update', 'update', 'update', 'update', 'i', 'update', 'update', 'update', 'update', 'update', 'update', 'update', 'update', 'update', 'update', 'update', 'update', 'update', 'update', 'update', 'update', 'i', 'update', 'update', 'update', 'update', 'update', 'update', 'update', 'update', 'update', 'update', 'update', 'update', 'update', 'update', 'update', 'update', 'i', 'update', 'update', 'update', 'update', 'update', 'update', 'update', 'update', 'update', 'update', 'update', 'update', 'update', 'update', 'update', 'update', 'i', 'update', 'update', 'update', 'update', 'update', 'update', 'update', 'update', 'update', 'update', 'update', 'update', 'update', 'update', 'update', 'update', 'i', 'update', 'update', 'update', 'update', 'update', 'update', 'update', 'update', 'update', 'update', 'update', 'update', 'update', 'update', 'update', 'update', 'i', 'update', 'update', 'update', 'update', 'update', 'update', 'update', 'update', 'update', 'update', 'update', 'update', 'update', 'update', 'update', 'update', 'i', 'update', 'update', 'update', 'update', 'update', 'update', 'update', 'update', 'update', 'update', 'update', 'update', 'update', 'update', 'update', 'update', 'i', 'update', 'update', 'update', 'update', 'update', 'update', 'update', 'update', 'update', 'update', 'update', 'update', 'update', 'update', 'update', 'update', 'i', 'update', 'update', 'update', 'update', 'update', 'update', 'update', 'update', 'update', 'update', 'update', 'update', 'update', 'update', 'update', 'update', 'i', 'update', 'update', 'update', 'update', 'update', 'update', 'update', 'update', 'update', 'update', 'update', 'update', 'update', 'update', 'update', 'update', 'i', 'update', 'update', 'update', 'update', 'update', 'update', 'update', 'update', 'update', 'update', 'update', 'update', 'update', 'update', 'update', 'update', 'i', 'update', 'update', 'update', 'update', 'update', 'update', 'update', 'update', 'update', 'update', 'update', 'update', 'update', 'update', 'update', 'update', 'i', 'update', 'update', 'update', 'update', 'update', 'update', 'update', 'update', 'update', 'update', 'update', 'update', 'update', 'update', 'update', 'update', 'i', 'update', 'update', 'update', 'update', 'update', 'update', 'update', 'update', 'update', 'update', 'update', 'update', 'update', 'update', 'update', 'update', 'i', 'update', 'update', 'update', 'update', 'update', 'update', 'update', 'update', 'update', 'update', 'update', 'update', 'update', 'update', 'update', 'update', 'i', 'update', 'update', 'update', 'update', 'update', 'update', 'update', 'update', 'update', 'update', 'update', 'update', 'update', 'update', 'update', 'update', 'i', 'update', 'update', 'update', 'update', 'update', 'update', 'update', 'update', 'update', 'update', 'update', 'update', 'update', 'update', 'update', 'update', 'i', 'update', 'update', 'update', 'update', 'update', 'update', 'update', 'update', 'update', 'update', 'update', 'update', 'update', 'update', 'update', 'update', 'i', 'update', 'update', 'update', 'update', 'update', 'update', 'update', 'update', 'update', 'update', 'update', 'update', 'update', 'update', 'update', 'update', 'i', 'update', 'update', 'update', 'update', 'update', 'update', 'update', 'update', 'update', 'update', 'update', 'update', 'update', 'update', 'update', 'update', 'i', 'update', 'update', 'update', 'update', 'update', 'update', 'update', 'update', 'update', 'update', 'update', 'update', 'update', 'update', 'update', 'update', 'i', 'update', 'update', 'update', 'update', 'update', 'update', 'update', 'update', 'update', 'update', 'update', 'update', 'update', 'update', 'update', 'update', 'i', 'update', 'update', 'update', 'update', 'update', 'update', 'update', 'update', 'update', 'update', 'update', 'update', 'update', 'update', 'update', 'update', 'i', 'update', 'update', 'update', 'update', 'update', 'update', 'update', 'update', 'update', 'update', 'update', 'update', 'update', 'update', 'update', 'update', 'i', 'update', 'update', 'update', 'update', 'update', 'update', 'update', 'update', 'update', 'update', 'update', 'update', 'update', 'update', 'update', 'update', 'i', 'update', 'update', 'update', 'update', 'update', 'update', 'update']\n",
      "Input: select output: ['select', 'count', '(', '*', ')', 'as', '[', 'rep', ']', ',', 'count', '(', '*', ')', 'as', '[', 'rep', ']', ',', '(', '*', ')', 'as', '[', 'rep', ']', ',', 'count', '(', '*', ')', 'as', '[', 'rep', ']', ',', '(', '*', ')', 'as', '[', 'rep', ']', ',', 'count', '(', '*', ')', 'as', '[', 'rep', ']', ',', '(', '*', ')', 'as', '[', 'rep', ']', ',', 'count', '(', '*', ')', 'as', '[', 'rep', ']', ',', '(', '*', ')', 'as', '[', 'rep', ']', ',', 'count', '(', '*', ')', 'as', '[', 'rep', ']', ',', '(', '*', ')', 'as', '[', 'rep', ']', ',', 'count', '(', '*', ')', 'as', '[', 'rep', ']', ',', '(', '*', ')', 'as', '[', 'rep', ']', ',', 'count', '(', '*', ')', 'as', '[', 'rep', ']', ',', '(', '*', ')', 'as', '[', 'rep', ']', ',', 'count', '(', '*', ')', 'as', '[', 'rep', ']', ',', '(', '*', ')', 'as', '[', 'rep', ']', ',', 'count', '(', '*', ')', 'as', '[', 'rep', ']', ',', '(', '*', ')', 'as', '[', 'rep', ']', ',', 'count', '(', '*', ')', 'as', '[', 'rep', ']', ',', '(', '*', ')', 'as', '[', 'rep', ']', ',', 'count', '(', '*', ')', 'as', '[', 'rep', ']', ',', '(', '*', ')', 'as', '[', 'rep', ']', ',', 'count', '(', '*', ')', 'as', '[', 'rep', ']', ',', '(', '*', ')', 'as', '[', 'rep', ']', ',', 'count', '(', '*', ')', 'as', '[', 'rep', ']', ',', '(', '*', ')', 'as', '[', 'rep', ']', ',', 'count', '(', '*', ')', 'as', '[', 'rep', ']', ',', '(', '*', ')', 'as', '[', 'rep', ']', ',', 'count', '(', '*', ')', 'as', '[', 'rep', ']', ',', '(', '*', ')', 'as', '[', 'rep', ']', ',', 'count', '(', '*', ')', 'as', '[', 'rep', ']', ',', '(', '*', ')', 'as', '[', 'rep', ']', ',', 'count', '(', '*', ')', 'as', '[', 'rep', ']', ',', '(', '*', ')', 'as', '[', 'rep', ']', ',', 'count', '(', '*', ')', 'as', '[', 'rep', ']', ',', '(', '*', ')', 'as', '[', 'rep', ']', ',', 'count', '(', '*', ')', 'as', '[', 'rep', ']', ',', '(', '*', ')', 'as', '[', 'rep', ']', ',', 'count', '(', '*', ')', 'as', '[', 'rep', ']', ',', '(', '*', ')', 'as', '[', 'rep', ']', ',', 'count', '(', '*', ')', 'as', '[', 'rep', ']', ',', '(', '*', ')', 'as', '[', 'rep', ']', ',', 'count', '(', '*', ')', 'as', '[', 'rep', ']', ',', '(', '*', ')', 'as', '[', 'rep', ']', ',', 'count', '(', '*', ')', 'as', '[', 'rep', ']', ',', '(', '*', ')', 'as', '[', 'rep', ']', ',', 'count', '(', '*', ')', 'as', '[', 'rep', ']', ',', '(', '*', ')', 'as', '[', 'rep', ']', ',', 'count', '(', '*', ')', 'as', '[', 'rep', ']', ',', '(', '*', ')', 'as', '[', 'rep', ']', ',', 'count', '(', '*', ')', 'as', '[', 'rep', ']', ',', '(', '*', ')', 'as', '[', 'rep', ']', ',', 'count', '(', '*', ')', 'as', '[', 'rep', ']', ',', '(', '*', ')', 'as', '[', 'rep', ']', ',', 'count', '(', '*', ')', 'as', '[', 'rep', ']', ',', '(', '*', ')', 'as', '[', 'rep', ']', ',', 'count', '(', '*', ')', 'as', '[', 'rep', ']', ',', '(', '*', ')', 'as', '[', 'rep', ']']\n",
      "Input: insert output: ['insert', ',', 'insert', 'into', 'insert', 'insert', 'into', 'insert', 'insert', 'into', 'insert', 'insert', 'into', 'insert', 'insert', 'into', 'insert', 'insert', 'into', 'insert', 'into', 'insert', 'into', 'into', 'insert', 'into', 'into', 'insert', 'into', 'into', 'insert', 'into', 'into', 'insert', 'into', 'into', 'insert', 'into', 'insert', 'into', 'into', 'insert', 'into', 'into', 'insert', 'into', 'into', 'insert', 'into', 'into', 'insert', 'into', 'into', 'insert', 'into', 'insert', 'into', 'into', 'insert', 'into', 'into', 'insert', 'into', 'into', 'insert', 'into', 'into', 'insert', 'into', 'into', 'insert', 'into', 'insert', 'into', 'into', 'insert', 'into', 'into', 'insert', 'into', 'into', 'insert', 'into', 'into', 'insert', 'into', 'into', 'insert', 'into', 'insert', 'into', 'into', 'insert', 'into', 'into', 'insert', 'into', 'into', 'insert', 'into', 'into', 'insert', 'into', 'into', 'insert', 'into', 'insert', 'into', 'into', 'insert', 'into', 'into', 'insert', 'into', 'into', 'insert', 'into', 'into', 'insert', 'into', 'into', 'insert', 'into', 'insert', 'into', 'into', 'insert', 'into', 'into', 'insert', 'into', 'into', 'insert', 'into', 'into', 'insert', 'into', 'into', 'insert', 'into', 'insert', 'into', 'into', 'insert', 'into', 'into', 'insert', 'into', 'into', 'insert', 'into', 'into', 'insert', 'into', 'into', 'insert', 'into', 'insert', 'into', 'into', 'insert', 'into', 'into', 'insert', 'into', 'into', 'insert', 'into', 'into', 'insert', 'into', 'into', 'insert', 'into', 'insert', 'into', 'into', 'insert', 'into', 'into', 'insert', 'into', 'into', 'insert', 'into', 'into', 'insert', 'into', 'into', 'insert', 'into', 'insert', 'into', 'into', 'insert', 'into', 'into', 'insert', 'into', 'into', 'insert', 'into', 'into', 'insert', 'into', 'into', 'insert', 'into', 'insert', 'into', 'into', 'insert', 'into', 'into', 'insert', 'into', 'into', 'insert', 'into', 'into', 'insert', 'into', 'into', 'insert', 'into', 'insert', 'into', 'into', 'insert', 'into', 'into', 'insert', 'into', 'into', 'insert', 'into', 'into', 'insert', 'into', 'into', 'insert', 'into', 'insert', 'into', 'into', 'insert', 'into', 'into', 'insert', 'into', 'into', 'insert', 'into', 'into', 'insert', 'into', 'into', 'insert', 'into', 'insert', 'into', 'into', 'insert', 'into', 'into', 'insert', 'into', 'into', 'insert', 'into', 'into', 'insert', 'into', 'into', 'insert', 'into', 'insert', 'into', 'into', 'insert', 'into', 'into', 'insert', 'into', 'into', 'insert', 'into', 'into', 'insert', 'into', 'into', 'insert', 'into', 'insert', 'into', 'into', 'insert', 'into', 'into', 'insert', 'into', 'into', 'insert', 'into', 'into', 'insert', 'into', 'into', 'insert', 'into', 'insert', 'into', 'into', 'insert', 'into', 'into', 'insert', 'into', 'into', 'insert', 'into', 'into', 'insert', 'into', 'into', 'insert', 'into', 'insert', 'into', 'into', 'insert', 'into', 'into', 'insert', 'into', 'into', 'insert', 'into', 'into', 'insert', 'into', 'into', 'insert', 'into', 'insert', 'into', 'into', 'insert', 'into', 'into', 'insert', 'into', 'into', 'insert', 'into', 'into', 'insert', 'into', 'into', 'insert', 'into', 'insert', 'into', 'into', 'insert', 'into', 'into', 'insert', 'into', 'into', 'insert', 'into', 'into', 'insert', 'into', 'into', 'insert', 'into', 'insert', 'into', 'into', 'insert', 'into', 'into', 'insert', 'into', 'into', 'insert', 'into', 'into', 'insert', 'into', 'into', 'insert', 'into', 'insert', 'into', 'into', 'insert', 'into', 'into', 'insert', 'into', 'into', 'insert', 'into', 'into', 'insert', 'into', 'into', 'insert', 'into', 'insert', 'into', 'into', 'insert', 'into', 'into', 'insert', 'into', 'into', 'insert', 'into', 'into', 'insert', 'into', 'into', 'insert', 'into', 'insert', 'into', 'into', 'insert', 'into', 'into', 'insert', 'into', 'into', 'insert', 'into', 'into', 'insert', 'into', 'into', 'insert', 'into', 'insert', 'into', 'into', 'insert', 'into', 'into', 'insert', 'into', 'into', 'insert', 'into', 'into', 'insert', 'into', 'into', 'insert', 'into', 'insert', 'into', 'into', 'insert', 'into', 'into', 'insert', 'into', 'into', 'insert', 'into', 'into', 'insert', 'into', 'into', 'insert', 'into', 'insert', 'into', 'into', 'insert', 'into', 'into', 'insert', 'into', 'into', 'insert', 'into', 'into', 'insert', 'into', 'into', 'insert', 'into', 'insert', 'into', 'into', 'insert', 'into']\n"
     ]
    },
    {
     "name": "stdout",
     "output_type": "stream",
     "text": [
      "Input: delete output: ['delete', 'into', 'into', 'delete', 'delete', 'delete', 'delete', 'delete', 'delete', 'delete', 'delete', 'delete', 'delete', 'delete', 'delete', 'delete', 'delete', 'delete', 'into', 'into', 'delete', 'delete', 'delete', 'delete', 'delete', 'delete', 'delete', 'delete', 'delete', 'delete', 'delete', 'delete', 'delete', 'delete', 'delete', 'into', 'into', 'delete', 'delete', 'delete', 'delete', 'delete', 'delete', 'delete', 'delete', 'delete', 'delete', 'delete', 'delete', 'delete', 'delete', 'delete', 'into', 'into', 'delete', 'delete', 'delete', 'delete', 'delete', 'delete', 'delete', 'delete', 'delete', 'delete', 'delete', 'delete', 'delete', 'delete', 'delete', 'into', 'into', 'delete', 'delete', 'delete', 'delete', 'delete', 'delete', 'delete', 'delete', 'delete', 'delete', 'delete', 'delete', 'delete', 'delete', 'delete', 'into', 'into', 'delete', 'delete', 'delete', 'delete', 'delete', 'delete', 'delete', 'delete', 'delete', 'delete', 'delete', 'delete', 'delete', 'delete', 'delete', 'into', 'into', 'delete', 'delete', 'delete', 'delete', 'delete', 'delete', 'delete', 'delete', 'delete', 'delete', 'delete', 'delete', 'delete', 'delete', 'delete', 'into', 'into', 'delete', 'delete', 'delete', 'delete', 'delete', 'delete', 'delete', 'delete', 'delete', 'delete', 'delete', 'delete', 'delete', 'delete', 'delete', 'into', 'into', 'delete', 'delete', 'delete', 'delete', 'delete', 'delete', 'delete', 'delete', 'delete', 'delete', 'delete', 'delete', 'delete', 'delete', 'delete', 'into', 'into', 'delete', 'delete', 'delete', 'delete', 'delete', 'delete', 'delete', 'delete', 'delete', 'delete', 'delete', 'delete', 'delete', 'delete', 'delete', 'into', 'into', 'delete', 'delete', 'delete', 'delete', 'delete', 'delete', 'delete', 'delete', 'delete', 'delete', 'delete', 'delete', 'delete', 'delete', 'delete', 'into', 'into', 'delete', 'delete', 'delete', 'delete', 'delete', 'delete', 'delete', 'delete', 'delete', 'delete', 'delete', 'delete', 'delete', 'delete', 'delete', 'into', 'into', 'delete', 'delete', 'delete', 'delete', 'delete', 'delete', 'delete', 'delete', 'delete', 'delete', 'delete', 'delete', 'delete', 'delete', 'delete', 'into', 'into', 'delete', 'delete', 'delete', 'delete', 'delete', 'delete', 'delete', 'delete', 'delete', 'delete', 'delete', 'delete', 'delete', 'delete', 'delete', 'into', 'into', 'delete', 'delete', 'delete', 'delete', 'delete', 'delete', 'delete', 'delete', 'delete', 'delete', 'delete', 'delete', 'delete', 'delete', 'delete', 'into', 'into', 'delete', 'delete', 'delete', 'delete', 'delete', 'delete', 'delete', 'delete', 'delete', 'delete', 'delete', 'delete', 'delete', 'delete', 'delete', 'into', 'into', 'delete', 'delete', 'delete', 'delete', 'delete', 'delete', 'delete', 'delete', 'delete', 'delete', 'delete', 'delete', 'delete', 'delete', 'delete', 'into', 'into', 'delete', 'delete', 'delete', 'delete', 'delete', 'delete', 'delete', 'delete', 'delete', 'delete', 'delete', 'delete', 'delete', 'delete', 'delete', 'into', 'into', 'delete', 'delete', 'delete', 'delete', 'delete', 'delete', 'delete', 'delete', 'delete', 'delete', 'delete', 'delete', 'delete', 'delete', 'delete', 'into', 'into', 'delete', 'delete', 'delete', 'delete', 'delete', 'delete', 'delete', 'delete', 'delete', 'delete', 'delete', 'delete', 'delete', 'delete', 'delete', 'into', 'into', 'delete', 'delete', 'delete', 'delete', 'delete', 'delete', 'delete', 'delete', 'delete', 'delete', 'delete', 'delete', 'delete', 'delete', 'delete', 'into', 'into', 'delete', 'delete', 'delete', 'delete', 'delete', 'delete', 'delete', 'delete', 'delete', 'delete', 'delete', 'delete', 'delete', 'delete', 'delete', 'into', 'into', 'delete', 'delete', 'delete', 'delete', 'delete', 'delete', 'delete', 'delete', 'delete', 'delete', 'delete', 'delete', 'delete', 'delete', 'delete', 'into', 'into', 'delete', 'delete', 'delete', 'delete', 'delete', 'delete', 'delete', 'delete', 'delete', 'delete', 'delete', 'delete', 'delete', 'delete', 'delete', 'into', 'into', 'delete', 'delete', 'delete', 'delete', 'delete', 'delete', 'delete', 'delete', 'delete', 'delete', 'delete', 'delete', 'delete', 'delete', 'delete', 'into', 'into', 'delete', 'delete', 'delete', 'delete', 'delete', 'delete', 'delete', 'delete', 'delete', 'delete', 'delete', 'delete', 'delete', 'delete', 'delete', 'into', 'into', 'delete', 'delete', 'delete', 'delete', 'delete', 'delete', 'delete', 'delete', 'delete', 'delete', 'delete', 'delete', 'delete', 'delete', 'delete', 'into', 'into', 'delete', 'delete', 'delete', 'delete', 'delete', 'delete', 'delete', 'delete', 'delete', 'delete', 'delete', 'delete', 'delete', 'delete', 'delete', 'into', 'into', 'delete', 'delete', 'delete', 'delete', 'delete', 'delete', 'delete', 'delete', 'delete', 'delete', 'delete', 'delete', 'delete', 'delete', 'delete', 'into', 'into', 'delete', 'delete', 'delete', 'delete', 'delete', 'delete']\n"
     ]
    }
   ],
   "source": [
    "test_case()"
   ]
  },
  {
   "cell_type": "code",
   "execution_count": 146,
   "metadata": {},
   "outputs": [],
   "source": [
    "tmp = iter(md.trn_dl)\n",
    "*xxs,yt = next(tmp)\n",
    "\n",
    "yt.shape"
   ]
  },
  {
   "cell_type": "markdown",
   "metadata": {
    "ExecuteTime": {
     "end_time": "2018-04-22T10:37:35.735503Z",
     "start_time": "2018-04-22T10:37:35.483954Z"
    }
   },
   "source": [
    "## Test Sentence"
   ]
  },
  {
   "cell_type": "code",
   "execution_count": 263,
   "metadata": {},
   "outputs": [
    {
     "name": "stdout",
     "output_type": "stream",
     "text": [
      "Input: update output: update as\n",
      "Input: select output: select t\n",
      "Input: delete output: delete on\n",
      "Input: insert output: insert d\n",
      "Input: update output: ['update', 'i', 'update', 'update', 'update', 'update', 'update', 'update', 'update', 'update', 'update', 'update', 'update', 'update', 'update', 'update', 'update', 'update', 'i', 'update', 'update', 'update', 'update', 'update', 'update', 'update', 'update', 'update', 'update', 'update', 'update', 'update', 'update', 'update', 'update', 'i', 'update', 'update', 'update', 'update', 'update', 'update', 'update', 'update', 'update', 'update', 'update', 'update', 'update', 'update', 'update', 'update', 'i', 'update', 'update', 'update', 'update', 'update', 'update', 'update', 'update', 'update', 'update', 'update', 'update', 'update', 'update', 'update', 'update', 'i', 'update', 'update', 'update', 'update', 'update', 'update', 'update', 'update', 'update', 'update', 'update', 'update', 'update', 'update', 'update', 'update', 'i', 'update', 'update', 'update', 'update', 'update', 'update', 'update', 'update', 'update', 'update', 'update', 'update', 'update', 'update', 'update', 'update', 'i', 'update', 'update', 'update', 'update', 'update', 'update', 'update', 'update', 'update', 'update', 'update', 'update', 'update', 'update', 'update', 'update', 'i', 'update', 'update', 'update', 'update', 'update', 'update', 'update', 'update', 'update', 'update', 'update', 'update', 'update', 'update', 'update', 'update', 'i', 'update', 'update', 'update', 'update', 'update', 'update', 'update', 'update', 'update', 'update', 'update', 'update', 'update', 'update', 'update', 'update', 'i', 'update', 'update', 'update', 'update', 'update', 'update', 'update', 'update', 'update', 'update', 'update', 'update', 'update', 'update', 'update', 'update', 'i', 'update', 'update', 'update', 'update', 'update', 'update', 'update', 'update', 'update', 'update', 'update', 'update', 'update', 'update', 'update', 'update', 'i', 'update', 'update', 'update', 'update', 'update', 'update', 'update', 'update', 'update', 'update', 'update', 'update', 'update', 'update', 'update', 'update', 'i', 'update', 'update', 'update', 'update', 'update', 'update', 'update', 'update', 'update', 'update', 'update', 'update', 'update', 'update', 'update', 'update', 'i', 'update', 'update', 'update', 'update', 'update', 'update', 'update', 'update', 'update', 'update', 'update', 'update', 'update', 'update', 'update', 'update', 'i', 'update', 'update', 'update', 'update', 'update', 'update', 'update', 'update', 'update', 'update', 'update', 'update', 'update', 'update', 'update', 'update', 'i', 'update', 'update', 'update', 'update', 'update', 'update', 'update', 'update', 'update', 'update', 'update', 'update', 'update', 'update', 'update', 'update', 'i', 'update', 'update', 'update', 'update', 'update', 'update', 'update', 'update', 'update', 'update', 'update', 'update', 'update', 'update', 'update', 'update', 'i', 'update', 'update', 'update', 'update', 'update', 'update', 'update', 'update', 'update', 'update', 'update', 'update', 'update', 'update', 'update', 'update', 'i', 'update', 'update', 'update', 'update', 'update', 'update', 'update', 'update', 'update', 'update', 'update', 'update', 'update', 'update', 'update', 'update', 'i', 'update', 'update', 'update', 'update', 'update', 'update', 'update', 'update', 'update', 'update', 'update', 'update', 'update', 'update', 'update', 'update', 'i', 'update', 'update', 'update', 'update', 'update', 'update', 'update', 'update', 'update', 'update', 'update', 'update', 'update', 'update', 'update', 'update', 'i', 'update', 'update', 'update', 'update', 'update', 'update', 'update', 'update', 'update', 'update', 'update', 'update', 'update', 'update', 'update', 'update', 'i', 'update', 'update', 'update', 'update', 'update', 'update', 'update', 'update', 'update', 'update', 'update', 'update', 'update', 'update', 'update', 'update', 'i', 'update', 'update', 'update', 'update', 'update', 'update', 'update', 'update', 'update', 'update', 'update', 'update', 'update', 'update', 'update', 'update', 'i', 'update', 'update', 'update', 'update', 'update', 'update', 'update', 'update', 'update', 'update', 'update', 'update', 'update', 'update', 'update', 'update', 'i', 'update', 'update', 'update', 'update', 'update', 'update', 'update', 'update', 'update', 'update', 'update', 'update', 'update', 'update', 'update', 'update', 'i', 'update', 'update', 'update', 'update', 'update', 'update', 'update', 'update', 'update', 'update', 'update', 'update', 'update', 'update', 'update', 'update', 'i', 'update', 'update', 'update', 'update', 'update', 'update', 'update', 'update', 'update', 'update', 'update', 'update', 'update', 'update', 'update', 'update', 'i', 'update', 'update', 'update', 'update', 'update', 'update', 'update', 'update', 'update', 'update', 'update', 'update', 'update', 'update', 'update', 'update', 'i', 'update', 'update', 'update', 'update', 'update', 'update', 'update']\n",
      "Input: select output: ['select', 'count', '(', '*', ')', 'as', '[', 'rep', ']', ',', 'count', '(', '*', ')', 'as', '[', 'rep', ']', ',', '(', '*', ')', 'as', '[', 'rep', ']', ',', 'count', '(', '*', ')', 'as', '[', 'rep', ']', ',', '(', '*', ')', 'as', '[', 'rep', ']', ',', 'count', '(', '*', ')', 'as', '[', 'rep', ']', ',', '(', '*', ')', 'as', '[', 'rep', ']', ',', 'count', '(', '*', ')', 'as', '[', 'rep', ']', ',', '(', '*', ')', 'as', '[', 'rep', ']', ',', 'count', '(', '*', ')', 'as', '[', 'rep', ']', ',', '(', '*', ')', 'as', '[', 'rep', ']', ',', 'count', '(', '*', ')', 'as', '[', 'rep', ']', ',', '(', '*', ')', 'as', '[', 'rep', ']', ',', 'count', '(', '*', ')', 'as', '[', 'rep', ']', ',', '(', '*', ')', 'as', '[', 'rep', ']', ',', 'count', '(', '*', ')', 'as', '[', 'rep', ']', ',', '(', '*', ')', 'as', '[', 'rep', ']', ',', 'count', '(', '*', ')', 'as', '[', 'rep', ']', ',', '(', '*', ')', 'as', '[', 'rep', ']', ',', 'count', '(', '*', ')', 'as', '[', 'rep', ']', ',', '(', '*', ')', 'as', '[', 'rep', ']', ',', 'count', '(', '*', ')', 'as', '[', 'rep', ']', ',', '(', '*', ')', 'as', '[', 'rep', ']', ',', 'count', '(', '*', ')', 'as', '[', 'rep', ']', ',', '(', '*', ')', 'as', '[', 'rep', ']', ',', 'count', '(', '*', ')', 'as', '[', 'rep', ']', ',', '(', '*', ')', 'as', '[', 'rep', ']', ',', 'count', '(', '*', ')', 'as', '[', 'rep', ']', ',', '(', '*', ')', 'as', '[', 'rep', ']', ',', 'count', '(', '*', ')', 'as', '[', 'rep', ']', ',', '(', '*', ')', 'as', '[', 'rep', ']', ',', 'count', '(', '*', ')', 'as', '[', 'rep', ']', ',', '(', '*', ')', 'as', '[', 'rep', ']', ',', 'count', '(', '*', ')', 'as', '[', 'rep', ']', ',', '(', '*', ')', 'as', '[', 'rep', ']', ',', 'count', '(', '*', ')', 'as', '[', 'rep', ']', ',', '(', '*', ')', 'as', '[', 'rep', ']', ',', 'count', '(', '*', ')', 'as', '[', 'rep', ']', ',', '(', '*', ')', 'as', '[', 'rep', ']', ',', 'count', '(', '*', ')', 'as', '[', 'rep', ']', ',', '(', '*', ')', 'as', '[', 'rep', ']', ',', 'count', '(', '*', ')', 'as', '[', 'rep', ']', ',', '(', '*', ')', 'as', '[', 'rep', ']', ',', 'count', '(', '*', ')', 'as', '[', 'rep', ']', ',', '(', '*', ')', 'as', '[', 'rep', ']', ',', 'count', '(', '*', ')', 'as', '[', 'rep', ']', ',', '(', '*', ')', 'as', '[', 'rep', ']', ',', 'count', '(', '*', ')', 'as', '[', 'rep', ']', ',', '(', '*', ')', 'as', '[', 'rep', ']', ',', 'count', '(', '*', ')', 'as', '[', 'rep', ']', ',', '(', '*', ')', 'as', '[', 'rep', ']', ',', 'count', '(', '*', ')', 'as', '[', 'rep', ']', ',', '(', '*', ')', 'as', '[', 'rep', ']', ',', 'count', '(', '*', ')', 'as', '[', 'rep', ']', ',', '(', '*', ')', 'as', '[', 'rep', ']', ',', 'count', '(', '*', ')', 'as', '[', 'rep', ']', ',', '(', '*', ')', 'as', '[', 'rep', ']', ',', 'count', '(', '*', ')', 'as', '[', 'rep', ']', ',', '(', '*', ')', 'as', '[', 'rep', ']']\n",
      "Input: delete output: ['delete', ',', 'delete', 'delete', 'delete', 'delete', 'delete', 'delete', 'delete', 'delete', 'delete', 'delete', 'delete', 'delete', 'delete', 'delete', 'delete', 'delete', ',', 'delete', 'delete', 'delete', 'delete', 'delete', 'delete', 'delete', 'delete', 'delete', 'delete', 'delete', 'delete', 'delete', 'delete', 'delete', 'delete', ',', 'delete', 'delete', 'delete', 'delete', 'delete', 'delete', 'delete', 'delete', 'delete', 'delete', 'delete', 'delete', 'delete', 'delete', 'delete', 'delete', ',', 'delete', 'delete', 'delete', 'delete', 'delete', 'delete', 'delete', 'delete', 'delete', 'delete', 'delete', 'delete', 'delete', 'delete', 'delete', 'delete', ',', 'delete', 'delete', 'delete', 'delete', 'delete', 'delete', 'delete', 'delete', 'delete', 'delete', 'delete', 'delete', 'delete', 'delete', 'delete', 'delete', ',', 'delete', 'delete', 'delete', 'delete', 'delete', 'delete', 'delete', 'delete', 'delete', 'delete', 'delete', 'delete', 'delete', 'delete', 'delete', 'delete', ',', 'delete', 'delete', 'delete', 'delete', 'delete', 'delete', 'delete', 'delete', 'delete', 'delete', 'delete', 'delete', 'delete', 'delete', 'delete', 'delete', ',', 'delete', 'delete', 'delete', 'delete', 'delete', 'delete', 'delete', 'delete', 'delete', 'delete', 'delete', 'delete', 'delete', 'delete', 'delete', 'delete', ',', 'delete', 'delete', 'delete', 'delete', 'delete', 'delete', 'delete', 'delete', 'delete', 'delete', 'delete', 'delete', 'delete', 'delete', 'delete', 'delete', ',', 'delete', 'delete', 'delete', 'delete', 'delete', 'delete', 'delete', 'delete', 'delete', 'delete', 'delete', 'delete', 'delete', 'delete', 'delete', 'delete', ',', 'delete', 'delete', 'delete', 'delete', 'delete', 'delete', 'delete', 'delete', 'delete', 'delete', 'delete', 'delete', 'delete', 'delete', 'delete', 'delete', ',', 'delete', 'delete', 'delete', 'delete', 'delete', 'delete', 'delete', 'delete', 'delete', 'delete', 'delete', 'delete', 'delete', 'delete', 'delete', 'delete', ',', 'delete', 'delete', 'delete', 'delete', 'delete', 'delete', 'delete', 'delete', 'delete', 'delete', 'delete', 'delete', 'delete', 'delete', 'delete', 'delete', ',', 'delete', 'delete', 'delete', 'delete', 'delete', 'delete', 'delete', 'delete', 'delete', 'delete', 'delete', 'delete', 'delete', 'delete', 'delete', 'delete', ',', 'delete', 'delete', 'delete', 'delete', 'delete', 'delete', 'delete', 'delete', 'delete', 'delete', 'delete', 'delete', 'delete', 'delete', 'delete', 'delete', ',', 'delete', 'delete', 'delete', 'delete', 'delete', 'delete', 'delete', 'delete', 'delete', 'delete', 'delete', 'delete', 'delete', 'delete', 'delete', 'delete', ',', 'delete', 'delete', 'delete', 'delete', 'delete', 'delete', 'delete', 'delete', 'delete', 'delete', 'delete', 'delete', 'delete', 'delete', 'delete', 'delete', ',', 'delete', 'delete', 'delete', 'delete', 'delete', 'delete', 'delete', 'delete', 'delete', 'delete', 'delete', 'delete', 'delete', 'delete', 'delete', 'delete', ',', 'delete', 'delete', 'delete', 'delete', 'delete', 'delete', 'delete', 'delete', 'delete', 'delete', 'delete', 'delete', 'delete', 'delete', 'delete', 'delete', ',', 'delete', 'delete', 'delete', 'delete', 'delete', 'delete', 'delete', 'delete', 'delete', 'delete', 'delete', 'delete', 'delete', 'delete', 'delete', 'delete', ',', 'delete', 'delete', 'delete', 'delete', 'delete', 'delete', 'delete', 'delete', 'delete', 'delete', 'delete', 'delete', 'delete', 'delete', 'delete', 'delete', ',', 'delete', 'delete', 'delete', 'delete', 'delete', 'delete', 'delete', 'delete', 'delete', 'delete', 'delete', 'delete', 'delete', 'delete', 'delete', 'delete', ',', 'delete', 'delete', 'delete', 'delete', 'delete', 'delete', 'delete', 'delete', 'delete', 'delete', 'delete', 'delete', 'delete', 'delete', 'delete', 'delete', ',', 'delete', 'delete', 'delete', 'delete', 'delete', 'delete', 'delete', 'delete', 'delete', 'delete', 'delete', 'delete', 'delete', 'delete', 'delete', 'delete', ',', 'delete', 'delete', 'delete', 'delete', 'delete', 'delete', 'delete', 'delete', 'delete', 'delete', 'delete', 'delete', 'delete', 'delete', 'delete', 'delete', ',', 'delete', 'delete', 'delete', 'delete', 'delete', 'delete', 'delete', 'delete', 'delete', 'delete', 'delete', 'delete', 'delete', 'delete', 'delete', 'delete', ',', 'delete', 'delete', 'delete', 'delete', 'delete', 'delete', 'delete', 'delete', 'delete', 'delete', 'delete', 'delete', 'delete', 'delete', 'delete', 'delete', ',', 'delete', 'delete', 'delete', 'delete', 'delete', 'delete', 'delete', 'delete', 'delete', 'delete', 'delete', 'delete', 'delete', 'delete', 'delete', 'delete', ',', 'delete', 'delete', 'delete', 'delete', 'delete', 'delete', 'delete', 'delete', 'delete', 'delete', 'delete', 'delete', 'delete', 'delete', 'delete', 'delete', ',', 'delete', 'delete', 'delete', 'delete', 'delete', 'delete', 'delete']\n"
     ]
    },
    {
     "name": "stdout",
     "output_type": "stream",
     "text": [
      "Input: insert output: ['insert', 'into', 'insert', 'insert', 'into', 'insert', 'into', 'insert', 'into', 'insert', 'into', 'insert', 'into', 'insert', 'into', 'insert', 'into', 'insert', 'into', 'insert', 'into', 'into', 'insert', 'into', 'insert', 'into', 'insert', 'into', 'insert', 'into', 'insert', 'into', 'insert', 'into', 'insert', 'into', 'insert', 'into', 'into', 'insert', 'into', 'insert', 'into', 'insert', 'into', 'insert', 'into', 'insert', 'into', 'insert', 'into', 'insert', 'into', 'insert', 'into', 'into', 'insert', 'into', 'insert', 'into', 'insert', 'into', 'insert', 'into', 'insert', 'into', 'insert', 'into', 'insert', 'into', 'insert', 'into', 'into', 'insert', 'into', 'insert', 'into', 'insert', 'into', 'insert', 'into', 'insert', 'into', 'insert', 'into', 'insert', 'into', 'insert', 'into', 'into', 'insert', 'into', 'insert', 'into', 'insert', 'into', 'insert', 'into', 'insert', 'into', 'insert', 'into', 'insert', 'into', 'insert', 'into', 'into', 'insert', 'into', 'insert', 'into', 'insert', 'into', 'insert', 'into', 'insert', 'into', 'insert', 'into', 'insert', 'into', 'insert', 'into', 'into', 'insert', 'into', 'insert', 'into', 'insert', 'into', 'insert', 'into', 'insert', 'into', 'insert', 'into', 'insert', 'into', 'insert', 'into', 'into', 'insert', 'into', 'insert', 'into', 'insert', 'into', 'insert', 'into', 'insert', 'into', 'insert', 'into', 'insert', 'into', 'insert', 'into', 'into', 'insert', 'into', 'insert', 'into', 'insert', 'into', 'insert', 'into', 'insert', 'into', 'insert', 'into', 'insert', 'into', 'insert', 'into', 'into', 'insert', 'into', 'insert', 'into', 'insert', 'into', 'insert', 'into', 'insert', 'into', 'insert', 'into', 'insert', 'into', 'insert', 'into', 'into', 'insert', 'into', 'insert', 'into', 'insert', 'into', 'insert', 'into', 'insert', 'into', 'insert', 'into', 'insert', 'into', 'insert', 'into', 'into', 'insert', 'into', 'insert', 'into', 'insert', 'into', 'insert', 'into', 'insert', 'into', 'insert', 'into', 'insert', 'into', 'insert', 'into', 'into', 'insert', 'into', 'insert', 'into', 'insert', 'into', 'insert', 'into', 'insert', 'into', 'insert', 'into', 'insert', 'into', 'insert', 'into', 'into', 'insert', 'into', 'insert', 'into', 'insert', 'into', 'insert', 'into', 'insert', 'into', 'insert', 'into', 'insert', 'into', 'insert', 'into', 'into', 'insert', 'into', 'insert', 'into', 'insert', 'into', 'insert', 'into', 'insert', 'into', 'insert', 'into', 'insert', 'into', 'insert', 'into', 'into', 'insert', 'into', 'insert', 'into', 'insert', 'into', 'insert', 'into', 'insert', 'into', 'insert', 'into', 'insert', 'into', 'insert', 'into', 'into', 'insert', 'into', 'insert', 'into', 'insert', 'into', 'insert', 'into', 'insert', 'into', 'insert', 'into', 'insert', 'into', 'insert', 'into', 'into', 'insert', 'into', 'insert', 'into', 'insert', 'into', 'insert', 'into', 'insert', 'into', 'insert', 'into', 'insert', 'into', 'insert', 'into', 'into', 'insert', 'into', 'insert', 'into', 'insert', 'into', 'insert', 'into', 'insert', 'into', 'insert', 'into', 'insert', 'into', 'insert', 'into', 'into', 'insert', 'into', 'insert', 'into', 'insert', 'into', 'insert', 'into', 'insert', 'into', 'insert', 'into', 'insert', 'into', 'insert', 'into', 'into', 'insert', 'into', 'insert', 'into', 'insert', 'into', 'insert', 'into', 'insert', 'into', 'insert', 'into', 'insert', 'into', 'insert', 'into', 'into', 'insert', 'into', 'insert', 'into', 'insert', 'into', 'insert', 'into', 'insert', 'into', 'insert', 'into', 'insert', 'into', 'insert', 'into', 'into', 'insert', 'into', 'insert', 'into', 'insert', 'into', 'insert', 'into', 'insert', 'into', 'insert', 'into', 'insert', 'into', 'insert', 'into', 'into', 'insert', 'into', 'insert', 'into', 'insert', 'into', 'insert', 'into', 'insert', 'into', 'insert', 'into', 'insert', 'into', 'insert', 'into', 'into', 'insert', 'into', 'insert', 'into', 'insert', 'into', 'insert', 'into', 'insert', 'into', 'insert', 'into', 'insert', 'into', 'insert', 'into', 'into', 'insert', 'into', 'insert', 'into', 'insert', 'into', 'insert', 'into', 'insert', 'into', 'insert', 'into', 'insert', 'into', 'insert', 'into', 'into', 'insert', 'into', 'insert', 'into', 'insert', 'into', 'insert', 'into', 'insert', 'into', 'insert', 'into', 'insert', 'into', 'insert', 'into', 'into', 'insert', 'into', 'insert', 'into', 'insert', 'into', 'insert', 'into', 'insert', 'into', 'insert', 'into', 'insert', 'into', 'insert', 'into', 'into', 'insert', 'into', 'insert', 'into']\n",
      "For Random Generation\n"
     ]
    },
    {
     "ename": "IndexError",
     "evalue": "index 2512 is out of bounds for axis 0 with size 1",
     "output_type": "error",
     "traceback": [
      "\u001b[0;31m---------------------------------------------------------------------------\u001b[0m",
      "\u001b[0;31mIndexError\u001b[0m                                Traceback (most recent call last)",
      "\u001b[0;32m<ipython-input-263-c99814d06680>\u001b[0m in \u001b[0;36m<module>\u001b[0;34m()\u001b[0m\n\u001b[0;32m----> 1\u001b[0;31m \u001b[0mtest_case\u001b[0m\u001b[0;34m(\u001b[0m\u001b[0;34m)\u001b[0m\u001b[0;34m\u001b[0m\u001b[0m\n\u001b[0m",
      "\u001b[0;32m<ipython-input-144-ca3b4d7544be>\u001b[0m in \u001b[0;36mtest_case\u001b[0;34m()\u001b[0m\n\u001b[1;32m     11\u001b[0m \u001b[0;34m\u001b[0m\u001b[0m\n\u001b[1;32m     12\u001b[0m     \u001b[0;32mfor\u001b[0m \u001b[0mi\u001b[0m \u001b[0;32min\u001b[0m \u001b[0msample\u001b[0m\u001b[0;34m:\u001b[0m\u001b[0;34m\u001b[0m\u001b[0m\n\u001b[0;32m---> 13\u001b[0;31m         \u001b[0mprint\u001b[0m\u001b[0;34m(\u001b[0m\u001b[0;34m'Input:'\u001b[0m\u001b[0;34m,\u001b[0m \u001b[0mi\u001b[0m\u001b[0;34m,\u001b[0m \u001b[0;34m'output:'\u001b[0m\u001b[0;34m,\u001b[0m \u001b[0mi\u001b[0m \u001b[0;34m+\u001b[0m \u001b[0;34m\" \"\u001b[0m \u001b[0;34m+\u001b[0m \u001b[0mget_next_random\u001b[0m\u001b[0;34m(\u001b[0m\u001b[0mi\u001b[0m\u001b[0;34m)\u001b[0m\u001b[0;34m)\u001b[0m\u001b[0;34m\u001b[0m\u001b[0m\n\u001b[0m\u001b[1;32m     14\u001b[0m \u001b[0;34m\u001b[0m\u001b[0m\n\u001b[1;32m     15\u001b[0m     \u001b[0;32mfor\u001b[0m \u001b[0mi\u001b[0m \u001b[0;32min\u001b[0m \u001b[0msample\u001b[0m\u001b[0;34m:\u001b[0m\u001b[0;34m\u001b[0m\u001b[0m\n",
      "\u001b[0;32m<ipython-input-54-6d7e72697115>\u001b[0m in \u001b[0;36mget_next_random\u001b[0;34m(inp)\u001b[0m\n\u001b[1;32m     12\u001b[0m     \u001b[0mp\u001b[0m \u001b[0;34m=\u001b[0m \u001b[0mto_np\u001b[0m\u001b[0;34m(\u001b[0m\u001b[0mp\u001b[0m\u001b[0;34m)\u001b[0m\u001b[0;34m[\u001b[0m\u001b[0;36m0\u001b[0m\u001b[0;34m]\u001b[0m\u001b[0;34m\u001b[0m\u001b[0m\n\u001b[1;32m     13\u001b[0m     \u001b[0mpi\u001b[0m \u001b[0;34m=\u001b[0m \u001b[0mp\u001b[0m\u001b[0;34m.\u001b[0m\u001b[0margsort\u001b[0m\u001b[0;34m(\u001b[0m\u001b[0;34m)\u001b[0m\u001b[0;34m[\u001b[0m\u001b[0;34m-\u001b[0m\u001b[0;36m10\u001b[0m\u001b[0;34m:\u001b[0m\u001b[0;34m]\u001b[0m \u001b[0;31m# Sample the 10 most possible token only\u001b[0m\u001b[0;34m\u001b[0m\u001b[0m\n\u001b[0;32m---> 14\u001b[0;31m     \u001b[0mi\u001b[0m \u001b[0;34m=\u001b[0m \u001b[0mnp\u001b[0m\u001b[0;34m.\u001b[0m\u001b[0mrandom\u001b[0m\u001b[0;34m.\u001b[0m\u001b[0mchoice\u001b[0m\u001b[0;34m(\u001b[0m\u001b[0mpi\u001b[0m\u001b[0;34m,\u001b[0m \u001b[0mp\u001b[0m\u001b[0;34m=\u001b[0m\u001b[0msoftmax_np\u001b[0m\u001b[0;34m(\u001b[0m\u001b[0mp\u001b[0m\u001b[0;34m[\u001b[0m\u001b[0mpi\u001b[0m\u001b[0;34m]\u001b[0m\u001b[0;34m)\u001b[0m\u001b[0;34m)\u001b[0m\u001b[0;34m\u001b[0m\u001b[0m\n\u001b[0m\u001b[1;32m     15\u001b[0m     \u001b[0;32mreturn\u001b[0m \u001b[0msql_itos\u001b[0m\u001b[0;34m[\u001b[0m\u001b[0mi\u001b[0m\u001b[0;34m]\u001b[0m\u001b[0;34m\u001b[0m\u001b[0m\n\u001b[1;32m     16\u001b[0m \u001b[0;34m\u001b[0m\u001b[0m\n",
      "\u001b[0;31mIndexError\u001b[0m: index 2512 is out of bounds for axis 0 with size 1"
     ]
    }
   ],
   "source": [
    "test_case()"
   ]
  },
  {
   "cell_type": "code",
   "execution_count": 301,
   "metadata": {},
   "outputs": [
    {
     "name": "stdout",
     "output_type": "stream",
     "text": [
      "Input: _bos_ select id from comments where lower ( text ) like ' % accept % answer\n",
      "Output: select id from comments where lower ( text ) like ' % accept % answer %\n",
      "prediction: select id from comments where lower ( text ) like ' % accept % answer %\n",
      "next: % ' order by len ( text ) asc _eos_ _bos_ declare @ from datetime =\n"
     ]
    }
   ],
   "source": [
    "print('Input:', \" \".join([sql_itos[i] for i in np.array(xs[0])]))\n",
    "print('Output:', \" \".join([sql_itos[i] for i in  np.array(ys[0])]))\n",
    "p = m(*VV(T(np.array(xs[0]))))\n",
    "print('prediction:', \" \".join([sql_itos[i] for i in to_np(torch.max(p.view(-1,len(sql_itos)),dim=1)[1])]))\n",
    "print('next:', \" \".join([sql_itos[i] for i in np.array(xs[1])]))"
   ]
  },
  {
   "cell_type": "code",
   "execution_count": 289,
   "metadata": {},
   "outputs": [],
   "source": [
    "??accuracy"
   ]
  },
  {
   "cell_type": "code",
   "execution_count": 290,
   "metadata": {},
   "outputs": [
    {
     "data": {
      "text/plain": [
       "(array([  0,  12,  11,  13, 103,  19,  90,   6, 104,   7,  35,   8,  22, 497,  22, 123]),\n",
       " array([ 12,  11,  13, 103,  19,  90,   6, 104,   7,  35,   8,  22, 497,  22, 123,  22]))"
      ]
     },
     "execution_count": 290,
     "metadata": {},
     "output_type": "execute_result"
    }
   ],
   "source": [
    "np.array(xs[0]),np.array(ys[0])"
   ]
  },
  {
   "cell_type": "code",
   "execution_count": 91,
   "metadata": {
    "collapsed": true
   },
   "outputs": [
    {
     "ename": "NameError",
     "evalue": "name 'Rule_Parse_FSM' is not defined",
     "output_type": "error",
     "traceback": [
      "\u001b[0;31m---------------------------------------------------------------------------\u001b[0m",
      "\u001b[0;31mNameError\u001b[0m                                 Traceback (most recent call last)",
      "\u001b[0;32m<ipython-input-91-72d3c23e9835>\u001b[0m in \u001b[0;36m<module>\u001b[0;34m()\u001b[0m\n\u001b[1;32m     19\u001b[0m     \u001b[0;32mreturn\u001b[0m \u001b[0;34m\"ERROR\"\u001b[0m\u001b[0;34m\u001b[0m\u001b[0m\n\u001b[1;32m     20\u001b[0m \u001b[0;34m\u001b[0m\u001b[0m\n\u001b[0;32m---> 21\u001b[0;31m \u001b[0mfsm\u001b[0m \u001b[0;34m=\u001b[0m \u001b[0mRule_Parse_FSM\u001b[0m\u001b[0;34m(\u001b[0m\u001b[0;34m)\u001b[0m\u001b[0;34m\u001b[0m\u001b[0m\n\u001b[0m\u001b[1;32m     22\u001b[0m \u001b[0;34m\u001b[0m\u001b[0m\n\u001b[1;32m     23\u001b[0m \u001b[0mget_next_random\u001b[0m\u001b[0;34m(\u001b[0m\u001b[0;34m\"select userid from users where \"\u001b[0m\u001b[0;34m.\u001b[0m\u001b[0msplit\u001b[0m\u001b[0;34m(\u001b[0m\u001b[0;34m)\u001b[0m\u001b[0;34m)\u001b[0m\u001b[0;34m\u001b[0m\u001b[0m\n",
      "\u001b[0;31mNameError\u001b[0m: name 'Rule_Parse_FSM' is not defined"
     ]
    }
   ],
   "source": [
    "# def get_next_random_fsm(inp, fsm):\n",
    "#     idxs = T(np.array([char_indices[c] for c in inp]))\n",
    "#     p = m(*VV(idxs))\n",
    "#     p = to_np(p)[0]\n",
    "#     pi = p.argsort()[-10:]\n",
    "#     i = np.random.choice(pi, p=softmax_np(p[pi]))\n",
    "    \n",
    "#     if fsm.run(indices_char[i]):\n",
    "#         return indice_char[i]\n",
    "#     else: \n",
    "#         for pii in pi:\n",
    "#             if fsm.run(indice_char[pii]):\n",
    "#                 print('pii loop')\n",
    "#                 return indice_char[pii]\n",
    "#             else:\n",
    "#                 print('Error, no valid words at all')  \n",
    "    \n",
    "    \n",
    "#     return \"ERROR\"\n",
    "\n",
    "# fsm = Rule_Parse_FSM()\n",
    "\n",
    "# get_next_random(\"select userid from users where \".split())\n",
    "\n",
    "# get_next_random_fsm(\"select userid from users where \".split(), fsm)"
   ]
  }
 ],
 "metadata": {
  "kernelspec": {
   "display_name": "Python 3",
   "language": "python",
   "name": "python3"
  },
  "language_info": {
   "codemirror_mode": {
    "name": "ipython",
    "version": 3
   },
   "file_extension": ".py",
   "mimetype": "text/x-python",
   "name": "python",
   "nbconvert_exporter": "python",
   "pygments_lexer": "ipython3",
   "version": "3.6.4"
  },
  "nav_menu": {},
  "toc": {
   "colors": {
    "hover_highlight": "#DAA520",
    "navigate_num": "#000000",
    "navigate_text": "#333333",
    "running_highlight": "#FF0000",
    "selected_highlight": "#FFD700",
    "sidebar_border": "#EEEEEE",
    "wrapper_background": "#FFFFFF"
   },
   "moveMenuLeft": true,
   "nav_menu": {
    "height": "216px",
    "width": "252px"
   },
   "navigate_menu": true,
   "number_sections": true,
   "sideBar": true,
   "threshold": 4,
   "toc_cell": false,
   "toc_section_display": "block",
   "toc_window_display": false,
   "widenNotebook": false
  },
  "varInspector": {
   "cols": {
    "lenName": 16,
    "lenType": 16,
    "lenVar": 40
   },
   "kernels_config": {
    "python": {
     "delete_cmd_postfix": "",
     "delete_cmd_prefix": "del ",
     "library": "var_list.py",
     "varRefreshCmd": "print(var_dic_list())"
    },
    "r": {
     "delete_cmd_postfix": ") ",
     "delete_cmd_prefix": "rm(",
     "library": "var_list.r",
     "varRefreshCmd": "cat(var_dic_list()) "
    }
   },
   "types_to_exclude": [
    "module",
    "function",
    "builtin_function_or_method",
    "instance",
    "_Feature"
   ],
   "window_display": false
  }
 },
 "nbformat": 4,
 "nbformat_minor": 1
}
