{
 "cells": [
  {
   "cell_type": "code",
   "execution_count": 84,
   "metadata": {
    "ExecuteTime": {
     "end_time": "2018-04-21T11:12:36.665154Z",
     "start_time": "2018-04-21T11:12:35.639927Z"
    }
   },
   "outputs": [],
   "source": [
    "import re\n",
    "import pdb\n",
    "\n",
    "def transition_skip(fsm_obj):\n",
    "    pass\n",
    "\n",
    "\n",
    "def transition_new_group(fsm_obj):\n",
    "    fsm_obj.group_current_level += 1\n",
    "    fsm_obj.current_group = RuleGroup(fsm_obj.current_group,\n",
    "                                      fsm_obj.group_current_level,\n",
    "                                      None)\n",
    "\n",
    "\n",
    "def transition_append_pre(fsm_obj):\n",
    "    rule_count = fsm_obj.current_group.rule_count\n",
    "    fsm_obj.current_group.rules[rule_count - 1].prefix += fsm_obj.current_char\n",
    "\n",
    "\n",
    "def transition_add_op(fsm_obj):\n",
    "    rule_count = fsm_obj.current_group.rule_count\n",
    "    fsm_obj.current_group.rules[rule_count - 1].op = fsm_obj.current_char\n",
    "\n",
    "\n",
    "def transition_end_group(fsm_obj):\n",
    "    fsm_obj.group_current_level += 1\n",
    "    fsm_obj.current_group = RuleGroup(fsm_obj.current_group,\n",
    "                                      fsm_obj.group_current_level,\n",
    "                                      None)\n",
    "\n",
    "\n",
    "def transition_end_rule(fsm_obj):\n",
    "    pass\n",
    "\n",
    "\n",
    "def transition_add_op_new_rule(fsm_obj):\n",
    "    fsm_obj.current_group.rule_count += 1\n",
    "    fsm_obj.current_group.rules.append(Rule())\n",
    "    rule_count = fsm_obj.current_group.rule_count\n",
    "    fsm_obj.current_group.rules[rule_count - 1].op = fsm_obj.current_char\n",
    "\n",
    "\n",
    "def transition_append_subj(fsm_obj):\n",
    "    rule_count = fsm_obj.current_group.rule_count\n",
    "    fsm_obj.current_group.rules[rule_count - 1].subject += fsm_obj.current_char\n",
    "\n",
    "\n",
    "def transition_add_op_new_group(fsm_obj):\n",
    "    fsm_obj.current_group.op = fsm_obj.current_char\n",
    "\n",
    "\n",
    "T_SKIP = transition_skip\n",
    "T_NEW_GROUP = transition_new_group\n",
    "T_APPEND_CHAR_PRE = transition_append_pre\n",
    "T_ADD_OP = transition_add_op\n",
    "T_ADD_OP_NEW_RULE = transition_add_op_new_rule\n",
    "T_END_GROUP = transition_end_group\n",
    "T_END_RULE = transition_end_rule\n",
    "T_APPEND_CHAR_SUBJ = transition_append_subj\n",
    "T_ADD_GROUP_OP = transition_add_op_new_group\n",
    "\n",
    "S_NEW_GROUP = \"STATE: NEW_GROUP\"\n",
    "S_END_GROUP = \"STATE: END_GROUP\"\n",
    "S_PRE = \"STATE: PREFIX\"\n",
    "S_OP = \"STATE: OPERATOR\"\n",
    "S_END_RULE = \"STATE: END_RULE\"\n",
    "S_SUBJ = \"STATE: SUBJECT\"\n",
    "\n",
    "\n",
    "FSM_MAP = (\n",
    "    #  {'src':, 'dst':, 'condition':, 'callback': },\n",
    "    {'src': S_NEW_GROUP,\n",
    "        'dst': S_PRE,\n",
    "        'condition': r\"\\b(select)\\b\",\n",
    "        'callback': T_APPEND_CHAR_PRE},  # 1\n",
    "    {'src': S_PRE,\n",
    "        'dst': S_SUBJ,\n",
    "        'condition': r\"[A-Za-z]+\",\n",
    "        'callback': T_APPEND_CHAR_PRE},  # 2\n",
    "    {'src': S_SUBJ,\n",
    "        'dst': S_END_RULE,\n",
    "        'condition': r\"\\b(from)\\b\",\n",
    "        'callback': T_APPEND_CHAR_PRE},  # 3\n",
    "    {'src': S_END_RULE,\n",
    "        'dst': S_NEW_GROUP,\n",
    "        'condition': r\"[A-Za-z]+\",\n",
    "        'callback': T_SKIP} ) # 4    \n",
    "\n",
    "\n",
    "\n",
    "\n",
    "for map_item in FSM_MAP:\n",
    "    map_item['condition_re_compiled'] = re.compile(map_item['condition'])\n",
    "\n",
    "\n",
    "class Rule:\n",
    "    def __init__(self):\n",
    "        self.prefix = \"\"\n",
    "        self.subject = \"\"\n",
    "        self.op = None\n",
    "\n",
    "    def __repr__(self):\n",
    "        op = self.op\n",
    "        if not op:\n",
    "            op = ''\n",
    "        return \"<Rule: {} {}({})>\".format(op, self.prefix, self.subject)\n",
    "\n",
    "class RuleGroup:\n",
    "    def __init__(self, parent, level, op):\n",
    "        self.op = op\n",
    "        self.parent = parent\n",
    "        self.level = level\n",
    "        self.rule_count = 1\n",
    "        self.rules = [Rule(), ]\n",
    "\n",
    "    def __repr__(self):\n",
    "        return \"<RuleGroup: {}>\".format(self.__dict__)\n",
    "\n",
    "\n",
    "class Rule_Parse_FSM:\n",
    "\n",
    "    def __init__(self, input_word=\"\"):\n",
    "        self.input_word = input_word\n",
    "        self.current_state = S_NEW_GROUP\n",
    "        self.group_current_level = 0\n",
    "        self.current_group = RuleGroup(None, self.group_current_level, None)\n",
    "        self.current_char = ''\n",
    "        self.valid_word = False\n",
    "\n",
    "    def run(self,inp):\n",
    "        self.input_word = inp\n",
    "        if not self.process_next(self.input_word):\n",
    "            print(\"skip '{}' in {}\".format(self.input_word, self.current_state))\n",
    "            self.valid_word = False\n",
    "        else: self.valid_word = True\n",
    "        return self.valid_word\n",
    "\n",
    "                \n",
    "    def process_next(self, achar):\n",
    "        self.current_char = achar\n",
    "        frozen_state = self.current_state\n",
    "        # pdb.set_trace()\n",
    "        for transition in FSM_MAP:\n",
    "            if transition['src'] == frozen_state:\n",
    "                if self.iterate_re_evaluators(achar, transition):\n",
    "                    return True\n",
    "        return False\n",
    "\n",
    "    def iterate_re_evaluators(self, achar, transition):\n",
    "        condition = transition['condition_re_compiled']\n",
    "        # pdb.set_trace()\n",
    "        if condition.match(achar):\n",
    "            self.update_state(\n",
    "                transition['dst'], transition['callback'])\n",
    "            return True\n",
    "        return False\n",
    "\n",
    "    def update_state(self, new_state, callback):\n",
    "        print(\"{} -> {} : {}\".format(self.current_char,\n",
    "                                     self.current_state,\n",
    "                                     new_state))\n",
    "        self.current_state = new_state\n",
    "        callback(self)"
   ]
  },
  {
   "cell_type": "code",
   "execution_count": 76,
   "metadata": {
    "ExecuteTime": {
     "end_time": "2018-04-21T11:09:17.754044Z",
     "start_time": "2018-04-21T11:09:17.736033Z"
    }
   },
   "outputs": [
    {
     "ename": "TypeError",
     "evalue": "run() missing 1 required positional argument: 'inp'",
     "output_type": "error",
     "traceback": [
      "\u001b[1;31m---------------------------------------------------------------------------\u001b[0m",
      "\u001b[1;31mTypeError\u001b[0m                                 Traceback (most recent call last)",
      "\u001b[1;32m<ipython-input-76-9ac1db528a77>\u001b[0m in \u001b[0;36m<module>\u001b[1;34m()\u001b[0m\n\u001b[0;32m      3\u001b[0m \u001b[0mexample3\u001b[0m \u001b[1;33m=\u001b[0m \u001b[1;34m\"select column random string wrong from table , random string\"\u001b[0m\u001b[1;33m\u001b[0m\u001b[0m\n\u001b[0;32m      4\u001b[0m \u001b[0mfsm1\u001b[0m \u001b[1;33m=\u001b[0m \u001b[0mRule_Parse_FSM\u001b[0m\u001b[1;33m(\u001b[0m\u001b[0mexample1\u001b[0m\u001b[1;33m.\u001b[0m\u001b[0msplit\u001b[0m\u001b[1;33m(\u001b[0m\u001b[1;33m)\u001b[0m\u001b[1;33m)\u001b[0m\u001b[1;33m\u001b[0m\u001b[0m\n\u001b[1;32m----> 5\u001b[1;33m \u001b[0mfsm1\u001b[0m\u001b[1;33m.\u001b[0m\u001b[0mrun\u001b[0m\u001b[1;33m(\u001b[0m\u001b[1;33m)\u001b[0m\u001b[1;33m\u001b[0m\u001b[0m\n\u001b[0m\u001b[0;32m      6\u001b[0m \u001b[1;31m# fsm2 = Rule_Parse_FSM(example2.split())\u001b[0m\u001b[1;33m\u001b[0m\u001b[1;33m\u001b[0m\u001b[0m\n\u001b[0;32m      7\u001b[0m \u001b[1;31m# fsm2.run()\u001b[0m\u001b[1;33m\u001b[0m\u001b[1;33m\u001b[0m\u001b[0m\n",
      "\u001b[1;31mTypeError\u001b[0m: run() missing 1 required positional argument: 'inp'"
     ]
    }
   ],
   "source": [
    "example1 = \"select column random string wrong from table random string\"\n",
    "example2 = \"select column random string wrong from table , random string\"\n",
    "example3 = \"select column random string wrong from table , random string\"\n",
    "fsm1 = Rule_Parse_FSM(example1.split())\n",
    "fsm1.run()\n",
    "# fsm2 = Rule_Parse_FSM(example2.split())\n",
    "# fsm2.run()\n",
    "# fsm3 = Rule_Parse_FSM(example3.split())\n",
    "# fsm3.run()\n",
    "print(fsm1.current_group)\n",
    "# print(fsm2.current_group)\n",
    "# print(fsm3.current_group)"
   ]
  },
  {
   "cell_type": "code",
   "execution_count": 16,
   "metadata": {
    "ExecuteTime": {
     "end_time": "2018-04-21T10:38:12.379708Z",
     "start_time": "2018-04-21T10:38:12.376515Z"
    }
   },
   "outputs": [],
   "source": [
    "example1 = \"select column random string wrong from table random string\""
   ]
  },
  {
   "cell_type": "code",
   "execution_count": 18,
   "metadata": {
    "ExecuteTime": {
     "end_time": "2018-04-21T10:38:15.979993Z",
     "start_time": "2018-04-21T10:38:15.976483Z"
    }
   },
   "outputs": [],
   "source": [
    "example = \"select column random string wrong from table random string\".split()\n",
    "fsm = Rule_Parse_FSM(example)"
   ]
  },
  {
   "cell_type": "code",
   "execution_count": 13,
   "metadata": {
    "ExecuteTime": {
     "end_time": "2018-04-21T10:25:52.767444Z",
     "start_time": "2018-04-21T10:25:52.762388Z"
    }
   },
   "outputs": [
    {
     "name": "stdout",
     "output_type": "stream",
     "text": [
      "select -> STATE: NEW_GROUP : STATE: PREFIX\n",
      "column -> STATE: PREFIX : STATE: SUBJECT\n",
      "skip 'random' in STATE: SUBJECT\n",
      "skip 'string' in STATE: SUBJECT\n",
      "skip 'wrong' in STATE: SUBJECT\n",
      "from -> STATE: SUBJECT : STATE: END_RULE\n",
      "table -> STATE: END_RULE : STATE: NEW_GROUP\n",
      "skip 'random' in STATE: NEW_GROUP\n",
      "skip 'string' in STATE: NEW_GROUP\n"
     ]
    }
   ],
   "source": [
    "fsm.run()"
   ]
  },
  {
   "cell_type": "code",
   "execution_count": 9,
   "metadata": {
    "ExecuteTime": {
     "end_time": "2018-04-21T10:24:42.229214Z",
     "start_time": "2018-04-21T10:24:42.213672Z"
    }
   },
   "outputs": [
    {
     "data": {
      "text/plain": [
       "'STATE: SUBJECT'"
      ]
     },
     "execution_count": 9,
     "metadata": {},
     "output_type": "execute_result"
    }
   ],
   "source": [
    "fsm.current_state"
   ]
  },
  {
   "cell_type": "code",
   "execution_count": null,
   "metadata": {},
   "outputs": [],
   "source": [
    "def get_next_random(inp):\n",
    "    idxs = T(np.array([char_indices[c] for c in inp]))\n",
    "    p = m(*VV(idxs))\n",
    "    p = to_np(p)[0]\n",
    "    pi = p.argsort()[-10:]\n",
    "    i = np.random.choice(pi, p=softmax_np(p[pi]))\n",
    "    return indices_char[i],pi"
   ]
  },
  {
   "cell_type": "code",
   "execution_count": null,
   "metadata": {},
   "outputs": [],
   "source": [
    "def get_next_random(inp):\n",
    "    idxs = T(np.array([char_indices[c] for c in inp]))\n",
    "    p = m(*VV(idxs))\n",
    "    p = to_np(p)[0]\n",
    "    pi = p.argsort()[-10:]\n",
    "    i = np.random.choice(pi, p=softmax_np(p[pi]))\n",
    "    \n",
    "    if PasstoFSM(indices_char[i]):\n",
    "        return indice_char[i]\n",
    "    else: \n",
    "        for pii in pi:\n",
    "            if PasstoFSM(indice_char[pii]):\n",
    "                return indice_char[pii]\n",
    "            else:\n",
    "                print('Error, no valid words at all')  \n",
    "    \n",
    "    \n",
    "    return \"ERROR\""
   ]
  },
  {
   "cell_type": "code",
   "execution_count": null,
   "metadata": {},
   "outputs": [],
   "source": [
    "def get_next(inp):\n",
    "    "
   ]
  },
  {
   "cell_type": "code",
   "execution_count": null,
   "metadata": {},
   "outputs": [],
   "source": []
  },
  {
   "cell_type": "code",
   "execution_count": null,
   "metadata": {},
   "outputs": [],
   "source": [
    "def test_fsm_valid()"
   ]
  },
  {
   "cell_type": "code",
   "execution_count": 44,
   "metadata": {
    "ExecuteTime": {
     "end_time": "2018-04-21T10:56:05.888634Z",
     "start_time": "2018-04-21T10:56:05.885125Z"
    }
   },
   "outputs": [],
   "source": [
    "example = [\"select\"]\n",
    "fsm = Rule_Parse_FSM(example)"
   ]
  },
  {
   "cell_type": "code",
   "execution_count": 45,
   "metadata": {
    "ExecuteTime": {
     "end_time": "2018-04-21T10:56:06.103161Z",
     "start_time": "2018-04-21T10:56:06.098185Z"
    }
   },
   "outputs": [
    {
     "data": {
      "text/plain": [
       "False"
      ]
     },
     "execution_count": 45,
     "metadata": {},
     "output_type": "execute_result"
    }
   ],
   "source": [
    "fsm.valid_word"
   ]
  },
  {
   "cell_type": "code",
   "execution_count": 61,
   "metadata": {
    "ExecuteTime": {
     "end_time": "2018-04-21T10:56:30.002753Z",
     "start_time": "2018-04-21T10:56:29.999246Z"
    }
   },
   "outputs": [
    {
     "name": "stdout",
     "output_type": "stream",
     "text": [
      "skip 'select' in STATE: SUBJECT\n"
     ]
    }
   ],
   "source": [
    "fsm.run()"
   ]
  },
  {
   "cell_type": "code",
   "execution_count": 71,
   "metadata": {
    "ExecuteTime": {
     "end_time": "2018-04-21T10:56:59.872399Z",
     "start_time": "2018-04-21T10:56:59.868856Z"
    }
   },
   "outputs": [
    {
     "name": "stdout",
     "output_type": "stream",
     "text": [
      "skip 'select' in STATE: SUBJECT\n"
     ]
    }
   ],
   "source": [
    "fsm.run_char([\"select\"])"
   ]
  },
  {
   "cell_type": "code",
   "execution_count": 72,
   "metadata": {
    "ExecuteTime": {
     "end_time": "2018-04-21T10:57:00.160570Z",
     "start_time": "2018-04-21T10:57:00.155556Z"
    }
   },
   "outputs": [
    {
     "data": {
      "text/plain": [
       "False"
      ]
     },
     "execution_count": 72,
     "metadata": {},
     "output_type": "execute_result"
    }
   ],
   "source": [
    "fsm.valid_word"
   ]
  },
  {
   "cell_type": "code",
   "execution_count": 62,
   "metadata": {
    "ExecuteTime": {
     "end_time": "2018-04-21T10:56:30.328859Z",
     "start_time": "2018-04-21T10:56:30.323846Z"
    }
   },
   "outputs": [
    {
     "data": {
      "text/plain": [
       "False"
      ]
     },
     "execution_count": 62,
     "metadata": {},
     "output_type": "execute_result"
    }
   ],
   "source": [
    "fsm.valid_word"
   ]
  },
  {
   "cell_type": "code",
   "execution_count": 38,
   "metadata": {
    "ExecuteTime": {
     "end_time": "2018-04-21T10:55:45.265411Z",
     "start_time": "2018-04-21T10:55:45.260898Z"
    }
   },
   "outputs": [
    {
     "ename": "SyntaxError",
     "evalue": "invalid syntax (<ipython-input-38-f1a73c6b3a41>, line 1)",
     "output_type": "error",
     "traceback": [
      "\u001b[1;36m  File \u001b[1;32m\"<ipython-input-38-f1a73c6b3a41>\"\u001b[1;36m, line \u001b[1;32m1\u001b[0m\n\u001b[1;33m    fsm.\u001b[0m\n\u001b[1;37m        ^\u001b[0m\n\u001b[1;31mSyntaxError\u001b[0m\u001b[1;31m:\u001b[0m invalid syntax\n"
     ]
    }
   ],
   "source": [
    "fsm."
   ]
  },
  {
   "cell_type": "code",
   "execution_count": 85,
   "metadata": {
    "ExecuteTime": {
     "end_time": "2018-04-21T11:12:40.369054Z",
     "start_time": "2018-04-21T11:12:40.365545Z"
    }
   },
   "outputs": [],
   "source": [
    "fsm = Rule_Parse_FSM()"
   ]
  },
  {
   "cell_type": "code",
   "execution_count": 88,
   "metadata": {
    "ExecuteTime": {
     "end_time": "2018-04-21T11:32:37.188022Z",
     "start_time": "2018-04-21T11:32:37.182509Z"
    }
   },
   "outputs": [
    {
     "name": "stdout",
     "output_type": "stream",
     "text": [
      "skip 'select' in STATE: SUBJECT\n",
      "skip 'select' in STATE: SUBJECT\n",
      "skip 'select' in STATE: SUBJECT\n",
      "skip 'select' in STATE: SUBJECT\n",
      "skip 'select' in STATE: SUBJECT\n",
      "skip 'select' in STATE: SUBJECT\n",
      "skip 'select' in STATE: SUBJECT\n",
      "skip 'select' in STATE: SUBJECT\n",
      "skip 'select' in STATE: SUBJECT\n",
      "skip 'select' in STATE: SUBJECT\n"
     ]
    }
   ],
   "source": [
    "for i in range(10):\n",
    "    fsm.run(\"select\")\n",
    "   "
   ]
  },
  {
   "cell_type": "code",
   "execution_count": 89,
   "metadata": {
    "ExecuteTime": {
     "end_time": "2018-04-21T11:32:41.456124Z",
     "start_time": "2018-04-21T11:32:41.450609Z"
    }
   },
   "outputs": [
    {
     "name": "stdout",
     "output_type": "stream",
     "text": [
      "skip 'select' in STATE: SUBJECT\n"
     ]
    },
    {
     "data": {
      "text/plain": [
       "False"
      ]
     },
     "execution_count": 89,
     "metadata": {},
     "output_type": "execute_result"
    }
   ],
   "source": [
    "fsm.run(\"select\")"
   ]
  },
  {
   "cell_type": "code",
   "execution_count": null,
   "metadata": {},
   "outputs": [],
   "source": []
  }
 ],
 "metadata": {
  "kernelspec": {
   "display_name": "Python 3",
   "language": "python",
   "name": "python3"
  },
  "language_info": {
   "codemirror_mode": {
    "name": "ipython",
    "version": 3
   },
   "file_extension": ".py",
   "mimetype": "text/x-python",
   "name": "python",
   "nbconvert_exporter": "python",
   "pygments_lexer": "ipython3",
   "version": "3.6.5"
  }
 },
 "nbformat": 4,
 "nbformat_minor": 2
}
