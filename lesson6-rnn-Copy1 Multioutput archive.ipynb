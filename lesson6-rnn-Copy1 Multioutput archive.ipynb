{
 "cells": [
  {
   "cell_type": "code",
   "execution_count": 1,
   "metadata": {
    "ExecuteTime": {
     "end_time": "2018-04-23T09:33:06.618307Z",
     "start_time": "2018-04-23T09:33:06.237272Z"
    }
   },
   "outputs": [],
   "source": [
    "%reload_ext autoreload\n",
    "%autoreload 2\n",
    "%matplotlib inline\n",
    "\n",
    "from fastai.io import *\n",
    "from fastai.conv_learner import *\n",
    "from fastai.text import *\n",
    "from fastai.column_data import *"
   ]
  },
  {
   "cell_type": "code",
   "execution_count": 2,
   "metadata": {
    "ExecuteTime": {
     "end_time": "2018-04-23T09:33:06.965516Z",
     "start_time": "2018-04-23T09:33:06.620318Z"
    }
   },
   "outputs": [],
   "source": [
    "# from fsm import *"
   ]
  },
  {
   "cell_type": "code",
   "execution_count": 3,
   "metadata": {
    "ExecuteTime": {
     "end_time": "2018-04-23T09:33:07.310567Z",
     "start_time": "2018-04-23T09:33:06.967522Z"
    }
   },
   "outputs": [],
   "source": [
    "DATA_PATH = Path('data')\n",
    "DATA_PATH\n",
    "TMP_PATH = DATA_PATH/'tmp'\n",
    "TMP_PATH.mkdir(exist_ok=True)"
   ]
  },
  {
   "cell_type": "code",
   "execution_count": 4,
   "metadata": {
    "ExecuteTime": {
     "end_time": "2018-04-23T09:33:07.814526Z",
     "start_time": "2018-04-23T09:33:07.312072Z"
    }
   },
   "outputs": [],
   "source": [
    "sql_ids = np.load(TMP_PATH/'sql_ids.npy')\n",
    "sql_itos = pickle.load(open(TMP_PATH/'sql_itos.pkl','rb'))\n",
    "sql_stoi =  collections.defaultdict(lambda: 3, {v:k for k,v in enumerate(sql_itos)})"
   ]
  },
  {
   "cell_type": "code",
   "execution_count": 5,
   "metadata": {},
   "outputs": [],
   "source": [
    "def test_case():\n",
    "    sample = ['updat','selec','delet','inser']\n",
    "    for i in sample:\n",
    "        print('Input:', i, 'output:', i+get_next(i))\n",
    "              \n",
    "    sample = ['update','select','insert','delete']          \n",
    "    for i in sample:\n",
    "            print('Input:', i, 'output:', sentence(i))    "
   ]
  },
  {
   "cell_type": "code",
   "execution_count": 7,
   "metadata": {
    "ExecuteTime": {
     "end_time": "2018-04-23T09:39:13.062325Z",
     "start_time": "2018-04-23T09:39:12.758442Z"
    }
   },
   "outputs": [],
   "source": [
    "# fsm = Rule_Parse_FSM()\n",
    "\n",
    "# get_next_random(\"select userid from users where \".split())\n",
    "\n",
    "# get_next_random_fsm(\"select userid from users where \".split(), fsm)"
   ]
  },
  {
   "cell_type": "markdown",
   "metadata": {},
   "source": [
    "## Setup"
   ]
  },
  {
   "cell_type": "markdown",
   "metadata": {},
   "source": [
    "Set up directory path"
   ]
  },
  {
   "cell_type": "code",
   "execution_count": 40,
   "metadata": {
    "ExecuteTime": {
     "end_time": "2018-04-23T09:39:13.586123Z",
     "start_time": "2018-04-23T09:39:13.230367Z"
    }
   },
   "outputs": [
    {
     "data": {
      "text/html": [
       "<div>\n",
       "<style scoped>\n",
       "    .dataframe tbody tr th:only-of-type {\n",
       "        vertical-align: middle;\n",
       "    }\n",
       "\n",
       "    .dataframe tbody tr th {\n",
       "        vertical-align: top;\n",
       "    }\n",
       "\n",
       "    .dataframe thead th {\n",
       "        text-align: right;\n",
       "    }\n",
       "</style>\n",
       "<table border=\"1\" class=\"dataframe\">\n",
       "  <thead>\n",
       "    <tr style=\"text-align: right;\">\n",
       "      <th></th>\n",
       "      <th>comments</th>\n",
       "      <th>description</th>\n",
       "      <th>id</th>\n",
       "      <th>sql</th>\n",
       "      <th>sql_plain</th>\n",
       "      <th>title</th>\n",
       "      <th>url</th>\n",
       "    </tr>\n",
       "  </thead>\n",
       "  <tbody>\n",
       "    <tr>\n",
       "      <th>0</th>\n",
       "      <td>[]</td>\n",
       "      <td></td>\n",
       "      <td>586912</td>\n",
       "      <td>SELECT p.Title,p.score,p.ViewCount,p.AnswerCou...</td>\n",
       "      <td>SELECT \\np.Title,p.score,p.ViewCount,p.AnswerC...</td>\n",
       "      <td>Repent 151-160</td>\n",
       "      <td>http://data.stackexchange.com/stackoverflow/re...</td>\n",
       "    </tr>\n",
       "  </tbody>\n",
       "</table>\n",
       "</div>"
      ],
      "text/plain": [
       "  comments description      id  \\\n",
       "0       []              586912   \n",
       "\n",
       "                                                 sql  \\\n",
       "0  SELECT p.Title,p.score,p.ViewCount,p.AnswerCou...   \n",
       "\n",
       "                                           sql_plain           title  \\\n",
       "0  SELECT \\np.Title,p.score,p.ViewCount,p.AnswerC...  Repent 151-160   \n",
       "\n",
       "                                                 url  \n",
       "0  http://data.stackexchange.com/stackoverflow/re...  "
      ]
     },
     "execution_count": 40,
     "metadata": {},
     "output_type": "execute_result"
    }
   ],
   "source": [
    "dataset = pd.read_json(DATA_PATH/'train.json')\n",
    "dataset.head(1)\n"
   ]
  },
  {
   "cell_type": "code",
   "execution_count": 53,
   "metadata": {
    "ExecuteTime": {
     "end_time": "2018-04-23T09:39:13.936630Z",
     "start_time": "2018-04-23T09:39:13.587125Z"
    }
   },
   "outputs": [],
   "source": [
    "# get_next_random(\"select userid from users where \".split())\n",
    "\n",
    "SQL = dataset.sql\n",
    "SQL = SQL.str.lower() # Pad space around non character string"
   ]
  },
  {
   "cell_type": "code",
   "execution_count": 57,
   "metadata": {},
   "outputs": [],
   "source": [
    "SQL = SQL.str.replace('(\\W)', r' \\1 ')"
   ]
  },
  {
   "cell_type": "code",
   "execution_count": 59,
   "metadata": {},
   "outputs": [
    {
     "data": {
      "text/plain": [
       "0    select   p . title , p . score , p . viewcount...\n",
       "1    create   table    # customerdb    (    id   in...\n",
       "Name: sql, dtype: object"
      ]
     },
     "execution_count": 59,
     "metadata": {},
     "output_type": "execute_result"
    }
   ],
   "source": [
    "SQL[:2]"
   ]
  },
  {
   "cell_type": "markdown",
   "metadata": {},
   "source": [
    "###  Weird Spacy"
   ]
  },
  {
   "cell_type": "code",
   "execution_count": 42,
   "metadata": {},
   "outputs": [],
   "source": [
    "tmp =[\"id userid normal ac hed wed theyd  itd ID WED\"]"
   ]
  },
  {
   "cell_type": "code",
   "execution_count": 43,
   "metadata": {},
   "outputs": [
    {
     "data": {
      "text/plain": [
       "[['i',\n",
       "  'd',\n",
       "  'userid',\n",
       "  'normal',\n",
       "  'ac',\n",
       "  'he',\n",
       "  'd',\n",
       "  'we',\n",
       "  'd',\n",
       "  'they',\n",
       "  'd',\n",
       "  'it',\n",
       "  'd',\n",
       "  'i',\n",
       "  'd',\n",
       "  't_up',\n",
       "  'we',\n",
       "  'd']]"
      ]
     },
     "execution_count": 43,
     "metadata": {},
     "output_type": "execute_result"
    }
   ],
   "source": [
    "Tokenizer.proc_all(tmp,lang='en') ## Seems confirm Jeremy's Theory"
   ]
  },
  {
   "cell_type": "markdown",
   "metadata": {},
   "source": [
    "## Parallel processing"
   ]
  },
  {
   "cell_type": "code",
   "execution_count": 44,
   "metadata": {},
   "outputs": [],
   "source": [
    "def lambda_split(x):\n",
    "    return x.split() "
   ]
  },
  {
   "cell_type": "code",
   "execution_count": 45,
   "metadata": {},
   "outputs": [],
   "source": [
    "def proc_all_mp(ss):\n",
    "        ncpus = num_cpus()//2\n",
    "        with ProcessPoolExecutor(ncpus) as e:\n",
    "            return list(e.map(lambda_split, ss))"
   ]
  },
  {
   "cell_type": "code",
   "execution_count": 46,
   "metadata": {},
   "outputs": [
    {
     "name": "stdout",
     "output_type": "stream",
     "text": [
      "CPU times: user 8.45 s, sys: 2.62 s, total: 11.1 s\n",
      "Wall time: 8.9 s\n"
     ]
    }
   ],
   "source": [
    "%time tmp = proc_all_mp(SQL)"
   ]
  },
  {
   "cell_type": "code",
   "execution_count": 47,
   "metadata": {},
   "outputs": [
    {
     "name": "stdout",
     "output_type": "stream",
     "text": [
      "CPU times: user 352 ms, sys: 31.3 ms, total: 383 ms\n",
      "Wall time: 382 ms\n",
      "\n"
     ]
    }
   ],
   "source": [
    "%time [i.split() for i in SQL]\n",
    "print(\"\")"
   ]
  },
  {
   "cell_type": "code",
   "execution_count": 48,
   "metadata": {},
   "outputs": [
    {
     "name": "stdout",
     "output_type": "stream",
     "text": [
      "CPU times: user 112 ms, sys: 20 ms, total: 132 ms\n",
      "Wall time: 131 ms\n",
      "\n"
     ]
    }
   ],
   "source": [
    "%time SQL.apply(lambda x : x.split())\n",
    "print(\"\")"
   ]
  },
  {
   "cell_type": "code",
   "execution_count": 49,
   "metadata": {},
   "outputs": [
    {
     "name": "stdout",
     "output_type": "stream",
     "text": [
      "CPU times: user 111 ms, sys: 31.5 ms, total: 143 ms\n",
      "Wall time: 142 ms\n",
      "\n"
     ]
    }
   ],
   "source": [
    "%time SQL.str.split()\n",
    "print(\"\")"
   ]
  },
  {
   "cell_type": "code",
   "execution_count": 60,
   "metadata": {
    "ExecuteTime": {
     "end_time": "2018-04-23T09:39:14.666474Z",
     "start_time": "2018-04-23T09:39:14.281573Z"
    },
    "scrolled": true
   },
   "outputs": [
    {
     "data": {
      "text/plain": [
       "'select p . title , p . score , p . viewcount , p . answercount , p . commentcount , len ( p . body ) as ques_size , p . favoritecount , p . id , u . reputation as user_repo , u . creationdate as user_join_date , datediff ( minute , p . creationdate , a . creationdate ) as qatimegap from posts as p , posts as a , users as u where p . id = a . parentid and p . owneruserid = u . id and a . creationdate = ( select min ( tau . creationdate ) from posts tau where tau . parentid = p . id group by tau . parentid ) and ( p . title like \\' % recommended method for handling unsupportedencodingexception from string . getbytes ( \" utf - 8 \" ) % \\' or p . title like \\' % way to format strings with \" ? \" parameters to full string in java ? % \\' or p . title like \\' % how to parse a string without regular expressions % \\' or p . title like \\' % how to replace string only once without regex in java ? % \\' or p . title like \\' % efficiently removing specific characters ( some punctuation ) from strings in java ? % \\' or p . title like \\' % strings are immutable - that means i should never use + = and only stringbuffer ? % \\' or p . title like \\' % concatenation of strings and characters % \\' or p . title like \\' % java - convert integer to string % \\' or p . title like \\' % function to remove duplicate characters in a string % \\' or p . title like \\' % better template language needed % \\' )'"
      ]
     },
     "execution_count": 60,
     "metadata": {},
     "output_type": "execute_result"
    }
   ],
   "source": [
    "sql_tok = SQL.str.split()\n",
    "\" \".join(sql_tok[0])"
   ]
  },
  {
   "cell_type": "markdown",
   "metadata": {},
   "source": [
    "Clean up SQL that are too long/short."
   ]
  },
  {
   "cell_type": "code",
   "execution_count": 61,
   "metadata": {},
   "outputs": [],
   "source": [
    "lens=[len(i) for i in sql_tok]\n",
    "lens= np.array(lens)"
   ]
  },
  {
   "cell_type": "code",
   "execution_count": 62,
   "metadata": {},
   "outputs": [
    {
     "data": {
      "text/plain": [
       "array([316, 308,  24, 178,  44,  52,  84,  99, 190,  38])"
      ]
     },
     "execution_count": 62,
     "metadata": {},
     "output_type": "execute_result"
    }
   ],
   "source": [
    "lens[:10]"
   ]
  },
  {
   "cell_type": "code",
   "execution_count": 63,
   "metadata": {},
   "outputs": [
    {
     "data": {
      "text/plain": [
       "(83.80332601447508, 1, 863, 79.63395093587785)"
      ]
     },
     "execution_count": 63,
     "metadata": {},
     "output_type": "execute_result"
    }
   ],
   "source": [
    "lens.mean(),lens.min(),lens.max(),lens.std()"
   ]
  },
  {
   "cell_type": "code",
   "execution_count": 142,
   "metadata": {},
   "outputs": [
    {
     "data": {
      "text/plain": [
       "(array([0.6692 , 0.89404, 0.95917, 0.9827 , 0.9945 , 0.99853, 0.99955, 0.9998 , 0.99992, 1.     ]),\n",
       " array([  4. ,  89.9, 175.8, 261.7, 347.6, 433.5, 519.4, 605.3, 691.2, 777.1, 863. ]),\n",
       " <a list of 10 Patch objects>)"
      ]
     },
     "execution_count": 142,
     "metadata": {},
     "output_type": "execute_result"
    },
    {
     "data": {
      "image/png": "[encoded data removed]",
      "text/plain": [
       "<matplotlib.figure.Figure at 0x7fde4249b470>"
      ]
     },
     "metadata": {},
     "output_type": "display_data"
    }
   ],
   "source": [
    "plt.hist(lens,cumulative=True,density=True)"
   ]
  },
  {
   "cell_type": "code",
   "execution_count": 64,
   "metadata": {},
   "outputs": [
    {
     "name": "stdout",
     "output_type": "stream",
     "text": [
      "Filter out  1239 sentences\n"
     ]
    }
   ],
   "source": [
    "tmp = len(sql_tok)\n",
    "sql_tok = [i for i in sql_tok if len(i)>=4 and len(i)< int(lens.mean()+ 2*lens.std())] # Roughly 95% data\n",
    "print('Filter out ', tmp - len(sql_tok), \"sentences\")"
   ]
  },
  {
   "cell_type": "code",
   "execution_count": 65,
   "metadata": {
    "ExecuteTime": {
     "end_time": "2018-04-23T09:39:14.670488Z",
     "start_time": "2018-04-23T09:39:13.883Z"
    }
   },
   "outputs": [],
   "source": [
    "def toks2ids(tok,pre):\n",
    "    freq = Counter(p for o in tok for p in o)\n",
    "    itos = [o for o,c in freq.most_common()] ## Avoid rare tokens\n",
    "    itos.insert(0, '_bos_')\n",
    "    itos.insert(1, '_pad_')\n",
    "    itos.insert(2, '_eos_')\n",
    "    itos.insert(3, '_unk')\n",
    "    stoi = collections.defaultdict(lambda: 3, {v:k for k,v in enumerate(itos)})\n",
    "    ids = np.array([([0] + [stoi[o] for o in p] + [2]) for p in tok]) # pad bos at beginning and eos at the end\n",
    "    np.save(TMP_PATH/f'{pre}_ids.npy', ids)\n",
    "    pickle.dump(itos, open(TMP_PATH/f'{pre}_itos.pkl', 'wb'))\n",
    "    return ids,itos,stoi"
   ]
  },
  {
   "cell_type": "code",
   "execution_count": 66,
   "metadata": {
    "ExecuteTime": {
     "end_time": "2018-04-20T09:57:59.312786Z",
     "start_time": "2018-04-20T09:57:58.409179Z"
    }
   },
   "outputs": [],
   "source": [
    "sql_ids,sql_itos,sql_stoi = toks2ids(sql_tok,'sql')"
   ]
  },
  {
   "cell_type": "code",
   "execution_count": 67,
   "metadata": {
    "ExecuteTime": {
     "end_time": "2018-04-23T09:33:14.241166Z",
     "start_time": "2018-04-23T09:33:13.828035Z"
    }
   },
   "outputs": [],
   "source": [
    "sql_ids_concat= []\n",
    "for i in sql_ids:\n",
    "    sql_ids_concat += i"
   ]
  },
  {
   "cell_type": "code",
   "execution_count": 68,
   "metadata": {},
   "outputs": [
    {
     "data": {
      "text/plain": [
       "16288"
      ]
     },
     "execution_count": 68,
     "metadata": {},
     "output_type": "execute_result"
    }
   ],
   "source": [
    "len(sql_itos)"
   ]
  },
  {
   "cell_type": "code",
   "execution_count": 69,
   "metadata": {
    "ExecuteTime": {
     "end_time": "2018-04-23T09:33:14.711970Z",
     "start_time": "2018-04-23T09:33:14.346007Z"
    }
   },
   "outputs": [
    {
     "data": {
      "text/plain": [
       "(23355,)"
      ]
     },
     "execution_count": 69,
     "metadata": {},
     "output_type": "execute_result"
    }
   ],
   "source": [
    "sql_ids.shape"
   ]
  },
  {
   "cell_type": "code",
   "execution_count": 70,
   "metadata": {
    "ExecuteTime": {
     "end_time": "2018-04-23T09:33:15.036560Z",
     "start_time": "2018-04-23T09:33:14.713978Z"
    }
   },
   "outputs": [
    {
     "name": "stdout",
     "output_type": "stream",
     "text": [
      "total words: 16288\n"
     ]
    }
   ],
   "source": [
    "vocab_size = len(sql_itos)\n",
    "print('total words:', vocab_size)"
   ]
  },
  {
   "cell_type": "markdown",
   "metadata": {},
   "source": [
    "### Create inputs"
   ]
  },
  {
   "cell_type": "markdown",
   "metadata": {},
   "source": [
    "Create a list of every 4th character, starting at the 0th, 1st, 2nd, then 3rd characters"
   ]
  },
  {
   "cell_type": "code",
   "execution_count": 180,
   "metadata": {
    "ExecuteTime": {
     "end_time": "2018-04-23T09:33:15.773966Z",
     "start_time": "2018-04-23T09:33:15.434516Z"
    }
   },
   "outputs": [],
   "source": [
    "idx = sql_ids_concat"
   ]
  },
  {
   "cell_type": "code",
   "execution_count": 181,
   "metadata": {
    "ExecuteTime": {
     "end_time": "2018-04-23T09:33:16.090142Z",
     "start_time": "2018-04-23T09:33:15.773966Z"
    }
   },
   "outputs": [],
   "source": [
    "char_indices = sql_stoi\n",
    "indices_char = sql_itos"
   ]
  },
  {
   "cell_type": "markdown",
   "metadata": {},
   "source": [
    "### Create and train model"
   ]
  },
  {
   "cell_type": "markdown",
   "metadata": {},
   "source": [
    "Pick a size for our hidden state"
   ]
  },
  {
   "cell_type": "markdown",
   "metadata": {
    "collapsed": true
   },
   "source": [
    "## Multi-output model"
   ]
  },
  {
   "cell_type": "markdown",
   "metadata": {},
   "source": [
    "### GRU"
   ]
  },
  {
   "cell_type": "code",
   "execution_count": 34,
   "metadata": {
    "ExecuteTime": {
     "end_time": "2018-04-23T09:33:47.362607Z",
     "start_time": "2018-04-23T09:33:46.989362Z"
    }
   },
   "outputs": [],
   "source": [
    "import pdb"
   ]
  },
  {
   "cell_type": "code",
   "execution_count": 182,
   "metadata": {
    "ExecuteTime": {
     "end_time": "2018-04-23T09:33:47.697500Z",
     "start_time": "2018-04-23T09:33:47.362607Z"
    }
   },
   "outputs": [],
   "source": [
    "def nll_loss_seq(inp, targ):\n",
    "    sl,bs,nh = inp.size()\n",
    "    targ = targ.transpose(0,1).contiguous().view(-1)\n",
    "    return F.nll_loss(inp.view(-1,nh), targ)"
   ]
  },
  {
   "cell_type": "code",
   "execution_count": 46,
   "metadata": {},
   "outputs": [],
   "source": [
    "# Tune Embedding size"
   ]
  },
  {
   "cell_type": "code",
   "execution_count": 49,
   "metadata": {},
   "outputs": [],
   "source": [
    "n_hidden = 32"
   ]
  },
  {
   "cell_type": "code",
   "execution_count": 50,
   "metadata": {},
   "outputs": [],
   "source": [
    "m = CharSeqStatefulGRU(len(sql_itos), n_fac, bs=bs)\n",
    "opt_fn = partial(optim.Adam, betas=(0.8, 0.99))\n",
    "learn = RNN_Learner(md, SingleModel(to_gpu(m)), opt_fn=opt_fn)\n",
    "learn.crit = nll_loss_seq"
   ]
  },
  {
   "cell_type": "code",
   "execution_count": 51,
   "metadata": {},
   "outputs": [
    {
     "data": {
      "application/vnd.jupyter.widget-view+json": {
       "model_id": "d48cbac43db045fdaa9789a3b0ee9b16",
       "version_major": 2,
       "version_minor": 0
      },
      "text/html": [
       "<p>Failed to display Jupyter Widget of type <code>HBox</code>.</p>\n",
       "<p>\n",
       "  If you're reading this message in the Jupyter Notebook or JupyterLab Notebook, it may mean\n",
       "  that the widgets JavaScript is still loading. If this message persists, it\n",
       "  likely means that the widgets JavaScript library is either not installed or\n",
       "  not enabled. See the <a href=\"https://ipywidgets.readthedocs.io/en/stable/user_install.html\">Jupyter\n",
       "  Widgets Documentation</a> for setup instructions.\n",
       "</p>\n",
       "<p>\n",
       "  If you're reading this message in another frontend (for example, a static\n",
       "  rendering on GitHub or <a href=\"https://nbviewer.jupyter.org/\">NBViewer</a>),\n",
       "  it may mean that your frontend doesn't currently support widgets.\n",
       "</p>\n"
      ],
      "text/plain": [
       "HBox(children=(IntProgress(value=0, description='Epoch', max=5), HTML(value='')))"
      ]
     },
     "metadata": {},
     "output_type": "display_data"
    },
    {
     "name": "stdout",
     "output_type": "stream",
     "text": [
      "epoch      trn_loss   val_loss                              \n",
      "    0      5.093435   4.78217   \n",
      "    1      4.329296   3.750399                              \n",
      "    2      3.883863   3.331731                              \n",
      "    3      3.735478   3.2142                                \n",
      "    4      3.686383   3.186601                              \n",
      "\n"
     ]
    },
    {
     "data": {
      "text/plain": [
       "[array([3.1866])]"
      ]
     },
     "execution_count": 51,
     "metadata": {},
     "output_type": "execute_result"
    }
   ],
   "source": [
    "learn.fit(1e-2, 1, cycle_len=5, use_clr_beta = (10,10,0.95,0.85))"
   ]
  },
  {
   "cell_type": "code",
   "execution_count": 52,
   "metadata": {},
   "outputs": [],
   "source": [
    "n_hidden = 64"
   ]
  },
  {
   "cell_type": "code",
   "execution_count": 53,
   "metadata": {},
   "outputs": [],
   "source": [
    "m = CharSeqStatefulGRU(len(sql_itos), n_fac, bs=bs)\n",
    "opt_fn = partial(optim.Adam, betas=(0.8, 0.99))\n",
    "learn = RNN_Learner(md, SingleModel(to_gpu(m)), opt_fn=opt_fn)\n",
    "learn.crit = nll_loss_seq"
   ]
  },
  {
   "cell_type": "code",
   "execution_count": 54,
   "metadata": {},
   "outputs": [
    {
     "data": {
      "application/vnd.jupyter.widget-view+json": {
       "model_id": "428df8da4dd547fa99a7414ed0c87029",
       "version_major": 2,
       "version_minor": 0
      },
      "text/html": [
       "<p>Failed to display Jupyter Widget of type <code>HBox</code>.</p>\n",
       "<p>\n",
       "  If you're reading this message in the Jupyter Notebook or JupyterLab Notebook, it may mean\n",
       "  that the widgets JavaScript is still loading. If this message persists, it\n",
       "  likely means that the widgets JavaScript library is either not installed or\n",
       "  not enabled. See the <a href=\"https://ipywidgets.readthedocs.io/en/stable/user_install.html\">Jupyter\n",
       "  Widgets Documentation</a> for setup instructions.\n",
       "</p>\n",
       "<p>\n",
       "  If you're reading this message in another frontend (for example, a static\n",
       "  rendering on GitHub or <a href=\"https://nbviewer.jupyter.org/\">NBViewer</a>),\n",
       "  it may mean that your frontend doesn't currently support widgets.\n",
       "</p>\n"
      ],
      "text/plain": [
       "HBox(children=(IntProgress(value=0, description='Epoch', max=5), HTML(value='')))"
      ]
     },
     "metadata": {},
     "output_type": "display_data"
    },
    {
     "name": "stdout",
     "output_type": "stream",
     "text": [
      "epoch      trn_loss   val_loss                              \n",
      "    0      5.114829   5.020234  \n",
      "    1      5.061008   4.840818                              \n",
      "    2      3.690798   3.180483                              \n",
      "    3      3.431884   3.00008                               \n",
      "    4      3.348582   2.965333                              \n",
      "\n"
     ]
    },
    {
     "data": {
      "text/plain": [
       "[array([2.96533])]"
      ]
     },
     "execution_count": 54,
     "metadata": {},
     "output_type": "execute_result"
    }
   ],
   "source": [
    "learn.fit(1e-2, 1, cycle_len=5, use_clr_beta = (10,10,0.95,0.85))"
   ]
  },
  {
   "cell_type": "code",
   "execution_count": 55,
   "metadata": {},
   "outputs": [],
   "source": [
    "n_hidden = 128"
   ]
  },
  {
   "cell_type": "code",
   "execution_count": 56,
   "metadata": {},
   "outputs": [],
   "source": [
    "m = CharSeqStatefulGRU(len(sql_itos), n_fac, bs=bs)\n",
    "opt_fn = partial(optim.Adam, betas=(0.8, 0.99))\n",
    "learn = RNN_Learner(md, SingleModel(to_gpu(m)), opt_fn=opt_fn)\n",
    "learn.crit = nll_loss_seq"
   ]
  },
  {
   "cell_type": "code",
   "execution_count": 57,
   "metadata": {},
   "outputs": [
    {
     "data": {
      "application/vnd.jupyter.widget-view+json": {
       "model_id": "ab1c21cafd0c4be3b8dd5547d130db1e",
       "version_major": 2,
       "version_minor": 0
      },
      "text/html": [
       "<p>Failed to display Jupyter Widget of type <code>HBox</code>.</p>\n",
       "<p>\n",
       "  If you're reading this message in the Jupyter Notebook or JupyterLab Notebook, it may mean\n",
       "  that the widgets JavaScript is still loading. If this message persists, it\n",
       "  likely means that the widgets JavaScript library is either not installed or\n",
       "  not enabled. See the <a href=\"https://ipywidgets.readthedocs.io/en/stable/user_install.html\">Jupyter\n",
       "  Widgets Documentation</a> for setup instructions.\n",
       "</p>\n",
       "<p>\n",
       "  If you're reading this message in another frontend (for example, a static\n",
       "  rendering on GitHub or <a href=\"https://nbviewer.jupyter.org/\">NBViewer</a>),\n",
       "  it may mean that your frontend doesn't currently support widgets.\n",
       "</p>\n"
      ],
      "text/plain": [
       "HBox(children=(IntProgress(value=0, description='Epoch', max=5), HTML(value='')))"
      ]
     },
     "metadata": {},
     "output_type": "display_data"
    },
    {
     "name": "stdout",
     "output_type": "stream",
     "text": [
      "epoch      trn_loss   val_loss                              \n",
      "    0      3.911029   3.290907  \n",
      "    1      3.139146   2.787268                              \n",
      "    2      2.992146   2.66855                               \n",
      "    3      2.884279   2.598069                              \n",
      "    4      2.824747   2.573492                              \n",
      "\n"
     ]
    },
    {
     "data": {
      "text/plain": [
       "[array([2.57349])]"
      ]
     },
     "execution_count": 57,
     "metadata": {},
     "output_type": "execute_result"
    }
   ],
   "source": [
    "learn.fit(1e-2, 1, cycle_len=5, use_clr_beta = (10,10,0.95,0.85))"
   ]
  },
  {
   "cell_type": "code",
   "execution_count": 69,
   "metadata": {},
   "outputs": [],
   "source": [
    "n_hidden = 256"
   ]
  },
  {
   "cell_type": "code",
   "execution_count": 70,
   "metadata": {},
   "outputs": [],
   "source": [
    "m = CharSeqStatefulGRU(len(sql_itos), n_fac, bs=bs)\n",
    "opt_fn = partial(optim.Adam, betas=(0.8, 0.99))\n",
    "learn = RNN_Learner(md, SingleModel(to_gpu(m)), opt_fn=opt_fn)\n",
    "learn.crit = nll_loss_seq"
   ]
  },
  {
   "cell_type": "code",
   "execution_count": 71,
   "metadata": {},
   "outputs": [
    {
     "data": {
      "application/vnd.jupyter.widget-view+json": {
       "model_id": "bc32dac7bc79486686e66522717c189e",
       "version_major": 2,
       "version_minor": 0
      },
      "text/html": [
       "<p>Failed to display Jupyter Widget of type <code>HBox</code>.</p>\n",
       "<p>\n",
       "  If you're reading this message in the Jupyter Notebook or JupyterLab Notebook, it may mean\n",
       "  that the widgets JavaScript is still loading. If this message persists, it\n",
       "  likely means that the widgets JavaScript library is either not installed or\n",
       "  not enabled. See the <a href=\"https://ipywidgets.readthedocs.io/en/stable/user_install.html\">Jupyter\n",
       "  Widgets Documentation</a> for setup instructions.\n",
       "</p>\n",
       "<p>\n",
       "  If you're reading this message in another frontend (for example, a static\n",
       "  rendering on GitHub or <a href=\"https://nbviewer.jupyter.org/\">NBViewer</a>),\n",
       "  it may mean that your frontend doesn't currently support widgets.\n",
       "</p>\n"
      ],
      "text/plain": [
       "HBox(children=(IntProgress(value=0, description='Epoch', max=10), HTML(value='')))"
      ]
     },
     "metadata": {},
     "output_type": "display_data"
    },
    {
     "name": "stdout",
     "output_type": "stream",
     "text": [
      "epoch      trn_loss   val_loss                              \n",
      "    0      5.046133   4.954891  \n",
      "    1      4.893719   4.724728                              \n",
      "    2      3.161143   2.800292                              \n",
      "    3      2.970051   2.680501                              \n",
      "    4      2.928194   2.66087                               \n",
      "    5      2.863552   2.614521                              \n",
      "    6      2.797456   2.575808                              \n",
      "    7      2.74659    2.539472                              \n",
      "    8      2.693632   2.51797                               \n",
      "    9      2.660389   2.510145                              \n",
      "\n"
     ]
    },
    {
     "data": {
      "text/plain": [
       "[array([2.51015])]"
      ]
     },
     "execution_count": 71,
     "metadata": {},
     "output_type": "execute_result"
    }
   ],
   "source": [
    "learn.fit(1e-2, 1, cycle_len=10, use_clr_beta = (10,10,0.95,0.85))"
   ]
  },
  {
   "cell_type": "code",
   "execution_count": 64,
   "metadata": {},
   "outputs": [],
   "source": [
    "n_hidden = 512"
   ]
  },
  {
   "cell_type": "code",
   "execution_count": 65,
   "metadata": {},
   "outputs": [],
   "source": [
    "m = CharSeqStatefulGRU(len(sql_itos), n_fac, bs=bs)\n",
    "opt_fn = partial(optim.Adam, betas=(0.8, 0.99))\n",
    "learn = RNN_Learner(md, SingleModel(to_gpu(m)), opt_fn=opt_fn)\n",
    "learn.crit = nll_loss_seq"
   ]
  },
  {
   "cell_type": "code",
   "execution_count": 66,
   "metadata": {},
   "outputs": [
    {
     "data": {
      "application/vnd.jupyter.widget-view+json": {
       "model_id": "369b4c0f0f3e4a88a2f24a80644b2eb3",
       "version_major": 2,
       "version_minor": 0
      },
      "text/html": [
       "<p>Failed to display Jupyter Widget of type <code>HBox</code>.</p>\n",
       "<p>\n",
       "  If you're reading this message in the Jupyter Notebook or JupyterLab Notebook, it may mean\n",
       "  that the widgets JavaScript is still loading. If this message persists, it\n",
       "  likely means that the widgets JavaScript library is either not installed or\n",
       "  not enabled. See the <a href=\"https://ipywidgets.readthedocs.io/en/stable/user_install.html\">Jupyter\n",
       "  Widgets Documentation</a> for setup instructions.\n",
       "</p>\n",
       "<p>\n",
       "  If you're reading this message in another frontend (for example, a static\n",
       "  rendering on GitHub or <a href=\"https://nbviewer.jupyter.org/\">NBViewer</a>),\n",
       "  it may mean that your frontend doesn't currently support widgets.\n",
       "</p>\n"
      ],
      "text/plain": [
       "HBox(children=(IntProgress(value=0, description='Epoch', max=5), HTML(value='')))"
      ]
     },
     "metadata": {},
     "output_type": "display_data"
    },
    {
     "name": "stdout",
     "output_type": "stream",
     "text": [
      "epoch      trn_loss   val_loss                              \n",
      "    0      4.249852   3.79147   \n",
      "    1      3.072682   2.788784                              \n",
      "    2      2.982907   2.686018                              \n",
      "    3      2.840965   2.594483                              \n",
      "    4      2.721307   2.547533                              \n",
      "\n"
     ]
    },
    {
     "data": {
      "text/plain": [
       "[array([2.54753])]"
      ]
     },
     "execution_count": 66,
     "metadata": {},
     "output_type": "execute_result"
    }
   ],
   "source": [
    "learn.fit(1e-2, 1, cycle_len=5, use_clr_beta = (10,10,0.95,0.85))"
   ]
  },
  {
   "cell_type": "code",
   "execution_count": 67,
   "metadata": {},
   "outputs": [
    {
     "data": {
      "application/vnd.jupyter.widget-view+json": {
       "model_id": "d366ed585da64fe68ebca85099c366a2",
       "version_major": 2,
       "version_minor": 0
      },
      "text/html": [
       "<p>Failed to display Jupyter Widget of type <code>HBox</code>.</p>\n",
       "<p>\n",
       "  If you're reading this message in the Jupyter Notebook or JupyterLab Notebook, it may mean\n",
       "  that the widgets JavaScript is still loading. If this message persists, it\n",
       "  likely means that the widgets JavaScript library is either not installed or\n",
       "  not enabled. See the <a href=\"https://ipywidgets.readthedocs.io/en/stable/user_install.html\">Jupyter\n",
       "  Widgets Documentation</a> for setup instructions.\n",
       "</p>\n",
       "<p>\n",
       "  If you're reading this message in another frontend (for example, a static\n",
       "  rendering on GitHub or <a href=\"https://nbviewer.jupyter.org/\">NBViewer</a>),\n",
       "  it may mean that your frontend doesn't currently support widgets.\n",
       "</p>\n"
      ],
      "text/plain": [
       "HBox(children=(IntProgress(value=0, description='Epoch', max=3), HTML(value='')))"
      ]
     },
     "metadata": {},
     "output_type": "display_data"
    },
    {
     "name": "stdout",
     "output_type": "stream",
     "text": [
      "epoch      trn_loss   val_loss                              \n",
      "    0      2.723165   2.551734  \n",
      "    1      2.700525   2.536083                              \n",
      "    2      2.66955    2.528203                              \n",
      "\n"
     ]
    },
    {
     "data": {
      "text/plain": [
       "[array([2.5282])]"
      ]
     },
     "execution_count": 67,
     "metadata": {},
     "output_type": "execute_result"
    }
   ],
   "source": [
    "learn.fit(1e-3, 1, cycle_len=3, use_clr_beta = (10,10,0.95,0.85))"
   ]
  },
  {
   "cell_type": "code",
   "execution_count": 68,
   "metadata": {},
   "outputs": [
    {
     "data": {
      "application/vnd.jupyter.widget-view+json": {
       "model_id": "d1c322d3aa1a4627ba06e2a67a2eb6fc",
       "version_major": 2,
       "version_minor": 0
      },
      "text/html": [
       "<p>Failed to display Jupyter Widget of type <code>HBox</code>.</p>\n",
       "<p>\n",
       "  If you're reading this message in the Jupyter Notebook or JupyterLab Notebook, it may mean\n",
       "  that the widgets JavaScript is still loading. If this message persists, it\n",
       "  likely means that the widgets JavaScript library is either not installed or\n",
       "  not enabled. See the <a href=\"https://ipywidgets.readthedocs.io/en/stable/user_install.html\">Jupyter\n",
       "  Widgets Documentation</a> for setup instructions.\n",
       "</p>\n",
       "<p>\n",
       "  If you're reading this message in another frontend (for example, a static\n",
       "  rendering on GitHub or <a href=\"https://nbviewer.jupyter.org/\">NBViewer</a>),\n",
       "  it may mean that your frontend doesn't currently support widgets.\n",
       "</p>\n"
      ],
      "text/plain": [
       "HBox(children=(IntProgress(value=0, description='Epoch', max=3), HTML(value='')))"
      ]
     },
     "metadata": {},
     "output_type": "display_data"
    },
    {
     "name": "stdout",
     "output_type": "stream",
     "text": [
      "epoch      trn_loss   val_loss                              \n",
      "    0      2.681399   2.533979  \n",
      "    1      2.674699   2.519563                              \n",
      "    2      2.653546   2.512279                              \n",
      "\n"
     ]
    },
    {
     "data": {
      "text/plain": [
       "[array([2.51228])]"
      ]
     },
     "execution_count": 68,
     "metadata": {},
     "output_type": "execute_result"
    }
   ],
   "source": [
    "learn.fit(1e-3, 1, cycle_len=3, use_clr_beta = (10,10,0.95,0.85))"
   ]
  },
  {
   "cell_type": "code",
   "execution_count": 73,
   "metadata": {},
   "outputs": [],
   "source": [
    "n_hidden=256\n",
    "n_fac=300"
   ]
  },
  {
   "cell_type": "code",
   "execution_count": 74,
   "metadata": {},
   "outputs": [],
   "source": [
    "m = CharSeqStatefulGRU(len(sql_itos), n_fac, bs=bs)\n",
    "opt_fn = partial(optim.Adam, betas=(0.8, 0.99))\n",
    "learn = RNN_Learner(md, SingleModel(to_gpu(m)), opt_fn=opt_fn)\n",
    "learn.crit = nll_loss_seq"
   ]
  },
  {
   "cell_type": "code",
   "execution_count": 75,
   "metadata": {
    "scrolled": true
   },
   "outputs": [
    {
     "data": {
      "application/vnd.jupyter.widget-view+json": {
       "model_id": "cabbbfbf853647a5b898365486a7988e",
       "version_major": 2,
       "version_minor": 0
      },
      "text/html": [
       "<p>Failed to display Jupyter Widget of type <code>HBox</code>.</p>\n",
       "<p>\n",
       "  If you're reading this message in the Jupyter Notebook or JupyterLab Notebook, it may mean\n",
       "  that the widgets JavaScript is still loading. If this message persists, it\n",
       "  likely means that the widgets JavaScript library is either not installed or\n",
       "  not enabled. See the <a href=\"https://ipywidgets.readthedocs.io/en/stable/user_install.html\">Jupyter\n",
       "  Widgets Documentation</a> for setup instructions.\n",
       "</p>\n",
       "<p>\n",
       "  If you're reading this message in another frontend (for example, a static\n",
       "  rendering on GitHub or <a href=\"https://nbviewer.jupyter.org/\">NBViewer</a>),\n",
       "  it may mean that your frontend doesn't currently support widgets.\n",
       "</p>\n"
      ],
      "text/plain": [
       "HBox(children=(IntProgress(value=0, description='Epoch', max=10), HTML(value='')))"
      ]
     },
     "metadata": {},
     "output_type": "display_data"
    },
    {
     "name": "stdout",
     "output_type": "stream",
     "text": [
      "epoch      trn_loss   val_loss                              \n",
      "    0      3.110964   2.774432  \n",
      "    1      2.815899   2.556583                              \n",
      "    2      2.778743   2.542035                              \n",
      "    3      2.810705   2.562714                              \n",
      "    4      2.824984   2.583076                              \n",
      "    5      2.77605    2.548158                              \n",
      "    6      2.722447   2.510649                              \n",
      "  2%|▏         | 7/336 [00:00<00:38,  8.49it/s, loss=2.72]"
     ]
    },
    {
     "ename": "KeyboardInterrupt",
     "evalue": "",
     "output_type": "error",
     "traceback": [
      "\u001b[0;31m---------------------------------------------------------------------------\u001b[0m",
      "\u001b[0;31mKeyboardInterrupt\u001b[0m                         Traceback (most recent call last)",
      "\u001b[0;32m<ipython-input-75-71d4e1224c24>\u001b[0m in \u001b[0;36m<module>\u001b[0;34m()\u001b[0m\n\u001b[0;32m----> 1\u001b[0;31m \u001b[0mlearn\u001b[0m\u001b[0;34m.\u001b[0m\u001b[0mfit\u001b[0m\u001b[0;34m(\u001b[0m\u001b[0;36m1e-2\u001b[0m\u001b[0;34m,\u001b[0m \u001b[0;36m1\u001b[0m\u001b[0;34m,\u001b[0m \u001b[0mcycle_len\u001b[0m\u001b[0;34m=\u001b[0m\u001b[0;36m10\u001b[0m\u001b[0;34m,\u001b[0m \u001b[0muse_clr_beta\u001b[0m \u001b[0;34m=\u001b[0m \u001b[0;34m(\u001b[0m\u001b[0;36m10\u001b[0m\u001b[0;34m,\u001b[0m\u001b[0;36m10\u001b[0m\u001b[0;34m,\u001b[0m\u001b[0;36m0.95\u001b[0m\u001b[0;34m,\u001b[0m\u001b[0;36m0.85\u001b[0m\u001b[0;34m)\u001b[0m\u001b[0;34m)\u001b[0m\u001b[0;34m\u001b[0m\u001b[0m\n\u001b[0m",
      "\u001b[0;32m~/SQL_Generator/fastai/learner.py\u001b[0m in \u001b[0;36mfit\u001b[0;34m(self, lrs, n_cycle, wds, **kwargs)\u001b[0m\n\u001b[1;32m    249\u001b[0m         \u001b[0mself\u001b[0m\u001b[0;34m.\u001b[0m\u001b[0msched\u001b[0m \u001b[0;34m=\u001b[0m \u001b[0;32mNone\u001b[0m\u001b[0;34m\u001b[0m\u001b[0m\n\u001b[1;32m    250\u001b[0m         \u001b[0mlayer_opt\u001b[0m \u001b[0;34m=\u001b[0m \u001b[0mself\u001b[0m\u001b[0;34m.\u001b[0m\u001b[0mget_layer_opt\u001b[0m\u001b[0;34m(\u001b[0m\u001b[0mlrs\u001b[0m\u001b[0;34m,\u001b[0m \u001b[0mwds\u001b[0m\u001b[0;34m)\u001b[0m\u001b[0;34m\u001b[0m\u001b[0m\n\u001b[0;32m--> 251\u001b[0;31m         \u001b[0;32mreturn\u001b[0m \u001b[0mself\u001b[0m\u001b[0;34m.\u001b[0m\u001b[0mfit_gen\u001b[0m\u001b[0;34m(\u001b[0m\u001b[0mself\u001b[0m\u001b[0;34m.\u001b[0m\u001b[0mmodel\u001b[0m\u001b[0;34m,\u001b[0m \u001b[0mself\u001b[0m\u001b[0;34m.\u001b[0m\u001b[0mdata\u001b[0m\u001b[0;34m,\u001b[0m \u001b[0mlayer_opt\u001b[0m\u001b[0;34m,\u001b[0m \u001b[0mn_cycle\u001b[0m\u001b[0;34m,\u001b[0m \u001b[0;34m**\u001b[0m\u001b[0mkwargs\u001b[0m\u001b[0;34m)\u001b[0m\u001b[0;34m\u001b[0m\u001b[0m\n\u001b[0m\u001b[1;32m    252\u001b[0m \u001b[0;34m\u001b[0m\u001b[0m\n\u001b[1;32m    253\u001b[0m     \u001b[0;32mdef\u001b[0m \u001b[0mwarm_up\u001b[0m\u001b[0;34m(\u001b[0m\u001b[0mself\u001b[0m\u001b[0;34m,\u001b[0m \u001b[0mlr\u001b[0m\u001b[0;34m,\u001b[0m \u001b[0mwds\u001b[0m\u001b[0;34m=\u001b[0m\u001b[0;32mNone\u001b[0m\u001b[0;34m)\u001b[0m\u001b[0;34m:\u001b[0m\u001b[0;34m\u001b[0m\u001b[0m\n",
      "\u001b[0;32m~/SQL_Generator/fastai/learner.py\u001b[0m in \u001b[0;36mfit_gen\u001b[0;34m(self, model, data, layer_opt, n_cycle, cycle_len, cycle_mult, cycle_save_name, best_save_name, use_clr, use_clr_beta, metrics, callbacks, use_wd_sched, norm_wds, wds_sched_mult, **kwargs)\u001b[0m\n\u001b[1;32m    196\u001b[0m         \u001b[0mn_epoch\u001b[0m \u001b[0;34m=\u001b[0m \u001b[0mint\u001b[0m\u001b[0;34m(\u001b[0m\u001b[0msum_geom\u001b[0m\u001b[0;34m(\u001b[0m\u001b[0mcycle_len\u001b[0m \u001b[0;32mif\u001b[0m \u001b[0mcycle_len\u001b[0m \u001b[0;32melse\u001b[0m \u001b[0;36m1\u001b[0m\u001b[0;34m,\u001b[0m \u001b[0mcycle_mult\u001b[0m\u001b[0;34m,\u001b[0m \u001b[0mn_cycle\u001b[0m\u001b[0;34m)\u001b[0m\u001b[0;34m)\u001b[0m\u001b[0;34m\u001b[0m\u001b[0m\n\u001b[1;32m    197\u001b[0m         return fit(model, data, n_epoch, layer_opt.opt, self.crit,\n\u001b[0;32m--> 198\u001b[0;31m             metrics=metrics, callbacks=callbacks, reg_fn=self.reg_fn, clip=self.clip, fp16=self.fp16, **kwargs)\n\u001b[0m\u001b[1;32m    199\u001b[0m \u001b[0;34m\u001b[0m\u001b[0m\n\u001b[1;32m    200\u001b[0m     \u001b[0;32mdef\u001b[0m \u001b[0mget_layer_groups\u001b[0m\u001b[0;34m(\u001b[0m\u001b[0mself\u001b[0m\u001b[0;34m)\u001b[0m\u001b[0;34m:\u001b[0m \u001b[0;32mreturn\u001b[0m \u001b[0mself\u001b[0m\u001b[0;34m.\u001b[0m\u001b[0mmodels\u001b[0m\u001b[0;34m.\u001b[0m\u001b[0mget_layer_groups\u001b[0m\u001b[0;34m(\u001b[0m\u001b[0;34m)\u001b[0m\u001b[0;34m\u001b[0m\u001b[0m\n",
      "\u001b[0;32m~/SQL_Generator/fastai/model.py\u001b[0m in \u001b[0;36mfit\u001b[0;34m(model, data, epochs, opt, crit, metrics, callbacks, stepper, **kwargs)\u001b[0m\n\u001b[1;32m    115\u001b[0m             \u001b[0mbatch_num\u001b[0m \u001b[0;34m+=\u001b[0m \u001b[0;36m1\u001b[0m\u001b[0;34m\u001b[0m\u001b[0m\n\u001b[1;32m    116\u001b[0m             \u001b[0;32mfor\u001b[0m \u001b[0mcb\u001b[0m \u001b[0;32min\u001b[0m \u001b[0mcallbacks\u001b[0m\u001b[0;34m:\u001b[0m \u001b[0mcb\u001b[0m\u001b[0;34m.\u001b[0m\u001b[0mon_batch_begin\u001b[0m\u001b[0;34m(\u001b[0m\u001b[0;34m)\u001b[0m\u001b[0;34m\u001b[0m\u001b[0m\n\u001b[0;32m--> 117\u001b[0;31m             \u001b[0mloss\u001b[0m \u001b[0;34m=\u001b[0m \u001b[0mstepper\u001b[0m\u001b[0;34m.\u001b[0m\u001b[0mstep\u001b[0m\u001b[0;34m(\u001b[0m\u001b[0mV\u001b[0m\u001b[0;34m(\u001b[0m\u001b[0mx\u001b[0m\u001b[0;34m)\u001b[0m\u001b[0;34m,\u001b[0m\u001b[0mV\u001b[0m\u001b[0;34m(\u001b[0m\u001b[0my\u001b[0m\u001b[0;34m)\u001b[0m\u001b[0;34m,\u001b[0m \u001b[0mepoch\u001b[0m\u001b[0;34m)\u001b[0m\u001b[0;34m\u001b[0m\u001b[0m\n\u001b[0m\u001b[1;32m    118\u001b[0m             \u001b[0mavg_loss\u001b[0m \u001b[0;34m=\u001b[0m \u001b[0mavg_loss\u001b[0m \u001b[0;34m*\u001b[0m \u001b[0mavg_mom\u001b[0m \u001b[0;34m+\u001b[0m \u001b[0mloss\u001b[0m \u001b[0;34m*\u001b[0m \u001b[0;34m(\u001b[0m\u001b[0;36m1\u001b[0m\u001b[0;34m-\u001b[0m\u001b[0mavg_mom\u001b[0m\u001b[0;34m)\u001b[0m\u001b[0;34m\u001b[0m\u001b[0m\n\u001b[1;32m    119\u001b[0m             \u001b[0mdebias_loss\u001b[0m \u001b[0;34m=\u001b[0m \u001b[0mavg_loss\u001b[0m \u001b[0;34m/\u001b[0m \u001b[0;34m(\u001b[0m\u001b[0;36m1\u001b[0m \u001b[0;34m-\u001b[0m \u001b[0mavg_mom\u001b[0m\u001b[0;34m**\u001b[0m\u001b[0mbatch_num\u001b[0m\u001b[0;34m)\u001b[0m\u001b[0;34m\u001b[0m\u001b[0m\n",
      "\u001b[0;32m~/SQL_Generator/fastai/model.py\u001b[0m in \u001b[0;36mstep\u001b[0;34m(self, xs, y, epoch)\u001b[0m\n\u001b[1;32m     52\u001b[0m         \u001b[0;32mif\u001b[0m \u001b[0mself\u001b[0m\u001b[0;34m.\u001b[0m\u001b[0mloss_scale\u001b[0m \u001b[0;34m!=\u001b[0m \u001b[0;36m1\u001b[0m\u001b[0;34m:\u001b[0m \u001b[0;32massert\u001b[0m\u001b[0;34m(\u001b[0m\u001b[0mself\u001b[0m\u001b[0;34m.\u001b[0m\u001b[0mfp16\u001b[0m\u001b[0;34m)\u001b[0m\u001b[0;34m;\u001b[0m \u001b[0mloss\u001b[0m \u001b[0;34m=\u001b[0m \u001b[0mloss\u001b[0m\u001b[0;34m*\u001b[0m\u001b[0mself\u001b[0m\u001b[0;34m.\u001b[0m\u001b[0mloss_scale\u001b[0m\u001b[0;34m\u001b[0m\u001b[0m\n\u001b[1;32m     53\u001b[0m         \u001b[0;32mif\u001b[0m \u001b[0mself\u001b[0m\u001b[0;34m.\u001b[0m\u001b[0mreg_fn\u001b[0m\u001b[0;34m:\u001b[0m \u001b[0mloss\u001b[0m \u001b[0;34m=\u001b[0m \u001b[0mself\u001b[0m\u001b[0;34m.\u001b[0m\u001b[0mreg_fn\u001b[0m\u001b[0;34m(\u001b[0m\u001b[0moutput\u001b[0m\u001b[0;34m,\u001b[0m \u001b[0mxtra\u001b[0m\u001b[0;34m,\u001b[0m \u001b[0mraw_loss\u001b[0m\u001b[0;34m)\u001b[0m\u001b[0;34m\u001b[0m\u001b[0m\n\u001b[0;32m---> 54\u001b[0;31m         \u001b[0mloss\u001b[0m\u001b[0;34m.\u001b[0m\u001b[0mbackward\u001b[0m\u001b[0;34m(\u001b[0m\u001b[0;34m)\u001b[0m\u001b[0;34m\u001b[0m\u001b[0m\n\u001b[0m\u001b[1;32m     55\u001b[0m         \u001b[0;32mif\u001b[0m \u001b[0mself\u001b[0m\u001b[0;34m.\u001b[0m\u001b[0mfp16\u001b[0m\u001b[0;34m:\u001b[0m \u001b[0mupdate_fp32_grads\u001b[0m\u001b[0;34m(\u001b[0m\u001b[0mself\u001b[0m\u001b[0;34m.\u001b[0m\u001b[0mfp32_params\u001b[0m\u001b[0;34m,\u001b[0m \u001b[0mself\u001b[0m\u001b[0;34m.\u001b[0m\u001b[0mm\u001b[0m\u001b[0;34m)\u001b[0m\u001b[0;34m\u001b[0m\u001b[0m\n\u001b[1;32m     56\u001b[0m         \u001b[0;32mif\u001b[0m \u001b[0mself\u001b[0m\u001b[0;34m.\u001b[0m\u001b[0mloss_scale\u001b[0m \u001b[0;34m!=\u001b[0m \u001b[0;36m1\u001b[0m\u001b[0;34m:\u001b[0m\u001b[0;34m\u001b[0m\u001b[0m\n",
      "\u001b[0;32m~/anaconda3/envs/fastai/lib/python3.6/site-packages/torch/autograd/variable.py\u001b[0m in \u001b[0;36mbackward\u001b[0;34m(self, gradient, retain_graph, create_graph, retain_variables)\u001b[0m\n\u001b[1;32m    165\u001b[0m                 \u001b[0mVariable\u001b[0m\u001b[0;34m.\u001b[0m\u001b[0;34m\u001b[0m\u001b[0m\n\u001b[1;32m    166\u001b[0m         \"\"\"\n\u001b[0;32m--> 167\u001b[0;31m         \u001b[0mtorch\u001b[0m\u001b[0;34m.\u001b[0m\u001b[0mautograd\u001b[0m\u001b[0;34m.\u001b[0m\u001b[0mbackward\u001b[0m\u001b[0;34m(\u001b[0m\u001b[0mself\u001b[0m\u001b[0;34m,\u001b[0m \u001b[0mgradient\u001b[0m\u001b[0;34m,\u001b[0m \u001b[0mretain_graph\u001b[0m\u001b[0;34m,\u001b[0m \u001b[0mcreate_graph\u001b[0m\u001b[0;34m,\u001b[0m \u001b[0mretain_variables\u001b[0m\u001b[0;34m)\u001b[0m\u001b[0;34m\u001b[0m\u001b[0m\n\u001b[0m\u001b[1;32m    168\u001b[0m \u001b[0;34m\u001b[0m\u001b[0m\n\u001b[1;32m    169\u001b[0m     \u001b[0;32mdef\u001b[0m \u001b[0mregister_hook\u001b[0m\u001b[0;34m(\u001b[0m\u001b[0mself\u001b[0m\u001b[0;34m,\u001b[0m \u001b[0mhook\u001b[0m\u001b[0;34m)\u001b[0m\u001b[0;34m:\u001b[0m\u001b[0;34m\u001b[0m\u001b[0m\n",
      "\u001b[0;32m~/anaconda3/envs/fastai/lib/python3.6/site-packages/torch/autograd/__init__.py\u001b[0m in \u001b[0;36mbackward\u001b[0;34m(variables, grad_variables, retain_graph, create_graph, retain_variables)\u001b[0m\n\u001b[1;32m     97\u001b[0m \u001b[0;34m\u001b[0m\u001b[0m\n\u001b[1;32m     98\u001b[0m     Variable._execution_engine.run_backward(\n\u001b[0;32m---> 99\u001b[0;31m         variables, grad_variables, retain_graph)\n\u001b[0m\u001b[1;32m    100\u001b[0m \u001b[0;34m\u001b[0m\u001b[0m\n\u001b[1;32m    101\u001b[0m \u001b[0;34m\u001b[0m\u001b[0m\n",
      "\u001b[0;31mKeyboardInterrupt\u001b[0m: "
     ]
    }
   ],
   "source": [
    "learn.fit(1e-2, 1, cycle_len=10, use_clr_beta = (10,10,0.95,0.85))"
   ]
  },
  {
   "cell_type": "code",
   "execution_count": 76,
   "metadata": {},
   "outputs": [],
   "source": [
    "n_hidden=256\n",
    "n_fac=32"
   ]
  },
  {
   "cell_type": "code",
   "execution_count": 77,
   "metadata": {},
   "outputs": [],
   "source": [
    "m = CharSeqStatefulGRU(len(sql_itos), n_fac, bs=bs)\n",
    "opt_fn = partial(optim.Adam, betas=(0.8, 0.99))\n",
    "learn = RNN_Learner(md, SingleModel(to_gpu(m)), opt_fn=opt_fn)\n",
    "learn.crit = nll_loss_seq"
   ]
  },
  {
   "cell_type": "code",
   "execution_count": 78,
   "metadata": {
    "scrolled": false
   },
   "outputs": [
    {
     "data": {
      "application/vnd.jupyter.widget-view+json": {
       "model_id": "65116a283e864e0cb3c319a0bbaa662d",
       "version_major": 2,
       "version_minor": 0
      },
      "text/html": [
       "<p>Failed to display Jupyter Widget of type <code>HBox</code>.</p>\n",
       "<p>\n",
       "  If you're reading this message in the Jupyter Notebook or JupyterLab Notebook, it may mean\n",
       "  that the widgets JavaScript is still loading. If this message persists, it\n",
       "  likely means that the widgets JavaScript library is either not installed or\n",
       "  not enabled. See the <a href=\"https://ipywidgets.readthedocs.io/en/stable/user_install.html\">Jupyter\n",
       "  Widgets Documentation</a> for setup instructions.\n",
       "</p>\n",
       "<p>\n",
       "  If you're reading this message in another frontend (for example, a static\n",
       "  rendering on GitHub or <a href=\"https://nbviewer.jupyter.org/\">NBViewer</a>),\n",
       "  it may mean that your frontend doesn't currently support widgets.\n",
       "</p>\n"
      ],
      "text/plain": [
       "HBox(children=(IntProgress(value=0, description='Epoch', max=10), HTML(value='')))"
      ]
     },
     "metadata": {},
     "output_type": "display_data"
    },
    {
     "name": "stdout",
     "output_type": "stream",
     "text": [
      "  7%|▋         | 25/336 [00:02<00:35,  8.75it/s, loss=7.96]\n",
      "  8%|▊         | 27/336 [00:03<00:35,  8.80it/s, loss=7.75]"
     ]
    },
    {
     "name": "stderr",
     "output_type": "stream",
     "text": [
      "Exception in thread Thread-68:\n",
      "Traceback (most recent call last):\n",
      "  File \"/home/channoklam_cnl/anaconda3/envs/fastai/lib/python3.6/threading.py\", line 916, in _bootstrap_inner\n",
      "    self.run()\n",
      "  File \"/home/channoklam_cnl/anaconda3/envs/fastai/lib/python3.6/site-packages/tqdm/_tqdm.py\", line 144, in run\n",
      "    for instance in self.tqdm_cls._instances:\n",
      "  File \"/home/channoklam_cnl/anaconda3/envs/fastai/lib/python3.6/_weakrefset.py\", line 60, in __iter__\n",
      "    for itemref in self.data:\n",
      "RuntimeError: Set changed size during iteration\n",
      "\n"
     ]
    },
    {
     "name": "stdout",
     "output_type": "stream",
     "text": [
      "epoch      trn_loss   val_loss                              \n",
      "    0      5.073514   5.046971  \n",
      "    1      5.09312    5.064133                              \n",
      "    2      5.152407   5.115567                              \n",
      "    3      4.086338   3.483777                              \n",
      "    4      3.448298   3.06962                               \n",
      "    5      3.292298   2.928553                              \n",
      " 15%|█▍        | 50/336 [00:05<00:31,  9.08it/s, loss=3.25]\n"
     ]
    },
    {
     "ename": "KeyboardInterrupt",
     "evalue": "",
     "output_type": "error",
     "traceback": [
      "\u001b[0;31m---------------------------------------------------------------------------\u001b[0m",
      "\u001b[0;31mKeyboardInterrupt\u001b[0m                         Traceback (most recent call last)",
      "\u001b[0;32m<ipython-input-78-6a84b09f4140>\u001b[0m in \u001b[0;36m<module>\u001b[0;34m()\u001b[0m\n\u001b[0;32m----> 1\u001b[0;31m \u001b[0;32mfor\u001b[0m \u001b[0mi\u001b[0m \u001b[0;32min\u001b[0m \u001b[0mrange\u001b[0m\u001b[0;34m(\u001b[0m\u001b[0;36m1\u001b[0m\u001b[0;34m)\u001b[0m\u001b[0;34m:\u001b[0m\u001b[0mlearn\u001b[0m\u001b[0;34m.\u001b[0m\u001b[0mfit\u001b[0m\u001b[0;34m(\u001b[0m\u001b[0;36m1e-2\u001b[0m\u001b[0;34m,\u001b[0m \u001b[0;36m1\u001b[0m\u001b[0;34m,\u001b[0m \u001b[0mcycle_len\u001b[0m\u001b[0;34m=\u001b[0m\u001b[0;36m10\u001b[0m\u001b[0;34m,\u001b[0m \u001b[0muse_clr_beta\u001b[0m \u001b[0;34m=\u001b[0m \u001b[0;34m(\u001b[0m\u001b[0;36m10\u001b[0m\u001b[0;34m,\u001b[0m\u001b[0;36m10\u001b[0m\u001b[0;34m,\u001b[0m\u001b[0;36m0.95\u001b[0m\u001b[0;34m,\u001b[0m\u001b[0;36m0.85\u001b[0m\u001b[0;34m)\u001b[0m\u001b[0;34m)\u001b[0m\u001b[0;34m\u001b[0m\u001b[0m\n\u001b[0m",
      "\u001b[0;32m~/SQL_Generator/fastai/learner.py\u001b[0m in \u001b[0;36mfit\u001b[0;34m(self, lrs, n_cycle, wds, **kwargs)\u001b[0m\n\u001b[1;32m    249\u001b[0m         \u001b[0mself\u001b[0m\u001b[0;34m.\u001b[0m\u001b[0msched\u001b[0m \u001b[0;34m=\u001b[0m \u001b[0;32mNone\u001b[0m\u001b[0;34m\u001b[0m\u001b[0m\n\u001b[1;32m    250\u001b[0m         \u001b[0mlayer_opt\u001b[0m \u001b[0;34m=\u001b[0m \u001b[0mself\u001b[0m\u001b[0;34m.\u001b[0m\u001b[0mget_layer_opt\u001b[0m\u001b[0;34m(\u001b[0m\u001b[0mlrs\u001b[0m\u001b[0;34m,\u001b[0m \u001b[0mwds\u001b[0m\u001b[0;34m)\u001b[0m\u001b[0;34m\u001b[0m\u001b[0m\n\u001b[0;32m--> 251\u001b[0;31m         \u001b[0;32mreturn\u001b[0m \u001b[0mself\u001b[0m\u001b[0;34m.\u001b[0m\u001b[0mfit_gen\u001b[0m\u001b[0;34m(\u001b[0m\u001b[0mself\u001b[0m\u001b[0;34m.\u001b[0m\u001b[0mmodel\u001b[0m\u001b[0;34m,\u001b[0m \u001b[0mself\u001b[0m\u001b[0;34m.\u001b[0m\u001b[0mdata\u001b[0m\u001b[0;34m,\u001b[0m \u001b[0mlayer_opt\u001b[0m\u001b[0;34m,\u001b[0m \u001b[0mn_cycle\u001b[0m\u001b[0;34m,\u001b[0m \u001b[0;34m**\u001b[0m\u001b[0mkwargs\u001b[0m\u001b[0;34m)\u001b[0m\u001b[0;34m\u001b[0m\u001b[0m\n\u001b[0m\u001b[1;32m    252\u001b[0m \u001b[0;34m\u001b[0m\u001b[0m\n\u001b[1;32m    253\u001b[0m     \u001b[0;32mdef\u001b[0m \u001b[0mwarm_up\u001b[0m\u001b[0;34m(\u001b[0m\u001b[0mself\u001b[0m\u001b[0;34m,\u001b[0m \u001b[0mlr\u001b[0m\u001b[0;34m,\u001b[0m \u001b[0mwds\u001b[0m\u001b[0;34m=\u001b[0m\u001b[0;32mNone\u001b[0m\u001b[0;34m)\u001b[0m\u001b[0;34m:\u001b[0m\u001b[0;34m\u001b[0m\u001b[0m\n",
      "\u001b[0;32m~/SQL_Generator/fastai/learner.py\u001b[0m in \u001b[0;36mfit_gen\u001b[0;34m(self, model, data, layer_opt, n_cycle, cycle_len, cycle_mult, cycle_save_name, best_save_name, use_clr, use_clr_beta, metrics, callbacks, use_wd_sched, norm_wds, wds_sched_mult, **kwargs)\u001b[0m\n\u001b[1;32m    196\u001b[0m         \u001b[0mn_epoch\u001b[0m \u001b[0;34m=\u001b[0m \u001b[0mint\u001b[0m\u001b[0;34m(\u001b[0m\u001b[0msum_geom\u001b[0m\u001b[0;34m(\u001b[0m\u001b[0mcycle_len\u001b[0m \u001b[0;32mif\u001b[0m \u001b[0mcycle_len\u001b[0m \u001b[0;32melse\u001b[0m \u001b[0;36m1\u001b[0m\u001b[0;34m,\u001b[0m \u001b[0mcycle_mult\u001b[0m\u001b[0;34m,\u001b[0m \u001b[0mn_cycle\u001b[0m\u001b[0;34m)\u001b[0m\u001b[0;34m)\u001b[0m\u001b[0;34m\u001b[0m\u001b[0m\n\u001b[1;32m    197\u001b[0m         return fit(model, data, n_epoch, layer_opt.opt, self.crit,\n\u001b[0;32m--> 198\u001b[0;31m             metrics=metrics, callbacks=callbacks, reg_fn=self.reg_fn, clip=self.clip, fp16=self.fp16, **kwargs)\n\u001b[0m\u001b[1;32m    199\u001b[0m \u001b[0;34m\u001b[0m\u001b[0m\n\u001b[1;32m    200\u001b[0m     \u001b[0;32mdef\u001b[0m \u001b[0mget_layer_groups\u001b[0m\u001b[0;34m(\u001b[0m\u001b[0mself\u001b[0m\u001b[0;34m)\u001b[0m\u001b[0;34m:\u001b[0m \u001b[0;32mreturn\u001b[0m \u001b[0mself\u001b[0m\u001b[0;34m.\u001b[0m\u001b[0mmodels\u001b[0m\u001b[0;34m.\u001b[0m\u001b[0mget_layer_groups\u001b[0m\u001b[0;34m(\u001b[0m\u001b[0;34m)\u001b[0m\u001b[0;34m\u001b[0m\u001b[0m\n",
      "\u001b[0;32m~/SQL_Generator/fastai/model.py\u001b[0m in \u001b[0;36mfit\u001b[0;34m(model, data, epochs, opt, crit, metrics, callbacks, stepper, **kwargs)\u001b[0m\n\u001b[1;32m    115\u001b[0m             \u001b[0mbatch_num\u001b[0m \u001b[0;34m+=\u001b[0m \u001b[0;36m1\u001b[0m\u001b[0;34m\u001b[0m\u001b[0m\n\u001b[1;32m    116\u001b[0m             \u001b[0;32mfor\u001b[0m \u001b[0mcb\u001b[0m \u001b[0;32min\u001b[0m \u001b[0mcallbacks\u001b[0m\u001b[0;34m:\u001b[0m \u001b[0mcb\u001b[0m\u001b[0;34m.\u001b[0m\u001b[0mon_batch_begin\u001b[0m\u001b[0;34m(\u001b[0m\u001b[0;34m)\u001b[0m\u001b[0;34m\u001b[0m\u001b[0m\n\u001b[0;32m--> 117\u001b[0;31m             \u001b[0mloss\u001b[0m \u001b[0;34m=\u001b[0m \u001b[0mstepper\u001b[0m\u001b[0;34m.\u001b[0m\u001b[0mstep\u001b[0m\u001b[0;34m(\u001b[0m\u001b[0mV\u001b[0m\u001b[0;34m(\u001b[0m\u001b[0mx\u001b[0m\u001b[0;34m)\u001b[0m\u001b[0;34m,\u001b[0m\u001b[0mV\u001b[0m\u001b[0;34m(\u001b[0m\u001b[0my\u001b[0m\u001b[0;34m)\u001b[0m\u001b[0;34m,\u001b[0m \u001b[0mepoch\u001b[0m\u001b[0;34m)\u001b[0m\u001b[0;34m\u001b[0m\u001b[0m\n\u001b[0m\u001b[1;32m    118\u001b[0m             \u001b[0mavg_loss\u001b[0m \u001b[0;34m=\u001b[0m \u001b[0mavg_loss\u001b[0m \u001b[0;34m*\u001b[0m \u001b[0mavg_mom\u001b[0m \u001b[0;34m+\u001b[0m \u001b[0mloss\u001b[0m \u001b[0;34m*\u001b[0m \u001b[0;34m(\u001b[0m\u001b[0;36m1\u001b[0m\u001b[0;34m-\u001b[0m\u001b[0mavg_mom\u001b[0m\u001b[0;34m)\u001b[0m\u001b[0;34m\u001b[0m\u001b[0m\n\u001b[1;32m    119\u001b[0m             \u001b[0mdebias_loss\u001b[0m \u001b[0;34m=\u001b[0m \u001b[0mavg_loss\u001b[0m \u001b[0;34m/\u001b[0m \u001b[0;34m(\u001b[0m\u001b[0;36m1\u001b[0m \u001b[0;34m-\u001b[0m \u001b[0mavg_mom\u001b[0m\u001b[0;34m**\u001b[0m\u001b[0mbatch_num\u001b[0m\u001b[0;34m)\u001b[0m\u001b[0;34m\u001b[0m\u001b[0m\n",
      "\u001b[0;32m~/SQL_Generator/fastai/model.py\u001b[0m in \u001b[0;36mstep\u001b[0;34m(self, xs, y, epoch)\u001b[0m\n\u001b[1;32m     52\u001b[0m         \u001b[0;32mif\u001b[0m \u001b[0mself\u001b[0m\u001b[0;34m.\u001b[0m\u001b[0mloss_scale\u001b[0m \u001b[0;34m!=\u001b[0m \u001b[0;36m1\u001b[0m\u001b[0;34m:\u001b[0m \u001b[0;32massert\u001b[0m\u001b[0;34m(\u001b[0m\u001b[0mself\u001b[0m\u001b[0;34m.\u001b[0m\u001b[0mfp16\u001b[0m\u001b[0;34m)\u001b[0m\u001b[0;34m;\u001b[0m \u001b[0mloss\u001b[0m \u001b[0;34m=\u001b[0m \u001b[0mloss\u001b[0m\u001b[0;34m*\u001b[0m\u001b[0mself\u001b[0m\u001b[0;34m.\u001b[0m\u001b[0mloss_scale\u001b[0m\u001b[0;34m\u001b[0m\u001b[0m\n\u001b[1;32m     53\u001b[0m         \u001b[0;32mif\u001b[0m \u001b[0mself\u001b[0m\u001b[0;34m.\u001b[0m\u001b[0mreg_fn\u001b[0m\u001b[0;34m:\u001b[0m \u001b[0mloss\u001b[0m \u001b[0;34m=\u001b[0m \u001b[0mself\u001b[0m\u001b[0;34m.\u001b[0m\u001b[0mreg_fn\u001b[0m\u001b[0;34m(\u001b[0m\u001b[0moutput\u001b[0m\u001b[0;34m,\u001b[0m \u001b[0mxtra\u001b[0m\u001b[0;34m,\u001b[0m \u001b[0mraw_loss\u001b[0m\u001b[0;34m)\u001b[0m\u001b[0;34m\u001b[0m\u001b[0m\n\u001b[0;32m---> 54\u001b[0;31m         \u001b[0mloss\u001b[0m\u001b[0;34m.\u001b[0m\u001b[0mbackward\u001b[0m\u001b[0;34m(\u001b[0m\u001b[0;34m)\u001b[0m\u001b[0;34m\u001b[0m\u001b[0m\n\u001b[0m\u001b[1;32m     55\u001b[0m         \u001b[0;32mif\u001b[0m \u001b[0mself\u001b[0m\u001b[0;34m.\u001b[0m\u001b[0mfp16\u001b[0m\u001b[0;34m:\u001b[0m \u001b[0mupdate_fp32_grads\u001b[0m\u001b[0;34m(\u001b[0m\u001b[0mself\u001b[0m\u001b[0;34m.\u001b[0m\u001b[0mfp32_params\u001b[0m\u001b[0;34m,\u001b[0m \u001b[0mself\u001b[0m\u001b[0;34m.\u001b[0m\u001b[0mm\u001b[0m\u001b[0;34m)\u001b[0m\u001b[0;34m\u001b[0m\u001b[0m\n\u001b[1;32m     56\u001b[0m         \u001b[0;32mif\u001b[0m \u001b[0mself\u001b[0m\u001b[0;34m.\u001b[0m\u001b[0mloss_scale\u001b[0m \u001b[0;34m!=\u001b[0m \u001b[0;36m1\u001b[0m\u001b[0;34m:\u001b[0m\u001b[0;34m\u001b[0m\u001b[0m\n",
      "\u001b[0;32m~/anaconda3/envs/fastai/lib/python3.6/site-packages/torch/autograd/variable.py\u001b[0m in \u001b[0;36mbackward\u001b[0;34m(self, gradient, retain_graph, create_graph, retain_variables)\u001b[0m\n\u001b[1;32m    165\u001b[0m                 \u001b[0mVariable\u001b[0m\u001b[0;34m.\u001b[0m\u001b[0;34m\u001b[0m\u001b[0m\n\u001b[1;32m    166\u001b[0m         \"\"\"\n\u001b[0;32m--> 167\u001b[0;31m         \u001b[0mtorch\u001b[0m\u001b[0;34m.\u001b[0m\u001b[0mautograd\u001b[0m\u001b[0;34m.\u001b[0m\u001b[0mbackward\u001b[0m\u001b[0;34m(\u001b[0m\u001b[0mself\u001b[0m\u001b[0;34m,\u001b[0m \u001b[0mgradient\u001b[0m\u001b[0;34m,\u001b[0m \u001b[0mretain_graph\u001b[0m\u001b[0;34m,\u001b[0m \u001b[0mcreate_graph\u001b[0m\u001b[0;34m,\u001b[0m \u001b[0mretain_variables\u001b[0m\u001b[0;34m)\u001b[0m\u001b[0;34m\u001b[0m\u001b[0m\n\u001b[0m\u001b[1;32m    168\u001b[0m \u001b[0;34m\u001b[0m\u001b[0m\n\u001b[1;32m    169\u001b[0m     \u001b[0;32mdef\u001b[0m \u001b[0mregister_hook\u001b[0m\u001b[0;34m(\u001b[0m\u001b[0mself\u001b[0m\u001b[0;34m,\u001b[0m \u001b[0mhook\u001b[0m\u001b[0;34m)\u001b[0m\u001b[0;34m:\u001b[0m\u001b[0;34m\u001b[0m\u001b[0m\n",
      "\u001b[0;32m~/anaconda3/envs/fastai/lib/python3.6/site-packages/torch/autograd/__init__.py\u001b[0m in \u001b[0;36mbackward\u001b[0;34m(variables, grad_variables, retain_graph, create_graph, retain_variables)\u001b[0m\n\u001b[1;32m     97\u001b[0m \u001b[0;34m\u001b[0m\u001b[0m\n\u001b[1;32m     98\u001b[0m     Variable._execution_engine.run_backward(\n\u001b[0;32m---> 99\u001b[0;31m         variables, grad_variables, retain_graph)\n\u001b[0m\u001b[1;32m    100\u001b[0m \u001b[0;34m\u001b[0m\u001b[0m\n\u001b[1;32m    101\u001b[0m \u001b[0;34m\u001b[0m\u001b[0m\n",
      "\u001b[0;31mKeyboardInterrupt\u001b[0m: "
     ]
    }
   ],
   "source": [
    "for i in range(1):learn.fit(1e-2, 1, cycle_len=10, use_clr_beta = (10,10,0.95,0.85))"
   ]
  },
  {
   "cell_type": "code",
   "execution_count": 80,
   "metadata": {},
   "outputs": [],
   "source": [
    "n_hidden=256\n",
    "n_fac=128"
   ]
  },
  {
   "cell_type": "code",
   "execution_count": 81,
   "metadata": {},
   "outputs": [],
   "source": [
    "m = CharSeqStatefulGRU(len(sql_itos), n_fac, bs=bs)\n",
    "opt_fn = partial(optim.Adam, betas=(0.8, 0.99))\n",
    "learn = RNN_Learner(md, SingleModel(to_gpu(m)), opt_fn=opt_fn)\n",
    "learn.crit = nll_loss_seq"
   ]
  },
  {
   "cell_type": "code",
   "execution_count": 82,
   "metadata": {},
   "outputs": [
    {
     "data": {
      "application/vnd.jupyter.widget-view+json": {
       "model_id": "582cc57677d44b738945c1fb4762ac7e",
       "version_major": 2,
       "version_minor": 0
      },
      "text/html": [
       "<p>Failed to display Jupyter Widget of type <code>HBox</code>.</p>\n",
       "<p>\n",
       "  If you're reading this message in the Jupyter Notebook or JupyterLab Notebook, it may mean\n",
       "  that the widgets JavaScript is still loading. If this message persists, it\n",
       "  likely means that the widgets JavaScript library is either not installed or\n",
       "  not enabled. See the <a href=\"https://ipywidgets.readthedocs.io/en/stable/user_install.html\">Jupyter\n",
       "  Widgets Documentation</a> for setup instructions.\n",
       "</p>\n",
       "<p>\n",
       "  If you're reading this message in another frontend (for example, a static\n",
       "  rendering on GitHub or <a href=\"https://nbviewer.jupyter.org/\">NBViewer</a>),\n",
       "  it may mean that your frontend doesn't currently support widgets.\n",
       "</p>\n"
      ],
      "text/plain": [
       "HBox(children=(IntProgress(value=0, description='Epoch', max=10), HTML(value='')))"
      ]
     },
     "metadata": {},
     "output_type": "display_data"
    },
    {
     "name": "stdout",
     "output_type": "stream",
     "text": [
      "epoch      trn_loss   val_loss                              \n",
      "    0      4.493544   4.145198  \n",
      "    1      3.198818   2.813636                              \n",
      "    2      2.886131   2.631072                              \n",
      "    3      2.865718   2.611532                              \n",
      "    4      2.87041    2.613879                              \n",
      "    5      2.814938   2.569266                              \n",
      "    6      2.758214   2.534505                              \n",
      "    7      2.697882   2.502281                              \n",
      "    8      2.655186   2.478388                              \n",
      "    9      2.622147   2.469918                              \n",
      "\n"
     ]
    },
    {
     "data": {
      "text/plain": [
       "[array([2.46992])]"
      ]
     },
     "execution_count": 82,
     "metadata": {},
     "output_type": "execute_result"
    }
   ],
   "source": [
    "learn.fit(1e-2, 1, cycle_len=10, use_clr_beta = (10,10,0.95,0.85))"
   ]
  },
  {
   "cell_type": "markdown",
   "metadata": {},
   "source": [
    "# Tuning n_hidden and Dropout"
   ]
  },
  {
   "cell_type": "code",
   "execution_count": 49,
   "metadata": {},
   "outputs": [],
   "source": [
    "## One GRU"
   ]
  },
  {
   "cell_type": "code",
   "execution_count": null,
   "metadata": {},
   "outputs": [],
   "source": [
    "n_hidden=256\n",
    "n_fac=128\n",
    "dropout=0\n",
    "bidir=True"
   ]
  },
  {
   "cell_type": "code",
   "execution_count": 52,
   "metadata": {},
   "outputs": [],
   "source": [
    "class CharSeqStatefulGRU(nn.Module):\n",
    "    def __init__(self, vocab_size, n_fac, bs):\n",
    "        super().__init__()\n",
    "        self.vocab_size = vocab_size\n",
    "        self.e = nn.Embedding(vocab_size, n_fac)\n",
    "        self.rnn1 = nn.GRU(n_fac, n_hidden, dropout=dropout, bidirectional=bidir)\n",
    "        self.rnn2 = nn.GRU(n_hidden, n_hidden//2,dropout=dropout, bidirectional=bidir)\n",
    "        self.l_out = nn.Linear(n_hidden +n_hidden *bidir, vocab_size)\n",
    "        self.init_hidden(bs)\n",
    "        \n",
    "    def forward(self, *cs):\n",
    "        bs = cs[0].size(0)\n",
    "        if self.h1.size(1) != bs: self.init_hidden(bs)\n",
    "        inp = self.e(torch.stack(cs))\n",
    "        outp,h1 = self.rnn1(inp, self.h1)\n",
    "#         outp = self.rnn_drop1(outp)\n",
    "#         self.h1 = repackage_var(h1)\n",
    "#         outp,h2 = self.rnn2(outp,self.h2)        \n",
    "#         self.h2 = repackage_var(h2)\n",
    "#         outp = self.rnn_drop2(outp)\n",
    "        \n",
    "#         pdb.set_trace()\n",
    "        return F.log_softmax(self.l_out(outp), dim=-1)\n",
    "    \n",
    "    def init_hidden(self, bs): \n",
    "        self.h1 = V(torch.zeros(1+1*bidir, bs, n_hidden))\n",
    "        self.h2 = V(torch.zeros(1+1*bidir, bs, n_hidden//2))"
   ]
  },
  {
   "cell_type": "code",
   "execution_count": 53,
   "metadata": {},
   "outputs": [
    {
     "data": {
      "application/vnd.jupyter.widget-view+json": {
       "model_id": "64550151791d45caa2c4879fbe331ea2",
       "version_major": 2,
       "version_minor": 0
      },
      "text/html": [
       "<p>Failed to display Jupyter Widget of type <code>HBox</code>.</p>\n",
       "<p>\n",
       "  If you're reading this message in the Jupyter Notebook or JupyterLab Notebook, it may mean\n",
       "  that the widgets JavaScript is still loading. If this message persists, it\n",
       "  likely means that the widgets JavaScript library is either not installed or\n",
       "  not enabled. See the <a href=\"https://ipywidgets.readthedocs.io/en/stable/user_install.html\">Jupyter\n",
       "  Widgets Documentation</a> for setup instructions.\n",
       "</p>\n",
       "<p>\n",
       "  If you're reading this message in another frontend (for example, a static\n",
       "  rendering on GitHub or <a href=\"https://nbviewer.jupyter.org/\">NBViewer</a>),\n",
       "  it may mean that your frontend doesn't currently support widgets.\n",
       "</p>\n"
      ],
      "text/plain": [
       "HBox(children=(IntProgress(value=0, description='Epoch', max=5), HTML(value='')))"
      ]
     },
     "metadata": {},
     "output_type": "display_data"
    },
    {
     "name": "stdout",
     "output_type": "stream",
     "text": [
      "epoch      trn_loss   val_loss                              \n",
      "    0      2.489589   2.38543   \n",
      "    1      2.199172   2.227707                              \n",
      "    2      2.050445   2.14952                               \n",
      "    3      1.871355   2.092305                              \n",
      "    4      1.731721   2.063984                              \n",
      "\n"
     ]
    },
    {
     "data": {
      "text/plain": [
       "[array([2.06398])]"
      ]
     },
     "execution_count": 53,
     "metadata": {},
     "output_type": "execute_result"
    }
   ],
   "source": [
    "m = CharSeqStatefulGRU(len(sql_itos), n_fac, bs=bs)\n",
    "opt_fn = partial(optim.Adam, betas=(0.8, 0.99))\n",
    "learn = RNN_Learner(md, SingleModel(to_gpu(m)), opt_fn=opt_fn)\n",
    "learn.crit = nll_loss_seq\n",
    "\n",
    "learn.fit(1e-2, 1, cycle_len=5, use_clr_beta = (10,10,0.95,0.85))"
   ]
  },
  {
   "cell_type": "code",
   "execution_count": 54,
   "metadata": {},
   "outputs": [],
   "source": [
    "class CharSeqStatefulGRU(nn.Module):\n",
    "    def __init__(self, vocab_size, n_fac, bs):\n",
    "        super().__init__()\n",
    "        self.vocab_size = vocab_size\n",
    "        self.e = nn.Embedding(vocab_size, n_fac)\n",
    "        self.rnn1 = nn.GRU(n_fac, n_hidden, dropout=dropout, bidirectional=bidir)\n",
    "        self.rnn2 = nn.GRU(n_hidden, n_hidden//2,dropout=dropout, bidirectional=bidir)\n",
    "        self.l_out = nn.Linear(n_hidden +n_hidden *bidir, vocab_size)\n",
    "        self.init_hidden(bs)\n",
    "        \n",
    "    def forward(self, *cs):\n",
    "        bs = cs[0].size(0)\n",
    "        if self.h1.size(1) != bs: self.init_hidden(bs)\n",
    "        inp = self.e(torch.stack(cs))\n",
    "        outp,h1 = self.rnn1(inp, self.h1)\n",
    "#         outp = self.rnn_drop1(outp)\n",
    "        self.h1 = repackage_var(h1)\n",
    "#         outp,h2 = self.rnn2(outp,self.h2)        \n",
    "#         self.h2 = repackage_var(h2)\n",
    "#         outp = self.rnn_drop2(outp)\n",
    "        \n",
    "#         pdb.set_trace()\n",
    "        return F.log_softmax(self.l_out(outp), dim=-1)\n",
    "    \n",
    "    def init_hidden(self, bs): \n",
    "        self.h1 = V(torch.zeros(1+1*bidir, bs, n_hidden))\n",
    "        self.h2 = V(torch.zeros(1+1*bidir, bs, n_hidden//2))"
   ]
  },
  {
   "cell_type": "code",
   "execution_count": 55,
   "metadata": {},
   "outputs": [
    {
     "data": {
      "application/vnd.jupyter.widget-view+json": {
       "model_id": "10fa8fbaec874ca89c5228847a3ec141",
       "version_major": 2,
       "version_minor": 0
      },
      "text/html": [
       "<p>Failed to display Jupyter Widget of type <code>HBox</code>.</p>\n",
       "<p>\n",
       "  If you're reading this message in the Jupyter Notebook or JupyterLab Notebook, it may mean\n",
       "  that the widgets JavaScript is still loading. If this message persists, it\n",
       "  likely means that the widgets JavaScript library is either not installed or\n",
       "  not enabled. See the <a href=\"https://ipywidgets.readthedocs.io/en/stable/user_install.html\">Jupyter\n",
       "  Widgets Documentation</a> for setup instructions.\n",
       "</p>\n",
       "<p>\n",
       "  If you're reading this message in another frontend (for example, a static\n",
       "  rendering on GitHub or <a href=\"https://nbviewer.jupyter.org/\">NBViewer</a>),\n",
       "  it may mean that your frontend doesn't currently support widgets.\n",
       "</p>\n"
      ],
      "text/plain": [
       "HBox(children=(IntProgress(value=0, description='Epoch', max=5), HTML(value='')))"
      ]
     },
     "metadata": {},
     "output_type": "display_data"
    },
    {
     "name": "stdout",
     "output_type": "stream",
     "text": [
      "epoch      trn_loss   val_loss                              \n",
      "    0      2.696434   2.633363  \n",
      "    1      2.434904   2.456283                              \n",
      "    2      2.320939   2.371596                              \n",
      "    3      2.156249   2.277371                              \n",
      "    4      2.033584   2.226436                              \n",
      "\n"
     ]
    },
    {
     "data": {
      "text/plain": [
       "[array([2.22644])]"
      ]
     },
     "execution_count": 55,
     "metadata": {},
     "output_type": "execute_result"
    }
   ],
   "source": [
    "m = CharSeqStatefulGRU(len(sql_itos), n_fac, bs=bs)\n",
    "opt_fn = partial(optim.Adam, betas=(0.8, 0.99))\n",
    "learn = RNN_Learner(md, SingleModel(to_gpu(m)), opt_fn=opt_fn)\n",
    "learn.crit = nll_loss_seq\n",
    "\n",
    "learn.fit(1e-2, 1, cycle_len=5, use_clr_beta = (10,10,0.95,0.85))"
   ]
  },
  {
   "cell_type": "code",
   "execution_count": 56,
   "metadata": {},
   "outputs": [
    {
     "data": {
      "text/plain": [
       "False"
      ]
     },
     "execution_count": 56,
     "metadata": {},
     "output_type": "execute_result"
    }
   ],
   "source": [
    "bidir"
   ]
  },
  {
   "cell_type": "code",
   "execution_count": 57,
   "metadata": {},
   "outputs": [],
   "source": [
    "bidir=True"
   ]
  },
  {
   "cell_type": "code",
   "execution_count": 58,
   "metadata": {},
   "outputs": [
    {
     "data": {
      "application/vnd.jupyter.widget-view+json": {
       "model_id": "3fdeeed6bd544b958574eda0980d034b",
       "version_major": 2,
       "version_minor": 0
      },
      "text/html": [
       "<p>Failed to display Jupyter Widget of type <code>HBox</code>.</p>\n",
       "<p>\n",
       "  If you're reading this message in the Jupyter Notebook or JupyterLab Notebook, it may mean\n",
       "  that the widgets JavaScript is still loading. If this message persists, it\n",
       "  likely means that the widgets JavaScript library is either not installed or\n",
       "  not enabled. See the <a href=\"https://ipywidgets.readthedocs.io/en/stable/user_install.html\">Jupyter\n",
       "  Widgets Documentation</a> for setup instructions.\n",
       "</p>\n",
       "<p>\n",
       "  If you're reading this message in another frontend (for example, a static\n",
       "  rendering on GitHub or <a href=\"https://nbviewer.jupyter.org/\">NBViewer</a>),\n",
       "  it may mean that your frontend doesn't currently support widgets.\n",
       "</p>\n"
      ],
      "text/plain": [
       "HBox(children=(IntProgress(value=0, description='Epoch', max=5), HTML(value='')))"
      ]
     },
     "metadata": {},
     "output_type": "display_data"
    },
    {
     "name": "stdout",
     "output_type": "stream",
     "text": [
      "epoch      trn_loss   val_loss                               \n",
      "    0      0.970974   0.887447  \n",
      "    1      0.751031   0.795377                               \n",
      "    2      0.673117   0.761839                               \n",
      "    3      0.520744   0.675822                               \n",
      "    4      0.429682   0.63126                                \n",
      "\n"
     ]
    },
    {
     "data": {
      "text/plain": [
       "[array([0.63126])]"
      ]
     },
     "execution_count": 58,
     "metadata": {},
     "output_type": "execute_result"
    }
   ],
   "source": [
    "m = CharSeqStatefulGRU(len(sql_itos), n_fac, bs=bs)\n",
    "opt_fn = partial(optim.Adam, betas=(0.8, 0.99))\n",
    "learn = RNN_Learner(md, SingleModel(to_gpu(m)), opt_fn=opt_fn)\n",
    "learn.crit = nll_loss_seq\n",
    "\n",
    "learn.fit(1e-2, 1, cycle_len=5, use_clr_beta = (10,10,0.95,0.85))"
   ]
  },
  {
   "cell_type": "markdown",
   "metadata": {},
   "source": [
    "# Two GRU"
   ]
  },
  {
   "cell_type": "code",
   "execution_count": 36,
   "metadata": {},
   "outputs": [],
   "source": [
    "n_hidden=256\n",
    "n_fac=128\n",
    "dropout=0\n",
    "bidir=True"
   ]
  },
  {
   "cell_type": "code",
   "execution_count": 72,
   "metadata": {
    "ExecuteTime": {
     "end_time": "2018-04-23T09:33:48.050758Z",
     "start_time": "2018-04-23T09:33:47.697500Z"
    }
   },
   "outputs": [],
   "source": [
    "class CharSeqStatefulGRU(nn.Module):\n",
    "    def __init__(self, vocab_size, n_fac, bs):\n",
    "        super().__init__()\n",
    "        self.vocab_size = vocab_size\n",
    "        self.e = nn.Embedding(vocab_size, n_fac)\n",
    "        self.rnn1 = nn.GRU(n_fac, n_hidden, dropout=dropout, bidirectional=bidir)\n",
    "        self.rnn2 = nn.GRU(n_hidden+n_hidden*bidir, n_hidden//2,dropout=dropout, bidirectional=bidir)\n",
    "        self.l_out = nn.Linear(n_hidden//2 +n_hidden//2 *bidir, vocab_size)\n",
    "        self.init_hidden(bs)\n",
    "        \n",
    "    def forward(self, *cs):\n",
    "        bs = cs[0].size(0)\n",
    "        if self.h1.size(1) != bs: self.init_hidden(bs)\n",
    "        inp = self.e(torch.stack(cs))\n",
    "        outp,h1 = self.rnn1(inp, self.h1)\n",
    "#         outp = self.rnn_drop1(outp)\n",
    "        self.h1 = repackage_var(h1)\n",
    "        outp,h2 = self.rnn2(outp,self.h2)        \n",
    "        self.h2 = repackage_var(h2)\n",
    "#         outp = self.rnn_drop2(outp)\n",
    "        \n",
    "#         pdb.set_trace()\n",
    "        return F.log_softmax(self.l_out(outp), dim=-1)\n",
    "    \n",
    "    def init_hidden(self, bs): \n",
    "        self.h1 = V(torch.zeros(1+1*bidir, bs, n_hidden))\n",
    "        self.h2 = V(torch.zeros(1+1*bidir, bs, n_hidden//2))"
   ]
  },
  {
   "cell_type": "markdown",
   "metadata": {},
   "source": [
    "* cs is the input , cs = 5 for sequence Length, a tuple with length(cs)\n",
    "* each tensor is 512, length = bs # batch size\n",
    "* `(Pdb) torch.stack(cs).size()`\n",
    "* `torch.Size([5, 512])`\n",
    "* `(Pdb) outp.size()\n",
    "torch.Size([5, 512, 256])`\n",
    "*`(Pdb) !h.size()\n",
    "torch.Size([1, 512, 256])`\n",
    "*(Pdb) self.l_out(outp).size()\n",
    "torch.Size([5, 512, 23125])\n",
    "*(Pdb) self.l_out\n",
    "Linear(in_features=256, out_features=23125, bias=True)\n",
    "\n"
   ]
  },
  {
   "cell_type": "code",
   "execution_count": 69,
   "metadata": {
    "ExecuteTime": {
     "end_time": "2018-04-23T09:33:48.793756Z",
     "start_time": "2018-04-23T09:33:48.475530Z"
    }
   },
   "outputs": [],
   "source": [
    "# m.rnn.weight_hh_l0.data.copy_(torch.eye(n_hidden))"
   ]
  },
  {
   "cell_type": "code",
   "execution_count": 47,
   "metadata": {},
   "outputs": [
    {
     "data": {
      "application/vnd.jupyter.widget-view+json": {
       "model_id": "00f2de7afc234465aeceaba7483edc19",
       "version_major": 2,
       "version_minor": 0
      },
      "text/html": [
       "<p>Failed to display Jupyter Widget of type <code>HBox</code>.</p>\n",
       "<p>\n",
       "  If you're reading this message in the Jupyter Notebook or JupyterLab Notebook, it may mean\n",
       "  that the widgets JavaScript is still loading. If this message persists, it\n",
       "  likely means that the widgets JavaScript library is either not installed or\n",
       "  not enabled. See the <a href=\"https://ipywidgets.readthedocs.io/en/stable/user_install.html\">Jupyter\n",
       "  Widgets Documentation</a> for setup instructions.\n",
       "</p>\n",
       "<p>\n",
       "  If you're reading this message in another frontend (for example, a static\n",
       "  rendering on GitHub or <a href=\"https://nbviewer.jupyter.org/\">NBViewer</a>),\n",
       "  it may mean that your frontend doesn't currently support widgets.\n",
       "</p>\n"
      ],
      "text/plain": [
       "HBox(children=(IntProgress(value=0, description='Epoch', max=5), HTML(value='')))"
      ]
     },
     "metadata": {},
     "output_type": "display_data"
    },
    {
     "name": "stdout",
     "output_type": "stream",
     "text": [
      "epoch      trn_loss   val_loss                              \n",
      "    0      4.223879   4.033411  \n",
      "    1      3.45677    3.446538                              \n",
      "    2      2.852295   2.885229                              \n",
      "    3      2.646157   2.679946                              \n",
      "    4      2.526666   2.601328                              \n",
      "\n"
     ]
    },
    {
     "data": {
      "text/plain": [
       "[array([2.60133])]"
      ]
     },
     "execution_count": 47,
     "metadata": {},
     "output_type": "execute_result"
    }
   ],
   "source": [
    "bidir=False\n",
    "\n",
    "m = CharSeqStatefulGRU(len(sql_itos), n_fac, bs=bs)\n",
    "opt_fn = partial(optim.Adam, betas=(0.8, 0.99))\n",
    "learn = RNN_Learner(md, SingleModel(to_gpu(m)), opt_fn=opt_fn)\n",
    "learn.crit = nll_loss_seq\n",
    "\n",
    "learn.fit(1e-2, 1, cycle_len=5, use_clr_beta = (10,10,0.95,0.85))"
   ]
  },
  {
   "cell_type": "code",
   "execution_count": null,
   "metadata": {
    "ExecuteTime": {
     "end_time": "2018-04-23T09:33:49.190908Z",
     "start_time": "2018-04-23T09:33:48.797768Z"
    },
    "scrolled": true
   },
   "outputs": [],
   "source": [
    "bidir=True\n",
    "m = CharSeqStatefulGRU(len(sql_itos), n_fac, bs=bs)\n",
    "opt_fn = partial(optim.Adam, betas=(0.8, 0.99))\n",
    "learn = RNN_Learner(md, SingleModel(to_gpu(m)), opt_fn=opt_fn)\n",
    "learn.crit = nll_loss_seq"
   ]
  },
  {
   "cell_type": "code",
   "execution_count": 40,
   "metadata": {
    "ExecuteTime": {
     "end_time": "2018-04-23T09:38:22.446465Z",
     "start_time": "2018-04-23T09:38:22.041219Z"
    }
   },
   "outputs": [
    {
     "data": {
      "application/vnd.jupyter.widget-view+json": {
       "model_id": "7b8f8d111b5843bb8f81360741e03f68",
       "version_major": 2,
       "version_minor": 0
      },
      "text/html": [
       "<p>Failed to display Jupyter Widget of type <code>HBox</code>.</p>\n",
       "<p>\n",
       "  If you're reading this message in the Jupyter Notebook or JupyterLab Notebook, it may mean\n",
       "  that the widgets JavaScript is still loading. If this message persists, it\n",
       "  likely means that the widgets JavaScript library is either not installed or\n",
       "  not enabled. See the <a href=\"https://ipywidgets.readthedocs.io/en/stable/user_install.html\">Jupyter\n",
       "  Widgets Documentation</a> for setup instructions.\n",
       "</p>\n",
       "<p>\n",
       "  If you're reading this message in another frontend (for example, a static\n",
       "  rendering on GitHub or <a href=\"https://nbviewer.jupyter.org/\">NBViewer</a>),\n",
       "  it may mean that your frontend doesn't currently support widgets.\n",
       "</p>\n"
      ],
      "text/plain": [
       "HBox(children=(IntProgress(value=0, description='Epoch', max=1), HTML(value='')))"
      ]
     },
     "metadata": {},
     "output_type": "display_data"
    },
    {
     "name": "stdout",
     "output_type": "stream",
     "text": [
      " 76%|███████▌  | 255/336 [01:02<00:19,  4.06it/s, loss=7.37]"
     ]
    }
   ],
   "source": [
    "learn.lr_find()"
   ]
  },
  {
   "cell_type": "code",
   "execution_count": 41,
   "metadata": {
    "ExecuteTime": {
     "end_time": "2018-04-23T09:38:25.617617Z",
     "start_time": "2018-04-23T09:38:25.265038Z"
    },
    "scrolled": true
   },
   "outputs": [
    {
     "data": {
      "image/png": "[encoded data removed]",
      "text/plain": [
       "<matplotlib.figure.Figure at 0x7f34bae0f4a8>"
      ]
     },
     "metadata": {},
     "output_type": "display_data"
    }
   ],
   "source": [
    "learn.sched.plot()"
   ]
  },
  {
   "cell_type": "code",
   "execution_count": 42,
   "metadata": {},
   "outputs": [
    {
     "data": {
      "application/vnd.jupyter.widget-view+json": {
       "model_id": "ad7e0382b1ab4d8197831eee8df24e67",
       "version_major": 2,
       "version_minor": 0
      },
      "text/html": [
       "<p>Failed to display Jupyter Widget of type <code>HBox</code>.</p>\n",
       "<p>\n",
       "  If you're reading this message in the Jupyter Notebook or JupyterLab Notebook, it may mean\n",
       "  that the widgets JavaScript is still loading. If this message persists, it\n",
       "  likely means that the widgets JavaScript library is either not installed or\n",
       "  not enabled. See the <a href=\"https://ipywidgets.readthedocs.io/en/stable/user_install.html\">Jupyter\n",
       "  Widgets Documentation</a> for setup instructions.\n",
       "</p>\n",
       "<p>\n",
       "  If you're reading this message in another frontend (for example, a static\n",
       "  rendering on GitHub or <a href=\"https://nbviewer.jupyter.org/\">NBViewer</a>),\n",
       "  it may mean that your frontend doesn't currently support widgets.\n",
       "</p>\n"
      ],
      "text/plain": [
       "HBox(children=(IntProgress(value=0, description='Epoch', max=5), HTML(value='')))"
      ]
     },
     "metadata": {},
     "output_type": "display_data"
    },
    {
     "name": "stdout",
     "output_type": "stream",
     "text": [
      "  5%|▌         | 18/336 [00:04<01:18,  4.06it/s, loss=8.09] \n",
      "  6%|▌         | 19/336 [00:04<01:18,  4.06it/s, loss=7.88]"
     ]
    },
    {
     "name": "stderr",
     "output_type": "stream",
     "text": [
      "Exception in thread Thread-4:\n",
      "Traceback (most recent call last):\n",
      "  File \"/home/channoklam_cnl/anaconda3/envs/fastai/lib/python3.6/threading.py\", line 916, in _bootstrap_inner\n",
      "    self.run()\n",
      "  File \"/home/channoklam_cnl/anaconda3/envs/fastai/lib/python3.6/site-packages/tqdm/_tqdm.py\", line 144, in run\n",
      "    for instance in self.tqdm_cls._instances:\n",
      "  File \"/home/channoklam_cnl/anaconda3/envs/fastai/lib/python3.6/_weakrefset.py\", line 60, in __iter__\n",
      "    for itemref in self.data:\n",
      "RuntimeError: Set changed size during iteration\n",
      "\n"
     ]
    },
    {
     "name": "stdout",
     "output_type": "stream",
     "text": [
      "epoch      trn_loss   val_loss                               \n",
      "    0      0.676998   0.592733  \n",
      "    1      0.459069   0.505907                               \n",
      "    2      0.360548   0.485807                               \n",
      "    3      0.273075   0.462775                               \n",
      "    4      0.206725   0.455057                               \n",
      "\n"
     ]
    },
    {
     "data": {
      "text/plain": [
       "[array([0.45506])]"
      ]
     },
     "execution_count": 42,
     "metadata": {},
     "output_type": "execute_result"
    }
   ],
   "source": [
    "learn.fit(1e-2, 1, cycle_len=5, use_clr_beta = (10,10,0.95,0.85))"
   ]
  },
  {
   "cell_type": "code",
   "execution_count": 73,
   "metadata": {},
   "outputs": [
    {
     "name": "stdout",
     "output_type": "stream",
     "text": [
      "n_hidden: 128 n_fac: 128 bidir: True dropout: 0\n"
     ]
    },
    {
     "data": {
      "application/vnd.jupyter.widget-view+json": {
       "model_id": "6f2679dd0aec41a9b3514dd1fa054163",
       "version_major": 2,
       "version_minor": 0
      },
      "text/html": [
       "<p>Failed to display Jupyter Widget of type <code>HBox</code>.</p>\n",
       "<p>\n",
       "  If you're reading this message in the Jupyter Notebook or JupyterLab Notebook, it may mean\n",
       "  that the widgets JavaScript is still loading. If this message persists, it\n",
       "  likely means that the widgets JavaScript library is either not installed or\n",
       "  not enabled. See the <a href=\"https://ipywidgets.readthedocs.io/en/stable/user_install.html\">Jupyter\n",
       "  Widgets Documentation</a> for setup instructions.\n",
       "</p>\n",
       "<p>\n",
       "  If you're reading this message in another frontend (for example, a static\n",
       "  rendering on GitHub or <a href=\"https://nbviewer.jupyter.org/\">NBViewer</a>),\n",
       "  it may mean that your frontend doesn't currently support widgets.\n",
       "</p>\n"
      ],
      "text/plain": [
       "HBox(children=(IntProgress(value=0, description='Epoch', max=5), HTML(value='')))"
      ]
     },
     "metadata": {},
     "output_type": "display_data"
    },
    {
     "name": "stdout",
     "output_type": "stream",
     "text": [
      "epoch      trn_loss   val_loss                              \n",
      "    0      1.212807   1.061725  \n",
      "    1      0.811962   0.807159                               \n",
      "    2      0.692939   0.731224                               \n",
      "    3      0.583302   0.661865                               \n",
      "    4      0.499812   0.634054                               \n",
      "\n",
      "n_hidden: 128 n_fac: 128 bidir: False dropout: 0\n"
     ]
    },
    {
     "data": {
      "application/vnd.jupyter.widget-view+json": {
       "model_id": "d511187ff84940c995d7a9e09e557dbd",
       "version_major": 2,
       "version_minor": 0
      },
      "text/html": [
       "<p>Failed to display Jupyter Widget of type <code>HBox</code>.</p>\n",
       "<p>\n",
       "  If you're reading this message in the Jupyter Notebook or JupyterLab Notebook, it may mean\n",
       "  that the widgets JavaScript is still loading. If this message persists, it\n",
       "  likely means that the widgets JavaScript library is either not installed or\n",
       "  not enabled. See the <a href=\"https://ipywidgets.readthedocs.io/en/stable/user_install.html\">Jupyter\n",
       "  Widgets Documentation</a> for setup instructions.\n",
       "</p>\n",
       "<p>\n",
       "  If you're reading this message in another frontend (for example, a static\n",
       "  rendering on GitHub or <a href=\"https://nbviewer.jupyter.org/\">NBViewer</a>),\n",
       "  it may mean that your frontend doesn't currently support widgets.\n",
       "</p>\n"
      ],
      "text/plain": [
       "HBox(children=(IntProgress(value=0, description='Epoch', max=5), HTML(value='')))"
      ]
     },
     "metadata": {},
     "output_type": "display_data"
    },
    {
     "name": "stdout",
     "output_type": "stream",
     "text": [
      "epoch      trn_loss   val_loss                              \n",
      "    0      3.914288   3.494619  \n",
      "    1      2.612266   2.571698                              \n",
      "    2      2.404728   2.423571                              \n",
      "    3      2.288312   2.357915                              \n",
      "    4      2.205917   2.330063                              \n",
      "\n",
      "n_hidden: 128 n_fac: 64 bidir: True dropout: 0\n"
     ]
    },
    {
     "data": {
      "application/vnd.jupyter.widget-view+json": {
       "model_id": "e94ff4d5db9d41529fe48b4a552f5085",
       "version_major": 2,
       "version_minor": 0
      },
      "text/html": [
       "<p>Failed to display Jupyter Widget of type <code>HBox</code>.</p>\n",
       "<p>\n",
       "  If you're reading this message in the Jupyter Notebook or JupyterLab Notebook, it may mean\n",
       "  that the widgets JavaScript is still loading. If this message persists, it\n",
       "  likely means that the widgets JavaScript library is either not installed or\n",
       "  not enabled. See the <a href=\"https://ipywidgets.readthedocs.io/en/stable/user_install.html\">Jupyter\n",
       "  Widgets Documentation</a> for setup instructions.\n",
       "</p>\n",
       "<p>\n",
       "  If you're reading this message in another frontend (for example, a static\n",
       "  rendering on GitHub or <a href=\"https://nbviewer.jupyter.org/\">NBViewer</a>),\n",
       "  it may mean that your frontend doesn't currently support widgets.\n",
       "</p>\n"
      ],
      "text/plain": [
       "HBox(children=(IntProgress(value=0, description='Epoch', max=5), HTML(value='')))"
      ]
     },
     "metadata": {},
     "output_type": "display_data"
    },
    {
     "name": "stdout",
     "output_type": "stream",
     "text": [
      "epoch      trn_loss   val_loss                              \n",
      "    0      1.37563    1.16036   \n",
      "    1      0.826897   0.819891                               \n",
      "    2      0.688435   0.725081                               \n",
      "    3      0.572272   0.655405                               \n",
      "    4      0.4963     0.626612                               \n",
      "\n",
      "n_hidden: 128 n_fac: 64 bidir: False dropout: 0\n"
     ]
    },
    {
     "data": {
      "application/vnd.jupyter.widget-view+json": {
       "model_id": "339d8018de3545e1bdad119e00654c9e",
       "version_major": 2,
       "version_minor": 0
      },
      "text/html": [
       "<p>Failed to display Jupyter Widget of type <code>HBox</code>.</p>\n",
       "<p>\n",
       "  If you're reading this message in the Jupyter Notebook or JupyterLab Notebook, it may mean\n",
       "  that the widgets JavaScript is still loading. If this message persists, it\n",
       "  likely means that the widgets JavaScript library is either not installed or\n",
       "  not enabled. See the <a href=\"https://ipywidgets.readthedocs.io/en/stable/user_install.html\">Jupyter\n",
       "  Widgets Documentation</a> for setup instructions.\n",
       "</p>\n",
       "<p>\n",
       "  If you're reading this message in another frontend (for example, a static\n",
       "  rendering on GitHub or <a href=\"https://nbviewer.jupyter.org/\">NBViewer</a>),\n",
       "  it may mean that your frontend doesn't currently support widgets.\n",
       "</p>\n"
      ],
      "text/plain": [
       "HBox(children=(IntProgress(value=0, description='Epoch', max=5), HTML(value='')))"
      ]
     },
     "metadata": {},
     "output_type": "display_data"
    },
    {
     "name": "stdout",
     "output_type": "stream",
     "text": [
      "epoch      trn_loss   val_loss                              \n",
      "    0      5.027729   5.030593  \n",
      "    1      5.048708   5.058978                              \n",
      "    2      2.763283   2.670255                              \n",
      "    3      2.46067    2.489534                              \n",
      "    4      2.373273   2.449852                              \n",
      "\n",
      "n_hidden: 512 n_fac: 128 bidir: True dropout: 0\n"
     ]
    },
    {
     "data": {
      "application/vnd.jupyter.widget-view+json": {
       "model_id": "1f1329797187445e82260f18297fdff8",
       "version_major": 2,
       "version_minor": 0
      },
      "text/html": [
       "<p>Failed to display Jupyter Widget of type <code>HBox</code>.</p>\n",
       "<p>\n",
       "  If you're reading this message in the Jupyter Notebook or JupyterLab Notebook, it may mean\n",
       "  that the widgets JavaScript is still loading. If this message persists, it\n",
       "  likely means that the widgets JavaScript library is either not installed or\n",
       "  not enabled. See the <a href=\"https://ipywidgets.readthedocs.io/en/stable/user_install.html\">Jupyter\n",
       "  Widgets Documentation</a> for setup instructions.\n",
       "</p>\n",
       "<p>\n",
       "  If you're reading this message in another frontend (for example, a static\n",
       "  rendering on GitHub or <a href=\"https://nbviewer.jupyter.org/\">NBViewer</a>),\n",
       "  it may mean that your frontend doesn't currently support widgets.\n",
       "</p>\n"
      ],
      "text/plain": [
       "HBox(children=(IntProgress(value=0, description='Epoch', max=5), HTML(value='')))"
      ]
     },
     "metadata": {},
     "output_type": "display_data"
    },
    {
     "name": "stdout",
     "output_type": "stream",
     "text": [
      "epoch      trn_loss   val_loss                               \n",
      "    0      0.94612    0.843543  \n",
      "    1      0.767407   0.819792                               \n",
      "    2      0.747876   0.809661                               \n",
      "    3      0.573085   0.689847                               \n",
      "    4      0.45382    0.632427                               \n",
      "\n",
      "n_hidden: 512 n_fac: 128 bidir: False dropout: 0\n"
     ]
    },
    {
     "data": {
      "application/vnd.jupyter.widget-view+json": {
       "model_id": "dd7f62e0f9e4472a9edd2a5a8f821d78",
       "version_major": 2,
       "version_minor": 0
      },
      "text/html": [
       "<p>Failed to display Jupyter Widget of type <code>HBox</code>.</p>\n",
       "<p>\n",
       "  If you're reading this message in the Jupyter Notebook or JupyterLab Notebook, it may mean\n",
       "  that the widgets JavaScript is still loading. If this message persists, it\n",
       "  likely means that the widgets JavaScript library is either not installed or\n",
       "  not enabled. See the <a href=\"https://ipywidgets.readthedocs.io/en/stable/user_install.html\">Jupyter\n",
       "  Widgets Documentation</a> for setup instructions.\n",
       "</p>\n",
       "<p>\n",
       "  If you're reading this message in another frontend (for example, a static\n",
       "  rendering on GitHub or <a href=\"https://nbviewer.jupyter.org/\">NBViewer</a>),\n",
       "  it may mean that your frontend doesn't currently support widgets.\n",
       "</p>\n"
      ],
      "text/plain": [
       "HBox(children=(IntProgress(value=0, description='Epoch', max=5), HTML(value='')))"
      ]
     },
     "metadata": {},
     "output_type": "display_data"
    },
    {
     "name": "stdout",
     "output_type": "stream",
     "text": [
      "epoch      trn_loss   val_loss                              \n",
      "    0      4.340119   4.249814  \n",
      "    1      2.817755   2.827256                              \n",
      "    2      2.617266   2.633138                              \n",
      "    3      2.40641    2.457128                              \n",
      "    4      2.257149   2.374019                              \n",
      "\n",
      "n_hidden: 512 n_fac: 64 bidir: True dropout: 0\n"
     ]
    },
    {
     "data": {
      "application/vnd.jupyter.widget-view+json": {
       "model_id": "6fe8bb4273574b9d84b36503aa607618",
       "version_major": 2,
       "version_minor": 0
      },
      "text/html": [
       "<p>Failed to display Jupyter Widget of type <code>HBox</code>.</p>\n",
       "<p>\n",
       "  If you're reading this message in the Jupyter Notebook or JupyterLab Notebook, it may mean\n",
       "  that the widgets JavaScript is still loading. If this message persists, it\n",
       "  likely means that the widgets JavaScript library is either not installed or\n",
       "  not enabled. See the <a href=\"https://ipywidgets.readthedocs.io/en/stable/user_install.html\">Jupyter\n",
       "  Widgets Documentation</a> for setup instructions.\n",
       "</p>\n",
       "<p>\n",
       "  If you're reading this message in another frontend (for example, a static\n",
       "  rendering on GitHub or <a href=\"https://nbviewer.jupyter.org/\">NBViewer</a>),\n",
       "  it may mean that your frontend doesn't currently support widgets.\n",
       "</p>\n"
      ],
      "text/plain": [
       "HBox(children=(IntProgress(value=0, description='Epoch', max=5), HTML(value='')))"
      ]
     },
     "metadata": {},
     "output_type": "display_data"
    },
    {
     "name": "stdout",
     "output_type": "stream",
     "text": [
      "epoch      trn_loss   val_loss                              \n",
      "    0      1.369762   1.327064  \n",
      "    1      0.900154   0.905763                               \n",
      "    2      0.80147    0.835397                               \n",
      "    3      0.60252    0.705347                               \n",
      "    4      0.469994   0.644672                               \n",
      "\n",
      "n_hidden: 512 n_fac: 64 bidir: False dropout: 0\n"
     ]
    },
    {
     "data": {
      "application/vnd.jupyter.widget-view+json": {
       "model_id": "81ba80220aff490baae6993e4a6e842c",
       "version_major": 2,
       "version_minor": 0
      },
      "text/html": [
       "<p>Failed to display Jupyter Widget of type <code>HBox</code>.</p>\n",
       "<p>\n",
       "  If you're reading this message in the Jupyter Notebook or JupyterLab Notebook, it may mean\n",
       "  that the widgets JavaScript is still loading. If this message persists, it\n",
       "  likely means that the widgets JavaScript library is either not installed or\n",
       "  not enabled. See the <a href=\"https://ipywidgets.readthedocs.io/en/stable/user_install.html\">Jupyter\n",
       "  Widgets Documentation</a> for setup instructions.\n",
       "</p>\n",
       "<p>\n",
       "  If you're reading this message in another frontend (for example, a static\n",
       "  rendering on GitHub or <a href=\"https://nbviewer.jupyter.org/\">NBViewer</a>),\n",
       "  it may mean that your frontend doesn't currently support widgets.\n",
       "</p>\n"
      ],
      "text/plain": [
       "HBox(children=(IntProgress(value=0, description='Epoch', max=5), HTML(value='')))"
      ]
     },
     "metadata": {},
     "output_type": "display_data"
    },
    {
     "name": "stdout",
     "output_type": "stream",
     "text": [
      "epoch      trn_loss   val_loss                              \n",
      "    0      4.825634   4.738349  \n",
      "    1      3.687249   3.74783                               \n",
      "    2      3.420143   3.443927                              \n",
      "    3      3.188692   3.194999                              \n",
      "    4      3.013855   3.066492                              \n",
      "\n"
     ]
    }
   ],
   "source": [
    "for n_hidden in [128,512]:\n",
    "    for n_fac in [128, 64]:\n",
    "        for bidir in [True,False]:\n",
    "            \n",
    "            n_hidden=n_hidden\n",
    "            n_fac=n_fac\n",
    "            dropout=0\n",
    "            bidir=bidir\n",
    "            \n",
    "            print('n_hidden:',n_hidden,'n_fac:',n_fac,'bidir:',bidir,'dropout:',dropout)\n",
    "            \n",
    "            m = CharSeqStatefulGRU(len(sql_itos), n_fac, bs=bs)\n",
    "            opt_fn = partial(optim.Adam, betas=(0.8, 0.99))\n",
    "            learn = RNN_Learner(md, SingleModel(to_gpu(m)), opt_fn=opt_fn)\n",
    "            learn.crit = nll_loss_seq\n",
    "            learn.fit(1e-2, 1, cycle_len=5, use_clr_beta = (10,10,0.95,0.85))"
   ]
  },
  {
   "cell_type": "markdown",
   "metadata": {},
   "source": [
    "## Change CS length"
   ]
  },
  {
   "cell_type": "markdown",
   "metadata": {},
   "source": [
    "Bidir is clearly important, and it make sense as table schema comes after column name.\n",
    "Set Bidir to true and test longer cs=16, and test differe n_hidden and n_fac\n"
   ]
  },
  {
   "cell_type": "code",
   "execution_count": 183,
   "metadata": {},
   "outputs": [
    {
     "data": {
      "text/plain": [
       "(106568, 16)"
      ]
     },
     "execution_count": 183,
     "metadata": {},
     "output_type": "execute_result"
    }
   ],
   "source": [
    "cs=16\n",
    "\n",
    "c_in_dat = [[idx[i+j] for i in range(cs)] for j in range(0, len(idx)-cs-1, cs)]\n",
    "\n",
    "c_out_dat = [[idx[i+j] for i in range(cs)] for j in range(1, len(idx)-cs, cs)]\n",
    "\n",
    "xs = np.stack(c_in_dat)\n",
    "xs.shape\n",
    "\n",
    "ys = np.stack(c_out_dat)\n",
    "ys.shape"
   ]
  },
  {
   "cell_type": "code",
   "execution_count": 184,
   "metadata": {},
   "outputs": [
    {
     "data": {
      "text/plain": [
       "((106568, 16), (106568, 16))"
      ]
     },
     "execution_count": 184,
     "metadata": {},
     "output_type": "execute_result"
    }
   ],
   "source": [
    "xs.shape,ys.shape"
   ]
  },
  {
   "cell_type": "code",
   "execution_count": 185,
   "metadata": {},
   "outputs": [],
   "source": [
    "bs=256"
   ]
  },
  {
   "cell_type": "code",
   "execution_count": 186,
   "metadata": {},
   "outputs": [],
   "source": [
    "val_idx = get_cv_idxs(len(xs)-cs-1)\n",
    "md = ColumnarModelData.from_arrays('.', val_idx, xs, ys, bs=bs)"
   ]
  },
  {
   "cell_type": "code",
   "execution_count": 187,
   "metadata": {},
   "outputs": [],
   "source": [
    "class CharSeqStatefulGRU(nn.Module):\n",
    "    def __init__(self, vocab_size, n_fac, bs):\n",
    "        super().__init__()\n",
    "        self.vocab_size = vocab_size\n",
    "        self.e = nn.Embedding(vocab_size, n_fac)\n",
    "        self.rnn1 = nn.GRU(n_fac, n_hidden, dropout=dropout, bidirectional=bidir)\n",
    "        self.rnn2 = nn.GRU(n_hidden+n_hidden*bidir, n_hidden//2,dropout=dropout, bidirectional=bidir)\n",
    "        self.l_out = nn.Linear(n_hidden//2 +n_hidden//2 *bidir, vocab_size)\n",
    "        self.init_hidden(bs)\n",
    "        \n",
    "    def forward(self, *cs):\n",
    "        bs = cs[0].size(0)\n",
    "        if self.h1.size(1) != bs: self.init_hidden(bs)\n",
    "        inp = self.e(torch.stack(cs))\n",
    "        outp,h1 = self.rnn1(inp, self.h1)\n",
    "#         outp = self.rnn_drop1(outp)\n",
    "        self.h1 = repackage_var(h1)\n",
    "        outp,h2 = self.rnn2(outp,self.h2)        \n",
    "        self.h2 = repackage_var(h2)\n",
    "#         outp = self.rnn_drop2(outp)\n",
    "        \n",
    "#         pdb.set_trace()\n",
    "        return F.log_softmax(self.l_out(outp), dim=-1)\n",
    "    \n",
    "    def init_hidden(self, bs): \n",
    "        self.h1 = V(torch.zeros(1+1*bidir, bs, n_hidden))\n",
    "        self.h2 = V(torch.zeros(1+1*bidir, bs, n_hidden//2))"
   ]
  },
  {
   "cell_type": "code",
   "execution_count": 25,
   "metadata": {},
   "outputs": [],
   "source": [
    "n_hidden =128\n",
    "n_fac=64\n",
    "dropout=0\n",
    "bidir=True"
   ]
  },
  {
   "cell_type": "code",
   "execution_count": 28,
   "metadata": {
    "scrolled": true
   },
   "outputs": [
    {
     "name": "stdout",
     "output_type": "stream",
     "text": [
      "n_hidden: 128 n_fac: 64 bidir: True dropout: 0\n"
     ]
    },
    {
     "data": {
      "application/vnd.jupyter.widget-view+json": {
       "model_id": "324179ba2b874f7595684222a23dc68e",
       "version_major": 2,
       "version_minor": 0
      },
      "text/html": [
       "<p>Failed to display Jupyter Widget of type <code>HBox</code>.</p>\n",
       "<p>\n",
       "  If you're reading this message in the Jupyter Notebook or JupyterLab Notebook, it may mean\n",
       "  that the widgets JavaScript is still loading. If this message persists, it\n",
       "  likely means that the widgets JavaScript library is either not installed or\n",
       "  not enabled. See the <a href=\"https://ipywidgets.readthedocs.io/en/stable/user_install.html\">Jupyter\n",
       "  Widgets Documentation</a> for setup instructions.\n",
       "</p>\n",
       "<p>\n",
       "  If you're reading this message in another frontend (for example, a static\n",
       "  rendering on GitHub or <a href=\"https://nbviewer.jupyter.org/\">NBViewer</a>),\n",
       "  it may mean that your frontend doesn't currently support widgets.\n",
       "</p>\n"
      ],
      "text/plain": [
       "HBox(children=(IntProgress(value=0, description='Epoch', max=5), HTML(value='')))"
      ]
     },
     "metadata": {},
     "output_type": "display_data"
    },
    {
     "name": "stdout",
     "output_type": "stream",
     "text": [
      "epoch      trn_loss   val_loss                               \n",
      "    0      0.739399   0.63312   \n",
      "    1      0.409324   0.412669                               \n",
      "    2      0.311626   0.355719                               \n",
      "    3      0.228066   0.316156                               \n",
      "    4      0.178496   0.298951                               \n",
      "\n"
     ]
    },
    {
     "data": {
      "text/plain": [
       "[array([0.29895])]"
      ]
     },
     "execution_count": 28,
     "metadata": {},
     "output_type": "execute_result"
    }
   ],
   "source": [
    "print('n_hidden:',n_hidden,'n_fac:',n_fac,'bidir:',bidir,'dropout:',dropout)\n",
    "            \n",
    "m = CharSeqStatefulGRU(len(sql_itos), n_fac, bs=bs)\n",
    "opt_fn = partial(optim.Adam, betas=(0.8, 0.99))\n",
    "learn = RNN_Learner(md, SingleModel(to_gpu(m)), opt_fn=opt_fn)\n",
    "learn.crit = nll_loss_seq\n",
    "learn.fit(1e-2, 1, cycle_len=5, use_clr_beta = (10,10,0.95,0.85))"
   ]
  },
  {
   "cell_type": "code",
   "execution_count": 29,
   "metadata": {},
   "outputs": [],
   "source": [
    "n_hidden =64\n",
    "n_fac=64\n",
    "dropout=0\n",
    "bidir=True"
   ]
  },
  {
   "cell_type": "code",
   "execution_count": 30,
   "metadata": {},
   "outputs": [
    {
     "name": "stdout",
     "output_type": "stream",
     "text": [
      "n_hidden: 64 n_fac: 64 bidir: True dropout: 0\n"
     ]
    },
    {
     "data": {
      "application/vnd.jupyter.widget-view+json": {
       "model_id": "ccf935c3668c4bbb81c35d3d52020347",
       "version_major": 2,
       "version_minor": 0
      },
      "text/html": [
       "<p>Failed to display Jupyter Widget of type <code>HBox</code>.</p>\n",
       "<p>\n",
       "  If you're reading this message in the Jupyter Notebook or JupyterLab Notebook, it may mean\n",
       "  that the widgets JavaScript is still loading. If this message persists, it\n",
       "  likely means that the widgets JavaScript library is either not installed or\n",
       "  not enabled. See the <a href=\"https://ipywidgets.readthedocs.io/en/stable/user_install.html\">Jupyter\n",
       "  Widgets Documentation</a> for setup instructions.\n",
       "</p>\n",
       "<p>\n",
       "  If you're reading this message in another frontend (for example, a static\n",
       "  rendering on GitHub or <a href=\"https://nbviewer.jupyter.org/\">NBViewer</a>),\n",
       "  it may mean that your frontend doesn't currently support widgets.\n",
       "</p>\n"
      ],
      "text/plain": [
       "HBox(children=(IntProgress(value=0, description='Epoch', max=5), HTML(value='')))"
      ]
     },
     "metadata": {},
     "output_type": "display_data"
    },
    {
     "name": "stdout",
     "output_type": "stream",
     "text": [
      "epoch      trn_loss   val_loss                              \n",
      "    0      1.234964   0.967665  \n",
      "    1      0.550799   0.543247                               \n",
      "    2      0.40817    0.444744                               \n",
      "    3      0.33237    0.403327                               \n",
      "    4      0.282332   0.387894                               \n",
      "\n"
     ]
    },
    {
     "data": {
      "text/plain": [
       "[array([0.38789])]"
      ]
     },
     "execution_count": 30,
     "metadata": {},
     "output_type": "execute_result"
    }
   ],
   "source": [
    "print('n_hidden:',n_hidden,'n_fac:',n_fac,'bidir:',bidir,'dropout:',dropout)\n",
    "            \n",
    "m = CharSeqStatefulGRU(len(sql_itos), n_fac, bs=bs)\n",
    "opt_fn = partial(optim.Adam, betas=(0.8, 0.99))\n",
    "learn = RNN_Learner(md, SingleModel(to_gpu(m)), opt_fn=opt_fn)\n",
    "learn.crit = nll_loss_seq\n",
    "learn.fit(1e-2, 1, cycle_len=5, use_clr_beta = (10,10,0.95,0.85))"
   ]
  },
  {
   "cell_type": "code",
   "execution_count": 31,
   "metadata": {},
   "outputs": [
    {
     "data": {
      "application/vnd.jupyter.widget-view+json": {
       "model_id": "8f43e11416064fdb8e9c8713baece323",
       "version_major": 2,
       "version_minor": 0
      },
      "text/html": [
       "<p>Failed to display Jupyter Widget of type <code>HBox</code>.</p>\n",
       "<p>\n",
       "  If you're reading this message in the Jupyter Notebook or JupyterLab Notebook, it may mean\n",
       "  that the widgets JavaScript is still loading. If this message persists, it\n",
       "  likely means that the widgets JavaScript library is either not installed or\n",
       "  not enabled. See the <a href=\"https://ipywidgets.readthedocs.io/en/stable/user_install.html\">Jupyter\n",
       "  Widgets Documentation</a> for setup instructions.\n",
       "</p>\n",
       "<p>\n",
       "  If you're reading this message in another frontend (for example, a static\n",
       "  rendering on GitHub or <a href=\"https://nbviewer.jupyter.org/\">NBViewer</a>),\n",
       "  it may mean that your frontend doesn't currently support widgets.\n",
       "</p>\n"
      ],
      "text/plain": [
       "HBox(children=(IntProgress(value=0, description='Epoch', max=1), HTML(value='')))"
      ]
     },
     "metadata": {},
     "output_type": "display_data"
    },
    {
     "name": "stdout",
     "output_type": "stream",
     "text": [
      " 69%|██████▉   | 291/420 [00:22<00:10, 12.68it/s, loss=1.11] "
     ]
    }
   ],
   "source": [
    "learn.lr_find()"
   ]
  },
  {
   "cell_type": "code",
   "execution_count": 32,
   "metadata": {},
   "outputs": [
    {
     "data": {
      "image/png": "[encoded data removed]",
      "text/plain": [
       "<matplotlib.figure.Figure at 0x7fe7a9fc99b0>"
      ]
     },
     "metadata": {},
     "output_type": "display_data"
    },
    {
     "name": "stdout",
     "output_type": "stream",
     "text": [
      "\r",
      " 69%|██████▉   | 291/420 [00:40<00:17,  7.27it/s, loss=1.11]"
     ]
    }
   ],
   "source": [
    "learn.sched.plot()"
   ]
  },
  {
   "cell_type": "code",
   "execution_count": 33,
   "metadata": {},
   "outputs": [],
   "source": [
    "n_hidden =96\n",
    "n_fac=48\n",
    "dropout=0\n",
    "bidir=True"
   ]
  },
  {
   "cell_type": "code",
   "execution_count": 34,
   "metadata": {},
   "outputs": [
    {
     "name": "stdout",
     "output_type": "stream",
     "text": [
      "n_hidden: 96 n_fac: 48 bidir: True dropout: 0\n"
     ]
    }
   ],
   "source": [
    "print('n_hidden:',n_hidden,'n_fac:',n_fac,'bidir:',bidir,'dropout:',dropout)\n",
    "            \n",
    "m = CharSeqStatefulGRU(len(sql_itos), n_fac, bs=bs)\n",
    "opt_fn = partial(optim.Adam, betas=(0.8, 0.99))\n",
    "learn = RNN_Learner(md, SingleModel(to_gpu(m)), opt_fn=opt_fn)\n",
    "learn.crit = nll_loss_seq"
   ]
  },
  {
   "cell_type": "code",
   "execution_count": 35,
   "metadata": {},
   "outputs": [
    {
     "data": {
      "application/vnd.jupyter.widget-view+json": {
       "model_id": "dab595f906914344b67c6e185efbe8eb",
       "version_major": 2,
       "version_minor": 0
      },
      "text/html": [
       "<p>Failed to display Jupyter Widget of type <code>HBox</code>.</p>\n",
       "<p>\n",
       "  If you're reading this message in the Jupyter Notebook or JupyterLab Notebook, it may mean\n",
       "  that the widgets JavaScript is still loading. If this message persists, it\n",
       "  likely means that the widgets JavaScript library is either not installed or\n",
       "  not enabled. See the <a href=\"https://ipywidgets.readthedocs.io/en/stable/user_install.html\">Jupyter\n",
       "  Widgets Documentation</a> for setup instructions.\n",
       "</p>\n",
       "<p>\n",
       "  If you're reading this message in another frontend (for example, a static\n",
       "  rendering on GitHub or <a href=\"https://nbviewer.jupyter.org/\">NBViewer</a>),\n",
       "  it may mean that your frontend doesn't currently support widgets.\n",
       "</p>\n"
      ],
      "text/plain": [
       "HBox(children=(IntProgress(value=0, description='Epoch', max=1), HTML(value='')))"
      ]
     },
     "metadata": {},
     "output_type": "display_data"
    },
    {
     "name": "stdout",
     "output_type": "stream",
     "text": [
      "  4%|▍         | 18/420 [00:01<00:44,  9.07it/s, loss=10.1] \n",
      "  5%|▍         | 20/420 [00:02<00:43,  9.10it/s, loss=10.1]"
     ]
    },
    {
     "name": "stderr",
     "output_type": "stream",
     "text": [
      "Exception in thread Thread-16:\n",
      "Traceback (most recent call last):\n",
      "  File \"/home/channoklam_cnl/anaconda3/envs/fastai/lib/python3.6/threading.py\", line 916, in _bootstrap_inner\n",
      "    self.run()\n",
      "  File \"/home/channoklam_cnl/anaconda3/envs/fastai/lib/python3.6/site-packages/tqdm/_tqdm.py\", line 144, in run\n",
      "    for instance in self.tqdm_cls._instances:\n",
      "  File \"/home/channoklam_cnl/anaconda3/envs/fastai/lib/python3.6/_weakrefset.py\", line 60, in __iter__\n",
      "    for itemref in self.data:\n",
      "RuntimeError: Set changed size during iteration\n",
      "\n"
     ]
    },
    {
     "name": "stdout",
     "output_type": "stream",
     "text": [
      " 76%|███████▌  | 320/420 [00:32<00:10,  9.90it/s, loss=8.69]\n"
     ]
    }
   ],
   "source": [
    "learn.lr_find()"
   ]
  },
  {
   "cell_type": "code",
   "execution_count": 36,
   "metadata": {},
   "outputs": [
    {
     "data": {
      "image/png": "[encoded data removed]",
      "text/plain": [
       "<matplotlib.figure.Figure at 0x7fe7aa5e90b8>"
      ]
     },
     "metadata": {},
     "output_type": "display_data"
    },
    {
     "name": "stdout",
     "output_type": "stream",
     "text": [
      "\r",
      " 76%|███████▌  | 320/420 [00:42<00:13,  7.60it/s, loss=8.69]"
     ]
    }
   ],
   "source": [
    "learn.sched.plot()"
   ]
  },
  {
   "cell_type": "code",
   "execution_count": 37,
   "metadata": {},
   "outputs": [
    {
     "data": {
      "application/vnd.jupyter.widget-view+json": {
       "model_id": "ff7061002c7d48678289b937665f37e1",
       "version_major": 2,
       "version_minor": 0
      },
      "text/html": [
       "<p>Failed to display Jupyter Widget of type <code>HBox</code>.</p>\n",
       "<p>\n",
       "  If you're reading this message in the Jupyter Notebook or JupyterLab Notebook, it may mean\n",
       "  that the widgets JavaScript is still loading. If this message persists, it\n",
       "  likely means that the widgets JavaScript library is either not installed or\n",
       "  not enabled. See the <a href=\"https://ipywidgets.readthedocs.io/en/stable/user_install.html\">Jupyter\n",
       "  Widgets Documentation</a> for setup instructions.\n",
       "</p>\n",
       "<p>\n",
       "  If you're reading this message in another frontend (for example, a static\n",
       "  rendering on GitHub or <a href=\"https://nbviewer.jupyter.org/\">NBViewer</a>),\n",
       "  it may mean that your frontend doesn't currently support widgets.\n",
       "</p>\n"
      ],
      "text/plain": [
       "HBox(children=(IntProgress(value=0, description='Epoch', max=5), HTML(value='')))"
      ]
     },
     "metadata": {},
     "output_type": "display_data"
    },
    {
     "name": "stdout",
     "output_type": "stream",
     "text": [
      "epoch      trn_loss   val_loss                              \n",
      "    0      1.10403    1.065086  \n",
      "    1      1.002034   1.0852                                 \n",
      "    2      1.414777   1.334097                              \n",
      "    3      0.905716   0.921388                               \n",
      "    4      0.660897   0.779194                               \n",
      "\n"
     ]
    },
    {
     "data": {
      "text/plain": [
       "[array([0.77919])]"
      ]
     },
     "execution_count": 37,
     "metadata": {},
     "output_type": "execute_result"
    }
   ],
   "source": [
    "learn.fit(5e-2, 1, cycle_len=5, use_clr_beta = (10,10,0.95,0.85))"
   ]
  },
  {
   "cell_type": "code",
   "execution_count": 39,
   "metadata": {},
   "outputs": [
    {
     "data": {
      "application/vnd.jupyter.widget-view+json": {
       "model_id": "491e54cc42104de2b5faf65236bc2c23",
       "version_major": 2,
       "version_minor": 0
      },
      "text/html": [
       "<p>Failed to display Jupyter Widget of type <code>HBox</code>.</p>\n",
       "<p>\n",
       "  If you're reading this message in the Jupyter Notebook or JupyterLab Notebook, it may mean\n",
       "  that the widgets JavaScript is still loading. If this message persists, it\n",
       "  likely means that the widgets JavaScript library is either not installed or\n",
       "  not enabled. See the <a href=\"https://ipywidgets.readthedocs.io/en/stable/user_install.html\">Jupyter\n",
       "  Widgets Documentation</a> for setup instructions.\n",
       "</p>\n",
       "<p>\n",
       "  If you're reading this message in another frontend (for example, a static\n",
       "  rendering on GitHub or <a href=\"https://nbviewer.jupyter.org/\">NBViewer</a>),\n",
       "  it may mean that your frontend doesn't currently support widgets.\n",
       "</p>\n"
      ],
      "text/plain": [
       "HBox(children=(IntProgress(value=0, description='Epoch', max=3), HTML(value='')))"
      ]
     },
     "metadata": {},
     "output_type": "display_data"
    },
    {
     "name": "stdout",
     "output_type": "stream",
     "text": [
      "epoch      trn_loss   val_loss                               \n",
      "    0      0.615019   0.765011  \n",
      "    1      0.59362    0.747414                               \n",
      "    2      0.577564   0.742213                               \n",
      "\n"
     ]
    },
    {
     "data": {
      "text/plain": [
       "[array([0.74221])]"
      ]
     },
     "execution_count": 39,
     "metadata": {},
     "output_type": "execute_result"
    }
   ],
   "source": [
    "learn.fit(1e-3, 1, cycle_len=3,use_clr_beta = (5,10,0.95,0.85))"
   ]
  },
  {
   "cell_type": "code",
   "execution_count": 40,
   "metadata": {},
   "outputs": [
    {
     "data": {
      "application/vnd.jupyter.widget-view+json": {
       "model_id": "84708d277a3e42b8adf150b8be015553",
       "version_major": 2,
       "version_minor": 0
      },
      "text/html": [
       "<p>Failed to display Jupyter Widget of type <code>HBox</code>.</p>\n",
       "<p>\n",
       "  If you're reading this message in the Jupyter Notebook or JupyterLab Notebook, it may mean\n",
       "  that the widgets JavaScript is still loading. If this message persists, it\n",
       "  likely means that the widgets JavaScript library is either not installed or\n",
       "  not enabled. See the <a href=\"https://ipywidgets.readthedocs.io/en/stable/user_install.html\">Jupyter\n",
       "  Widgets Documentation</a> for setup instructions.\n",
       "</p>\n",
       "<p>\n",
       "  If you're reading this message in another frontend (for example, a static\n",
       "  rendering on GitHub or <a href=\"https://nbviewer.jupyter.org/\">NBViewer</a>),\n",
       "  it may mean that your frontend doesn't currently support widgets.\n",
       "</p>\n"
      ],
      "text/plain": [
       "HBox(children=(IntProgress(value=0, description='Epoch', max=1), HTML(value='')))"
      ]
     },
     "metadata": {},
     "output_type": "display_data"
    },
    {
     "name": "stdout",
     "output_type": "stream",
     "text": [
      " 71%|███████   | 299/420 [00:30<00:12,  9.90it/s, loss=2.38] "
     ]
    }
   ],
   "source": [
    "learn.lr_find()"
   ]
  },
  {
   "cell_type": "code",
   "execution_count": 41,
   "metadata": {},
   "outputs": [
    {
     "data": {
      "image/png": "[encoded data removed]",
      "text/plain": [
       "<matplotlib.figure.Figure at 0x7fe7aa081080>"
      ]
     },
     "metadata": {},
     "output_type": "display_data"
    },
    {
     "name": "stdout",
     "output_type": "stream",
     "text": [
      "\r",
      " 71%|███████   | 299/420 [00:40<00:16,  7.47it/s, loss=2.38]"
     ]
    }
   ],
   "source": [
    "learn.sched.plot()"
   ]
  },
  {
   "cell_type": "code",
   "execution_count": 42,
   "metadata": {},
   "outputs": [
    {
     "data": {
      "application/vnd.jupyter.widget-view+json": {
       "model_id": "0593d730d52c4f96809bf2c7992d2f01",
       "version_major": 2,
       "version_minor": 0
      },
      "text/html": [
       "<p>Failed to display Jupyter Widget of type <code>HBox</code>.</p>\n",
       "<p>\n",
       "  If you're reading this message in the Jupyter Notebook or JupyterLab Notebook, it may mean\n",
       "  that the widgets JavaScript is still loading. If this message persists, it\n",
       "  likely means that the widgets JavaScript library is either not installed or\n",
       "  not enabled. See the <a href=\"https://ipywidgets.readthedocs.io/en/stable/user_install.html\">Jupyter\n",
       "  Widgets Documentation</a> for setup instructions.\n",
       "</p>\n",
       "<p>\n",
       "  If you're reading this message in another frontend (for example, a static\n",
       "  rendering on GitHub or <a href=\"https://nbviewer.jupyter.org/\">NBViewer</a>),\n",
       "  it may mean that your frontend doesn't currently support widgets.\n",
       "</p>\n"
      ],
      "text/plain": [
       "HBox(children=(IntProgress(value=0, description='Epoch', max=1), HTML(value='')))"
      ]
     },
     "metadata": {},
     "output_type": "display_data"
    },
    {
     "name": "stdout",
     "output_type": "stream",
     "text": [
      " 18%|█▊        | 75/420 [00:07<00:35,  9.74it/s, loss=0.625]\n",
      " 18%|█▊        | 77/420 [00:07<00:35,  9.75it/s, loss=0.624]"
     ]
    },
    {
     "name": "stderr",
     "output_type": "stream",
     "text": [
      "Exception in thread Thread-27:\n",
      "Traceback (most recent call last):\n",
      "  File \"/home/channoklam_cnl/anaconda3/envs/fastai/lib/python3.6/threading.py\", line 916, in _bootstrap_inner\n",
      "    self.run()\n",
      "  File \"/home/channoklam_cnl/anaconda3/envs/fastai/lib/python3.6/site-packages/tqdm/_tqdm.py\", line 144, in run\n",
      "    for instance in self.tqdm_cls._instances:\n",
      "  File \"/home/channoklam_cnl/anaconda3/envs/fastai/lib/python3.6/_weakrefset.py\", line 60, in __iter__\n",
      "    for itemref in self.data:\n",
      "RuntimeError: Set changed size during iteration\n",
      "\n"
     ]
    },
    {
     "name": "stdout",
     "output_type": "stream",
     "text": [
      "epoch      trn_loss   val_loss                               \n",
      "    0      0.62796    0.718903  \n",
      "\n"
     ]
    },
    {
     "data": {
      "text/plain": [
       "[array([0.7189])]"
      ]
     },
     "execution_count": 42,
     "metadata": {},
     "output_type": "execute_result"
    }
   ],
   "source": [
    "learn.fit(1e-2, 1, cycle_len=1,use_clr_beta = (5,10,0.95,0.85))"
   ]
  },
  {
   "cell_type": "markdown",
   "metadata": {},
   "source": [
    "## GridSearch"
   ]
  },
  {
   "cell_type": "code",
   "execution_count": 188,
   "metadata": {},
   "outputs": [
    {
     "name": "stdout",
     "output_type": "stream",
     "text": [
      "n_hidden: 128 n_fac: 64 bidir: True dropout: 0.5\n"
     ]
    },
    {
     "data": {
      "application/vnd.jupyter.widget-view+json": {
       "model_id": "312e04a7411f415da496b7f46cc1187f",
       "version_major": 2,
       "version_minor": 0
      },
      "text/html": [
       "<p>Failed to display Jupyter Widget of type <code>HBox</code>.</p>\n",
       "<p>\n",
       "  If you're reading this message in the Jupyter Notebook or JupyterLab Notebook, it may mean\n",
       "  that the widgets JavaScript is still loading. If this message persists, it\n",
       "  likely means that the widgets JavaScript library is either not installed or\n",
       "  not enabled. See the <a href=\"https://ipywidgets.readthedocs.io/en/stable/user_install.html\">Jupyter\n",
       "  Widgets Documentation</a> for setup instructions.\n",
       "</p>\n",
       "<p>\n",
       "  If you're reading this message in another frontend (for example, a static\n",
       "  rendering on GitHub or <a href=\"https://nbviewer.jupyter.org/\">NBViewer</a>),\n",
       "  it may mean that your frontend doesn't currently support widgets.\n",
       "</p>\n"
      ],
      "text/plain": [
       "HBox(children=(IntProgress(value=0, description='Epoch', max=1), HTML(value='')))"
      ]
     },
     "metadata": {},
     "output_type": "display_data"
    },
    {
     "name": "stdout",
     "output_type": "stream",
     "text": [
      "epoch      trn_loss   val_loss                              \n",
      "    0      2.031967   1.834755  \n",
      "\n"
     ]
    }
   ],
   "source": [
    "for n_hidden in [128]:\n",
    "    for n_fac in [64]:\n",
    "        for bidir in [True]:\n",
    "            for dropout in [0.5]:\n",
    "            \n",
    "                n_hidden=n_hidden\n",
    "                n_fac=n_fac\n",
    "                dropout=dropout\n",
    "                bidir=bidir\n",
    "\n",
    "                print('n_hidden:',n_hidden,'n_fac:',n_fac,'bidir:',bidir,'dropout:',dropout)\n",
    "\n",
    "                m = CharSeqStatefulGRU(len(sql_itos), n_fac, bs=bs)\n",
    "                opt_fn = partial(optim.Adam, betas=(0.8, 0.99))\n",
    "                learn = RNN_Learner(md, SingleModel(to_gpu(m)), opt_fn=opt_fn)\n",
    "                learn.crit = nll_loss_seq\n",
    "                learn.fit(1e-3, 1, cycle_len=1, use_clr_beta = (10,10,0.95,0.85))"
   ]
  },
  {
   "cell_type": "code",
   "execution_count": 189,
   "metadata": {},
   "outputs": [],
   "source": [
    "def get_next(inp):\n",
    "    idxs = T(np.array([char_indices[c] for c in inp]))\n",
    "    p = m(*VV(idxs))\n",
    "    p = to_np(p)\n",
    "    i = np.argmax(p[-1,:,:])\n",
    "    \n",
    "    return indices_char[i]"
   ]
  },
  {
   "cell_type": "code",
   "execution_count": 190,
   "metadata": {},
   "outputs": [],
   "source": [
    "inp =\"select userid from users where \".split()"
   ]
  },
  {
   "cell_type": "code",
   "execution_count": 191,
   "metadata": {},
   "outputs": [],
   "source": [
    "idxs = T(np.array([char_indices[c] for c in inp]))\n",
    "p = m(*VV(idxs))\n",
    "p = to_np(p)"
   ]
  },
  {
   "cell_type": "code",
   "execution_count": 192,
   "metadata": {},
   "outputs": [
    {
     "data": {
      "text/plain": [
       "\"_bos_ select Id from Comments where lower ( Text ) like ' % accept % answer % ' order by len ( Text ) asc _eos_\""
      ]
     },
     "execution_count": 192,
     "metadata": {},
     "output_type": "execute_result"
    }
   ],
   "source": [
    "\" \".join([sql_itos[i] for i in sql_ids[0]])"
   ]
  },
  {
   "cell_type": "code",
   "execution_count": 193,
   "metadata": {},
   "outputs": [],
   "source": [
    "idxs = T(np.array([char_indices[c] for c in inp]))"
   ]
  },
  {
   "cell_type": "code",
   "execution_count": 194,
   "metadata": {},
   "outputs": [
    {
     "data": {
      "text/plain": [
       "['select', 'userid', 'from', 'users', 'where']"
      ]
     },
     "execution_count": 194,
     "metadata": {},
     "output_type": "execute_result"
    }
   ],
   "source": [
    "inp"
   ]
  },
  {
   "cell_type": "code",
   "execution_count": 195,
   "metadata": {},
   "outputs": [
    {
     "data": {
      "text/plain": [
       "['select', 'userid', 'from', 'users', 'where']"
      ]
     },
     "execution_count": 195,
     "metadata": {},
     "output_type": "execute_result"
    }
   ],
   "source": [
    "[sql_itos[i] for i in idxs]"
   ]
  },
  {
   "cell_type": "code",
   "execution_count": 196,
   "metadata": {},
   "outputs": [
    {
     "data": {
      "text/plain": [
       "'_bos_'"
      ]
     },
     "execution_count": 196,
     "metadata": {},
     "output_type": "execute_result"
    }
   ],
   "source": [
    "get_next(\"_eos_\".split())"
   ]
  },
  {
   "cell_type": "code",
   "execution_count": 197,
   "metadata": {},
   "outputs": [
    {
     "data": {
      "text/plain": [
       "'_eos_'"
      ]
     },
     "execution_count": 197,
     "metadata": {},
     "output_type": "execute_result"
    }
   ],
   "source": [
    "get_next(\"_bos_ select\".split())"
   ]
  },
  {
   "cell_type": "code",
   "execution_count": 198,
   "metadata": {},
   "outputs": [
    {
     "data": {
      "text/plain": [
       "'100'"
      ]
     },
     "execution_count": 198,
     "metadata": {},
     "output_type": "execute_result"
    }
   ],
   "source": [
    "get_next(\"_bos_ select top\".split())"
   ]
  },
  {
   "cell_type": "code",
   "execution_count": 199,
   "metadata": {},
   "outputs": [
    {
     "data": {
      "text/plain": [
       "')'"
      ]
     },
     "execution_count": 199,
     "metadata": {},
     "output_type": "execute_result"
    }
   ],
   "source": [
    "get_next('select * from ')"
   ]
  },
  {
   "cell_type": "code",
   "execution_count": 200,
   "metadata": {},
   "outputs": [
    {
     "data": {
      "application/vnd.jupyter.widget-view+json": {
       "model_id": "da04c7a233ef44fe9237d548a1bbaec2",
       "version_major": 2,
       "version_minor": 0
      },
      "text/html": [
       "<p>Failed to display Jupyter Widget of type <code>HBox</code>.</p>\n",
       "<p>\n",
       "  If you're reading this message in the Jupyter Notebook or JupyterLab Notebook, it may mean\n",
       "  that the widgets JavaScript is still loading. If this message persists, it\n",
       "  likely means that the widgets JavaScript library is either not installed or\n",
       "  not enabled. See the <a href=\"https://ipywidgets.readthedocs.io/en/stable/user_install.html\">Jupyter\n",
       "  Widgets Documentation</a> for setup instructions.\n",
       "</p>\n",
       "<p>\n",
       "  If you're reading this message in another frontend (for example, a static\n",
       "  rendering on GitHub or <a href=\"https://nbviewer.jupyter.org/\">NBViewer</a>),\n",
       "  it may mean that your frontend doesn't currently support widgets.\n",
       "</p>\n"
      ],
      "text/plain": [
       "HBox(children=(IntProgress(value=0, description='Epoch', max=1), HTML(value='')))"
      ]
     },
     "metadata": {},
     "output_type": "display_data"
    },
    {
     "name": "stdout",
     "output_type": "stream",
     "text": [
      "epoch      trn_loss   val_loss                               \n",
      "    0      0.894358   0.850054  \n",
      "\n"
     ]
    },
    {
     "data": {
      "text/plain": [
       "[array([0.85005])]"
      ]
     },
     "execution_count": 200,
     "metadata": {},
     "output_type": "execute_result"
    }
   ],
   "source": [
    "learn.fit(1e-3, 1, cycle_len=1, use_clr_beta = (10,10,0.95,0.85))"
   ]
  },
  {
   "cell_type": "code",
   "execution_count": 201,
   "metadata": {},
   "outputs": [
    {
     "data": {
      "text/plain": [
       "'top'"
      ]
     },
     "execution_count": 201,
     "metadata": {},
     "output_type": "execute_result"
    }
   ],
   "source": [
    "get_next(\"_bos_ select\".split())"
   ]
  },
  {
   "cell_type": "code",
   "execution_count": 202,
   "metadata": {},
   "outputs": [
    {
     "data": {
      "text/plain": [
       "'('"
      ]
     },
     "execution_count": 202,
     "metadata": {},
     "output_type": "execute_result"
    }
   ],
   "source": [
    "get_next(\"_bos_ select top\".split())"
   ]
  },
  {
   "cell_type": "code",
   "execution_count": 203,
   "metadata": {},
   "outputs": [
    {
     "data": {
      "application/vnd.jupyter.widget-view+json": {
       "model_id": "3378381a4ed34d27bfade8dfb7ac6457",
       "version_major": 2,
       "version_minor": 0
      },
      "text/html": [
       "<p>Failed to display Jupyter Widget of type <code>HBox</code>.</p>\n",
       "<p>\n",
       "  If you're reading this message in the Jupyter Notebook or JupyterLab Notebook, it may mean\n",
       "  that the widgets JavaScript is still loading. If this message persists, it\n",
       "  likely means that the widgets JavaScript library is either not installed or\n",
       "  not enabled. See the <a href=\"https://ipywidgets.readthedocs.io/en/stable/user_install.html\">Jupyter\n",
       "  Widgets Documentation</a> for setup instructions.\n",
       "</p>\n",
       "<p>\n",
       "  If you're reading this message in another frontend (for example, a static\n",
       "  rendering on GitHub or <a href=\"https://nbviewer.jupyter.org/\">NBViewer</a>),\n",
       "  it may mean that your frontend doesn't currently support widgets.\n",
       "</p>\n"
      ],
      "text/plain": [
       "HBox(children=(IntProgress(value=0, description='Epoch', max=1), HTML(value='')))"
      ]
     },
     "metadata": {},
     "output_type": "display_data"
    },
    {
     "name": "stdout",
     "output_type": "stream",
     "text": [
      "epoch      trn_loss   val_loss                               \n",
      "    0      0.424045   0.40766   \n",
      "\n"
     ]
    },
    {
     "data": {
      "text/plain": [
       "[array([0.40766])]"
      ]
     },
     "execution_count": 203,
     "metadata": {},
     "output_type": "execute_result"
    }
   ],
   "source": [
    "learn.fit(5e-3, 1, cycle_len=1, use_clr_beta = (10,10,0.95,0.85))"
   ]
  },
  {
   "cell_type": "code",
   "execution_count": 204,
   "metadata": {},
   "outputs": [
    {
     "data": {
      "text/plain": [
       "'top'"
      ]
     },
     "execution_count": 204,
     "metadata": {},
     "output_type": "execute_result"
    }
   ],
   "source": [
    "get_next(\"_bos_ select\".split())"
   ]
  },
  {
   "cell_type": "code",
   "execution_count": 205,
   "metadata": {},
   "outputs": [
    {
     "data": {
      "text/plain": [
       "'#'"
      ]
     },
     "execution_count": 205,
     "metadata": {},
     "output_type": "execute_result"
    }
   ],
   "source": [
    "get_next(\"_bos_ select top\".split())"
   ]
  },
  {
   "cell_type": "code",
   "execution_count": 206,
   "metadata": {},
   "outputs": [
    {
     "data": {
      "text/plain": [
       "','"
      ]
     },
     "execution_count": 206,
     "metadata": {},
     "output_type": "execute_result"
    }
   ],
   "source": [
    "get_next(\"_bos_ select top 100 p . id as [ post link ]\".split())"
   ]
  },
  {
   "cell_type": "markdown",
   "metadata": {},
   "source": [
    "# Make More sense now"
   ]
  },
  {
   "cell_type": "code",
   "execution_count": 207,
   "metadata": {},
   "outputs": [
    {
     "data": {
      "application/vnd.jupyter.widget-view+json": {
       "model_id": "c57208ca531a44a0b298e0233928c331",
       "version_major": 2,
       "version_minor": 0
      },
      "text/html": [
       "<p>Failed to display Jupyter Widget of type <code>HBox</code>.</p>\n",
       "<p>\n",
       "  If you're reading this message in the Jupyter Notebook or JupyterLab Notebook, it may mean\n",
       "  that the widgets JavaScript is still loading. If this message persists, it\n",
       "  likely means that the widgets JavaScript library is either not installed or\n",
       "  not enabled. See the <a href=\"https://ipywidgets.readthedocs.io/en/stable/user_install.html\">Jupyter\n",
       "  Widgets Documentation</a> for setup instructions.\n",
       "</p>\n",
       "<p>\n",
       "  If you're reading this message in another frontend (for example, a static\n",
       "  rendering on GitHub or <a href=\"https://nbviewer.jupyter.org/\">NBViewer</a>),\n",
       "  it may mean that your frontend doesn't currently support widgets.\n",
       "</p>\n"
      ],
      "text/plain": [
       "HBox(children=(IntProgress(value=0, description='Epoch', max=1), HTML(value='')))"
      ]
     },
     "metadata": {},
     "output_type": "display_data"
    },
    {
     "name": "stdout",
     "output_type": "stream",
     "text": [
      "epoch      trn_loss   val_loss                               \n",
      "    0      0.324575   0.327948  \n",
      "\n"
     ]
    },
    {
     "data": {
      "text/plain": [
       "[array([0.32795])]"
      ]
     },
     "execution_count": 207,
     "metadata": {},
     "output_type": "execute_result"
    }
   ],
   "source": [
    "learn.fit(5e-3, 1, cycle_len=1, use_clr_beta = (10,10,0.95,0.85))"
   ]
  },
  {
   "cell_type": "code",
   "execution_count": 208,
   "metadata": {},
   "outputs": [
    {
     "data": {
      "text/plain": [
       "0.5"
      ]
     },
     "execution_count": 208,
     "metadata": {},
     "output_type": "execute_result"
    }
   ],
   "source": [
    "dropout"
   ]
  },
  {
   "cell_type": "code",
   "execution_count": 102,
   "metadata": {},
   "outputs": [
    {
     "data": {
      "application/vnd.jupyter.widget-view+json": {
       "model_id": "df77044aae1e434c9919d19a35be3eb9",
       "version_major": 2,
       "version_minor": 0
      },
      "text/html": [
       "<p>Failed to display Jupyter Widget of type <code>HBox</code>.</p>\n",
       "<p>\n",
       "  If you're reading this message in the Jupyter Notebook or JupyterLab Notebook, it may mean\n",
       "  that the widgets JavaScript is still loading. If this message persists, it\n",
       "  likely means that the widgets JavaScript library is either not installed or\n",
       "  not enabled. See the <a href=\"https://ipywidgets.readthedocs.io/en/stable/user_install.html\">Jupyter\n",
       "  Widgets Documentation</a> for setup instructions.\n",
       "</p>\n",
       "<p>\n",
       "  If you're reading this message in another frontend (for example, a static\n",
       "  rendering on GitHub or <a href=\"https://nbviewer.jupyter.org/\">NBViewer</a>),\n",
       "  it may mean that your frontend doesn't currently support widgets.\n",
       "</p>\n"
      ],
      "text/plain": [
       "HBox(children=(IntProgress(value=0, description='Epoch', max=3), HTML(value='')))"
      ]
     },
     "metadata": {},
     "output_type": "display_data"
    },
    {
     "name": "stdout",
     "output_type": "stream",
     "text": [
      "epoch      trn_loss   val_loss                               \n",
      "    0      0.351886   0.375967  \n",
      "    1      0.283442   0.329145                               \n",
      "    2      0.219451   0.305896                               \n",
      "\n"
     ]
    },
    {
     "data": {
      "text/plain": [
       "[array([0.3059])]"
      ]
     },
     "execution_count": 102,
     "metadata": {},
     "output_type": "execute_result"
    }
   ],
   "source": [
    "learn.fit(5e-3, 1, cycle_len=3, use_clr_beta = (10,10,0.95,0.85))"
   ]
  },
  {
   "cell_type": "code",
   "execution_count": 113,
   "metadata": {},
   "outputs": [
    {
     "data": {
      "text/plain": [
       "['_bos_']"
      ]
     },
     "execution_count": 113,
     "metadata": {},
     "output_type": "execute_result"
    }
   ],
   "source": [
    "'_bos_'.split()"
   ]
  },
  {
   "cell_type": "code",
   "execution_count": 209,
   "metadata": {},
   "outputs": [
    {
     "data": {
      "text/plain": [
       "'1'"
      ]
     },
     "execution_count": 209,
     "metadata": {},
     "output_type": "execute_result"
    }
   ],
   "source": [
    "get_next('_bos_ select top '.split())"
   ]
  },
  {
   "cell_type": "code",
   "execution_count": 212,
   "metadata": {},
   "outputs": [
    {
     "data": {
      "text/plain": [
       "['_bos_',\n",
       " 'select',\n",
       " '_unk',\n",
       " '.',\n",
       " '[',\n",
       " '_unk',\n",
       " ']',\n",
       " ',',\n",
       " '_unk',\n",
       " '.',\n",
       " '_unk',\n",
       " '_unk',\n",
       " '.',\n",
       " '[',\n",
       " '_unk',\n",
       " ']',\n",
       " ',',\n",
       " '_unk',\n",
       " '.',\n",
       " '_unk',\n",
       " '_unk',\n",
       " '.',\n",
       " '[',\n",
       " '_unk',\n",
       " ']',\n",
       " ',',\n",
       " '_unk',\n",
       " '.',\n",
       " '_unk',\n",
       " '_unk',\n",
       " '.',\n",
       " '[',\n",
       " '_unk',\n",
       " ']',\n",
       " ',',\n",
       " '_unk',\n",
       " '.',\n",
       " '_unk',\n",
       " '_unk',\n",
       " '.',\n",
       " '[',\n",
       " '_unk',\n",
       " ']',\n",
       " ',',\n",
       " '_unk',\n",
       " '.',\n",
       " '_unk',\n",
       " '_unk',\n",
       " '.',\n",
       " '[',\n",
       " '_unk',\n",
       " ']',\n",
       " ',',\n",
       " '_unk',\n",
       " '.',\n",
       " '_unk',\n",
       " '_unk',\n",
       " '.',\n",
       " '[',\n",
       " '_unk',\n",
       " ']',\n",
       " ',',\n",
       " '_unk',\n",
       " '.',\n",
       " '_unk',\n",
       " '_unk',\n",
       " '.',\n",
       " '[',\n",
       " '_unk',\n",
       " ']',\n",
       " ',',\n",
       " '_unk',\n",
       " '.',\n",
       " '_unk',\n",
       " '_unk',\n",
       " '.',\n",
       " '[',\n",
       " '_unk',\n",
       " ']',\n",
       " ',',\n",
       " '_unk',\n",
       " '.',\n",
       " '_unk',\n",
       " '_unk',\n",
       " '.',\n",
       " '[',\n",
       " '_unk',\n",
       " ']',\n",
       " ',',\n",
       " '_unk',\n",
       " '.',\n",
       " '_unk',\n",
       " '_unk',\n",
       " '.',\n",
       " '[',\n",
       " '_unk',\n",
       " ']',\n",
       " ',',\n",
       " '_unk',\n",
       " '.',\n",
       " '_unk',\n",
       " '_unk',\n",
       " '.',\n",
       " '[',\n",
       " '_unk',\n",
       " ']',\n",
       " ',',\n",
       " '_unk',\n",
       " '.',\n",
       " '_unk',\n",
       " '_unk',\n",
       " '.',\n",
       " '[',\n",
       " '_unk',\n",
       " ']',\n",
       " ',',\n",
       " '_unk',\n",
       " '.',\n",
       " '_unk',\n",
       " '_unk',\n",
       " '.',\n",
       " '[',\n",
       " '_unk',\n",
       " ']',\n",
       " ',',\n",
       " '_unk',\n",
       " '.',\n",
       " '_unk',\n",
       " '_unk',\n",
       " '.',\n",
       " '[',\n",
       " '_unk',\n",
       " ']',\n",
       " ',',\n",
       " '_unk',\n",
       " '.',\n",
       " '_unk',\n",
       " '_unk',\n",
       " '.',\n",
       " '[',\n",
       " '_unk',\n",
       " ']',\n",
       " ',',\n",
       " '_unk',\n",
       " '.',\n",
       " '_unk',\n",
       " '_unk',\n",
       " '.',\n",
       " '[',\n",
       " '_unk',\n",
       " ']',\n",
       " ',',\n",
       " '_unk',\n",
       " '.',\n",
       " '_unk',\n",
       " '_unk',\n",
       " '.',\n",
       " '[',\n",
       " '_unk',\n",
       " ']',\n",
       " ',',\n",
       " '_unk',\n",
       " '.',\n",
       " '_unk',\n",
       " '_unk',\n",
       " '.',\n",
       " '[',\n",
       " '_unk',\n",
       " ']',\n",
       " ',',\n",
       " '_unk',\n",
       " '.',\n",
       " '_unk',\n",
       " '_unk',\n",
       " '.',\n",
       " '[',\n",
       " '_unk',\n",
       " ']',\n",
       " ',',\n",
       " '_unk',\n",
       " '.',\n",
       " '_unk',\n",
       " '_unk',\n",
       " '.',\n",
       " '[',\n",
       " '_unk',\n",
       " ']',\n",
       " ',',\n",
       " '_unk',\n",
       " '.',\n",
       " '_unk',\n",
       " '_unk',\n",
       " '.',\n",
       " '[',\n",
       " '_unk',\n",
       " ']',\n",
       " ',',\n",
       " '_unk',\n",
       " '.',\n",
       " '_unk',\n",
       " '_unk',\n",
       " '.',\n",
       " '[',\n",
       " '_unk',\n",
       " ']',\n",
       " ',',\n",
       " '_unk',\n",
       " '.',\n",
       " '_unk',\n",
       " '_unk',\n",
       " '.',\n",
       " '[',\n",
       " '_unk',\n",
       " ']',\n",
       " ',',\n",
       " '_unk',\n",
       " '.',\n",
       " '_unk',\n",
       " '_unk',\n",
       " '.',\n",
       " '[',\n",
       " '_unk',\n",
       " ']',\n",
       " ',',\n",
       " '_unk',\n",
       " '.',\n",
       " '_unk',\n",
       " '_unk',\n",
       " '.',\n",
       " '[',\n",
       " '_unk',\n",
       " ']',\n",
       " ',',\n",
       " '_unk',\n",
       " '.',\n",
       " '_unk',\n",
       " '_unk',\n",
       " '.',\n",
       " '[',\n",
       " '_unk',\n",
       " ']',\n",
       " ',',\n",
       " '_unk',\n",
       " '.',\n",
       " '_unk',\n",
       " '_unk',\n",
       " '.',\n",
       " '[',\n",
       " '_unk',\n",
       " ']',\n",
       " ',',\n",
       " '_unk',\n",
       " '.',\n",
       " '_unk',\n",
       " '_unk',\n",
       " '.',\n",
       " '[',\n",
       " '_unk',\n",
       " ']',\n",
       " ',',\n",
       " '_unk',\n",
       " '.',\n",
       " '_unk',\n",
       " '_unk',\n",
       " '.',\n",
       " '[',\n",
       " '_unk',\n",
       " ']',\n",
       " ',',\n",
       " '_unk',\n",
       " '.',\n",
       " '_unk',\n",
       " '_unk',\n",
       " '.',\n",
       " '[',\n",
       " '_unk',\n",
       " ']',\n",
       " ',',\n",
       " '_unk',\n",
       " '.',\n",
       " '_unk',\n",
       " '_unk',\n",
       " '.',\n",
       " '[',\n",
       " '_unk',\n",
       " ']',\n",
       " ',',\n",
       " '_unk',\n",
       " '.',\n",
       " '_unk',\n",
       " '_unk',\n",
       " '.',\n",
       " '[',\n",
       " '_unk',\n",
       " ']',\n",
       " ',',\n",
       " '_unk',\n",
       " '.',\n",
       " '_unk',\n",
       " '_unk',\n",
       " '.',\n",
       " '[',\n",
       " '_unk',\n",
       " ']',\n",
       " ',',\n",
       " '_unk',\n",
       " '.',\n",
       " '_unk',\n",
       " '_unk',\n",
       " '.',\n",
       " '[',\n",
       " '_unk',\n",
       " ']',\n",
       " ',',\n",
       " '_unk',\n",
       " '.',\n",
       " '_unk',\n",
       " '_unk',\n",
       " '.',\n",
       " '[',\n",
       " '_unk',\n",
       " ']',\n",
       " ',',\n",
       " '_unk',\n",
       " '.',\n",
       " '_unk',\n",
       " '_unk',\n",
       " '.',\n",
       " '[',\n",
       " '_unk',\n",
       " ']',\n",
       " ',',\n",
       " '_unk',\n",
       " '.',\n",
       " '_unk',\n",
       " '_unk',\n",
       " '.',\n",
       " '[',\n",
       " '_unk',\n",
       " ']',\n",
       " ',',\n",
       " '_unk',\n",
       " '.',\n",
       " '_unk',\n",
       " '_unk',\n",
       " '.',\n",
       " '[',\n",
       " '_unk',\n",
       " ']',\n",
       " ',',\n",
       " '_unk',\n",
       " '.',\n",
       " '_unk',\n",
       " '_unk',\n",
       " '.',\n",
       " '[',\n",
       " '_unk',\n",
       " ']',\n",
       " ',',\n",
       " '_unk',\n",
       " '.',\n",
       " '_unk',\n",
       " '_unk',\n",
       " '.',\n",
       " '[',\n",
       " '_unk',\n",
       " ']',\n",
       " ',',\n",
       " '_unk',\n",
       " '.',\n",
       " '_unk',\n",
       " '_unk',\n",
       " '.',\n",
       " '[',\n",
       " '_unk',\n",
       " ']',\n",
       " ',',\n",
       " '_unk',\n",
       " '.',\n",
       " '_unk',\n",
       " '_unk',\n",
       " '.',\n",
       " '[',\n",
       " '_unk',\n",
       " ']',\n",
       " ',',\n",
       " '_unk',\n",
       " '.',\n",
       " '_unk',\n",
       " '_unk',\n",
       " '.',\n",
       " '[',\n",
       " '_unk',\n",
       " ']',\n",
       " ',',\n",
       " '_unk',\n",
       " '.',\n",
       " '_unk',\n",
       " '_unk',\n",
       " '.',\n",
       " '[',\n",
       " '_unk',\n",
       " ']',\n",
       " ',',\n",
       " '_unk',\n",
       " '.',\n",
       " '_unk',\n",
       " '_unk',\n",
       " '.',\n",
       " '[',\n",
       " '_unk',\n",
       " ']',\n",
       " ',',\n",
       " '_unk',\n",
       " '.',\n",
       " '_unk',\n",
       " '_unk',\n",
       " '.',\n",
       " '[',\n",
       " '_unk',\n",
       " ']',\n",
       " ',',\n",
       " '_unk',\n",
       " '.',\n",
       " '_unk',\n",
       " '_unk',\n",
       " '.',\n",
       " '[',\n",
       " '_unk',\n",
       " ']',\n",
       " ',',\n",
       " '_unk',\n",
       " '.',\n",
       " '_unk',\n",
       " '_unk',\n",
       " '.',\n",
       " '[',\n",
       " '_unk',\n",
       " ']',\n",
       " ',',\n",
       " '_unk',\n",
       " '.',\n",
       " '_unk',\n",
       " '_unk',\n",
       " '.',\n",
       " '[',\n",
       " '_unk',\n",
       " ']',\n",
       " ',',\n",
       " '_unk',\n",
       " '.',\n",
       " '_unk',\n",
       " '_unk',\n",
       " '.',\n",
       " '[',\n",
       " '_unk',\n",
       " ']',\n",
       " ',',\n",
       " '_unk',\n",
       " '.',\n",
       " '_unk',\n",
       " '_unk',\n",
       " '.',\n",
       " '[',\n",
       " '_unk',\n",
       " ']',\n",
       " ',',\n",
       " '_unk',\n",
       " '.',\n",
       " '_unk',\n",
       " '_unk',\n",
       " '.',\n",
       " '[',\n",
       " '_unk',\n",
       " ']',\n",
       " ',',\n",
       " '_unk',\n",
       " '.',\n",
       " '_unk',\n",
       " '_unk',\n",
       " '.',\n",
       " '[',\n",
       " '_unk',\n",
       " ']',\n",
       " ',',\n",
       " '_unk',\n",
       " '.',\n",
       " '_unk',\n",
       " '_unk',\n",
       " '.',\n",
       " '[',\n",
       " '_unk',\n",
       " ']',\n",
       " ',',\n",
       " '_unk',\n",
       " '.',\n",
       " '_unk',\n",
       " '_unk',\n",
       " '.',\n",
       " '[',\n",
       " '_unk',\n",
       " ']',\n",
       " ',']"
      ]
     },
     "execution_count": 212,
     "metadata": {},
     "output_type": "execute_result"
    }
   ],
   "source": [
    "get_sentence('_bos_ select'.split())"
   ]
  },
  {
   "cell_type": "code",
   "execution_count": 116,
   "metadata": {},
   "outputs": [],
   "source": [
    "??get_sentence"
   ]
  },
  {
   "cell_type": "code",
   "execution_count": 213,
   "metadata": {},
   "outputs": [
    {
     "data": {
      "text/plain": [
       "['_bos_',\n",
       " 'select',\n",
       " '_unk',\n",
       " '.',\n",
       " '[',\n",
       " '_unk',\n",
       " ']',\n",
       " ',',\n",
       " '_unk',\n",
       " '.',\n",
       " '_unk',\n",
       " '_unk',\n",
       " '.',\n",
       " '[',\n",
       " '_unk',\n",
       " ']',\n",
       " ',',\n",
       " '_unk',\n",
       " '.',\n",
       " '_unk',\n",
       " '_unk',\n",
       " '.',\n",
       " '[',\n",
       " '_unk',\n",
       " ']',\n",
       " ',',\n",
       " '_unk',\n",
       " '.',\n",
       " '_unk',\n",
       " '_unk',\n",
       " '.',\n",
       " '[',\n",
       " '_unk',\n",
       " ']',\n",
       " ',',\n",
       " '_unk',\n",
       " '.',\n",
       " '_unk',\n",
       " '_unk',\n",
       " '.',\n",
       " '[',\n",
       " '_unk',\n",
       " ']',\n",
       " ',',\n",
       " '_unk',\n",
       " '.',\n",
       " '_unk',\n",
       " '_unk',\n",
       " '.',\n",
       " '[',\n",
       " '_unk',\n",
       " ']',\n",
       " ',',\n",
       " '_unk',\n",
       " '.',\n",
       " '_unk',\n",
       " '_unk',\n",
       " '.',\n",
       " '[',\n",
       " '_unk',\n",
       " ']',\n",
       " ',',\n",
       " '_unk',\n",
       " '.',\n",
       " '_unk',\n",
       " '_unk',\n",
       " '.',\n",
       " '[',\n",
       " '_unk',\n",
       " ']',\n",
       " ',',\n",
       " '_unk',\n",
       " '.',\n",
       " '_unk',\n",
       " '_unk',\n",
       " '.',\n",
       " '[',\n",
       " '_unk',\n",
       " ']',\n",
       " ',',\n",
       " '_unk',\n",
       " '.',\n",
       " '_unk',\n",
       " '_unk',\n",
       " '.',\n",
       " '[',\n",
       " '_unk',\n",
       " ']',\n",
       " ',',\n",
       " '_unk',\n",
       " '.',\n",
       " '_unk',\n",
       " '_unk',\n",
       " '.',\n",
       " '[',\n",
       " '_unk',\n",
       " ']',\n",
       " ',',\n",
       " '_unk',\n",
       " '.',\n",
       " '_unk',\n",
       " '_unk',\n",
       " '.',\n",
       " '[',\n",
       " '_unk',\n",
       " ']',\n",
       " ',',\n",
       " '_unk',\n",
       " '.',\n",
       " '_unk',\n",
       " '_unk',\n",
       " '.',\n",
       " '[',\n",
       " '_unk',\n",
       " ']',\n",
       " ',',\n",
       " '_unk',\n",
       " '.',\n",
       " '_unk',\n",
       " '_unk',\n",
       " '.',\n",
       " '[',\n",
       " '_unk',\n",
       " ']',\n",
       " ',',\n",
       " '_unk',\n",
       " '.',\n",
       " '_unk',\n",
       " '_unk',\n",
       " '.',\n",
       " '[',\n",
       " '_unk',\n",
       " ']',\n",
       " ',',\n",
       " '_unk',\n",
       " '.',\n",
       " '_unk',\n",
       " '_unk',\n",
       " '.',\n",
       " '[',\n",
       " '_unk',\n",
       " ']',\n",
       " ',',\n",
       " '_unk',\n",
       " '.',\n",
       " '_unk',\n",
       " '_unk',\n",
       " '.',\n",
       " '[',\n",
       " '_unk',\n",
       " ']',\n",
       " ',',\n",
       " '_unk',\n",
       " '.',\n",
       " '_unk',\n",
       " '_unk',\n",
       " '.',\n",
       " '[',\n",
       " '_unk',\n",
       " ']',\n",
       " ',',\n",
       " '_unk',\n",
       " '.',\n",
       " '_unk',\n",
       " '_unk',\n",
       " '.',\n",
       " '[',\n",
       " '_unk',\n",
       " ']',\n",
       " ',',\n",
       " '_unk',\n",
       " '.',\n",
       " '_unk',\n",
       " '_unk',\n",
       " '.',\n",
       " '[',\n",
       " '_unk',\n",
       " ']',\n",
       " ',',\n",
       " '_unk',\n",
       " '.',\n",
       " '_unk',\n",
       " '_unk',\n",
       " '.',\n",
       " '[',\n",
       " '_unk',\n",
       " ']',\n",
       " ',',\n",
       " '_unk',\n",
       " '.',\n",
       " '_unk',\n",
       " '_unk',\n",
       " '.',\n",
       " '[',\n",
       " '_unk',\n",
       " ']',\n",
       " ',',\n",
       " '_unk',\n",
       " '.',\n",
       " '_unk',\n",
       " '_unk',\n",
       " '.',\n",
       " '[',\n",
       " '_unk',\n",
       " ']',\n",
       " ',',\n",
       " '_unk',\n",
       " '.',\n",
       " '_unk',\n",
       " '_unk',\n",
       " '.',\n",
       " '[',\n",
       " '_unk',\n",
       " ']',\n",
       " ',',\n",
       " '_unk',\n",
       " '.',\n",
       " '_unk',\n",
       " '_unk',\n",
       " '.',\n",
       " '[',\n",
       " '_unk',\n",
       " ']',\n",
       " ',',\n",
       " '_unk',\n",
       " '.',\n",
       " '_unk',\n",
       " '_unk',\n",
       " '.',\n",
       " '[',\n",
       " '_unk',\n",
       " ']',\n",
       " ',',\n",
       " '_unk',\n",
       " '.',\n",
       " '_unk',\n",
       " '_unk',\n",
       " '.',\n",
       " '[',\n",
       " '_unk',\n",
       " ']',\n",
       " ',',\n",
       " '_unk',\n",
       " '.',\n",
       " '_unk',\n",
       " '_unk',\n",
       " '.',\n",
       " '[',\n",
       " '_unk',\n",
       " ']',\n",
       " ',',\n",
       " '_unk',\n",
       " '.',\n",
       " '_unk',\n",
       " '_unk',\n",
       " '.',\n",
       " '[',\n",
       " '_unk',\n",
       " ']',\n",
       " ',',\n",
       " '_unk',\n",
       " '.',\n",
       " '_unk',\n",
       " '_unk',\n",
       " '.',\n",
       " '[',\n",
       " '_unk',\n",
       " ']',\n",
       " ',',\n",
       " '_unk',\n",
       " '.',\n",
       " '_unk',\n",
       " '_unk',\n",
       " '.',\n",
       " '[',\n",
       " '_unk',\n",
       " ']',\n",
       " ',',\n",
       " '_unk',\n",
       " '.',\n",
       " '_unk',\n",
       " '_unk',\n",
       " '.',\n",
       " '[',\n",
       " '_unk',\n",
       " ']',\n",
       " ',',\n",
       " '_unk',\n",
       " '.',\n",
       " '_unk',\n",
       " '_unk',\n",
       " '.',\n",
       " '[',\n",
       " '_unk',\n",
       " ']',\n",
       " ',',\n",
       " '_unk',\n",
       " '.',\n",
       " '_unk',\n",
       " '_unk',\n",
       " '.',\n",
       " '[',\n",
       " '_unk',\n",
       " ']',\n",
       " ',',\n",
       " '_unk',\n",
       " '.',\n",
       " '_unk',\n",
       " '_unk',\n",
       " '.',\n",
       " '[',\n",
       " '_unk',\n",
       " ']',\n",
       " ',',\n",
       " '_unk',\n",
       " '.',\n",
       " '_unk',\n",
       " '_unk',\n",
       " '.',\n",
       " '[',\n",
       " '_unk',\n",
       " ']',\n",
       " ',',\n",
       " '_unk',\n",
       " '.',\n",
       " '_unk',\n",
       " '_unk',\n",
       " '.',\n",
       " '[',\n",
       " '_unk',\n",
       " ']',\n",
       " ',',\n",
       " '_unk',\n",
       " '.',\n",
       " '_unk',\n",
       " '_unk',\n",
       " '.',\n",
       " '[',\n",
       " '_unk',\n",
       " ']',\n",
       " ',',\n",
       " '_unk',\n",
       " '.',\n",
       " '_unk',\n",
       " '_unk',\n",
       " '.',\n",
       " '[',\n",
       " '_unk',\n",
       " ']',\n",
       " ',',\n",
       " '_unk',\n",
       " '.',\n",
       " '_unk',\n",
       " '_unk',\n",
       " '.',\n",
       " '[',\n",
       " '_unk',\n",
       " ']',\n",
       " ',',\n",
       " '_unk',\n",
       " '.',\n",
       " '_unk',\n",
       " '_unk',\n",
       " '.',\n",
       " '[',\n",
       " '_unk',\n",
       " ']',\n",
       " ',',\n",
       " '_unk',\n",
       " '.',\n",
       " '_unk',\n",
       " '_unk',\n",
       " '.',\n",
       " '[',\n",
       " '_unk',\n",
       " ']',\n",
       " ',',\n",
       " '_unk',\n",
       " '.',\n",
       " '_unk',\n",
       " '_unk',\n",
       " '.',\n",
       " '[',\n",
       " '_unk',\n",
       " ']',\n",
       " ',',\n",
       " '_unk',\n",
       " '.',\n",
       " '_unk',\n",
       " '_unk',\n",
       " '.',\n",
       " '[',\n",
       " '_unk',\n",
       " ']',\n",
       " ',',\n",
       " '_unk',\n",
       " '.',\n",
       " '_unk',\n",
       " '_unk',\n",
       " '.',\n",
       " '[',\n",
       " '_unk',\n",
       " ']',\n",
       " ',',\n",
       " '_unk',\n",
       " '.',\n",
       " '_unk',\n",
       " '_unk',\n",
       " '.',\n",
       " '[',\n",
       " '_unk',\n",
       " ']',\n",
       " ',',\n",
       " '_unk',\n",
       " '.',\n",
       " '_unk',\n",
       " '_unk',\n",
       " '.',\n",
       " '[',\n",
       " '_unk',\n",
       " ']',\n",
       " ',',\n",
       " '_unk',\n",
       " '.',\n",
       " '_unk',\n",
       " '_unk',\n",
       " '.',\n",
       " '[',\n",
       " '_unk',\n",
       " ']',\n",
       " ',',\n",
       " '_unk',\n",
       " '.',\n",
       " '_unk',\n",
       " '_unk',\n",
       " '.',\n",
       " '[',\n",
       " '_unk',\n",
       " ']',\n",
       " ',',\n",
       " '_unk',\n",
       " '.',\n",
       " '_unk',\n",
       " '_unk',\n",
       " '.',\n",
       " '[',\n",
       " '_unk',\n",
       " ']',\n",
       " ',',\n",
       " '_unk',\n",
       " '.',\n",
       " '_unk',\n",
       " '_unk',\n",
       " '.',\n",
       " '[',\n",
       " '_unk',\n",
       " ']',\n",
       " ',',\n",
       " '_unk',\n",
       " '.',\n",
       " '_unk',\n",
       " '_unk',\n",
       " '.',\n",
       " '[',\n",
       " '_unk',\n",
       " ']',\n",
       " ',',\n",
       " '_unk',\n",
       " '.',\n",
       " '_unk',\n",
       " '_unk',\n",
       " '.',\n",
       " '[',\n",
       " '_unk',\n",
       " ']',\n",
       " ',',\n",
       " '_unk',\n",
       " '.',\n",
       " '_unk',\n",
       " '_unk',\n",
       " '.',\n",
       " '[',\n",
       " '_unk',\n",
       " ']',\n",
       " ',',\n",
       " '_unk',\n",
       " '.',\n",
       " '_unk',\n",
       " '_unk',\n",
       " '.',\n",
       " '[',\n",
       " '_unk',\n",
       " ']',\n",
       " ',',\n",
       " '_unk',\n",
       " '.',\n",
       " '_unk',\n",
       " '_unk',\n",
       " '.',\n",
       " '[',\n",
       " '_unk',\n",
       " ']',\n",
       " ',']"
      ]
     },
     "execution_count": 213,
     "metadata": {},
     "output_type": "execute_result"
    }
   ],
   "source": [
    "get_sentence(['_bos_', 'select'])"
   ]
  },
  {
   "cell_type": "code",
   "execution_count": null,
   "metadata": {},
   "outputs": [],
   "source": []
  },
  {
   "cell_type": "code",
   "execution_count": 46,
   "metadata": {},
   "outputs": [
    {
     "data": {
      "text/plain": [
       "(5, 1, 16286)"
      ]
     },
     "execution_count": 46,
     "metadata": {},
     "output_type": "execute_result"
    }
   ],
   "source": [
    "p.shape"
   ]
  },
  {
   "cell_type": "code",
   "execution_count": 50,
   "metadata": {},
   "outputs": [
    {
     "data": {
      "text/plain": [
       "array([48])"
      ]
     },
     "execution_count": 50,
     "metadata": {},
     "output_type": "execute_result"
    }
   ],
   "source": [
    "i[0][:10]"
   ]
  },
  {
   "cell_type": "code",
   "execution_count": 31,
   "metadata": {},
   "outputs": [],
   "source": [
    "    i = np.argmax(p[-1,:,:])"
   ]
  },
  {
   "cell_type": "code",
   "execution_count": 28,
   "metadata": {},
   "outputs": [
    {
     "data": {
      "application/vnd.jupyter.widget-view+json": {
       "model_id": "cc4e7c11160f4c4da97108f1a388bfd9",
       "version_major": 2,
       "version_minor": 0
      },
      "text/html": [
       "<p>Failed to display Jupyter Widget of type <code>HBox</code>.</p>\n",
       "<p>\n",
       "  If you're reading this message in the Jupyter Notebook or JupyterLab Notebook, it may mean\n",
       "  that the widgets JavaScript is still loading. If this message persists, it\n",
       "  likely means that the widgets JavaScript library is either not installed or\n",
       "  not enabled. See the <a href=\"https://ipywidgets.readthedocs.io/en/stable/user_install.html\">Jupyter\n",
       "  Widgets Documentation</a> for setup instructions.\n",
       "</p>\n",
       "<p>\n",
       "  If you're reading this message in another frontend (for example, a static\n",
       "  rendering on GitHub or <a href=\"https://nbviewer.jupyter.org/\">NBViewer</a>),\n",
       "  it may mean that your frontend doesn't currently support widgets.\n",
       "</p>\n"
      ],
      "text/plain": [
       "HBox(children=(IntProgress(value=0, description='Epoch', max=1), HTML(value='')))"
      ]
     },
     "metadata": {},
     "output_type": "display_data"
    },
    {
     "name": "stdout",
     "output_type": "stream",
     "text": [
      "epoch      trn_loss   val_loss                               \n",
      "    0      0.895093   0.861857  \n",
      "\n"
     ]
    },
    {
     "data": {
      "text/plain": [
       "[array([0.86186])]"
      ]
     },
     "execution_count": 28,
     "metadata": {},
     "output_type": "execute_result"
    }
   ],
   "source": [
    "learn.fit(1e-3, 1, cycle_len=1, use_clr_beta = (10,10,0.95,0.85))"
   ]
  },
  {
   "cell_type": "code",
   "execution_count": 29,
   "metadata": {
    "collapsed": true
   },
   "outputs": [
    {
     "data": {
      "text/plain": [
       "['select',\n",
       " 'top',\n",
       " 'top',\n",
       " 'top',\n",
       " 'top',\n",
       " 'top',\n",
       " 'top',\n",
       " 'top',\n",
       " 'top',\n",
       " 'top',\n",
       " 'top',\n",
       " 'top',\n",
       " 'top',\n",
       " 'top',\n",
       " 'top',\n",
       " 'top',\n",
       " 'top',\n",
       " 'top',\n",
       " 'top',\n",
       " 'top',\n",
       " 'top',\n",
       " 'top',\n",
       " 'top',\n",
       " 'top',\n",
       " 'top',\n",
       " 'top',\n",
       " 'top',\n",
       " 'top',\n",
       " 'top',\n",
       " 'top',\n",
       " 'top',\n",
       " 'top',\n",
       " 'top',\n",
       " 'top',\n",
       " 'top',\n",
       " 'top',\n",
       " 'top',\n",
       " 'top',\n",
       " 'top',\n",
       " 'top',\n",
       " 'top',\n",
       " 'top',\n",
       " 'top',\n",
       " 'top',\n",
       " 'top',\n",
       " 'top',\n",
       " 'top',\n",
       " 'top',\n",
       " 'top',\n",
       " 'top',\n",
       " 'top',\n",
       " 'top',\n",
       " 'top',\n",
       " 'top',\n",
       " 'top',\n",
       " 'top',\n",
       " 'top',\n",
       " 'top',\n",
       " 'top',\n",
       " 'top',\n",
       " 'top',\n",
       " 'top',\n",
       " 'top',\n",
       " 'top',\n",
       " 'top',\n",
       " 'top',\n",
       " 'top',\n",
       " 'top',\n",
       " 'top',\n",
       " 'top',\n",
       " 'top',\n",
       " 'top',\n",
       " 'top',\n",
       " 'top',\n",
       " 'top',\n",
       " 'top',\n",
       " 'top',\n",
       " 'top',\n",
       " 'top',\n",
       " 'top',\n",
       " 'top',\n",
       " 'top',\n",
       " 'top',\n",
       " 'top',\n",
       " 'top',\n",
       " 'top',\n",
       " 'top',\n",
       " 'top',\n",
       " 'top',\n",
       " 'top',\n",
       " 'top',\n",
       " 'top',\n",
       " 'top',\n",
       " 'top',\n",
       " 'top',\n",
       " 'top',\n",
       " 'top',\n",
       " 'top',\n",
       " 'top',\n",
       " 'top',\n",
       " 'top',\n",
       " 'top',\n",
       " 'top',\n",
       " 'top',\n",
       " 'top',\n",
       " 'top',\n",
       " 'top',\n",
       " 'top',\n",
       " 'top',\n",
       " 'top',\n",
       " 'top',\n",
       " 'top',\n",
       " 'top',\n",
       " 'top',\n",
       " 'top',\n",
       " 'top',\n",
       " 'top',\n",
       " 'top',\n",
       " 'top',\n",
       " 'top',\n",
       " 'top',\n",
       " 'top',\n",
       " 'top',\n",
       " 'top',\n",
       " 'top',\n",
       " 'top',\n",
       " 'top',\n",
       " 'top',\n",
       " 'top',\n",
       " 'top',\n",
       " 'top',\n",
       " 'top',\n",
       " 'top',\n",
       " 'top',\n",
       " 'top',\n",
       " 'top',\n",
       " 'top',\n",
       " 'top',\n",
       " 'top',\n",
       " 'top',\n",
       " 'top',\n",
       " 'top',\n",
       " 'top',\n",
       " 'top',\n",
       " 'top',\n",
       " 'top',\n",
       " 'top',\n",
       " 'top',\n",
       " 'top',\n",
       " 'top',\n",
       " 'top',\n",
       " 'top',\n",
       " 'top',\n",
       " 'top',\n",
       " 'top',\n",
       " 'top',\n",
       " 'top',\n",
       " 'top',\n",
       " 'top',\n",
       " 'top',\n",
       " 'top',\n",
       " 'top',\n",
       " 'top',\n",
       " 'top',\n",
       " 'top',\n",
       " 'top',\n",
       " 'top',\n",
       " 'top',\n",
       " 'top',\n",
       " 'top',\n",
       " 'top',\n",
       " 'top',\n",
       " 'top',\n",
       " 'top',\n",
       " 'top',\n",
       " 'top',\n",
       " 'top',\n",
       " 'top',\n",
       " 'top',\n",
       " 'top',\n",
       " 'top',\n",
       " 'top',\n",
       " 'top',\n",
       " 'top',\n",
       " 'top',\n",
       " 'top',\n",
       " 'top',\n",
       " 'top',\n",
       " 'top',\n",
       " 'top',\n",
       " 'top',\n",
       " 'top',\n",
       " 'top',\n",
       " 'top',\n",
       " 'top',\n",
       " 'top',\n",
       " 'top',\n",
       " 'top',\n",
       " 'top',\n",
       " 'top',\n",
       " 'top',\n",
       " 'top',\n",
       " 'top',\n",
       " 'top',\n",
       " 'top',\n",
       " 'top',\n",
       " 'top',\n",
       " 'top',\n",
       " 'top',\n",
       " 'top',\n",
       " 'top',\n",
       " 'top',\n",
       " 'top',\n",
       " 'top',\n",
       " 'top',\n",
       " 'top',\n",
       " 'top',\n",
       " 'top',\n",
       " 'top',\n",
       " 'top',\n",
       " 'top',\n",
       " 'top',\n",
       " 'top',\n",
       " 'top',\n",
       " 'top',\n",
       " 'top',\n",
       " 'top',\n",
       " 'top',\n",
       " 'top',\n",
       " 'top',\n",
       " 'top',\n",
       " 'top',\n",
       " 'top',\n",
       " 'top',\n",
       " 'top',\n",
       " 'top',\n",
       " 'top',\n",
       " 'top',\n",
       " 'top',\n",
       " 'top',\n",
       " 'top',\n",
       " 'top',\n",
       " 'top',\n",
       " 'top',\n",
       " 'top',\n",
       " 'top',\n",
       " 'top',\n",
       " 'top',\n",
       " 'top',\n",
       " 'top',\n",
       " 'top',\n",
       " 'top',\n",
       " 'top',\n",
       " 'top',\n",
       " 'top',\n",
       " 'top',\n",
       " 'top',\n",
       " 'top',\n",
       " 'top',\n",
       " 'top',\n",
       " 'top',\n",
       " 'top',\n",
       " 'top',\n",
       " 'top',\n",
       " 'top',\n",
       " 'top',\n",
       " 'top',\n",
       " 'top',\n",
       " 'top',\n",
       " 'top',\n",
       " 'top',\n",
       " 'top',\n",
       " 'top',\n",
       " 'top',\n",
       " 'top',\n",
       " 'top',\n",
       " 'top',\n",
       " 'top',\n",
       " 'top',\n",
       " 'top',\n",
       " 'top',\n",
       " 'top',\n",
       " 'top',\n",
       " 'top',\n",
       " 'top',\n",
       " 'top',\n",
       " 'top',\n",
       " 'top',\n",
       " 'top',\n",
       " 'top',\n",
       " 'top',\n",
       " 'top',\n",
       " 'top',\n",
       " 'top',\n",
       " 'top',\n",
       " 'top',\n",
       " 'top',\n",
       " 'top',\n",
       " 'top',\n",
       " 'top',\n",
       " 'top',\n",
       " 'top',\n",
       " 'top',\n",
       " 'top',\n",
       " 'top',\n",
       " 'top',\n",
       " 'top',\n",
       " 'top',\n",
       " 'top',\n",
       " 'top',\n",
       " 'top',\n",
       " 'top',\n",
       " 'top',\n",
       " 'top',\n",
       " 'top',\n",
       " 'top',\n",
       " 'top',\n",
       " 'top',\n",
       " 'top',\n",
       " 'top',\n",
       " 'top',\n",
       " 'top',\n",
       " 'top',\n",
       " 'top',\n",
       " 'top',\n",
       " 'top',\n",
       " 'top',\n",
       " 'top',\n",
       " 'top',\n",
       " 'top',\n",
       " 'top',\n",
       " 'top',\n",
       " 'top',\n",
       " 'top',\n",
       " 'top',\n",
       " 'top',\n",
       " 'top',\n",
       " 'top',\n",
       " 'top',\n",
       " 'top',\n",
       " 'top',\n",
       " 'top',\n",
       " 'top',\n",
       " 'top',\n",
       " 'top',\n",
       " 'top',\n",
       " 'top',\n",
       " 'top',\n",
       " 'top',\n",
       " 'top',\n",
       " 'top',\n",
       " 'top',\n",
       " 'top',\n",
       " 'top',\n",
       " 'top',\n",
       " 'top',\n",
       " 'top',\n",
       " 'top',\n",
       " 'top',\n",
       " 'top',\n",
       " 'top',\n",
       " 'top',\n",
       " 'top',\n",
       " 'top',\n",
       " 'top',\n",
       " 'top',\n",
       " 'top',\n",
       " 'top',\n",
       " 'top',\n",
       " 'top',\n",
       " 'top',\n",
       " 'top',\n",
       " 'top',\n",
       " 'top',\n",
       " 'top',\n",
       " 'top',\n",
       " 'top',\n",
       " 'top',\n",
       " 'top',\n",
       " 'top',\n",
       " 'top',\n",
       " 'top',\n",
       " 'top',\n",
       " 'top',\n",
       " 'top',\n",
       " 'top',\n",
       " 'top',\n",
       " 'top',\n",
       " 'top',\n",
       " 'top',\n",
       " 'top',\n",
       " 'top',\n",
       " 'top',\n",
       " 'top',\n",
       " 'top',\n",
       " 'top',\n",
       " 'top',\n",
       " 'top',\n",
       " 'top',\n",
       " 'top',\n",
       " 'top',\n",
       " 'top',\n",
       " 'top',\n",
       " 'top',\n",
       " 'top',\n",
       " 'top',\n",
       " 'top',\n",
       " 'top',\n",
       " 'top',\n",
       " 'top',\n",
       " 'top',\n",
       " 'top',\n",
       " 'top',\n",
       " 'top',\n",
       " 'top',\n",
       " 'top',\n",
       " 'top',\n",
       " 'top',\n",
       " 'top',\n",
       " 'top',\n",
       " 'top',\n",
       " 'top',\n",
       " 'top',\n",
       " 'top',\n",
       " 'top',\n",
       " 'top',\n",
       " 'top',\n",
       " 'top',\n",
       " 'top',\n",
       " 'top',\n",
       " 'top',\n",
       " 'top',\n",
       " 'top',\n",
       " 'top',\n",
       " 'top',\n",
       " 'top',\n",
       " 'top',\n",
       " 'top',\n",
       " 'top',\n",
       " 'top',\n",
       " 'top',\n",
       " 'top',\n",
       " 'top',\n",
       " 'top',\n",
       " 'top',\n",
       " 'top',\n",
       " 'top',\n",
       " 'top',\n",
       " 'top',\n",
       " 'top',\n",
       " 'top',\n",
       " 'top',\n",
       " 'top',\n",
       " 'top',\n",
       " 'top',\n",
       " 'top',\n",
       " 'top',\n",
       " 'top',\n",
       " 'top',\n",
       " 'top',\n",
       " 'top',\n",
       " 'top',\n",
       " 'top',\n",
       " 'top',\n",
       " 'top',\n",
       " 'top',\n",
       " 'top',\n",
       " 'top',\n",
       " 'top',\n",
       " 'top',\n",
       " 'top',\n",
       " 'top',\n",
       " 'top',\n",
       " 'top',\n",
       " 'top',\n",
       " 'top',\n",
       " 'top',\n",
       " 'top',\n",
       " 'top',\n",
       " 'top',\n",
       " 'top',\n",
       " 'top',\n",
       " 'top',\n",
       " 'top',\n",
       " 'top',\n",
       " 'top',\n",
       " 'top',\n",
       " 'top',\n",
       " 'top',\n",
       " 'top',\n",
       " 'top',\n",
       " 'top',\n",
       " 'top',\n",
       " 'top',\n",
       " 'top',\n",
       " 'top',\n",
       " 'top',\n",
       " 'top',\n",
       " 'top',\n",
       " 'top',\n",
       " 'top',\n",
       " 'top']"
      ]
     },
     "execution_count": 29,
     "metadata": {},
     "output_type": "execute_result"
    }
   ],
   "source": [
    "get_sentence(['select'])"
   ]
  },
  {
   "cell_type": "code",
   "execution_count": 76,
   "metadata": {
    "collapsed": true
   },
   "outputs": [
    {
     "data": {
      "text/plain": [
       "['select',\n",
       " 'userid',\n",
       " 'from',\n",
       " 'badges',\n",
       " 'select',\n",
       " \"'\",\n",
       " 'distinct',\n",
       " \"'\",\n",
       " 'select',\n",
       " '*',\n",
       " 'from',\n",
       " 'posts',\n",
       " 'where',\n",
       " 'posttypeid',\n",
       " '=',\n",
       " '1',\n",
       " 'and',\n",
       " 'posttypeid',\n",
       " '=',\n",
       " '1',\n",
       " 'and',\n",
       " 'p',\n",
       " '.',\n",
       " 'posttypeid',\n",
       " '=',\n",
       " '1',\n",
       " 'and',\n",
       " 'p',\n",
       " '.',\n",
       " 'score',\n",
       " '>',\n",
       " '=',\n",
       " '0',\n",
       " 'and',\n",
       " 'p',\n",
       " '.',\n",
       " 'closeddate',\n",
       " 'is',\n",
       " 'null',\n",
       " 'and',\n",
       " 'p',\n",
       " '.',\n",
       " 'posttypeid',\n",
       " '=',\n",
       " '1',\n",
       " 'and',\n",
       " 'p',\n",
       " '.',\n",
       " 'posttypeid',\n",
       " '=',\n",
       " '2',\n",
       " 'and',\n",
       " 'p',\n",
       " '.',\n",
       " 'posttypeid',\n",
       " '=',\n",
       " '2',\n",
       " 'and',\n",
       " 'p',\n",
       " '.',\n",
       " 'posttypeid',\n",
       " '=',\n",
       " '2',\n",
       " 'and',\n",
       " 'p',\n",
       " '.',\n",
       " 'posttypeid',\n",
       " '=',\n",
       " '2',\n",
       " 'and',\n",
       " 'p',\n",
       " '.',\n",
       " 'posttypeid',\n",
       " '=',\n",
       " '2',\n",
       " 'and',\n",
       " 'p',\n",
       " '.',\n",
       " 'posttypeid',\n",
       " '=',\n",
       " '2',\n",
       " 'and',\n",
       " 'p',\n",
       " '.',\n",
       " 'posttypeid',\n",
       " '=',\n",
       " '2',\n",
       " 'and',\n",
       " 'p',\n",
       " '.',\n",
       " 'posttypeid',\n",
       " '=',\n",
       " '2',\n",
       " 'and',\n",
       " 'p',\n",
       " '.',\n",
       " 'posttypeid',\n",
       " '=',\n",
       " '2',\n",
       " 'and',\n",
       " 'p',\n",
       " '.',\n",
       " 'posttypeid',\n",
       " '=',\n",
       " '2',\n",
       " 'and',\n",
       " 'p',\n",
       " '.',\n",
       " 'posttypeid',\n",
       " '=',\n",
       " '2',\n",
       " 'and',\n",
       " 'p',\n",
       " '.',\n",
       " 'posttypeid',\n",
       " '=',\n",
       " '2',\n",
       " 'and',\n",
       " 'p',\n",
       " '.',\n",
       " 'posttypeid',\n",
       " '=',\n",
       " '2',\n",
       " 'and',\n",
       " 'p',\n",
       " '.',\n",
       " 'posttypeid',\n",
       " '=',\n",
       " '2',\n",
       " 'and',\n",
       " 'p',\n",
       " '.',\n",
       " 'posttypeid',\n",
       " '=',\n",
       " '2',\n",
       " 'and',\n",
       " 'p',\n",
       " '.',\n",
       " 'posttypeid',\n",
       " '=',\n",
       " '2',\n",
       " 'and',\n",
       " 'p',\n",
       " '.',\n",
       " 'posttypeid',\n",
       " '=',\n",
       " '2',\n",
       " 'and',\n",
       " 'p',\n",
       " '.',\n",
       " 'posttypeid',\n",
       " '=',\n",
       " '2',\n",
       " 'and',\n",
       " 'p',\n",
       " '.',\n",
       " 'posttypeid',\n",
       " '=',\n",
       " '2',\n",
       " 'and',\n",
       " 'p',\n",
       " '.',\n",
       " 'posttypeid',\n",
       " '=',\n",
       " '2',\n",
       " 'and',\n",
       " 'p',\n",
       " '.',\n",
       " 'posttypeid',\n",
       " '=',\n",
       " '2',\n",
       " 'and',\n",
       " 'p',\n",
       " '.',\n",
       " 'posttypeid',\n",
       " '=',\n",
       " '2',\n",
       " 'and',\n",
       " 'p',\n",
       " '.',\n",
       " 'posttypeid',\n",
       " '=',\n",
       " '2',\n",
       " 'and',\n",
       " 'p',\n",
       " '.',\n",
       " 'posttypeid',\n",
       " '=',\n",
       " '2',\n",
       " 'and',\n",
       " 'p',\n",
       " '.',\n",
       " 'posttypeid',\n",
       " '=',\n",
       " '2',\n",
       " 'and',\n",
       " 'p',\n",
       " '.',\n",
       " 'posttypeid',\n",
       " '=',\n",
       " '2',\n",
       " 'and',\n",
       " 'p',\n",
       " '.',\n",
       " 'posttypeid',\n",
       " '=',\n",
       " '2',\n",
       " 'and',\n",
       " 'p',\n",
       " '.',\n",
       " 'posttypeid',\n",
       " '=',\n",
       " '2',\n",
       " 'and',\n",
       " 'p',\n",
       " '.',\n",
       " 'posttypeid',\n",
       " '=',\n",
       " '2',\n",
       " 'and',\n",
       " 'p',\n",
       " '.',\n",
       " 'posttypeid',\n",
       " '=',\n",
       " '2',\n",
       " 'and',\n",
       " 'p',\n",
       " '.',\n",
       " 'posttypeid',\n",
       " '=',\n",
       " '2',\n",
       " 'and',\n",
       " 'p',\n",
       " '.',\n",
       " 'posttypeid',\n",
       " '=',\n",
       " '2',\n",
       " 'and',\n",
       " 'p',\n",
       " '.',\n",
       " 'posttypeid',\n",
       " '=',\n",
       " '2',\n",
       " 'and',\n",
       " 'p',\n",
       " '.',\n",
       " 'posttypeid',\n",
       " '=',\n",
       " '2',\n",
       " 'and',\n",
       " 'p',\n",
       " '.',\n",
       " 'posttypeid',\n",
       " '=',\n",
       " '2',\n",
       " 'and',\n",
       " 'p',\n",
       " '.',\n",
       " 'posttypeid',\n",
       " '=',\n",
       " '2',\n",
       " 'and',\n",
       " 'p',\n",
       " '.',\n",
       " 'posttypeid',\n",
       " '=',\n",
       " '2',\n",
       " 'and',\n",
       " 'p',\n",
       " '.',\n",
       " 'posttypeid',\n",
       " '=',\n",
       " '2',\n",
       " 'and',\n",
       " 'p',\n",
       " '.',\n",
       " 'posttypeid',\n",
       " '=',\n",
       " '2',\n",
       " 'and',\n",
       " 'p',\n",
       " '.',\n",
       " 'posttypeid',\n",
       " '=',\n",
       " '2',\n",
       " 'and',\n",
       " 'p',\n",
       " '.',\n",
       " 'posttypeid',\n",
       " '=',\n",
       " '2',\n",
       " 'and',\n",
       " 'p',\n",
       " '.',\n",
       " 'posttypeid',\n",
       " '=',\n",
       " '2',\n",
       " 'and',\n",
       " 'p',\n",
       " '.',\n",
       " 'posttypeid',\n",
       " '=',\n",
       " '2',\n",
       " 'and',\n",
       " 'p',\n",
       " '.',\n",
       " 'posttypeid',\n",
       " '=',\n",
       " '2',\n",
       " 'and',\n",
       " 'p',\n",
       " '.',\n",
       " 'posttypeid',\n",
       " '=',\n",
       " '2',\n",
       " 'and',\n",
       " 'p',\n",
       " '.',\n",
       " 'posttypeid',\n",
       " '=',\n",
       " '2',\n",
       " 'and',\n",
       " 'p',\n",
       " '.',\n",
       " 'posttypeid',\n",
       " '=',\n",
       " '2',\n",
       " 'and',\n",
       " 'p',\n",
       " '.',\n",
       " 'posttypeid',\n",
       " '=',\n",
       " '2',\n",
       " 'and',\n",
       " 'p',\n",
       " '.',\n",
       " 'posttypeid',\n",
       " '=',\n",
       " '2',\n",
       " 'and',\n",
       " 'p',\n",
       " '.',\n",
       " 'posttypeid',\n",
       " '=',\n",
       " '2',\n",
       " 'and',\n",
       " 'p',\n",
       " '.',\n",
       " 'posttypeid',\n",
       " '=',\n",
       " '2',\n",
       " 'and',\n",
       " 'p',\n",
       " '.',\n",
       " 'posttypeid',\n",
       " '=',\n",
       " '2',\n",
       " 'and',\n",
       " 'p',\n",
       " '.',\n",
       " 'posttypeid',\n",
       " '=',\n",
       " '2',\n",
       " 'and',\n",
       " 'p',\n",
       " '.',\n",
       " 'posttypeid',\n",
       " '=',\n",
       " '2',\n",
       " 'and',\n",
       " 'p',\n",
       " '.',\n",
       " 'posttypeid',\n",
       " '=',\n",
       " '2',\n",
       " 'and',\n",
       " 'p',\n",
       " '.',\n",
       " 'posttypeid',\n",
       " '=',\n",
       " '2',\n",
       " 'and',\n",
       " 'p',\n",
       " '.',\n",
       " 'posttypeid',\n",
       " '=',\n",
       " '2',\n",
       " 'and',\n",
       " 'p',\n",
       " '.',\n",
       " 'posttypeid',\n",
       " '=',\n",
       " '2',\n",
       " 'and',\n",
       " 'p',\n",
       " '.',\n",
       " 'posttypeid',\n",
       " '=',\n",
       " '2',\n",
       " 'and',\n",
       " 'p',\n",
       " '.',\n",
       " 'posttypeid',\n",
       " '=',\n",
       " '2',\n",
       " 'and',\n",
       " 'p',\n",
       " '.',\n",
       " 'posttypeid',\n",
       " '=',\n",
       " '2',\n",
       " 'and',\n",
       " 'p',\n",
       " '.',\n",
       " 'posttypeid',\n",
       " '=',\n",
       " '2',\n",
       " 'and',\n",
       " 'p',\n",
       " '.',\n",
       " 'posttypeid',\n",
       " '=',\n",
       " '2',\n",
       " 'and',\n",
       " 'p',\n",
       " '.',\n",
       " 'posttypeid',\n",
       " '=',\n",
       " '2',\n",
       " 'and',\n",
       " 'p',\n",
       " '.',\n",
       " 'posttypeid',\n",
       " '=',\n",
       " '2',\n",
       " 'and',\n",
       " 'p',\n",
       " '.',\n",
       " 'posttypeid',\n",
       " '=',\n",
       " '2',\n",
       " 'and',\n",
       " 'p',\n",
       " '.',\n",
       " 'posttypeid',\n",
       " '=',\n",
       " '2',\n",
       " 'and',\n",
       " 'p',\n",
       " '.',\n",
       " 'posttypeid',\n",
       " '=',\n",
       " '2',\n",
       " 'and',\n",
       " 'p',\n",
       " '.',\n",
       " 'posttypeid',\n",
       " '=',\n",
       " '2',\n",
       " 'and',\n",
       " 'p',\n",
       " '.',\n",
       " 'posttypeid',\n",
       " '=',\n",
       " '2',\n",
       " 'and',\n",
       " 'p',\n",
       " '.',\n",
       " 'posttypeid',\n",
       " '=',\n",
       " '2',\n",
       " 'and',\n",
       " 'p',\n",
       " '.',\n",
       " 'posttypeid',\n",
       " '=',\n",
       " '2',\n",
       " 'and',\n",
       " 'p',\n",
       " '.',\n",
       " 'posttypeid',\n",
       " '=',\n",
       " '2',\n",
       " 'and',\n",
       " 'p',\n",
       " '.',\n",
       " 'posttypeid',\n",
       " '=',\n",
       " '2',\n",
       " 'and',\n",
       " 'p',\n",
       " '.',\n",
       " 'posttypeid',\n",
       " '=',\n",
       " '2',\n",
       " 'and',\n",
       " 'p',\n",
       " '.',\n",
       " 'posttypeid',\n",
       " '=',\n",
       " '2',\n",
       " 'and']"
      ]
     },
     "execution_count": 76,
     "metadata": {},
     "output_type": "execute_result"
    }
   ],
   "source": [
    "get_sentence(['select'])"
   ]
  },
  {
   "cell_type": "code",
   "execution_count": 74,
   "metadata": {},
   "outputs": [
    {
     "ename": "IndexError",
     "evalue": "index 435 is out of bounds for axis 0 with size 1",
     "output_type": "error",
     "traceback": [
      "\u001b[0;31m---------------------------------------------------------------------------\u001b[0m",
      "\u001b[0;31mIndexError\u001b[0m                                Traceback (most recent call last)",
      "\u001b[0;32m<ipython-input-74-421267e879cd>\u001b[0m in \u001b[0;36m<module>\u001b[0;34m()\u001b[0m\n\u001b[0;32m----> 1\u001b[0;31m \u001b[0mget_next_random\u001b[0m\u001b[0;34m(\u001b[0m\u001b[0;34m\"select userid from users where \"\u001b[0m\u001b[0;34m.\u001b[0m\u001b[0msplit\u001b[0m\u001b[0;34m(\u001b[0m\u001b[0;34m)\u001b[0m\u001b[0;34m)\u001b[0m\u001b[0;34m\u001b[0m\u001b[0m\n\u001b[0m",
      "\u001b[0;32m<ipython-input-5-a1756a2220c5>\u001b[0m in \u001b[0;36mget_next_random\u001b[0;34m(inp)\u001b[0m\n\u001b[1;32m      4\u001b[0m     \u001b[0mp\u001b[0m \u001b[0;34m=\u001b[0m \u001b[0mto_np\u001b[0m\u001b[0;34m(\u001b[0m\u001b[0mp\u001b[0m\u001b[0;34m)\u001b[0m\u001b[0;34m[\u001b[0m\u001b[0;36m0\u001b[0m\u001b[0;34m]\u001b[0m\u001b[0;34m\u001b[0m\u001b[0m\n\u001b[1;32m      5\u001b[0m     \u001b[0mpi\u001b[0m \u001b[0;34m=\u001b[0m \u001b[0mp\u001b[0m\u001b[0;34m.\u001b[0m\u001b[0margsort\u001b[0m\u001b[0;34m(\u001b[0m\u001b[0;34m)\u001b[0m\u001b[0;34m[\u001b[0m\u001b[0;34m-\u001b[0m\u001b[0;36m10\u001b[0m\u001b[0;34m:\u001b[0m\u001b[0;34m]\u001b[0m\u001b[0;34m\u001b[0m\u001b[0m\n\u001b[0;32m----> 6\u001b[0;31m     \u001b[0mi\u001b[0m \u001b[0;34m=\u001b[0m \u001b[0mnp\u001b[0m\u001b[0;34m.\u001b[0m\u001b[0mrandom\u001b[0m\u001b[0;34m.\u001b[0m\u001b[0mchoice\u001b[0m\u001b[0;34m(\u001b[0m\u001b[0mpi\u001b[0m\u001b[0;34m,\u001b[0m \u001b[0mp\u001b[0m\u001b[0;34m=\u001b[0m\u001b[0msoftmax_np\u001b[0m\u001b[0;34m(\u001b[0m\u001b[0mp\u001b[0m\u001b[0;34m[\u001b[0m\u001b[0mpi\u001b[0m\u001b[0;34m]\u001b[0m\u001b[0;34m)\u001b[0m\u001b[0;34m)\u001b[0m\u001b[0;34m\u001b[0m\u001b[0m\n\u001b[0m\u001b[1;32m      7\u001b[0m     \u001b[0;32mreturn\u001b[0m \u001b[0mindices_char\u001b[0m\u001b[0;34m[\u001b[0m\u001b[0mi\u001b[0m\u001b[0;34m]\u001b[0m\u001b[0;34m\u001b[0m\u001b[0m\n\u001b[1;32m      8\u001b[0m \u001b[0;32mdef\u001b[0m \u001b[0msoftmax_np\u001b[0m \u001b[0;34m(\u001b[0m\u001b[0mnparray\u001b[0m\u001b[0;34m)\u001b[0m\u001b[0;34m:\u001b[0m\u001b[0;34m\u001b[0m\u001b[0m\n",
      "\u001b[0;31mIndexError\u001b[0m: index 435 is out of bounds for axis 0 with size 1"
     ]
    }
   ],
   "source": [
    "get_next_random(\"select userid from users where \".split())"
   ]
  },
  {
   "cell_type": "code",
   "execution_count": null,
   "metadata": {},
   "outputs": [],
   "source": [
    "for n_hidden in [128]:\n",
    "    for n_fac in [64]:\n",
    "        for bidir in [True]:\n",
    "            for dropout in [0.8,0.5]:\n",
    "            \n",
    "                n_hidden=n_hidden\n",
    "                n_fac=n_fac\n",
    "                dropout=dropout\n",
    "                bidir=bidir\n",
    "\n",
    "                print('n_hidden:',n_hidden,'n_fac:',n_fac,'bidir:',bidir,'dropout:',dropout)\n",
    "\n",
    "                m = CharSeqStatefulGRU(len(sql_itos), n_fac, bs=bs)\n",
    "                opt_fn = partial(optim.Adam, betas=(0.8, 0.99))\n",
    "                learn = RNN_Learner(md, SingleModel(to_gpu(m)), opt_fn=opt_fn)\n",
    "                learn.crit = nll_loss_seq\n",
    "                learn.fit(1e-2, 1, cycle_len=5, use_clr_beta = (10,10,0.95,0.85))"
   ]
  },
  {
   "cell_type": "code",
   "execution_count": null,
   "metadata": {},
   "outputs": [],
   "source": []
  },
  {
   "cell_type": "code",
   "execution_count": 114,
   "metadata": {
    "scrolled": true
   },
   "outputs": [
    {
     "data": {
      "application/vnd.jupyter.widget-view+json": {
       "model_id": "fe474ab6274c40edb91140e0508933e9",
       "version_major": 2,
       "version_minor": 0
      },
      "text/html": [
       "<p>Failed to display Jupyter Widget of type <code>HBox</code>.</p>\n",
       "<p>\n",
       "  If you're reading this message in the Jupyter Notebook or JupyterLab Notebook, it may mean\n",
       "  that the widgets JavaScript is still loading. If this message persists, it\n",
       "  likely means that the widgets JavaScript library is either not installed or\n",
       "  not enabled. See the <a href=\"https://ipywidgets.readthedocs.io/en/stable/user_install.html\">Jupyter\n",
       "  Widgets Documentation</a> for setup instructions.\n",
       "</p>\n",
       "<p>\n",
       "  If you're reading this message in another frontend (for example, a static\n",
       "  rendering on GitHub or <a href=\"https://nbviewer.jupyter.org/\">NBViewer</a>),\n",
       "  it may mean that your frontend doesn't currently support widgets.\n",
       "</p>\n"
      ],
      "text/plain": [
       "HBox(children=(IntProgress(value=0, description='Epoch', max=5), HTML(value='')))"
      ]
     },
     "metadata": {},
     "output_type": "display_data"
    },
    {
     "name": "stdout",
     "output_type": "stream",
     "text": [
      "  0%|          | 0/336 [00:00<?, ?it/s]\n"
     ]
    },
    {
     "ename": "NameError",
     "evalue": "name 'fn' is not defined",
     "output_type": "error",
     "traceback": [
      "\u001b[0;31m---------------------------------------------------------------------------\u001b[0m",
      "\u001b[0;31mNameError\u001b[0m                                 Traceback (most recent call last)",
      "\u001b[0;32m<ipython-input-114-2ef25d56686e>\u001b[0m in \u001b[0;36m<module>\u001b[0;34m()\u001b[0m\n\u001b[0;32m----> 1\u001b[0;31m \u001b[0mlearn\u001b[0m\u001b[0;34m.\u001b[0m\u001b[0mfit\u001b[0m\u001b[0;34m(\u001b[0m\u001b[0;36m1e-2\u001b[0m\u001b[0;34m,\u001b[0m \u001b[0;36m1\u001b[0m\u001b[0;34m,\u001b[0m \u001b[0mcycle_len\u001b[0m\u001b[0;34m=\u001b[0m\u001b[0;36m5\u001b[0m\u001b[0;34m,\u001b[0m \u001b[0muse_clr_beta\u001b[0m \u001b[0;34m=\u001b[0m \u001b[0;34m(\u001b[0m\u001b[0;36m10\u001b[0m\u001b[0;34m,\u001b[0m\u001b[0;36m10\u001b[0m\u001b[0;34m,\u001b[0m\u001b[0;36m0.95\u001b[0m\u001b[0;34m,\u001b[0m\u001b[0;36m0.85\u001b[0m\u001b[0;34m)\u001b[0m\u001b[0;34m)\u001b[0m\u001b[0;34m\u001b[0m\u001b[0m\n\u001b[0m",
      "\u001b[0;32m~/SQL_Generator/fastai/learner.py\u001b[0m in \u001b[0;36mfit\u001b[0;34m(self, lrs, n_cycle, wds, **kwargs)\u001b[0m\n\u001b[1;32m    249\u001b[0m         \u001b[0mself\u001b[0m\u001b[0;34m.\u001b[0m\u001b[0msched\u001b[0m \u001b[0;34m=\u001b[0m \u001b[0;32mNone\u001b[0m\u001b[0;34m\u001b[0m\u001b[0m\n\u001b[1;32m    250\u001b[0m         \u001b[0mlayer_opt\u001b[0m \u001b[0;34m=\u001b[0m \u001b[0mself\u001b[0m\u001b[0;34m.\u001b[0m\u001b[0mget_layer_opt\u001b[0m\u001b[0;34m(\u001b[0m\u001b[0mlrs\u001b[0m\u001b[0;34m,\u001b[0m \u001b[0mwds\u001b[0m\u001b[0;34m)\u001b[0m\u001b[0;34m\u001b[0m\u001b[0m\n\u001b[0;32m--> 251\u001b[0;31m         \u001b[0;32mreturn\u001b[0m \u001b[0mself\u001b[0m\u001b[0;34m.\u001b[0m\u001b[0mfit_gen\u001b[0m\u001b[0;34m(\u001b[0m\u001b[0mself\u001b[0m\u001b[0;34m.\u001b[0m\u001b[0mmodel\u001b[0m\u001b[0;34m,\u001b[0m \u001b[0mself\u001b[0m\u001b[0;34m.\u001b[0m\u001b[0mdata\u001b[0m\u001b[0;34m,\u001b[0m \u001b[0mlayer_opt\u001b[0m\u001b[0;34m,\u001b[0m \u001b[0mn_cycle\u001b[0m\u001b[0;34m,\u001b[0m \u001b[0;34m**\u001b[0m\u001b[0mkwargs\u001b[0m\u001b[0;34m)\u001b[0m\u001b[0;34m\u001b[0m\u001b[0m\n\u001b[0m\u001b[1;32m    252\u001b[0m \u001b[0;34m\u001b[0m\u001b[0m\n\u001b[1;32m    253\u001b[0m     \u001b[0;32mdef\u001b[0m \u001b[0mwarm_up\u001b[0m\u001b[0;34m(\u001b[0m\u001b[0mself\u001b[0m\u001b[0;34m,\u001b[0m \u001b[0mlr\u001b[0m\u001b[0;34m,\u001b[0m \u001b[0mwds\u001b[0m\u001b[0;34m=\u001b[0m\u001b[0;32mNone\u001b[0m\u001b[0;34m)\u001b[0m\u001b[0;34m:\u001b[0m\u001b[0;34m\u001b[0m\u001b[0m\n",
      "\u001b[0;32m~/SQL_Generator/fastai/learner.py\u001b[0m in \u001b[0;36mfit_gen\u001b[0;34m(self, model, data, layer_opt, n_cycle, cycle_len, cycle_mult, cycle_save_name, best_save_name, use_clr, use_clr_beta, metrics, callbacks, use_wd_sched, norm_wds, wds_sched_mult, **kwargs)\u001b[0m\n\u001b[1;32m    196\u001b[0m         \u001b[0mn_epoch\u001b[0m \u001b[0;34m=\u001b[0m \u001b[0mint\u001b[0m\u001b[0;34m(\u001b[0m\u001b[0msum_geom\u001b[0m\u001b[0;34m(\u001b[0m\u001b[0mcycle_len\u001b[0m \u001b[0;32mif\u001b[0m \u001b[0mcycle_len\u001b[0m \u001b[0;32melse\u001b[0m \u001b[0;36m1\u001b[0m\u001b[0;34m,\u001b[0m \u001b[0mcycle_mult\u001b[0m\u001b[0;34m,\u001b[0m \u001b[0mn_cycle\u001b[0m\u001b[0;34m)\u001b[0m\u001b[0;34m)\u001b[0m\u001b[0;34m\u001b[0m\u001b[0m\n\u001b[1;32m    197\u001b[0m         return fit(model, data, n_epoch, layer_opt.opt, self.crit,\n\u001b[0;32m--> 198\u001b[0;31m             metrics=metrics, callbacks=callbacks, reg_fn=self.reg_fn, clip=self.clip, fp16=self.fp16, **kwargs)\n\u001b[0m\u001b[1;32m    199\u001b[0m \u001b[0;34m\u001b[0m\u001b[0m\n\u001b[1;32m    200\u001b[0m     \u001b[0;32mdef\u001b[0m \u001b[0mget_layer_groups\u001b[0m\u001b[0;34m(\u001b[0m\u001b[0mself\u001b[0m\u001b[0;34m)\u001b[0m\u001b[0;34m:\u001b[0m \u001b[0;32mreturn\u001b[0m \u001b[0mself\u001b[0m\u001b[0;34m.\u001b[0m\u001b[0mmodels\u001b[0m\u001b[0;34m.\u001b[0m\u001b[0mget_layer_groups\u001b[0m\u001b[0;34m(\u001b[0m\u001b[0;34m)\u001b[0m\u001b[0;34m\u001b[0m\u001b[0m\n",
      "\u001b[0;32m~/SQL_Generator/fastai/model.py\u001b[0m in \u001b[0;36mfit\u001b[0;34m(model, data, epochs, opt, crit, metrics, callbacks, stepper, **kwargs)\u001b[0m\n\u001b[1;32m    115\u001b[0m             \u001b[0mbatch_num\u001b[0m \u001b[0;34m+=\u001b[0m \u001b[0;36m1\u001b[0m\u001b[0;34m\u001b[0m\u001b[0m\n\u001b[1;32m    116\u001b[0m             \u001b[0;32mfor\u001b[0m \u001b[0mcb\u001b[0m \u001b[0;32min\u001b[0m \u001b[0mcallbacks\u001b[0m\u001b[0;34m:\u001b[0m \u001b[0mcb\u001b[0m\u001b[0;34m.\u001b[0m\u001b[0mon_batch_begin\u001b[0m\u001b[0;34m(\u001b[0m\u001b[0;34m)\u001b[0m\u001b[0;34m\u001b[0m\u001b[0m\n\u001b[0;32m--> 117\u001b[0;31m             \u001b[0mloss\u001b[0m \u001b[0;34m=\u001b[0m \u001b[0mstepper\u001b[0m\u001b[0;34m.\u001b[0m\u001b[0mstep\u001b[0m\u001b[0;34m(\u001b[0m\u001b[0mV\u001b[0m\u001b[0;34m(\u001b[0m\u001b[0mx\u001b[0m\u001b[0;34m)\u001b[0m\u001b[0;34m,\u001b[0m\u001b[0mV\u001b[0m\u001b[0;34m(\u001b[0m\u001b[0my\u001b[0m\u001b[0;34m)\u001b[0m\u001b[0;34m,\u001b[0m \u001b[0mepoch\u001b[0m\u001b[0;34m)\u001b[0m\u001b[0;34m\u001b[0m\u001b[0m\n\u001b[0m\u001b[1;32m    118\u001b[0m             \u001b[0mavg_loss\u001b[0m \u001b[0;34m=\u001b[0m \u001b[0mavg_loss\u001b[0m \u001b[0;34m*\u001b[0m \u001b[0mavg_mom\u001b[0m \u001b[0;34m+\u001b[0m \u001b[0mloss\u001b[0m \u001b[0;34m*\u001b[0m \u001b[0;34m(\u001b[0m\u001b[0;36m1\u001b[0m\u001b[0;34m-\u001b[0m\u001b[0mavg_mom\u001b[0m\u001b[0;34m)\u001b[0m\u001b[0;34m\u001b[0m\u001b[0m\n\u001b[1;32m    119\u001b[0m             \u001b[0mdebias_loss\u001b[0m \u001b[0;34m=\u001b[0m \u001b[0mavg_loss\u001b[0m \u001b[0;34m/\u001b[0m \u001b[0;34m(\u001b[0m\u001b[0;36m1\u001b[0m \u001b[0;34m-\u001b[0m \u001b[0mavg_mom\u001b[0m\u001b[0;34m**\u001b[0m\u001b[0mbatch_num\u001b[0m\u001b[0;34m)\u001b[0m\u001b[0;34m\u001b[0m\u001b[0m\n",
      "\u001b[0;32m~/SQL_Generator/fastai/model.py\u001b[0m in \u001b[0;36mstep\u001b[0;34m(self, xs, y, epoch)\u001b[0m\n\u001b[1;32m     45\u001b[0m     \u001b[0;32mdef\u001b[0m \u001b[0mstep\u001b[0m\u001b[0;34m(\u001b[0m\u001b[0mself\u001b[0m\u001b[0;34m,\u001b[0m \u001b[0mxs\u001b[0m\u001b[0;34m,\u001b[0m \u001b[0my\u001b[0m\u001b[0;34m,\u001b[0m \u001b[0mepoch\u001b[0m\u001b[0;34m)\u001b[0m\u001b[0;34m:\u001b[0m\u001b[0;34m\u001b[0m\u001b[0m\n\u001b[1;32m     46\u001b[0m         \u001b[0mxtra\u001b[0m \u001b[0;34m=\u001b[0m \u001b[0;34m[\u001b[0m\u001b[0;34m]\u001b[0m\u001b[0;34m\u001b[0m\u001b[0m\n\u001b[0;32m---> 47\u001b[0;31m         \u001b[0moutput\u001b[0m \u001b[0;34m=\u001b[0m \u001b[0mself\u001b[0m\u001b[0;34m.\u001b[0m\u001b[0mm\u001b[0m\u001b[0;34m(\u001b[0m\u001b[0;34m*\u001b[0m\u001b[0mxs\u001b[0m\u001b[0;34m)\u001b[0m\u001b[0;34m\u001b[0m\u001b[0m\n\u001b[0m\u001b[1;32m     48\u001b[0m         \u001b[0;32mif\u001b[0m \u001b[0misinstance\u001b[0m\u001b[0;34m(\u001b[0m\u001b[0moutput\u001b[0m\u001b[0;34m,\u001b[0m\u001b[0mtuple\u001b[0m\u001b[0;34m)\u001b[0m\u001b[0;34m:\u001b[0m \u001b[0moutput\u001b[0m\u001b[0;34m,\u001b[0m\u001b[0;34m*\u001b[0m\u001b[0mxtra\u001b[0m \u001b[0;34m=\u001b[0m \u001b[0moutput\u001b[0m\u001b[0;34m\u001b[0m\u001b[0m\n\u001b[1;32m     49\u001b[0m         \u001b[0;32mif\u001b[0m \u001b[0mself\u001b[0m\u001b[0;34m.\u001b[0m\u001b[0mfp16\u001b[0m\u001b[0;34m:\u001b[0m \u001b[0mself\u001b[0m\u001b[0;34m.\u001b[0m\u001b[0mm\u001b[0m\u001b[0;34m.\u001b[0m\u001b[0mzero_grad\u001b[0m\u001b[0;34m(\u001b[0m\u001b[0;34m)\u001b[0m\u001b[0;34m\u001b[0m\u001b[0m\n",
      "\u001b[0;32m~/anaconda3/envs/fastai/lib/python3.6/site-packages/torch/nn/modules/module.py\u001b[0m in \u001b[0;36m__call__\u001b[0;34m(self, *input, **kwargs)\u001b[0m\n\u001b[1;32m    355\u001b[0m             \u001b[0mresult\u001b[0m \u001b[0;34m=\u001b[0m \u001b[0mself\u001b[0m\u001b[0;34m.\u001b[0m\u001b[0m_slow_forward\u001b[0m\u001b[0;34m(\u001b[0m\u001b[0;34m*\u001b[0m\u001b[0minput\u001b[0m\u001b[0;34m,\u001b[0m \u001b[0;34m**\u001b[0m\u001b[0mkwargs\u001b[0m\u001b[0;34m)\u001b[0m\u001b[0;34m\u001b[0m\u001b[0m\n\u001b[1;32m    356\u001b[0m         \u001b[0;32melse\u001b[0m\u001b[0;34m:\u001b[0m\u001b[0;34m\u001b[0m\u001b[0m\n\u001b[0;32m--> 357\u001b[0;31m             \u001b[0mresult\u001b[0m \u001b[0;34m=\u001b[0m \u001b[0mself\u001b[0m\u001b[0;34m.\u001b[0m\u001b[0mforward\u001b[0m\u001b[0;34m(\u001b[0m\u001b[0;34m*\u001b[0m\u001b[0minput\u001b[0m\u001b[0;34m,\u001b[0m \u001b[0;34m**\u001b[0m\u001b[0mkwargs\u001b[0m\u001b[0;34m)\u001b[0m\u001b[0;34m\u001b[0m\u001b[0m\n\u001b[0m\u001b[1;32m    358\u001b[0m         \u001b[0;32mfor\u001b[0m \u001b[0mhook\u001b[0m \u001b[0;32min\u001b[0m \u001b[0mself\u001b[0m\u001b[0;34m.\u001b[0m\u001b[0m_forward_hooks\u001b[0m\u001b[0;34m.\u001b[0m\u001b[0mvalues\u001b[0m\u001b[0;34m(\u001b[0m\u001b[0;34m)\u001b[0m\u001b[0;34m:\u001b[0m\u001b[0;34m\u001b[0m\u001b[0m\n\u001b[1;32m    359\u001b[0m             \u001b[0mhook_result\u001b[0m \u001b[0;34m=\u001b[0m \u001b[0mhook\u001b[0m\u001b[0;34m(\u001b[0m\u001b[0mself\u001b[0m\u001b[0;34m,\u001b[0m \u001b[0minput\u001b[0m\u001b[0;34m,\u001b[0m \u001b[0mresult\u001b[0m\u001b[0;34m)\u001b[0m\u001b[0;34m\u001b[0m\u001b[0m\n",
      "\u001b[0;32m<ipython-input-111-ea2edf9791a2>\u001b[0m in \u001b[0;36mforward\u001b[0;34m(self, *cs)\u001b[0m\n\u001b[1;32m     16\u001b[0m \u001b[0;31m#         outp = self.rnn_drop1(outp)\u001b[0m\u001b[0;34m\u001b[0m\u001b[0;34m\u001b[0m\u001b[0m\n\u001b[1;32m     17\u001b[0m         \u001b[0mself\u001b[0m\u001b[0;34m.\u001b[0m\u001b[0mh1\u001b[0m \u001b[0;34m=\u001b[0m \u001b[0mrepackage_var\u001b[0m\u001b[0;34m(\u001b[0m\u001b[0mh1\u001b[0m\u001b[0;34m)\u001b[0m\u001b[0;34m\u001b[0m\u001b[0m\n\u001b[0;32m---> 18\u001b[0;31m         \u001b[0moutp\u001b[0m\u001b[0;34m,\u001b[0m\u001b[0mh2\u001b[0m \u001b[0;34m=\u001b[0m \u001b[0mself\u001b[0m\u001b[0;34m.\u001b[0m\u001b[0mrnn2\u001b[0m\u001b[0;34m(\u001b[0m\u001b[0moutp\u001b[0m\u001b[0;34m,\u001b[0m\u001b[0mself\u001b[0m\u001b[0;34m.\u001b[0m\u001b[0mh2\u001b[0m\u001b[0;34m)\u001b[0m\u001b[0;34m\u001b[0m\u001b[0m\n\u001b[0m\u001b[1;32m     19\u001b[0m         \u001b[0mself\u001b[0m\u001b[0;34m.\u001b[0m\u001b[0mh2\u001b[0m \u001b[0;34m=\u001b[0m \u001b[0mrepackage_var\u001b[0m\u001b[0;34m(\u001b[0m\u001b[0mh2\u001b[0m\u001b[0;34m)\u001b[0m\u001b[0;34m\u001b[0m\u001b[0m\n\u001b[1;32m     20\u001b[0m \u001b[0;31m#         outp = self.rnn_drop2(outp)\u001b[0m\u001b[0;34m\u001b[0m\u001b[0;34m\u001b[0m\u001b[0m\n",
      "\u001b[0;32m~/anaconda3/envs/fastai/lib/python3.6/site-packages/torch/nn/modules/module.py\u001b[0m in \u001b[0;36m__call__\u001b[0;34m(self, *input, **kwargs)\u001b[0m\n\u001b[1;32m    355\u001b[0m             \u001b[0mresult\u001b[0m \u001b[0;34m=\u001b[0m \u001b[0mself\u001b[0m\u001b[0;34m.\u001b[0m\u001b[0m_slow_forward\u001b[0m\u001b[0;34m(\u001b[0m\u001b[0;34m*\u001b[0m\u001b[0minput\u001b[0m\u001b[0;34m,\u001b[0m \u001b[0;34m**\u001b[0m\u001b[0mkwargs\u001b[0m\u001b[0;34m)\u001b[0m\u001b[0;34m\u001b[0m\u001b[0m\n\u001b[1;32m    356\u001b[0m         \u001b[0;32melse\u001b[0m\u001b[0;34m:\u001b[0m\u001b[0;34m\u001b[0m\u001b[0m\n\u001b[0;32m--> 357\u001b[0;31m             \u001b[0mresult\u001b[0m \u001b[0;34m=\u001b[0m \u001b[0mself\u001b[0m\u001b[0;34m.\u001b[0m\u001b[0mforward\u001b[0m\u001b[0;34m(\u001b[0m\u001b[0;34m*\u001b[0m\u001b[0minput\u001b[0m\u001b[0;34m,\u001b[0m \u001b[0;34m**\u001b[0m\u001b[0mkwargs\u001b[0m\u001b[0;34m)\u001b[0m\u001b[0;34m\u001b[0m\u001b[0m\n\u001b[0m\u001b[1;32m    358\u001b[0m         \u001b[0;32mfor\u001b[0m \u001b[0mhook\u001b[0m \u001b[0;32min\u001b[0m \u001b[0mself\u001b[0m\u001b[0;34m.\u001b[0m\u001b[0m_forward_hooks\u001b[0m\u001b[0;34m.\u001b[0m\u001b[0mvalues\u001b[0m\u001b[0;34m(\u001b[0m\u001b[0;34m)\u001b[0m\u001b[0;34m:\u001b[0m\u001b[0;34m\u001b[0m\u001b[0m\n\u001b[1;32m    359\u001b[0m             \u001b[0mhook_result\u001b[0m \u001b[0;34m=\u001b[0m \u001b[0mhook\u001b[0m\u001b[0;34m(\u001b[0m\u001b[0mself\u001b[0m\u001b[0;34m,\u001b[0m \u001b[0minput\u001b[0m\u001b[0;34m,\u001b[0m \u001b[0mresult\u001b[0m\u001b[0;34m)\u001b[0m\u001b[0;34m\u001b[0m\u001b[0m\n",
      "\u001b[0;32m~/anaconda3/envs/fastai/lib/python3.6/site-packages/torch/nn/modules/rnn.py\u001b[0m in \u001b[0;36mforward\u001b[0;34m(self, input, hx)\u001b[0m\n\u001b[1;32m    188\u001b[0m             \u001b[0mflat_weight\u001b[0m \u001b[0;34m=\u001b[0m \u001b[0;32mNone\u001b[0m\u001b[0;34m\u001b[0m\u001b[0m\n\u001b[1;32m    189\u001b[0m \u001b[0;34m\u001b[0m\u001b[0m\n\u001b[0;32m--> 190\u001b[0;31m         \u001b[0mself\u001b[0m\u001b[0;34m.\u001b[0m\u001b[0mcheck_forward_args\u001b[0m\u001b[0;34m(\u001b[0m\u001b[0minput\u001b[0m\u001b[0;34m,\u001b[0m \u001b[0mhx\u001b[0m\u001b[0;34m,\u001b[0m \u001b[0mbatch_sizes\u001b[0m\u001b[0;34m)\u001b[0m\u001b[0;34m\u001b[0m\u001b[0m\n\u001b[0m\u001b[1;32m    191\u001b[0m         func = self._backend.RNN(\n\u001b[1;32m    192\u001b[0m             \u001b[0mself\u001b[0m\u001b[0;34m.\u001b[0m\u001b[0mmode\u001b[0m\u001b[0;34m,\u001b[0m\u001b[0;34m\u001b[0m\u001b[0m\n",
      "\u001b[0;32m~/anaconda3/envs/fastai/lib/python3.6/site-packages/torch/nn/modules/rnn.py\u001b[0m in \u001b[0;36mcheck_forward_args\u001b[0;34m(self, input, hidden, batch_sizes)\u001b[0m\n\u001b[1;32m    139\u001b[0m             raise RuntimeError(\n\u001b[1;32m    140\u001b[0m                 'input.size(-1) must be equal to input_size. Expected {}, got {}'.format(\n\u001b[0;32m--> 141\u001b[0;31m                     fn.input_size, input.size(-1)))\n\u001b[0m\u001b[1;32m    142\u001b[0m \u001b[0;34m\u001b[0m\u001b[0m\n\u001b[1;32m    143\u001b[0m         \u001b[0;32mif\u001b[0m \u001b[0mis_input_packed\u001b[0m\u001b[0;34m:\u001b[0m\u001b[0;34m\u001b[0m\u001b[0m\n",
      "\u001b[0;31mNameError\u001b[0m: name 'fn' is not defined"
     ]
    }
   ],
   "source": [
    "learn.fit(1e-2, 1, cycle_len=5, use_clr_beta = (10,10,0.95,0.85))"
   ]
  },
  {
   "cell_type": "code",
   "execution_count": null,
   "metadata": {},
   "outputs": [],
   "source": []
  },
  {
   "cell_type": "code",
   "execution_count": 91,
   "metadata": {},
   "outputs": [
    {
     "data": {
      "application/vnd.jupyter.widget-view+json": {
       "model_id": "461e4711af4f484680a80b0138d200ec",
       "version_major": 2,
       "version_minor": 0
      },
      "text/html": [
       "<p>Failed to display Jupyter Widget of type <code>HBox</code>.</p>\n",
       "<p>\n",
       "  If you're reading this message in the Jupyter Notebook or JupyterLab Notebook, it may mean\n",
       "  that the widgets JavaScript is still loading. If this message persists, it\n",
       "  likely means that the widgets JavaScript library is either not installed or\n",
       "  not enabled. See the <a href=\"https://ipywidgets.readthedocs.io/en/stable/user_install.html\">Jupyter\n",
       "  Widgets Documentation</a> for setup instructions.\n",
       "</p>\n",
       "<p>\n",
       "  If you're reading this message in another frontend (for example, a static\n",
       "  rendering on GitHub or <a href=\"https://nbviewer.jupyter.org/\">NBViewer</a>),\n",
       "  it may mean that your frontend doesn't currently support widgets.\n",
       "</p>\n"
      ],
      "text/plain": [
       "HBox(children=(IntProgress(value=0, description='Epoch', max=5), HTML(value='')))"
      ]
     },
     "metadata": {},
     "output_type": "display_data"
    },
    {
     "name": "stdout",
     "output_type": "stream",
     "text": [
      "epoch      trn_loss   val_loss                              \n",
      "    0      4.263932   4.05082   \n",
      "    1      2.676606   2.59086                               \n",
      "    2      2.39388    2.413409                              \n",
      "    3      2.249364   2.32088                               \n",
      "    4      2.140876   2.275713                              \n",
      "\n"
     ]
    },
    {
     "data": {
      "text/plain": [
       "[array([2.27571])]"
      ]
     },
     "execution_count": 91,
     "metadata": {},
     "output_type": "execute_result"
    }
   ],
   "source": [
    "learn.fit(1e-2, 1, cycle_len=5, use_clr_beta = (10,10,0.95,0.85))"
   ]
  },
  {
   "cell_type": "code",
   "execution_count": 39,
   "metadata": {},
   "outputs": [],
   "source": [
    "learn.save('tmp1')"
   ]
  },
  {
   "cell_type": "code",
   "execution_count": 40,
   "metadata": {},
   "outputs": [
    {
     "data": {
      "application/vnd.jupyter.widget-view+json": {
       "model_id": "42ac00e7b15f41ca9bcbd4c59b0d0369",
       "version_major": 2,
       "version_minor": 0
      },
      "text/html": [
       "<p>Failed to display Jupyter Widget of type <code>HBox</code>.</p>\n",
       "<p>\n",
       "  If you're reading this message in the Jupyter Notebook or JupyterLab Notebook, it may mean\n",
       "  that the widgets JavaScript is still loading. If this message persists, it\n",
       "  likely means that the widgets JavaScript library is either not installed or\n",
       "  not enabled. See the <a href=\"https://ipywidgets.readthedocs.io/en/stable/user_install.html\">Jupyter\n",
       "  Widgets Documentation</a> for setup instructions.\n",
       "</p>\n",
       "<p>\n",
       "  If you're reading this message in another frontend (for example, a static\n",
       "  rendering on GitHub or <a href=\"https://nbviewer.jupyter.org/\">NBViewer</a>),\n",
       "  it may mean that your frontend doesn't currently support widgets.\n",
       "</p>\n"
      ],
      "text/plain": [
       "HBox(children=(IntProgress(value=0, description='Epoch', max=1), HTML(value='')))"
      ]
     },
     "metadata": {},
     "output_type": "display_data"
    },
    {
     "name": "stdout",
     "output_type": "stream",
     "text": [
      " 85%|████████▍ | 284/336 [00:24<00:04, 11.56it/s, loss=13.5]"
     ]
    }
   ],
   "source": [
    "learn.lr_find()"
   ]
  },
  {
   "cell_type": "code",
   "execution_count": 42,
   "metadata": {},
   "outputs": [
    {
     "data": {
      "image/png": "[encoded data removed]",
      "text/plain": [
       "<matplotlib.figure.Figure at 0x7fc3207d0e80>"
      ]
     },
     "metadata": {},
     "output_type": "display_data"
    }
   ],
   "source": [
    "learn.sched.plot(1,1)"
   ]
  },
  {
   "cell_type": "code",
   "execution_count": 16,
   "metadata": {
    "ExecuteTime": {
     "end_time": "2018-04-23T09:33:58.099480Z",
     "start_time": "2018-04-23T09:33:49.580002Z"
    },
    "scrolled": true
   },
   "outputs": [
    {
     "ename": "NameError",
     "evalue": "name 'learn' is not defined",
     "output_type": "error",
     "traceback": [
      "\u001b[0;31m---------------------------------------------------------------------------\u001b[0m",
      "\u001b[0;31mNameError\u001b[0m                                 Traceback (most recent call last)",
      "\u001b[0;32m<ipython-input-16-993a10c36e53>\u001b[0m in \u001b[0;36m<module>\u001b[0;34m()\u001b[0m\n\u001b[0;32m----> 1\u001b[0;31m \u001b[0mlearn\u001b[0m\u001b[0;34m.\u001b[0m\u001b[0mfit\u001b[0m\u001b[0;34m(\u001b[0m\u001b[0;36m1e-3\u001b[0m\u001b[0;34m,\u001b[0m \u001b[0;36m1\u001b[0m\u001b[0;34m,\u001b[0m \u001b[0mcycle_len\u001b[0m\u001b[0;34m=\u001b[0m\u001b[0;36m1\u001b[0m\u001b[0;34m,\u001b[0m \u001b[0muse_clr_beta\u001b[0m \u001b[0;34m=\u001b[0m \u001b[0;34m(\u001b[0m\u001b[0;36m10\u001b[0m\u001b[0;34m,\u001b[0m\u001b[0;36m10\u001b[0m\u001b[0;34m,\u001b[0m\u001b[0;36m0.95\u001b[0m\u001b[0;34m,\u001b[0m\u001b[0;36m0.85\u001b[0m\u001b[0;34m)\u001b[0m\u001b[0;34m)\u001b[0m\u001b[0;34m\u001b[0m\u001b[0m\n\u001b[0m",
      "\u001b[0;31mNameError\u001b[0m: name 'learn' is not defined"
     ]
    }
   ],
   "source": [
    "learn.fit(1e-3, 1, cycle_len=1, use_clr_beta = (10,10,0.95,0.85))"
   ]
  },
  {
   "cell_type": "code",
   "execution_count": 44,
   "metadata": {},
   "outputs": [],
   "source": [
    "learn.save('tmp2')"
   ]
  },
  {
   "cell_type": "code",
   "execution_count": 45,
   "metadata": {},
   "outputs": [
    {
     "data": {
      "application/vnd.jupyter.widget-view+json": {
       "model_id": "ccdcc0959a0e4cab8fa2bcb1f4495354",
       "version_major": 2,
       "version_minor": 0
      },
      "text/html": [
       "<p>Failed to display Jupyter Widget of type <code>HBox</code>.</p>\n",
       "<p>\n",
       "  If you're reading this message in the Jupyter Notebook or JupyterLab Notebook, it may mean\n",
       "  that the widgets JavaScript is still loading. If this message persists, it\n",
       "  likely means that the widgets JavaScript library is either not installed or\n",
       "  not enabled. See the <a href=\"https://ipywidgets.readthedocs.io/en/stable/user_install.html\">Jupyter\n",
       "  Widgets Documentation</a> for setup instructions.\n",
       "</p>\n",
       "<p>\n",
       "  If you're reading this message in another frontend (for example, a static\n",
       "  rendering on GitHub or <a href=\"https://nbviewer.jupyter.org/\">NBViewer</a>),\n",
       "  it may mean that your frontend doesn't currently support widgets.\n",
       "</p>\n"
      ],
      "text/plain": [
       "HBox(children=(IntProgress(value=0, description='Epoch', max=5), HTML(value='')))"
      ]
     },
     "metadata": {},
     "output_type": "display_data"
    },
    {
     "name": "stdout",
     "output_type": "stream",
     "text": [
      "epoch      trn_loss   val_loss                              \n",
      "    0      3.36404    2.981094  \n",
      "    1      3.366188   2.979906                              \n",
      "    2      3.363372   2.977092                              \n",
      "    3      3.361462   2.976001                              \n",
      "    4      3.361196   2.975682                              \n",
      "\n"
     ]
    },
    {
     "data": {
      "text/plain": [
       "[array([2.97568])]"
      ]
     },
     "execution_count": 45,
     "metadata": {},
     "output_type": "execute_result"
    }
   ],
   "source": [
    "learn.fit(1e-4, 1, cycle_len=5, use_clr_beta = (10,10,0.95,0.85))"
   ]
  },
  {
   "cell_type": "code",
   "execution_count": null,
   "metadata": {},
   "outputs": [],
   "source": []
  },
  {
   "cell_type": "code",
   "execution_count": null,
   "metadata": {},
   "outputs": [],
   "source": []
  },
  {
   "cell_type": "code",
   "execution_count": null,
   "metadata": {},
   "outputs": [],
   "source": []
  },
  {
   "cell_type": "code",
   "execution_count": null,
   "metadata": {},
   "outputs": [],
   "source": []
  },
  {
   "cell_type": "markdown",
   "metadata": {
    "ExecuteTime": {
     "end_time": "2018-04-22T10:37:35.735503Z",
     "start_time": "2018-04-22T10:37:35.483954Z"
    }
   },
   "source": [
    "## Test Sentence"
   ]
  },
  {
   "cell_type": "code",
   "execution_count": null,
   "metadata": {},
   "outputs": [],
   "source": [
    "def get_next_random_fsm(inp, fsm):\n",
    "    idxs = T(np.array([char_indices[c] for c in inp]))\n",
    "    p = m(*VV(idxs))\n",
    "    p = to_np(p)[0]\n",
    "    pi = p.argsort()[-10:]\n",
    "    i = np.random.choice(pi, p=softmax_np(p[pi]))\n",
    "    \n",
    "    if fsm.run(indices_char[i]):\n",
    "        return indice_char[i]\n",
    "    else: \n",
    "        for pii in pi:\n",
    "            if fsm.run(indice_char[pii]):\n",
    "                print('pii loop')\n",
    "                return indice_char[pii]\n",
    "            else:\n",
    "                print('Error, no valid words at all')  \n",
    "    \n",
    "    \n",
    "    return \"ERROR\"\n",
    "\n",
    "fsm = Rule_Parse_FSM()\n",
    "\n",
    "get_next_random(\"select userid from users where \".split())\n",
    "\n",
    "get_next_random_fsm(\"select userid from users where \".split(), fsm)"
   ]
  },
  {
   "cell_type": "code",
   "execution_count": null,
   "metadata": {},
   "outputs": [],
   "source": [
    "a=get_sentence(['select','*','from','where','users'])\n",
    "\n",
    "b=get_sentence_random(['select','*','from','where','users'])\n",
    "\n",
    "show_sentence(b)\n",
    "\n",
    "show_sentence(a)\n",
    "\n",
    "show_sentence(a)\n",
    "\n",
    "get_next(['select', '*', 'from'])"
   ]
  },
  {
   "cell_type": "code",
   "execution_count": null,
   "metadata": {},
   "outputs": [],
   "source": []
  },
  {
   "cell_type": "code",
   "execution_count": null,
   "metadata": {},
   "outputs": [],
   "source": []
  },
  {
   "cell_type": "code",
   "execution_count": null,
   "metadata": {},
   "outputs": [],
   "source": []
  },
  {
   "cell_type": "code",
   "execution_count": 8,
   "metadata": {
    "ExecuteTime": {
     "end_time": "2018-04-21T14:40:18.846952Z",
     "start_time": "2018-04-21T14:40:17.620276Z"
    }
   },
   "outputs": [],
   "source": [
    "def get_next_random(inp):\n",
    "    idxs = T(np.array([char_indices[c] for c in inp]))\n",
    "    p = m(*VV(idxs))\n",
    "    p = to_np(p)[0]\n",
    "    pi = p.argsort()[-10:]\n",
    "    i = np.random.choice(pi, p=softmax_np(p[pi]))\n",
    "    return indices_char[i]\n",
    "def softmax_np (nparray):\n",
    "    ans = np.exp(nparray)\n",
    "    return ans/ans.sum()\n",
    "\n",
    "def get_next(inp):\n",
    "    idxs = T(np.array([char_indices[c] for c in inp]))\n",
    "    p = m(*VV(idxs))\n",
    "    i = np.argmax(to_np(p))\n",
    "    p = to_np(p)\n",
    "    \n",
    "    return indices_char[i]\n",
    "\n",
    "def get_sentence(inp):\n",
    "    sentence = inp\n",
    "    counter = 0\n",
    "    tmp = []\n",
    "    while \"_eos_\" not in tmp:   \n",
    "        tmp = get_next(sentence[-8:]) # always get last three\n",
    "        sentence += [tmp]\n",
    "        counter = counter+1\n",
    "        if counter> 500:\n",
    "            break\n",
    "    return sentence\n",
    "        \n",
    "\n",
    "def get_sentence_random(inp):\n",
    "    sentence = inp\n",
    "    counter = 0\n",
    "    tmp = []\n",
    "    while \"_eos_\" not in tmp:   \n",
    "        tmp = get_next_random(sentence[-8:]) # always get last three\n",
    "        sentence += [tmp]\n",
    "        counter = counter+1\n",
    "        if counter> 500:\n",
    "            break\n",
    "    return sentence\n",
    "        \n",
    "\n",
    "def show_sentence(inp):\n",
    "    sentence =''\n",
    "    captialize = False\n",
    "    for i in inp:\n",
    "        if i =='t_up':\n",
    "            captialize = True\n",
    "        else:            \n",
    "            if captialize:\n",
    "                sentence = sentence + \" \" + i.upper()       \n",
    "           \n",
    "            else:\n",
    "                sentence = sentence +\" \" + i\n",
    "            captialize = False\n",
    "    return sentence"
   ]
  }
 ],
 "metadata": {
  "kernelspec": {
   "display_name": "Python 3",
   "language": "python",
   "name": "python3"
  },
  "language_info": {
   "codemirror_mode": {
    "name": "ipython",
    "version": 3
   },
   "file_extension": ".py",
   "mimetype": "text/x-python",
   "name": "python",
   "nbconvert_exporter": "python",
   "pygments_lexer": "ipython3",
   "version": "3.6.4"
  },
  "nav_menu": {},
  "toc": {
   "colors": {
    "hover_highlight": "#DAA520",
    "navigate_num": "#000000",
    "navigate_text": "#333333",
    "running_highlight": "#FF0000",
    "selected_highlight": "#FFD700",
    "sidebar_border": "#EEEEEE",
    "wrapper_background": "#FFFFFF"
   },
   "moveMenuLeft": true,
   "nav_menu": {
    "height": "216px",
    "width": "252px"
   },
   "navigate_menu": true,
   "number_sections": true,
   "sideBar": true,
   "threshold": 4,
   "toc_cell": false,
   "toc_section_display": "block",
   "toc_window_display": false,
   "widenNotebook": false
  },
  "varInspector": {
   "cols": {
    "lenName": 16,
    "lenType": 16,
    "lenVar": 40
   },
   "kernels_config": {
    "python": {
     "delete_cmd_postfix": "",
     "delete_cmd_prefix": "del ",
     "library": "var_list.py",
     "varRefreshCmd": "print(var_dic_list())"
    },
    "r": {
     "delete_cmd_postfix": ") ",
     "delete_cmd_prefix": "rm(",
     "library": "var_list.r",
     "varRefreshCmd": "cat(var_dic_list()) "
    }
   },
   "types_to_exclude": [
    "module",
    "function",
    "builtin_function_or_method",
    "instance",
    "_Feature"
   ],
   "window_display": false
  }
 },
 "nbformat": 4,
 "nbformat_minor": 1
}
