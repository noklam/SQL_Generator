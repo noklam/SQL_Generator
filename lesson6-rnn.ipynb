{
 "cells": [
  {
   "cell_type": "code",
   "execution_count": 1,
   "metadata": {
    "ExecuteTime": {
     "end_time": "2018-04-17T05:20:45.038453Z",
     "start_time": "2018-04-17T05:20:37.141885Z"
    }
   },
   "outputs": [],
   "source": [
    "%reload_ext autoreload\n",
    "%autoreload 2\n",
    "%matplotlib inline\n",
    "\n",
    "from fastai.io import *\n",
    "from fastai.conv_learner import *\n",
    "\n",
    "from fastai.column_data import *"
   ]
  },
  {
   "cell_type": "markdown",
   "metadata": {},
   "source": [
    "## Setup"
   ]
  },
  {
   "cell_type": "markdown",
   "metadata": {},
   "source": [
    "We're going to download the collected works of Nietzsche to use as our data for this class."
   ]
  },
  {
   "cell_type": "code",
   "execution_count": 2,
   "metadata": {
    "ExecuteTime": {
     "end_time": "2018-04-17T05:20:45.185874Z",
     "start_time": "2018-04-17T05:20:45.039454Z"
    }
   },
   "outputs": [],
   "source": [
    "PATH='data/nietzsche/'"
   ]
  },
  {
   "cell_type": "code",
   "execution_count": 3,
   "metadata": {
    "ExecuteTime": {
     "end_time": "2018-04-17T05:20:45.356296Z",
     "start_time": "2018-04-17T05:20:45.186846Z"
    }
   },
   "outputs": [
    {
     "name": "stdout",
     "output_type": "stream",
     "text": [
      "corpus length: 600893\n"
     ]
    }
   ],
   "source": [
    "get_data(\"https://s3.amazonaws.com/text-datasets/nietzsche.txt\", f'{PATH}nietzsche.txt')\n",
    "text = open(f'{PATH}nietzsche.txt',encoding='utf-8').read()\n",
    "print('corpus length:', len(text))"
   ]
  },
  {
   "cell_type": "code",
   "execution_count": 4,
   "metadata": {
    "ExecuteTime": {
     "end_time": "2018-04-17T05:20:45.516725Z",
     "start_time": "2018-04-17T05:20:45.358301Z"
    }
   },
   "outputs": [
    {
     "data": {
      "text/plain": [
       "'PREFACE\\n\\n\\nSUPPOSING that Truth is a woman--what then? Is there not ground\\nfor suspecting that all philosophers, in so far as they have been\\ndogmatists, have failed to understand women--that the terrible\\nseriousness and clumsy importunity with which they have usually paid\\ntheir addresses to Truth, have been unskilled and unseemly methods for\\nwinning a woman? Certainly she has never allowed herself '"
      ]
     },
     "execution_count": 4,
     "metadata": {},
     "output_type": "execute_result"
    }
   ],
   "source": [
    "text[:400]"
   ]
  },
  {
   "cell_type": "code",
   "execution_count": 5,
   "metadata": {
    "ExecuteTime": {
     "end_time": "2018-04-17T05:20:45.711237Z",
     "start_time": "2018-04-17T05:20:45.518727Z"
    }
   },
   "outputs": [
    {
     "name": "stdout",
     "output_type": "stream",
     "text": [
      "total chars: 85\n"
     ]
    }
   ],
   "source": [
    "chars = sorted(list(set(text)))\n",
    "vocab_size = len(chars)+1\n",
    "print('total chars:', vocab_size)"
   ]
  },
  {
   "cell_type": "markdown",
   "metadata": {},
   "source": [
    "Sometimes it's useful to have a zero value in the dataset, e.g. for padding"
   ]
  },
  {
   "cell_type": "code",
   "execution_count": 6,
   "metadata": {
    "ExecuteTime": {
     "end_time": "2018-04-17T05:20:46.852917Z",
     "start_time": "2018-04-17T05:20:46.698508Z"
    },
    "collapsed": true
   },
   "outputs": [
    {
     "data": {
      "text/plain": [
       "['\\n',\n",
       " ' ',\n",
       " '!',\n",
       " '\"',\n",
       " \"'\",\n",
       " '(',\n",
       " ')',\n",
       " ',',\n",
       " '-',\n",
       " '.',\n",
       " '0',\n",
       " '1',\n",
       " '2',\n",
       " '3',\n",
       " '4',\n",
       " '5',\n",
       " '6',\n",
       " '7',\n",
       " '8',\n",
       " '9',\n",
       " ':',\n",
       " ';',\n",
       " '=',\n",
       " '?',\n",
       " 'A',\n",
       " 'B',\n",
       " 'C',\n",
       " 'D',\n",
       " 'E',\n",
       " 'F',\n",
       " 'G',\n",
       " 'H',\n",
       " 'I',\n",
       " 'J',\n",
       " 'K',\n",
       " 'L',\n",
       " 'M',\n",
       " 'N',\n",
       " 'O',\n",
       " 'P',\n",
       " 'Q',\n",
       " 'R',\n",
       " 'S',\n",
       " 'T',\n",
       " 'U',\n",
       " 'V',\n",
       " 'W',\n",
       " 'X',\n",
       " 'Y',\n",
       " 'Z',\n",
       " '[',\n",
       " ']',\n",
       " '_',\n",
       " 'a',\n",
       " 'b',\n",
       " 'c',\n",
       " 'd',\n",
       " 'e',\n",
       " 'f',\n",
       " 'g',\n",
       " 'h',\n",
       " 'i',\n",
       " 'j',\n",
       " 'k',\n",
       " 'l',\n",
       " 'm',\n",
       " 'n',\n",
       " 'o',\n",
       " 'p',\n",
       " 'q',\n",
       " 'r',\n",
       " 's',\n",
       " 't',\n",
       " 'u',\n",
       " 'v',\n",
       " 'w',\n",
       " 'x',\n",
       " 'y',\n",
       " 'z',\n",
       " 'Æ',\n",
       " 'ä',\n",
       " 'æ',\n",
       " 'é',\n",
       " 'ë']"
      ]
     },
     "execution_count": 6,
     "metadata": {},
     "output_type": "execute_result"
    }
   ],
   "source": [
    "chars[:100]"
   ]
  },
  {
   "cell_type": "code",
   "execution_count": 8,
   "metadata": {
    "ExecuteTime": {
     "end_time": "2018-04-17T05:21:04.799158Z",
     "start_time": "2018-04-17T05:21:04.646754Z"
    }
   },
   "outputs": [
    {
     "data": {
      "text/plain": [
       "'\\x00\\x00\\n !\"\\'(),-.0123456789:;=?ABCDEFGHIJKLMNOPQRSTUVWXYZ[]_abcdefghijklmnopqrstuvwxy'"
      ]
     },
     "execution_count": 8,
     "metadata": {},
     "output_type": "execute_result"
    }
   ],
   "source": [
    "chars.insert(0, \"\\0\")\n",
    "\n",
    "''.join(chars[0:-6])"
   ]
  },
  {
   "cell_type": "markdown",
   "metadata": {},
   "source": [
    "Map from chars to indices and back again"
   ]
  },
  {
   "cell_type": "code",
   "execution_count": 9,
   "metadata": {
    "ExecuteTime": {
     "end_time": "2018-04-17T05:21:18.169759Z",
     "start_time": "2018-04-17T05:21:17.970228Z"
    }
   },
   "outputs": [],
   "source": [
    "char_indices = {c: i for i, c in enumerate(chars)}\n",
    "indices_char = {i: c for i, c in enumerate(chars)}"
   ]
  },
  {
   "cell_type": "markdown",
   "metadata": {},
   "source": [
    "*idx* will be the data we use from now on - it simply converts all the characters to their index (based on the mapping above)"
   ]
  },
  {
   "cell_type": "code",
   "execution_count": 10,
   "metadata": {
    "ExecuteTime": {
     "end_time": "2018-04-17T05:21:19.077292Z",
     "start_time": "2018-04-17T05:21:18.861724Z"
    }
   },
   "outputs": [
    {
     "data": {
      "text/plain": [
       "[41, 43, 30, 31, 26, 28, 30, 2, 2, 2]"
      ]
     },
     "execution_count": 10,
     "metadata": {},
     "output_type": "execute_result"
    }
   ],
   "source": [
    "idx = [char_indices[c] for c in text]\n",
    "\n",
    "idx[:10]"
   ]
  },
  {
   "cell_type": "code",
   "execution_count": 13,
   "metadata": {
    "ExecuteTime": {
     "end_time": "2018-04-17T05:21:34.212092Z",
     "start_time": "2018-04-17T05:21:34.060691Z"
    }
   },
   "outputs": [
    {
     "data": {
      "text/plain": [
       "600893"
      ]
     },
     "execution_count": 13,
     "metadata": {},
     "output_type": "execute_result"
    }
   ],
   "source": [
    "len(idx)"
   ]
  },
  {
   "cell_type": "code",
   "execution_count": 11,
   "metadata": {
    "ExecuteTime": {
     "end_time": "2018-04-17T05:21:19.834938Z",
     "start_time": "2018-04-17T05:21:19.681534Z"
    }
   },
   "outputs": [
    {
     "data": {
      "text/plain": [
       "'PREFACE\\n\\n\\nSUPPOSING that Truth is a woman--what then? Is there not gro'"
      ]
     },
     "execution_count": 11,
     "metadata": {},
     "output_type": "execute_result"
    }
   ],
   "source": [
    "''.join(indices_char[i] for i in idx[:70])"
   ]
  },
  {
   "cell_type": "markdown",
   "metadata": {},
   "source": [
    "## Three char model"
   ]
  },
  {
   "cell_type": "markdown",
   "metadata": {},
   "source": [
    "### Create inputs"
   ]
  },
  {
   "cell_type": "markdown",
   "metadata": {},
   "source": [
    "Create a list of every 4th character, starting at the 0th, 1st, 2nd, then 3rd characters"
   ]
  },
  {
   "cell_type": "code",
   "execution_count": 14,
   "metadata": {
    "ExecuteTime": {
     "end_time": "2018-04-17T05:21:52.084563Z",
     "start_time": "2018-04-17T05:21:51.828828Z"
    }
   },
   "outputs": [],
   "source": [
    "cs=3\n",
    "c1_dat = [idx[i]   for i in range(0, len(idx)-cs, cs)]\n",
    "c2_dat = [idx[i+1] for i in range(0, len(idx)-cs, cs)]\n",
    "c3_dat = [idx[i+2] for i in range(0, len(idx)-cs, cs)]\n",
    "c4_dat = [idx[i+3] for i in range(0, len(idx)-cs, cs)]"
   ]
  },
  {
   "cell_type": "code",
   "execution_count": 15,
   "metadata": {
    "ExecuteTime": {
     "end_time": "2018-04-17T05:21:52.403031Z",
     "start_time": "2018-04-17T05:21:52.246617Z"
    }
   },
   "outputs": [
    {
     "data": {
      "text/plain": [
       "([41, 31, 30, 2, 41, 44, 32, 62, 3, 75],\n",
       " [43, 26, 2, 44, 41, 34, 3, 55, 45, 74],\n",
       " [30, 28, 2, 46, 40, 39, 74, 74, 72, 62])"
      ]
     },
     "execution_count": 15,
     "metadata": {},
     "output_type": "execute_result"
    }
   ],
   "source": [
    "(c1_dat[:10],\n",
    "c2_dat[:10],\n",
    "c3_dat[:10])"
   ]
  },
  {
   "cell_type": "markdown",
   "metadata": {},
   "source": [
    "Our inputs"
   ]
  },
  {
   "cell_type": "code",
   "execution_count": 16,
   "metadata": {
    "ExecuteTime": {
     "end_time": "2018-04-17T05:21:53.874242Z",
     "start_time": "2018-04-17T05:21:52.687093Z"
    }
   },
   "outputs": [],
   "source": [
    "x1 = np.stack(c1_dat)\n",
    "x2 = np.stack(c2_dat)\n",
    "x3 = np.stack(c3_dat)"
   ]
  },
  {
   "cell_type": "markdown",
   "metadata": {},
   "source": [
    "Our output"
   ]
  },
  {
   "cell_type": "code",
   "execution_count": 17,
   "metadata": {
    "ExecuteTime": {
     "end_time": "2018-04-17T05:21:55.305991Z",
     "start_time": "2018-04-17T05:21:54.816628Z"
    }
   },
   "outputs": [],
   "source": [
    "y = np.stack(c4_dat)"
   ]
  },
  {
   "cell_type": "code",
   "execution_count": 18,
   "metadata": {
    "ExecuteTime": {
     "end_time": "2018-04-17T05:21:56.098514Z",
     "start_time": "2018-04-17T05:21:55.900988Z"
    }
   },
   "outputs": [
    {
     "data": {
      "text/plain": [
       "[31, 30, 2, 41, 44, 32, 62, 3, 75, 3]"
      ]
     },
     "execution_count": 18,
     "metadata": {},
     "output_type": "execute_result"
    }
   ],
   "source": [
    "c4_dat[:10]"
   ]
  },
  {
   "cell_type": "code",
   "execution_count": 19,
   "metadata": {
    "ExecuteTime": {
     "end_time": "2018-04-17T05:21:56.927712Z",
     "start_time": "2018-04-17T05:21:56.746230Z"
    }
   },
   "outputs": [
    {
     "data": {
      "text/plain": [
       "array([31, 30,  2, 41, 44, 32, 62,  3, 75,  3])"
      ]
     },
     "execution_count": 19,
     "metadata": {},
     "output_type": "execute_result"
    }
   ],
   "source": [
    "y[:10]"
   ]
  },
  {
   "cell_type": "markdown",
   "metadata": {},
   "source": [
    "The first 4 inputs and outputs"
   ]
  },
  {
   "cell_type": "code",
   "execution_count": 20,
   "metadata": {
    "ExecuteTime": {
     "end_time": "2018-04-17T05:21:58.206192Z",
     "start_time": "2018-04-17T05:21:58.023708Z"
    },
    "scrolled": true
   },
   "outputs": [
    {
     "data": {
      "text/plain": [
       "(array([41, 31, 30,  2]), array([43, 26,  2, 44]), array([30, 28,  2, 46]))"
      ]
     },
     "execution_count": 20,
     "metadata": {},
     "output_type": "execute_result"
    }
   ],
   "source": [
    "x1[:4], x2[:4], x3[:4]"
   ]
  },
  {
   "cell_type": "code",
   "execution_count": 21,
   "metadata": {
    "ExecuteTime": {
     "end_time": "2018-04-17T05:21:58.501976Z",
     "start_time": "2018-04-17T05:21:58.336540Z"
    }
   },
   "outputs": [
    {
     "data": {
      "text/plain": [
       "array([31, 30,  2, 41])"
      ]
     },
     "execution_count": 21,
     "metadata": {},
     "output_type": "execute_result"
    }
   ],
   "source": [
    "y[:4]"
   ]
  },
  {
   "cell_type": "code",
   "execution_count": 22,
   "metadata": {
    "ExecuteTime": {
     "end_time": "2018-04-17T05:21:59.203336Z",
     "start_time": "2018-04-17T05:21:59.025853Z"
    }
   },
   "outputs": [
    {
     "data": {
      "text/plain": [
       "((200297,), (200297,))"
      ]
     },
     "execution_count": 22,
     "metadata": {},
     "output_type": "execute_result"
    }
   ],
   "source": [
    "x1.shape, y.shape"
   ]
  },
  {
   "cell_type": "markdown",
   "metadata": {},
   "source": [
    "### Create and train model"
   ]
  },
  {
   "cell_type": "markdown",
   "metadata": {},
   "source": [
    "Pick a size for our hidden state"
   ]
  },
  {
   "cell_type": "code",
   "execution_count": 19,
   "metadata": {
    "ExecuteTime": {
     "end_time": "2018-04-16T16:08:22.751514Z",
     "start_time": "2018-04-16T16:08:22.595075Z"
    }
   },
   "outputs": [],
   "source": [
    "n_hidden = 256"
   ]
  },
  {
   "cell_type": "markdown",
   "metadata": {},
   "source": [
    "The number of latent factors to create (i.e. the size of the embedding matrix)"
   ]
  },
  {
   "cell_type": "code",
   "execution_count": 20,
   "metadata": {
    "ExecuteTime": {
     "end_time": "2018-04-16T16:08:23.229838Z",
     "start_time": "2018-04-16T16:08:23.074416Z"
    }
   },
   "outputs": [],
   "source": [
    "n_fac = 42"
   ]
  },
  {
   "cell_type": "code",
   "execution_count": 21,
   "metadata": {
    "ExecuteTime": {
     "end_time": "2018-04-16T16:08:23.522651Z",
     "start_time": "2018-04-16T16:08:23.327119Z"
    }
   },
   "outputs": [],
   "source": [
    "class Char3Model(nn.Module):\n",
    "    def __init__(self, vocab_size, n_fac):\n",
    "        super().__init__()\n",
    "        self.e = nn.Embedding(vocab_size, n_fac)\n",
    "\n",
    "        # The 'green arrow' from our diagram - the layer operation from input to hidden\n",
    "        self.l_in = nn.Linear(n_fac, n_hidden)\n",
    "\n",
    "        # The 'orange arrow' from our diagram - the layer operation from hidden to hidden\n",
    "        self.l_hidden = nn.Linear(n_hidden, n_hidden)\n",
    "        \n",
    "        # The 'blue arrow' from our diagram - the layer operation from hidden to output\n",
    "        self.l_out = nn.Linear(n_hidden, vocab_size)\n",
    "        \n",
    "    def forward(self, c1, c2, c3):\n",
    "        in1 = F.relu(self.l_in(self.e(c1)))\n",
    "        in2 = F.relu(self.l_in(self.e(c2)))\n",
    "        in3 = F.relu(self.l_in(self.e(c3)))\n",
    "        \n",
    "        h = V(torch.zeros(in1.size()).cuda())\n",
    "        h = F.tanh(self.l_hidden(h+in1))\n",
    "        h = F.tanh(self.l_hidden(h+in2))\n",
    "        h = F.tanh(self.l_hidden(h+in3))\n",
    "        \n",
    "        return F.log_softmax(self.l_out(h))"
   ]
  },
  {
   "cell_type": "code",
   "execution_count": 22,
   "metadata": {
    "ExecuteTime": {
     "end_time": "2018-04-16T16:08:27.292423Z",
     "start_time": "2018-04-16T16:08:27.165101Z"
    }
   },
   "outputs": [],
   "source": [
    "md = ColumnarModelData.from_arrays('.', [-1], np.stack([x1,x2,x3], axis=1), y, bs=512)"
   ]
  },
  {
   "cell_type": "code",
   "execution_count": 34,
   "metadata": {
    "ExecuteTime": {
     "end_time": "2018-04-15T11:53:48.425828Z",
     "start_time": "2018-04-15T11:53:41.563928Z"
    }
   },
   "outputs": [
    {
     "name": "stderr",
     "output_type": "stream",
     "text": [
      "C:\\Users\\NokChan\\Anaconda3\\envs\\fastai\\lib\\site-packages\\torch\\cuda\\__init__.py:116: UserWarning: \n",
      "    Found GPU0 GeForce 930M which is of cuda capability 5.0.\n",
      "    PyTorch no longer supports this GPU because it is too old.\n",
      "    \n",
      "  warnings.warn(old_gpu_warn % (d, name, major, capability[1]))\n"
     ]
    }
   ],
   "source": [
    "m = Char3Model(vocab_size, n_fac).cuda()"
   ]
  },
  {
   "cell_type": "code",
   "execution_count": 35,
   "metadata": {
    "ExecuteTime": {
     "end_time": "2018-04-15T11:53:50.126428Z",
     "start_time": "2018-04-15T11:53:48.428856Z"
    }
   },
   "outputs": [],
   "source": [
    "it = iter(md.trn_dl)\n",
    "*xs,yt = next(it)\n",
    "t = m(*V(xs))"
   ]
  },
  {
   "cell_type": "code",
   "execution_count": 36,
   "metadata": {
    "ExecuteTime": {
     "end_time": "2018-04-15T11:53:50.604613Z",
     "start_time": "2018-04-15T11:53:50.128574Z"
    }
   },
   "outputs": [],
   "source": [
    "opt = optim.Adam(m.parameters(), 1e-2)"
   ]
  },
  {
   "cell_type": "code",
   "execution_count": 37,
   "metadata": {
    "ExecuteTime": {
     "end_time": "2018-04-15T11:54:00.574650Z",
     "start_time": "2018-04-15T11:53:50.608823Z"
    }
   },
   "outputs": [
    {
     "data": {
      "application/vnd.jupyter.widget-view+json": {
       "model_id": "bac35f38d4b549df9fc3343ea47cce67",
       "version_major": 2,
       "version_minor": 0
      },
      "text/html": [
       "<p>Failed to display Jupyter Widget of type <code>HBox</code>.</p>\n",
       "<p>\n",
       "  If you're reading this message in the Jupyter Notebook or JupyterLab Notebook, it may mean\n",
       "  that the widgets JavaScript is still loading. If this message persists, it\n",
       "  likely means that the widgets JavaScript library is either not installed or\n",
       "  not enabled. See the <a href=\"https://ipywidgets.readthedocs.io/en/stable/user_install.html\">Jupyter\n",
       "  Widgets Documentation</a> for setup instructions.\n",
       "</p>\n",
       "<p>\n",
       "  If you're reading this message in another frontend (for example, a static\n",
       "  rendering on GitHub or <a href=\"https://nbviewer.jupyter.org/\">NBViewer</a>),\n",
       "  it may mean that your frontend doesn't currently support widgets.\n",
       "</p>\n"
      ],
      "text/plain": [
       "HBox(children=(IntProgress(value=0, description='Epoch', max=1), HTML(value='')))"
      ]
     },
     "metadata": {},
     "output_type": "display_data"
    },
    {
     "name": "stdout",
     "output_type": "stream",
     "text": [
      "epoch      trn_loss   val_loss                              \n",
      "    0      2.073258   1.163918  \n",
      "\n"
     ]
    },
    {
     "data": {
      "text/plain": [
       "[1.1639175415039062]"
      ]
     },
     "execution_count": 37,
     "metadata": {},
     "output_type": "execute_result"
    }
   ],
   "source": [
    "fit(m, md, 1, opt, F.nll_loss)"
   ]
  },
  {
   "cell_type": "code",
   "execution_count": 38,
   "metadata": {
    "ExecuteTime": {
     "end_time": "2018-04-15T11:54:01.004095Z",
     "start_time": "2018-04-15T11:54:00.577239Z"
    }
   },
   "outputs": [],
   "source": [
    "set_lrs(opt, 0.001)"
   ]
  },
  {
   "cell_type": "code",
   "execution_count": 40,
   "metadata": {
    "ExecuteTime": {
     "end_time": "2018-04-15T11:54:18.055368Z",
     "start_time": "2018-04-15T11:54:17.643725Z"
    }
   },
   "outputs": [],
   "source": [
    "??set_lrs"
   ]
  },
  {
   "cell_type": "code",
   "execution_count": 39,
   "metadata": {
    "ExecuteTime": {
     "end_time": "2018-04-15T11:54:10.979726Z",
     "start_time": "2018-04-15T11:54:01.010111Z"
    }
   },
   "outputs": [
    {
     "data": {
      "application/vnd.jupyter.widget-view+json": {
       "model_id": "2f78a1783fd14111b0594417353e426a",
       "version_major": 2,
       "version_minor": 0
      },
      "text/html": [
       "<p>Failed to display Jupyter Widget of type <code>HBox</code>.</p>\n",
       "<p>\n",
       "  If you're reading this message in the Jupyter Notebook or JupyterLab Notebook, it may mean\n",
       "  that the widgets JavaScript is still loading. If this message persists, it\n",
       "  likely means that the widgets JavaScript library is either not installed or\n",
       "  not enabled. See the <a href=\"https://ipywidgets.readthedocs.io/en/stable/user_install.html\">Jupyter\n",
       "  Widgets Documentation</a> for setup instructions.\n",
       "</p>\n",
       "<p>\n",
       "  If you're reading this message in another frontend (for example, a static\n",
       "  rendering on GitHub or <a href=\"https://nbviewer.jupyter.org/\">NBViewer</a>),\n",
       "  it may mean that your frontend doesn't currently support widgets.\n",
       "</p>\n"
      ],
      "text/plain": [
       "HBox(children=(IntProgress(value=0, description='Epoch', max=1), HTML(value='')))"
      ]
     },
     "metadata": {},
     "output_type": "display_data"
    },
    {
     "name": "stdout",
     "output_type": "stream",
     "text": [
      "epoch      trn_loss   val_loss                              \n",
      "    0      1.824655   0.631769  \n",
      "\n"
     ]
    },
    {
     "data": {
      "text/plain": [
       "[0.6317691802978516]"
      ]
     },
     "execution_count": 39,
     "metadata": {},
     "output_type": "execute_result"
    }
   ],
   "source": [
    "fit(m, md, 1, opt, F.nll_loss)"
   ]
  },
  {
   "cell_type": "markdown",
   "metadata": {},
   "source": [
    "### Test model"
   ]
  },
  {
   "cell_type": "code",
   "execution_count": 23,
   "metadata": {
    "ExecuteTime": {
     "end_time": "2018-04-16T16:08:50.135680Z",
     "start_time": "2018-04-16T16:08:49.997305Z"
    }
   },
   "outputs": [],
   "source": [
    "def get_next(inp):\n",
    "    idxs = T(np.array([char_indices[c] for c in inp]))\n",
    "    p = m(*VV(idxs))\n",
    "    i = np.argmax(to_np(p))\n",
    "    return chars[i]"
   ]
  },
  {
   "cell_type": "code",
   "execution_count": 24,
   "metadata": {
    "ExecuteTime": {
     "end_time": "2018-04-16T16:08:54.148847Z",
     "start_time": "2018-04-16T16:08:50.483440Z"
    },
    "scrolled": false
   },
   "outputs": [
    {
     "name": "stderr",
     "output_type": "stream",
     "text": [
      "C:\\Users\\NokChan\\Anaconda3\\envs\\fastai\\lib\\site-packages\\torch\\cuda\\__init__.py:116: UserWarning: \n",
      "    Found GPU0 GeForce 930M which is of cuda capability 5.0.\n",
      "    PyTorch no longer supports this GPU because it is too old.\n",
      "    \n",
      "  warnings.warn(old_gpu_warn % (d, name, major, capability[1]))\n"
     ]
    },
    {
     "ename": "NameError",
     "evalue": "name 'm' is not defined",
     "output_type": "error",
     "traceback": [
      "\u001b[1;31m---------------------------------------------------------------------------\u001b[0m",
      "\u001b[1;31mNameError\u001b[0m                                 Traceback (most recent call last)",
      "\u001b[1;32m<ipython-input-24-3569d09dd14a>\u001b[0m in \u001b[0;36m<module>\u001b[1;34m()\u001b[0m\n\u001b[1;32m----> 1\u001b[1;33m \u001b[0mget_next\u001b[0m\u001b[1;33m(\u001b[0m\u001b[1;34m'y. '\u001b[0m\u001b[1;33m)\u001b[0m\u001b[1;33m\u001b[0m\u001b[0m\n\u001b[0m",
      "\u001b[1;32m<ipython-input-23-c90156cc3c5a>\u001b[0m in \u001b[0;36mget_next\u001b[1;34m(inp)\u001b[0m\n\u001b[0;32m      1\u001b[0m \u001b[1;32mdef\u001b[0m \u001b[0mget_next\u001b[0m\u001b[1;33m(\u001b[0m\u001b[0minp\u001b[0m\u001b[1;33m)\u001b[0m\u001b[1;33m:\u001b[0m\u001b[1;33m\u001b[0m\u001b[0m\n\u001b[0;32m      2\u001b[0m     \u001b[0midxs\u001b[0m \u001b[1;33m=\u001b[0m \u001b[0mT\u001b[0m\u001b[1;33m(\u001b[0m\u001b[0mnp\u001b[0m\u001b[1;33m.\u001b[0m\u001b[0marray\u001b[0m\u001b[1;33m(\u001b[0m\u001b[1;33m[\u001b[0m\u001b[0mchar_indices\u001b[0m\u001b[1;33m[\u001b[0m\u001b[0mc\u001b[0m\u001b[1;33m]\u001b[0m \u001b[1;32mfor\u001b[0m \u001b[0mc\u001b[0m \u001b[1;32min\u001b[0m \u001b[0minp\u001b[0m\u001b[1;33m]\u001b[0m\u001b[1;33m)\u001b[0m\u001b[1;33m)\u001b[0m\u001b[1;33m\u001b[0m\u001b[0m\n\u001b[1;32m----> 3\u001b[1;33m     \u001b[0mp\u001b[0m \u001b[1;33m=\u001b[0m \u001b[0mm\u001b[0m\u001b[1;33m(\u001b[0m\u001b[1;33m*\u001b[0m\u001b[0mVV\u001b[0m\u001b[1;33m(\u001b[0m\u001b[0midxs\u001b[0m\u001b[1;33m)\u001b[0m\u001b[1;33m)\u001b[0m\u001b[1;33m\u001b[0m\u001b[0m\n\u001b[0m\u001b[0;32m      4\u001b[0m     \u001b[0mi\u001b[0m \u001b[1;33m=\u001b[0m \u001b[0mnp\u001b[0m\u001b[1;33m.\u001b[0m\u001b[0margmax\u001b[0m\u001b[1;33m(\u001b[0m\u001b[0mto_np\u001b[0m\u001b[1;33m(\u001b[0m\u001b[0mp\u001b[0m\u001b[1;33m)\u001b[0m\u001b[1;33m)\u001b[0m\u001b[1;33m\u001b[0m\u001b[0m\n\u001b[0;32m      5\u001b[0m     \u001b[1;32mreturn\u001b[0m \u001b[0mchars\u001b[0m\u001b[1;33m[\u001b[0m\u001b[0mi\u001b[0m\u001b[1;33m]\u001b[0m\u001b[1;33m\u001b[0m\u001b[0m\n",
      "\u001b[1;31mNameError\u001b[0m: name 'm' is not defined"
     ]
    }
   ],
   "source": [
    "get_next('y. ')"
   ]
  },
  {
   "cell_type": "code",
   "execution_count": 48,
   "metadata": {
    "ExecuteTime": {
     "end_time": "2018-04-15T11:56:03.223960Z",
     "start_time": "2018-04-15T11:56:02.771920Z"
    },
    "scrolled": false
   },
   "outputs": [
    {
     "data": {
      "text/plain": [
       "'e'"
      ]
     },
     "execution_count": 48,
     "metadata": {},
     "output_type": "execute_result"
    }
   ],
   "source": [
    "get_next('ppl')"
   ]
  },
  {
   "cell_type": "code",
   "execution_count": 49,
   "metadata": {
    "ExecuteTime": {
     "end_time": "2018-04-15T11:56:07.111853Z",
     "start_time": "2018-04-15T11:56:06.665958Z"
    }
   },
   "outputs": [
    {
     "data": {
      "text/plain": [
       "'e'"
      ]
     },
     "execution_count": 49,
     "metadata": {},
     "output_type": "execute_result"
    }
   ],
   "source": [
    "get_next(' th')"
   ]
  },
  {
   "cell_type": "code",
   "execution_count": 50,
   "metadata": {
    "ExecuteTime": {
     "end_time": "2018-04-15T11:56:09.197401Z",
     "start_time": "2018-04-15T11:56:08.761506Z"
    }
   },
   "outputs": [
    {
     "data": {
      "text/plain": [
       "' '"
      ]
     },
     "execution_count": 50,
     "metadata": {},
     "output_type": "execute_result"
    }
   ],
   "source": [
    "get_next('and')"
   ]
  },
  {
   "cell_type": "markdown",
   "metadata": {},
   "source": [
    "## Our first RNN!"
   ]
  },
  {
   "cell_type": "markdown",
   "metadata": {},
   "source": [
    "### Create inputs"
   ]
  },
  {
   "cell_type": "markdown",
   "metadata": {},
   "source": [
    "This is the size of our unrolled RNN."
   ]
  },
  {
   "cell_type": "code",
   "execution_count": 23,
   "metadata": {
    "ExecuteTime": {
     "end_time": "2018-04-17T05:23:20.145734Z",
     "start_time": "2018-04-17T05:23:19.961245Z"
    }
   },
   "outputs": [],
   "source": [
    "cs=8"
   ]
  },
  {
   "cell_type": "markdown",
   "metadata": {},
   "source": [
    "For each of 0 through 7, create a list of every 8th character with that starting point. These will be the 8 inputs to our model."
   ]
  },
  {
   "cell_type": "code",
   "execution_count": 29,
   "metadata": {
    "ExecuteTime": {
     "end_time": "2018-04-17T05:24:19.426779Z",
     "start_time": "2018-04-17T05:24:19.269360Z"
    }
   },
   "outputs": [
    {
     "data": {
      "text/plain": [
       "600885"
      ]
     },
     "execution_count": 29,
     "metadata": {},
     "output_type": "execute_result"
    }
   ],
   "source": [
    "len(idx)-cs"
   ]
  },
  {
   "cell_type": "code",
   "execution_count": 24,
   "metadata": {
    "ExecuteTime": {
     "end_time": "2018-04-17T05:23:21.592593Z",
     "start_time": "2018-04-17T05:23:20.358318Z"
    }
   },
   "outputs": [],
   "source": [
    "c_in_dat = [[idx[i+j] for i in range(cs)] for j in range(len(idx)-cs)]"
   ]
  },
  {
   "cell_type": "markdown",
   "metadata": {},
   "source": [
    "Then create a list of the next character in each of these series. This will be the labels for our model."
   ]
  },
  {
   "cell_type": "code",
   "execution_count": 25,
   "metadata": {
    "ExecuteTime": {
     "end_time": "2018-04-17T05:23:21.817189Z",
     "start_time": "2018-04-17T05:23:21.593596Z"
    }
   },
   "outputs": [],
   "source": [
    "c_out_dat = [idx[j+cs] for j in range(len(idx)-cs)]"
   ]
  },
  {
   "cell_type": "code",
   "execution_count": 26,
   "metadata": {
    "ExecuteTime": {
     "end_time": "2018-04-17T05:23:23.820505Z",
     "start_time": "2018-04-17T05:23:21.818192Z"
    }
   },
   "outputs": [],
   "source": [
    "xs = np.stack(c_in_dat, axis=0)"
   ]
  },
  {
   "cell_type": "code",
   "execution_count": 27,
   "metadata": {
    "ExecuteTime": {
     "end_time": "2018-04-17T05:23:24.012012Z",
     "start_time": "2018-04-17T05:23:23.822510Z"
    }
   },
   "outputs": [
    {
     "data": {
      "text/plain": [
       "array([[41, 43, 30, ..., 28, 30,  2],\n",
       "       [43, 30, 31, ..., 30,  2,  2],\n",
       "       [30, 31, 26, ...,  2,  2,  2],\n",
       "       ...,\n",
       "       [73, 63, 68, ..., 66, 68, 59],\n",
       "       [63, 68, 60, ..., 68, 59, 73],\n",
       "       [68, 60, 75, ..., 59, 73, 73]])"
      ]
     },
     "execution_count": 27,
     "metadata": {},
     "output_type": "execute_result"
    }
   ],
   "source": [
    "xs"
   ]
  },
  {
   "cell_type": "code",
   "execution_count": 32,
   "metadata": {
    "ExecuteTime": {
     "end_time": "2018-04-16T16:09:15.879248Z",
     "start_time": "2018-04-16T16:09:15.735861Z"
    }
   },
   "outputs": [
    {
     "data": {
      "text/plain": [
       "(600885, 8)"
      ]
     },
     "execution_count": 32,
     "metadata": {},
     "output_type": "execute_result"
    }
   ],
   "source": [
    "xs.shape"
   ]
  },
  {
   "cell_type": "code",
   "execution_count": 33,
   "metadata": {
    "ExecuteTime": {
     "end_time": "2018-04-16T16:09:17.277565Z",
     "start_time": "2018-04-16T16:09:15.882257Z"
    }
   },
   "outputs": [],
   "source": [
    "y = np.stack(c_out_dat)"
   ]
  },
  {
   "cell_type": "code",
   "execution_count": 34,
   "metadata": {
    "ExecuteTime": {
     "end_time": "2018-04-16T16:09:17.441548Z",
     "start_time": "2018-04-16T16:09:17.277565Z"
    }
   },
   "outputs": [
    {
     "data": {
      "text/plain": [
       "array([ 1,  1, 43, ..., 72, 72, 10])"
      ]
     },
     "execution_count": 34,
     "metadata": {},
     "output_type": "execute_result"
    }
   ],
   "source": [
    "y"
   ]
  },
  {
   "cell_type": "markdown",
   "metadata": {},
   "source": [
    "So each column below is one series of 8 characters from the text."
   ]
  },
  {
   "cell_type": "code",
   "execution_count": 35,
   "metadata": {
    "ExecuteTime": {
     "end_time": "2018-04-16T16:09:17.578916Z",
     "start_time": "2018-04-16T16:09:17.444555Z"
    }
   },
   "outputs": [
    {
     "data": {
      "text/plain": [
       "array([[40, 42, 29, 30, 25, 27, 29,  1],\n",
       "       [42, 29, 30, 25, 27, 29,  1,  1],\n",
       "       [29, 30, 25, 27, 29,  1,  1,  1],\n",
       "       [30, 25, 27, 29,  1,  1,  1, 43],\n",
       "       [25, 27, 29,  1,  1,  1, 43, 45],\n",
       "       [27, 29,  1,  1,  1, 43, 45, 40],\n",
       "       [29,  1,  1,  1, 43, 45, 40, 40],\n",
       "       [ 1,  1,  1, 43, 45, 40, 40, 39]])"
      ]
     },
     "execution_count": 35,
     "metadata": {},
     "output_type": "execute_result"
    }
   ],
   "source": [
    "xs[:cs,:cs]"
   ]
  },
  {
   "cell_type": "markdown",
   "metadata": {},
   "source": [
    "...and this is the next character after each sequence."
   ]
  },
  {
   "cell_type": "code",
   "execution_count": 36,
   "metadata": {
    "ExecuteTime": {
     "end_time": "2018-04-16T16:09:19.869886Z",
     "start_time": "2018-04-16T16:09:19.743446Z"
    }
   },
   "outputs": [
    {
     "data": {
      "text/plain": [
       "array([ 1,  1, 43, 45, 40, 40, 39, 43])"
      ]
     },
     "execution_count": 36,
     "metadata": {},
     "output_type": "execute_result"
    }
   ],
   "source": [
    "y[:cs]"
   ]
  },
  {
   "cell_type": "markdown",
   "metadata": {},
   "source": [
    "### Create and train model"
   ]
  },
  {
   "cell_type": "code",
   "execution_count": 37,
   "metadata": {
    "ExecuteTime": {
     "end_time": "2018-04-16T16:09:20.721141Z",
     "start_time": "2018-04-16T16:09:20.575831Z"
    }
   },
   "outputs": [],
   "source": [
    "val_idx = get_cv_idxs(len(idx)-cs-1)"
   ]
  },
  {
   "cell_type": "code",
   "execution_count": 38,
   "metadata": {
    "ExecuteTime": {
     "end_time": "2018-04-16T16:09:21.206845Z",
     "start_time": "2018-04-16T16:09:21.021347Z"
    }
   },
   "outputs": [],
   "source": [
    "md = ColumnarModelData.from_arrays('.', val_idx, xs, y, bs=512)"
   ]
  },
  {
   "cell_type": "code",
   "execution_count": 39,
   "metadata": {
    "ExecuteTime": {
     "end_time": "2018-04-16T16:09:21.549765Z",
     "start_time": "2018-04-16T16:09:21.400855Z"
    }
   },
   "outputs": [],
   "source": [
    "class CharLoopModel(nn.Module):\n",
    "    # This is an RNN!\n",
    "    def __init__(self, vocab_size, n_fac):\n",
    "        super().__init__()\n",
    "        self.e = nn.Embedding(vocab_size, n_fac)\n",
    "        self.l_in = nn.Linear(n_fac, n_hidden)\n",
    "        self.l_hidden = nn.Linear(n_hidden, n_hidden)\n",
    "        self.l_out = nn.Linear(n_hidden, vocab_size)\n",
    "        \n",
    "    def forward(self, *cs):\n",
    "        bs = cs[0].size(0)\n",
    "        h = V(torch.zeros(bs, n_hidden).cuda())\n",
    "        for c in cs:\n",
    "            inp = F.relu(self.l_in(self.e(c)))\n",
    "            h = F.tanh(self.l_hidden(h+inp))\n",
    "        \n",
    "        return F.log_softmax(self.l_out(h), dim=-1)"
   ]
  },
  {
   "cell_type": "code",
   "execution_count": null,
   "metadata": {
    "ExecuteTime": {
     "end_time": "2018-04-16T16:09:22.288818Z",
     "start_time": "2018-04-16T16:09:22.144925Z"
    }
   },
   "outputs": [],
   "source": []
  },
  {
   "cell_type": "code",
   "execution_count": 41,
   "metadata": {
    "ExecuteTime": {
     "end_time": "2018-04-16T16:09:30.182422Z",
     "start_time": "2018-04-16T16:09:29.373050Z"
    }
   },
   "outputs": [],
   "source": [
    "m = CharLoopModel(vocab_size, n_fac).cuda()\n",
    "opt = optim.Adam(m.parameters(), 1e-2)"
   ]
  },
  {
   "cell_type": "code",
   "execution_count": 65,
   "metadata": {
    "ExecuteTime": {
     "end_time": "2018-04-15T11:58:39.070256Z",
     "start_time": "2018-04-15T11:57:54.655244Z"
    }
   },
   "outputs": [
    {
     "data": {
      "application/vnd.jupyter.widget-view+json": {
       "model_id": "8bc371984f434afb940cd30f69e044f9",
       "version_major": 2,
       "version_minor": 0
      },
      "text/html": [
       "<p>Failed to display Jupyter Widget of type <code>HBox</code>.</p>\n",
       "<p>\n",
       "  If you're reading this message in the Jupyter Notebook or JupyterLab Notebook, it may mean\n",
       "  that the widgets JavaScript is still loading. If this message persists, it\n",
       "  likely means that the widgets JavaScript library is either not installed or\n",
       "  not enabled. See the <a href=\"https://ipywidgets.readthedocs.io/en/stable/user_install.html\">Jupyter\n",
       "  Widgets Documentation</a> for setup instructions.\n",
       "</p>\n",
       "<p>\n",
       "  If you're reading this message in another frontend (for example, a static\n",
       "  rendering on GitHub or <a href=\"https://nbviewer.jupyter.org/\">NBViewer</a>),\n",
       "  it may mean that your frontend doesn't currently support widgets.\n",
       "</p>\n"
      ],
      "text/plain": [
       "HBox(children=(IntProgress(value=0, description='Epoch', max=1), HTML(value='')))"
      ]
     },
     "metadata": {},
     "output_type": "display_data"
    },
    {
     "name": "stdout",
     "output_type": "stream",
     "text": [
      "epoch      trn_loss   val_loss                              \n",
      "    0      2.007229   1.989802  \n",
      "\n"
     ]
    },
    {
     "data": {
      "text/plain": [
       "[1.9898024265275085]"
      ]
     },
     "execution_count": 65,
     "metadata": {},
     "output_type": "execute_result"
    }
   ],
   "source": [
    "fit(m, md, 1, opt, F.nll_loss)"
   ]
  },
  {
   "cell_type": "code",
   "execution_count": 66,
   "metadata": {
    "ExecuteTime": {
     "end_time": "2018-04-15T11:58:39.575117Z",
     "start_time": "2018-04-15T11:58:39.075077Z"
    }
   },
   "outputs": [],
   "source": [
    "set_lrs(opt, 0.001)"
   ]
  },
  {
   "cell_type": "code",
   "execution_count": 67,
   "metadata": {
    "ExecuteTime": {
     "end_time": "2018-04-15T11:59:23.830603Z",
     "start_time": "2018-04-15T11:58:39.579629Z"
    }
   },
   "outputs": [
    {
     "data": {
      "application/vnd.jupyter.widget-view+json": {
       "model_id": "04ea8495c6e341bab8d1f6dcfa8a800c",
       "version_major": 2,
       "version_minor": 0
      },
      "text/html": [
       "<p>Failed to display Jupyter Widget of type <code>HBox</code>.</p>\n",
       "<p>\n",
       "  If you're reading this message in the Jupyter Notebook or JupyterLab Notebook, it may mean\n",
       "  that the widgets JavaScript is still loading. If this message persists, it\n",
       "  likely means that the widgets JavaScript library is either not installed or\n",
       "  not enabled. See the <a href=\"https://ipywidgets.readthedocs.io/en/stable/user_install.html\">Jupyter\n",
       "  Widgets Documentation</a> for setup instructions.\n",
       "</p>\n",
       "<p>\n",
       "  If you're reading this message in another frontend (for example, a static\n",
       "  rendering on GitHub or <a href=\"https://nbviewer.jupyter.org/\">NBViewer</a>),\n",
       "  it may mean that your frontend doesn't currently support widgets.\n",
       "</p>\n"
      ],
      "text/plain": [
       "HBox(children=(IntProgress(value=0, description='Epoch', max=1), HTML(value='')))"
      ]
     },
     "metadata": {},
     "output_type": "display_data"
    },
    {
     "name": "stdout",
     "output_type": "stream",
     "text": [
      "epoch      trn_loss   val_loss                              \n",
      "    0      1.728301   1.714505  \n",
      "\n"
     ]
    },
    {
     "data": {
      "text/plain": [
       "[1.7145047643787454]"
      ]
     },
     "execution_count": 67,
     "metadata": {},
     "output_type": "execute_result"
    }
   ],
   "source": [
    "fit(m, md, 1, opt, F.nll_loss)"
   ]
  },
  {
   "cell_type": "code",
   "execution_count": 48,
   "metadata": {
    "ExecuteTime": {
     "end_time": "2018-04-16T16:10:35.111474Z",
     "start_time": "2018-04-16T16:10:34.951537Z"
    }
   },
   "outputs": [
    {
     "ename": "NameError",
     "evalue": "name 'bs' is not defined",
     "output_type": "error",
     "traceback": [
      "\u001b[1;31m---------------------------------------------------------------------------\u001b[0m",
      "\u001b[1;31mNameError\u001b[0m                                 Traceback (most recent call last)",
      "\u001b[1;32m<ipython-input-48-99771947f5fa>\u001b[0m in \u001b[0;36m<module>\u001b[1;34m()\u001b[0m\n\u001b[1;32m----> 1\u001b[1;33m \u001b[0mbs\u001b[0m\u001b[1;33m\u001b[0m\u001b[0m\n\u001b[0m",
      "\u001b[1;31mNameError\u001b[0m: name 'bs' is not defined"
     ]
    }
   ],
   "source": [
    "bs"
   ]
  },
  {
   "cell_type": "code",
   "execution_count": 52,
   "metadata": {
    "ExecuteTime": {
     "end_time": "2018-04-16T16:14:00.642963Z",
     "start_time": "2018-04-16T16:14:00.496566Z"
    }
   },
   "outputs": [],
   "source": [
    "class CharLoopConcatModel(nn.Module):\n",
    "    def __init__(self, vocab_size, n_fac):\n",
    "        super().__init__()\n",
    "        self.e = nn.Embedding(vocab_size, n_fac)\n",
    "        self.l_in = nn.Linear(n_fac+n_hidden, n_hidden)\n",
    "        self.l_hidden = nn.Linear(n_hidden, n_hidden)\n",
    "        self.l_out = nn.Linear(n_hidden, vocab_size)\n",
    "        \n",
    "    def forward(self, *cs):\n",
    "        bs = cs[0].size(0)\n",
    "        h = V(torch.zeros(bs, n_hidden).cuda())\n",
    "        for c in cs:\n",
    "            inp = torch.cat((h, self.e(c)), 1)\n",
    "            print(h.size())\n",
    "            print(c.size())\n",
    "            print(self.e(c).size())\n",
    "            print(c)\n",
    "            inp = F.relu(self.l_in(inp))\n",
    "            h = F.tanh(self.l_hidden(inp))\n",
    "        \n",
    "        return F.log_softmax(self.l_out(h), dim=-1)"
   ]
  },
  {
   "cell_type": "code",
   "execution_count": 53,
   "metadata": {
    "ExecuteTime": {
     "end_time": "2018-04-16T16:14:01.665675Z",
     "start_time": "2018-04-16T16:14:00.741015Z"
    }
   },
   "outputs": [],
   "source": [
    "m = CharLoopConcatModel(vocab_size, n_fac).cuda()\n",
    "opt = optim.Adam(m.parameters(), 1e-3)"
   ]
  },
  {
   "cell_type": "code",
   "execution_count": 54,
   "metadata": {
    "ExecuteTime": {
     "end_time": "2018-04-16T16:14:02.288537Z",
     "start_time": "2018-04-16T16:14:01.665675Z"
    }
   },
   "outputs": [
    {
     "name": "stdout",
     "output_type": "stream",
     "text": [
      "torch.Size([512, 256])\n",
      "torch.Size([512])\n",
      "torch.Size([512, 42])\n",
      "Variable containing:\n",
      "  1\n",
      "  9\n",
      "  2\n",
      " 73\n",
      " 72\n",
      " 36\n",
      " 67\n",
      " 71\n",
      " 68\n",
      "  2\n",
      "  2\n",
      " 71\n",
      " 58\n",
      " 67\n",
      " 63\n",
      " 67\n",
      " 68\n",
      " 58\n",
      " 23\n",
      " 67\n",
      "  2\n",
      " 58\n",
      " 56\n",
      " 73\n",
      " 58\n",
      " 72\n",
      " 74\n",
      "  2\n",
      "  1\n",
      " 73\n",
      " 67\n",
      " 56\n",
      " 68\n",
      " 61\n",
      " 61\n",
      " 58\n",
      " 68\n",
      " 72\n",
      "  2\n",
      "  1\n",
      " 58\n",
      " 58\n",
      " 73\n",
      " 21\n",
      " 72\n",
      " 62\n",
      " 67\n",
      " 67\n",
      " 59\n",
      " 65\n",
      " 72\n",
      " 78\n",
      " 72\n",
      " 61\n",
      " 62\n",
      " 54\n",
      "  2\n",
      " 47\n",
      "  2\n",
      " 68\n",
      " 62\n",
      " 54\n",
      " 56\n",
      " 68\n",
      " 54\n",
      " 72\n",
      "  1\n",
      " 59\n",
      "  2\n",
      " 72\n",
      " 67\n",
      " 68\n",
      " 73\n",
      " 54\n",
      " 62\n",
      "  2\n",
      "  2\n",
      " 67\n",
      " 58\n",
      " 62\n",
      " 68\n",
      " 56\n",
      "  2\n",
      " 57\n",
      " 61\n",
      " 71\n",
      " 73\n",
      "  2\n",
      "  2\n",
      " 54\n",
      "  2\n",
      "  2\n",
      " 54\n",
      " 10\n",
      " 58\n",
      " 65\n",
      " 58\n",
      " 33\n",
      " 61\n",
      "  2\n",
      " 62\n",
      " 67\n",
      " 73\n",
      " 67\n",
      " 72\n",
      " 65\n",
      " 56\n",
      " 67\n",
      " 73\n",
      "  2\n",
      "  2\n",
      " 61\n",
      " 59\n",
      " 67\n",
      " 73\n",
      " 67\n",
      " 67\n",
      " 72\n",
      " 10\n",
      " 58\n",
      "  8\n",
      "  2\n",
      " 68\n",
      " 66\n",
      " 54\n",
      " 60\n",
      " 54\n",
      " 54\n",
      "  2\n",
      " 73\n",
      " 69\n",
      " 10\n",
      " 62\n",
      " 68\n",
      " 59\n",
      " 62\n",
      " 72\n",
      " 60\n",
      " 55\n",
      " 68\n",
      "  2\n",
      " 37\n",
      "  2\n",
      " 68\n",
      " 54\n",
      " 62\n",
      "  8\n",
      " 77\n",
      " 71\n",
      " 62\n",
      " 58\n",
      " 65\n",
      " 73\n",
      " 72\n",
      " 74\n",
      "  2\n",
      " 73\n",
      " 61\n",
      " 62\n",
      " 58\n",
      " 61\n",
      " 66\n",
      " 71\n",
      " 71\n",
      " 67\n",
      " 65\n",
      " 74\n",
      " 68\n",
      " 61\n",
      " 58\n",
      " 54\n",
      "  2\n",
      " 58\n",
      " 71\n",
      " 62\n",
      " 56\n",
      " 75\n",
      " 54\n",
      " 72\n",
      "  2\n",
      " 67\n",
      " 67\n",
      " 10\n",
      " 57\n",
      " 72\n",
      " 66\n",
      " 67\n",
      " 59\n",
      " 69\n",
      " 65\n",
      " 56\n",
      " 58\n",
      "  8\n",
      " 66\n",
      " 68\n",
      " 10\n",
      "  2\n",
      "  2\n",
      "  2\n",
      " 75\n",
      " 58\n",
      " 68\n",
      "  2\n",
      " 73\n",
      " 62\n",
      " 58\n",
      " 61\n",
      " 73\n",
      " 62\n",
      " 24\n",
      " 58\n",
      " 55\n",
      " 72\n",
      " 62\n",
      " 22\n",
      " 58\n",
      " 54\n",
      " 54\n",
      " 72\n",
      " 66\n",
      " 57\n",
      "  2\n",
      " 55\n",
      "  8\n",
      " 71\n",
      " 68\n",
      " 68\n",
      " 73\n",
      " 10\n",
      " 56\n",
      " 64\n",
      " 73\n",
      " 72\n",
      " 62\n",
      " 61\n",
      " 58\n",
      " 68\n",
      "  2\n",
      " 78\n",
      "  2\n",
      "  2\n",
      " 58\n",
      " 25\n",
      " 67\n",
      "  2\n",
      " 71\n",
      " 59\n",
      " 54\n",
      " 73\n",
      "  1\n",
      "  2\n",
      "  1\n",
      "  1\n",
      " 71\n",
      " 58\n",
      " 71\n",
      "  2\n",
      "  2\n",
      " 73\n",
      " 62\n",
      "  2\n",
      " 72\n",
      " 71\n",
      " 69\n",
      " 58\n",
      " 61\n",
      " 58\n",
      " 67\n",
      "  2\n",
      "  2\n",
      " 68\n",
      " 68\n",
      "  2\n",
      " 62\n",
      "  2\n",
      " 62\n",
      " 73\n",
      " 72\n",
      " 59\n",
      " 58\n",
      " 76\n",
      " 56\n",
      " 58\n",
      " 68\n",
      " 60\n",
      " 71\n",
      " 65\n",
      " 61\n",
      " 67\n",
      " 59\n",
      " 73\n",
      " 58\n",
      " 72\n",
      " 78\n",
      " 68\n",
      " 65\n",
      " 72\n",
      " 54\n",
      "  2\n",
      " 57\n",
      " 73\n",
      "  2\n",
      " 68\n",
      " 73\n",
      "  2\n",
      " 73\n",
      " 73\n",
      " 72\n",
      " 66\n",
      " 54\n",
      " 58\n",
      " 72\n",
      " 57\n",
      " 72\n",
      " 61\n",
      " 54\n",
      "  2\n",
      "  8\n",
      " 67\n",
      " 72\n",
      " 58\n",
      " 60\n",
      " 65\n",
      " 58\n",
      " 66\n",
      " 71\n",
      " 58\n",
      "  2\n",
      " 67\n",
      " 76\n",
      " 68\n",
      " 56\n",
      " 66\n",
      " 54\n",
      "  2\n",
      " 59\n",
      " 71\n",
      " 61\n",
      " 68\n",
      " 67\n",
      " 71\n",
      " 72\n",
      " 58\n",
      " 61\n",
      " 65\n",
      " 55\n",
      " 73\n",
      " 55\n",
      " 71\n",
      " 67\n",
      "  2\n",
      "  2\n",
      " 44\n",
      " 73\n",
      " 60\n",
      "  9\n",
      "  2\n",
      " 72\n",
      "  9\n",
      " 58\n",
      "  2\n",
      " 65\n",
      "  2\n",
      " 68\n",
      " 58\n",
      " 78\n",
      " 73\n",
      "  2\n",
      " 58\n",
      " 31\n",
      "  8\n",
      " 60\n",
      " 78\n",
      " 72\n",
      " 68\n",
      " 61\n",
      "  2\n",
      " 58\n",
      " 73\n",
      " 68\n",
      " 58\n",
      " 65\n",
      " 71\n",
      " 59\n",
      " 68\n",
      " 58\n",
      " 56\n",
      " 74\n",
      "  2\n",
      " 67\n",
      "  2\n",
      " 58\n",
      " 72\n",
      " 62\n",
      "  2\n",
      "  2\n",
      " 73\n",
      "  2\n",
      " 57\n",
      " 58\n",
      " 65\n",
      "  2\n",
      " 54\n",
      " 56\n",
      " 61\n",
      " 58\n",
      " 57\n",
      "  2\n",
      " 68\n",
      "  2\n",
      " 34\n",
      " 78\n",
      " 59\n",
      " 56\n",
      " 67\n",
      "  2\n",
      " 65\n",
      " 75\n",
      " 55\n",
      "  2\n",
      " 65\n",
      " 58\n",
      " 61\n",
      " 74\n",
      "  1\n",
      "  2\n",
      " 57\n",
      " 61\n",
      " 78\n",
      " 71\n",
      " 57\n",
      "  2\n",
      " 58\n",
      " 54\n",
      " 72\n",
      " 62\n",
      " 72\n",
      " 60\n",
      " 76\n",
      "  2\n",
      "  2\n",
      " 73\n",
      " 24\n",
      " 54\n",
      "  2\n",
      " 71\n",
      " 57\n",
      " 54\n",
      " 57\n",
      " 57\n",
      " 68\n",
      " 56\n",
      " 67\n",
      " 67\n",
      " 73\n",
      " 54\n",
      " 73\n",
      " 71\n",
      "  2\n",
      " 59\n",
      " 61\n",
      " 73\n",
      " 68\n",
      " 73\n",
      "  2\n",
      " 65\n",
      " 67\n",
      " 58\n",
      " 58\n",
      "  2\n",
      " 58\n",
      " 68\n",
      " 75\n",
      " 54\n",
      " 68\n",
      " 57\n",
      " 66\n",
      " 44\n",
      "  2\n",
      "  2\n",
      " 67\n",
      " 58\n",
      " 73\n",
      " 69\n",
      "  2\n",
      " 62\n",
      " 73\n",
      " 78\n",
      " 72\n",
      " 74\n",
      " 67\n",
      " 68\n",
      " 58\n",
      "  4\n",
      " 57\n",
      "  2\n",
      " 72\n",
      "  2\n",
      " 54\n",
      "  3\n",
      " 54\n",
      " 71\n",
      " 67\n",
      " 69\n",
      " 54\n",
      " 59\n",
      " 54\n",
      "  4\n",
      " 57\n",
      " 69\n",
      " 44\n",
      " 78\n",
      "[torch.cuda.LongTensor of size 512 (GPU 0)]\n",
      "\n",
      "torch.Size([512, 256])\n",
      "torch.Size([512])\n",
      "torch.Size([512, 42])\n",
      "Variable containing:\n",
      " 72\n",
      "  9\n",
      " 61\n",
      " 61\n",
      "  2\n",
      " 54\n",
      " 60\n",
      " 58\n",
      "  2\n",
      " 73\n",
      " 55\n",
      " 75\n",
      " 70\n",
      "  2\n",
      " 68\n",
      " 64\n",
      " 59\n",
      "  1\n",
      " 46\n",
      " 68\n",
      " 78\n",
      " 70\n",
      " 58\n",
      " 71\n",
      " 65\n",
      " 73\n",
      " 67\n",
      " 73\n",
      "  1\n",
      " 61\n",
      " 73\n",
      " 62\n",
      " 74\n",
      " 54\n",
      " 58\n",
      " 71\n",
      " 72\n",
      " 68\n",
      " 73\n",
      "  1\n",
      " 65\n",
      " 72\n",
      "  1\n",
      "  2\n",
      "  2\n",
      " 67\n",
      "  2\n",
      "  2\n",
      " 71\n",
      " 59\n",
      "  8\n",
      "  2\n",
      " 69\n",
      " 54\n",
      " 68\n",
      " 73\n",
      " 32\n",
      " 62\n",
      " 55\n",
      " 71\n",
      " 65\n",
      " 71\n",
      " 62\n",
      "  8\n",
      " 71\n",
      "  2\n",
      " 68\n",
      "  8\n",
      " 71\n",
      " 58\n",
      " 60\n",
      " 74\n",
      " 73\n",
      " 73\n",
      " 75\n",
      " 66\n",
      " 71\n",
      " 54\n",
      " 71\n",
      " 57\n",
      " 71\n",
      " 58\n",
      " 57\n",
      "  2\n",
      " 68\n",
      " 73\n",
      " 68\n",
      " 75\n",
      " 66\n",
      " 71\n",
      " 61\n",
      " 73\n",
      " 72\n",
      "  4\n",
      "  8\n",
      " 54\n",
      " 67\n",
      " 42\n",
      " 62\n",
      " 67\n",
      " 67\n",
      " 73\n",
      " 61\n",
      " 57\n",
      " 73\n",
      " 57\n",
      " 64\n",
      " 60\n",
      " 61\n",
      " 54\n",
      " 58\n",
      " 58\n",
      "  2\n",
      "  2\n",
      "  2\n",
      " 62\n",
      " 58\n",
      "  8\n",
      "  2\n",
      "  1\n",
      "  4\n",
      " 61\n",
      " 59\n",
      " 68\n",
      " 67\n",
      "  2\n",
      " 67\n",
      " 65\n",
      " 58\n",
      " 61\n",
      " 58\n",
      " 23\n",
      " 73\n",
      " 59\n",
      "  1\n",
      " 67\n",
      " 58\n",
      " 65\n",
      " 65\n",
      "  1\n",
      " 56\n",
      " 68\n",
      " 69\n",
      " 74\n",
      " 71\n",
      " 75\n",
      "  2\n",
      " 54\n",
      " 58\n",
      " 73\n",
      " 71\n",
      " 62\n",
      " 65\n",
      " 73\n",
      " 72\n",
      " 33\n",
      "  2\n",
      " 54\n",
      " 72\n",
      "  3\n",
      " 58\n",
      " 69\n",
      " 68\n",
      "  2\n",
      "  2\n",
      "  2\n",
      " 62\n",
      " 76\n",
      " 58\n",
      "  1\n",
      " 73\n",
      " 68\n",
      " 55\n",
      " 58\n",
      " 73\n",
      " 58\n",
      " 58\n",
      " 72\n",
      "  8\n",
      " 59\n",
      " 65\n",
      " 57\n",
      "  2\n",
      " 71\n",
      " 58\n",
      " 74\n",
      " 58\n",
      " 58\n",
      " 61\n",
      " 75\n",
      " 73\n",
      "  2\n",
      "  2\n",
      " 68\n",
      " 67\n",
      "  2\n",
      " 72\n",
      " 73\n",
      " 76\n",
      " 58\n",
      " 70\n",
      " 71\n",
      " 73\n",
      "  2\n",
      " 67\n",
      "  2\n",
      " 58\n",
      " 61\n",
      " 71\n",
      "  2\n",
      " 71\n",
      " 65\n",
      " 62\n",
      " 73\n",
      "  2\n",
      " 71\n",
      " 71\n",
      " 71\n",
      "  2\n",
      " 72\n",
      " 78\n",
      " 58\n",
      " 58\n",
      "  4\n",
      " 62\n",
      "  2\n",
      " 71\n",
      " 61\n",
      "  7\n",
      " 54\n",
      " 58\n",
      " 68\n",
      " 73\n",
      " 54\n",
      " 58\n",
      " 73\n",
      " 65\n",
      " 72\n",
      "  1\n",
      " 62\n",
      " 62\n",
      "  2\n",
      " 44\n",
      " 73\n",
      " 73\n",
      "  2\n",
      "  2\n",
      " 56\n",
      "  8\n",
      " 67\n",
      " 62\n",
      "  1\n",
      " 73\n",
      " 68\n",
      " 67\n",
      " 62\n",
      " 66\n",
      " 55\n",
      "  2\n",
      " 72\n",
      " 37\n",
      " 78\n",
      " 54\n",
      " 72\n",
      " 71\n",
      "  2\n",
      " 54\n",
      " 73\n",
      " 72\n",
      " 44\n",
      "  2\n",
      " 71\n",
      " 72\n",
      " 66\n",
      " 76\n",
      " 73\n",
      "  2\n",
      " 10\n",
      "  2\n",
      "  2\n",
      " 62\n",
      " 71\n",
      " 67\n",
      " 67\n",
      "  2\n",
      " 68\n",
      "  4\n",
      " 58\n",
      " 64\n",
      "  2\n",
      " 78\n",
      " 72\n",
      " 73\n",
      "  2\n",
      " 75\n",
      " 59\n",
      " 58\n",
      " 66\n",
      " 71\n",
      "  2\n",
      " 61\n",
      " 54\n",
      " 71\n",
      "  1\n",
      " 30\n",
      "  2\n",
      " 68\n",
      " 73\n",
      " 68\n",
      " 71\n",
      " 67\n",
      "  2\n",
      " 68\n",
      " 73\n",
      " 58\n",
      " 62\n",
      " 39\n",
      "  2\n",
      " 68\n",
      "  2\n",
      " 65\n",
      " 71\n",
      " 62\n",
      " 67\n",
      " 68\n",
      " 58\n",
      "  2\n",
      " 73\n",
      " 60\n",
      " 61\n",
      " 73\n",
      " 68\n",
      " 78\n",
      " 67\n",
      " 57\n",
      "  2\n",
      "  2\n",
      " 58\n",
      "  2\n",
      " 57\n",
      " 72\n",
      "  2\n",
      "  8\n",
      " 54\n",
      " 54\n",
      " 58\n",
      " 62\n",
      " 72\n",
      " 62\n",
      " 60\n",
      " 57\n",
      " 76\n",
      " 61\n",
      " 62\n",
      " 62\n",
      "  9\n",
      " 73\n",
      "  2\n",
      " 67\n",
      "  2\n",
      " 72\n",
      "  2\n",
      " 71\n",
      "  2\n",
      "  2\n",
      "  2\n",
      " 62\n",
      " 60\n",
      "  1\n",
      " 68\n",
      "  2\n",
      " 74\n",
      "  2\n",
      " 73\n",
      " 71\n",
      " 58\n",
      " 73\n",
      " 67\n",
      " 71\n",
      " 66\n",
      " 76\n",
      "  2\n",
      " 73\n",
      " 59\n",
      " 72\n",
      "  2\n",
      " 61\n",
      " 65\n",
      " 59\n",
      " 58\n",
      " 68\n",
      " 57\n",
      " 62\n",
      " 67\n",
      " 28\n",
      " 59\n",
      " 61\n",
      " 73\n",
      " 62\n",
      " 56\n",
      " 65\n",
      " 73\n",
      " 62\n",
      " 68\n",
      " 62\n",
      "  2\n",
      " 58\n",
      " 76\n",
      " 71\n",
      " 61\n",
      " 45\n",
      "  2\n",
      " 54\n",
      " 73\n",
      " 56\n",
      " 54\n",
      " 65\n",
      " 58\n",
      " 58\n",
      " 72\n",
      " 62\n",
      "  2\n",
      " 62\n",
      " 73\n",
      " 73\n",
      " 69\n",
      "  2\n",
      " 62\n",
      "  2\n",
      "  2\n",
      " 58\n",
      " 73\n",
      " 72\n",
      " 60\n",
      " 21\n",
      " 66\n",
      "  2\n",
      " 54\n",
      " 61\n",
      " 67\n",
      " 73\n",
      " 58\n",
      "  2\n",
      " 72\n",
      " 72\n",
      " 58\n",
      "  2\n",
      " 65\n",
      "  2\n",
      "  8\n",
      " 67\n",
      " 54\n",
      "  2\n",
      " 60\n",
      "  2\n",
      " 65\n",
      " 78\n",
      " 66\n",
      " 68\n",
      "  2\n",
      " 58\n",
      " 61\n",
      "  2\n",
      " 61\n",
      " 68\n",
      " 62\n",
      " 57\n",
      " 72\n",
      " 72\n",
      " 72\n",
      "  2\n",
      " 74\n",
      " 58\n",
      " 65\n",
      " 71\n",
      "  2\n",
      " 54\n",
      " 61\n",
      " 43\n",
      " 66\n",
      " 57\n",
      " 67\n",
      " 61\n",
      " 71\n",
      " 66\n",
      " 72\n",
      " 54\n",
      " 22\n",
      "  1\n",
      " 56\n",
      " 60\n",
      " 74\n",
      " 71\n",
      "  2\n",
      "  2\n",
      "  4\n",
      "  2\n",
      " 33\n",
      " 68\n",
      "  1\n",
      " 67\n",
      " 60\n",
      " 57\n",
      " 58\n",
      " 56\n",
      " 59\n",
      " 56\n",
      " 60\n",
      "  2\n",
      " 58\n",
      " 68\n",
      "  2\n",
      "[torch.cuda.LongTensor of size 512 (GPU 0)]\n",
      "\n",
      "torch.Size([512, 256])\n",
      "torch.Size([512])\n",
      "torch.Size([512, 42])\n",
      "Variable containing:\n",
      " 58\n",
      " 67\n",
      " 54\n",
      " 58\n",
      " 54\n",
      " 76\n",
      "  2\n",
      "  2\n",
      " 56\n",
      " 61\n",
      " 58\n",
      " 58\n",
      " 74\n",
      " 73\n",
      " 62\n",
      " 62\n",
      "  2\n",
      " 66\n",
      " 62\n",
      " 67\n",
      " 58\n",
      " 74\n",
      " 72\n",
      " 74\n",
      " 62\n",
      "  2\n",
      " 71\n",
      " 61\n",
      "  1\n",
      " 66\n",
      " 58\n",
      " 58\n",
      " 67\n",
      " 73\n",
      "  1\n",
      " 54\n",
      " 73\n",
      "  2\n",
      " 61\n",
      " 23\n",
      " 72\n",
      " 73\n",
      " 62\n",
      " 73\n",
      " 62\n",
      " 57\n",
      " 57\n",
      " 55\n",
      " 68\n",
      " 22\n",
      "  2\n",
      " 54\n",
      " 62\n",
      " 73\n",
      " 67\n",
      " 74\n",
      " 68\n",
      " 65\n",
      " 78\n",
      " 54\n",
      " 65\n",
      "  2\n",
      " 57\n",
      "  2\n",
      " 56\n",
      " 55\n",
      " 56\n",
      "  2\n",
      " 58\n",
      "  2\n",
      "  2\n",
      " 71\n",
      " 58\n",
      " 61\n",
      " 58\n",
      " 74\n",
      " 62\n",
      " 73\n",
      " 61\n",
      " 54\n",
      "  2\n",
      "  2\n",
      " 74\n",
      " 72\n",
      "  2\n",
      " 62\n",
      "  2\n",
      " 58\n",
      " 68\n",
      " 67\n",
      " 54\n",
      " 61\n",
      "  2\n",
      "  1\n",
      "  2\n",
      " 72\n",
      " 56\n",
      " 39\n",
      " 67\n",
      " 68\n",
      " 60\n",
      " 68\n",
      "  2\n",
      " 72\n",
      " 68\n",
      "  2\n",
      " 76\n",
      " 58\n",
      " 58\n",
      " 72\n",
      " 75\n",
      "  2\n",
      " 73\n",
      " 67\n",
      " 62\n",
      " 67\n",
      " 57\n",
      "  2\n",
      " 39\n",
      " 69\n",
      "  2\n",
      " 54\n",
      "  2\n",
      " 71\n",
      " 57\n",
      " 68\n",
      " 57\n",
      "  8\n",
      " 69\n",
      " 58\n",
      " 71\n",
      "  9\n",
      "  2\n",
      "  2\n",
      " 66\n",
      " 57\n",
      " 65\n",
      " 68\n",
      " 58\n",
      " 69\n",
      " 74\n",
      " 57\n",
      " 71\n",
      " 60\n",
      " 73\n",
      " 58\n",
      " 54\n",
      " 66\n",
      " 56\n",
      " 72\n",
      " 76\n",
      " 58\n",
      " 78\n",
      " 74\n",
      " 54\n",
      " 59\n",
      " 73\n",
      " 67\n",
      " 73\n",
      "  2\n",
      "  2\n",
      " 65\n",
      " 74\n",
      " 54\n",
      " 73\n",
      " 67\n",
      " 71\n",
      " 67\n",
      "  2\n",
      " 74\n",
      "  2\n",
      " 55\n",
      " 78\n",
      "  8\n",
      "  2\n",
      "  1\n",
      "  1\n",
      "  2\n",
      "  2\n",
      " 62\n",
      " 78\n",
      "  1\n",
      " 29\n",
      " 58\n",
      " 65\n",
      " 72\n",
      " 58\n",
      " 71\n",
      " 62\n",
      " 58\n",
      " 58\n",
      " 68\n",
      " 73\n",
      " 72\n",
      " 56\n",
      " 33\n",
      " 76\n",
      " 61\n",
      " 61\n",
      " 72\n",
      " 74\n",
      " 57\n",
      " 61\n",
      " 71\n",
      "  2\n",
      " 62\n",
      " 71\n",
      " 58\n",
      " 58\n",
      " 54\n",
      " 58\n",
      " 58\n",
      " 68\n",
      " 61\n",
      " 55\n",
      " 59\n",
      " 57\n",
      " 78\n",
      " 71\n",
      " 22\n",
      "  8\n",
      " 57\n",
      "  2\n",
      "  2\n",
      " 73\n",
      " 72\n",
      " 58\n",
      " 58\n",
      "  2\n",
      " 65\n",
      " 71\n",
      "  2\n",
      " 62\n",
      " 71\n",
      "  2\n",
      " 61\n",
      " 73\n",
      " 73\n",
      " 60\n",
      " 72\n",
      " 73\n",
      " 73\n",
      " 45\n",
      " 58\n",
      " 61\n",
      " 54\n",
      " 62\n",
      " 73\n",
      "  2\n",
      " 58\n",
      " 67\n",
      " 12\n",
      " 62\n",
      " 65\n",
      "  2\n",
      " 67\n",
      " 54\n",
      " 58\n",
      " 75\n",
      "  2\n",
      " 54\n",
      " 56\n",
      " 71\n",
      "  2\n",
      "  8\n",
      " 54\n",
      " 73\n",
      "  2\n",
      " 54\n",
      " 61\n",
      " 76\n",
      " 65\n",
      " 74\n",
      " 55\n",
      " 62\n",
      " 61\n",
      " 54\n",
      "  7\n",
      " 57\n",
      " 66\n",
      " 65\n",
      " 62\n",
      " 73\n",
      "  2\n",
      " 73\n",
      " 74\n",
      " 21\n",
      "  2\n",
      "  2\n",
      " 66\n",
      "  8\n",
      "  2\n",
      " 71\n",
      " 54\n",
      " 58\n",
      "  2\n",
      "  2\n",
      " 62\n",
      " 54\n",
      " 54\n",
      " 58\n",
      " 62\n",
      "  2\n",
      " 54\n",
      " 68\n",
      " 68\n",
      "  8\n",
      " 68\n",
      " 67\n",
      " 71\n",
      " 72\n",
      " 58\n",
      " 74\n",
      " 58\n",
      " 72\n",
      " 73\n",
      " 67\n",
      " 54\n",
      " 76\n",
      " 73\n",
      " 78\n",
      " 58\n",
      " 73\n",
      " 68\n",
      " 72\n",
      " 75\n",
      " 61\n",
      " 61\n",
      "  2\n",
      " 62\n",
      " 61\n",
      " 66\n",
      "  2\n",
      " 57\n",
      " 68\n",
      " 54\n",
      " 62\n",
      " 67\n",
      " 62\n",
      "  2\n",
      " 68\n",
      " 38\n",
      "  2\n",
      " 73\n",
      " 55\n",
      " 56\n",
      " 68\n",
      " 62\n",
      " 73\n",
      "  1\n",
      " 74\n",
      " 68\n",
      " 62\n",
      " 67\n",
      " 72\n",
      " 62\n",
      " 61\n",
      " 74\n",
      " 54\n",
      " 76\n",
      " 58\n",
      " 62\n",
      " 58\n",
      " 60\n",
      " 62\n",
      " 73\n",
      " 65\n",
      " 71\n",
      " 76\n",
      " 57\n",
      " 61\n",
      " 54\n",
      " 58\n",
      "  2\n",
      " 58\n",
      "  2\n",
      " 61\n",
      "  2\n",
      " 54\n",
      "  2\n",
      " 62\n",
      " 71\n",
      "  2\n",
      " 62\n",
      " 73\n",
      " 57\n",
      "  1\n",
      "  9\n",
      " 68\n",
      "  5\n",
      " 74\n",
      "  1\n",
      " 67\n",
      "  2\n",
      " 33\n",
      " 54\n",
      " 58\n",
      " 68\n",
      " 72\n",
      " 58\n",
      " 62\n",
      " 68\n",
      " 71\n",
      " 67\n",
      " 56\n",
      " 56\n",
      " 71\n",
      " 61\n",
      " 66\n",
      " 58\n",
      " 31\n",
      " 73\n",
      " 71\n",
      " 72\n",
      " 58\n",
      " 67\n",
      " 68\n",
      " 71\n",
      " 56\n",
      " 68\n",
      " 60\n",
      " 72\n",
      " 72\n",
      "  2\n",
      " 68\n",
      " 71\n",
      " 73\n",
      " 66\n",
      " 54\n",
      " 65\n",
      " 66\n",
      " 61\n",
      " 73\n",
      " 58\n",
      "  1\n",
      " 72\n",
      " 68\n",
      " 71\n",
      " 68\n",
      " 68\n",
      " 61\n",
      " 57\n",
      " 33\n",
      "  2\n",
      " 69\n",
      " 66\n",
      " 62\n",
      " 65\n",
      " 73\n",
      "  2\n",
      " 68\n",
      " 72\n",
      " 68\n",
      "  2\n",
      " 62\n",
      " 74\n",
      "  2\n",
      " 54\n",
      " 56\n",
      " 66\n",
      "  8\n",
      " 58\n",
      " 76\n",
      " 58\n",
      " 67\n",
      " 65\n",
      "  2\n",
      " 58\n",
      "  2\n",
      " 78\n",
      " 70\n",
      " 60\n",
      " 72\n",
      "  2\n",
      " 58\n",
      " 54\n",
      "  2\n",
      " 58\n",
      " 69\n",
      " 54\n",
      " 62\n",
      " 68\n",
      " 54\n",
      " 58\n",
      " 74\n",
      "  2\n",
      " 62\n",
      "  2\n",
      " 60\n",
      " 54\n",
      "  2\n",
      " 24\n",
      "  2\n",
      " 51\n",
      " 72\n",
      " 60\n",
      " 59\n",
      " 67\n",
      " 71\n",
      "  1\n",
      " 57\n",
      " 74\n",
      " 71\n",
      " 65\n",
      " 65\n",
      " 62\n",
      " 56\n",
      " 68\n",
      " 73\n",
      " 71\n",
      "  2\n",
      " 73\n",
      "[torch.cuda.LongTensor of size 512 (GPU 0)]\n",
      "\n",
      "torch.Size([512, 256])\n",
      "torch.Size([512])\n",
      "torch.Size([512, 42])\n",
      "Variable containing:\n",
      " 67\n",
      " 68\n",
      " 75\n",
      "  2\n",
      "  2\n",
      "  2\n",
      " 54\n",
      " 56\n",
      " 68\n",
      " 54\n",
      " 58\n",
      " 65\n",
      " 54\n",
      " 61\n",
      " 67\n",
      " 67\n",
      " 54\n",
      " 68\n",
      " 56\n",
      "  9\n",
      " 54\n",
      " 58\n",
      " 72\n",
      " 73\n",
      " 60\n",
      " 54\n",
      " 58\n",
      " 58\n",
      " 13\n",
      "  2\n",
      " 71\n",
      " 67\n",
      " 57\n",
      "  2\n",
      " 68\n",
      " 73\n",
      "  2\n",
      " 61\n",
      " 54\n",
      " 40\n",
      "  2\n",
      "  2\n",
      " 67\n",
      " 61\n",
      " 67\n",
      " 62\n",
      " 74\n",
      " 58\n",
      " 66\n",
      "  2\n",
      " 73\n",
      " 67\n",
      " 71\n",
      "  2\n",
      " 72\n",
      " 71\n",
      " 66\n",
      " 65\n",
      "  2\n",
      " 65\n",
      "  2\n",
      " 59\n",
      " 58\n",
      " 54\n",
      " 61\n",
      " 58\n",
      " 56\n",
      " 67\n",
      " 69\n",
      " 66\n",
      " 68\n",
      " 72\n",
      " 71\n",
      " 58\n",
      "  2\n",
      " 72\n",
      " 75\n",
      " 62\n",
      " 54\n",
      " 73\n",
      " 68\n",
      " 54\n",
      " 65\n",
      " 54\n",
      " 61\n",
      " 59\n",
      " 73\n",
      " 71\n",
      " 57\n",
      "  2\n",
      " 57\n",
      " 58\n",
      " 54\n",
      "  1\n",
      " 62\n",
      "  8\n",
      " 58\n",
      " 38\n",
      " 60\n",
      " 68\n",
      "  2\n",
      "  1\n",
      " 73\n",
      "  2\n",
      " 71\n",
      " 67\n",
      " 54\n",
      " 10\n",
      "  2\n",
      "  1\n",
      " 58\n",
      " 68\n",
      " 61\n",
      " 54\n",
      " 73\n",
      " 60\n",
      "  2\n",
      " 73\n",
      " 71\n",
      " 71\n",
      " 61\n",
      " 67\n",
      " 68\n",
      " 58\n",
      "  8\n",
      " 67\n",
      "  2\n",
      "  1\n",
      " 62\n",
      "  2\n",
      " 54\n",
      "  9\n",
      " 66\n",
      " 54\n",
      " 68\n",
      "  2\n",
      " 75\n",
      " 76\n",
      "  1\n",
      " 68\n",
      " 71\n",
      " 58\n",
      " 68\n",
      " 61\n",
      " 62\n",
      "  2\n",
      " 72\n",
      " 69\n",
      " 62\n",
      "  2\n",
      " 54\n",
      " 72\n",
      "  2\n",
      " 69\n",
      " 65\n",
      "  2\n",
      " 61\n",
      "  2\n",
      " 72\n",
      " 26\n",
      " 60\n",
      " 58\n",
      " 60\n",
      " 67\n",
      " 61\n",
      " 68\n",
      " 58\n",
      "  8\n",
      " 65\n",
      " 65\n",
      " 76\n",
      " 72\n",
      " 10\n",
      "  2\n",
      " 62\n",
      " 60\n",
      " 62\n",
      " 73\n",
      " 69\n",
      " 67\n",
      "  2\n",
      " 61\n",
      " 67\n",
      " 54\n",
      " 78\n",
      " 73\n",
      " 57\n",
      " 62\n",
      " 65\n",
      " 72\n",
      " 57\n",
      " 59\n",
      " 61\n",
      " 73\n",
      " 58\n",
      " 38\n",
      " 68\n",
      " 54\n",
      " 54\n",
      "  2\n",
      " 58\n",
      " 62\n",
      " 58\n",
      " 54\n",
      " 69\n",
      " 67\n",
      "  8\n",
      "  2\n",
      " 65\n",
      " 67\n",
      "  2\n",
      "  2\n",
      " 65\n",
      " 58\n",
      " 74\n",
      " 68\n",
      "  2\n",
      "  2\n",
      " 58\n",
      "  2\n",
      "  2\n",
      " 74\n",
      " 58\n",
      " 54\n",
      "  4\n",
      " 58\n",
      "  2\n",
      "  2\n",
      " 39\n",
      "  2\n",
      "  2\n",
      " 73\n",
      " 56\n",
      "  2\n",
      " 60\n",
      " 62\n",
      " 54\n",
      " 62\n",
      " 71\n",
      "  2\n",
      " 72\n",
      " 61\n",
      " 42\n",
      " 71\n",
      " 58\n",
      " 71\n",
      " 73\n",
      "  2\n",
      " 73\n",
      " 62\n",
      " 73\n",
      " 13\n",
      " 66\n",
      "  8\n",
      " 65\n",
      " 60\n",
      " 67\n",
      " 65\n",
      " 54\n",
      " 59\n",
      " 64\n",
      " 61\n",
      " 62\n",
      " 54\n",
      "  2\n",
      " 65\n",
      " 62\n",
      " 68\n",
      " 66\n",
      " 58\n",
      " 54\n",
      " 57\n",
      " 69\n",
      " 65\n",
      " 73\n",
      "  2\n",
      " 65\n",
      "  2\n",
      " 62\n",
      " 68\n",
      " 65\n",
      " 59\n",
      "  2\n",
      " 68\n",
      " 68\n",
      " 72\n",
      "  9\n",
      " 66\n",
      " 54\n",
      " 54\n",
      "  2\n",
      " 57\n",
      " 58\n",
      " 67\n",
      "  2\n",
      " 62\n",
      " 56\n",
      " 73\n",
      " 73\n",
      "  2\n",
      "  1\n",
      " 71\n",
      " 73\n",
      " 67\n",
      " 71\n",
      " 74\n",
      "  2\n",
      " 69\n",
      " 60\n",
      " 54\n",
      " 62\n",
      " 75\n",
      " 55\n",
      "  3\n",
      "  2\n",
      "  2\n",
      "  2\n",
      " 67\n",
      " 54\n",
      " 68\n",
      "  2\n",
      " 54\n",
      " 62\n",
      " 74\n",
      " 73\n",
      " 58\n",
      " 54\n",
      " 54\n",
      " 73\n",
      " 56\n",
      " 58\n",
      " 69\n",
      " 59\n",
      "  2\n",
      " 66\n",
      "  2\n",
      " 73\n",
      " 68\n",
      " 65\n",
      " 73\n",
      " 67\n",
      " 62\n",
      " 54\n",
      "  2\n",
      " 68\n",
      " 54\n",
      " 67\n",
      " 72\n",
      " 74\n",
      " 76\n",
      " 73\n",
      " 66\n",
      " 72\n",
      " 60\n",
      " 73\n",
      " 73\n",
      " 58\n",
      " 67\n",
      " 66\n",
      " 58\n",
      " 67\n",
      " 72\n",
      " 54\n",
      " 62\n",
      " 67\n",
      " 61\n",
      " 65\n",
      " 58\n",
      " 61\n",
      "  8\n",
      " 68\n",
      " 60\n",
      " 75\n",
      " 55\n",
      "  1\n",
      " 69\n",
      " 68\n",
      " 54\n",
      " 59\n",
      " 73\n",
      " 72\n",
      " 58\n",
      " 54\n",
      " 56\n",
      "  2\n",
      " 58\n",
      " 69\n",
      "  9\n",
      " 71\n",
      " 72\n",
      " 71\n",
      " 68\n",
      " 60\n",
      " 73\n",
      " 43\n",
      " 66\n",
      " 78\n",
      " 57\n",
      " 62\n",
      " 72\n",
      " 68\n",
      "  2\n",
      " 58\n",
      " 56\n",
      " 61\n",
      " 68\n",
      " 72\n",
      " 58\n",
      "  2\n",
      "  2\n",
      " 25\n",
      " 61\n",
      "  8\n",
      " 10\n",
      " 10\n",
      " 57\n",
      " 76\n",
      " 78\n",
      " 54\n",
      "  2\n",
      " 61\n",
      " 73\n",
      "  2\n",
      " 68\n",
      "  2\n",
      " 58\n",
      " 61\n",
      "  2\n",
      " 71\n",
      " 54\n",
      " 68\n",
      " 58\n",
      " 62\n",
      "  8\n",
      " 78\n",
      "  1\n",
      " 67\n",
      " 62\n",
      "  2\n",
      " 73\n",
      " 58\n",
      "  2\n",
      " 67\n",
      " 73\n",
      " 71\n",
      " 54\n",
      " 73\n",
      "  2\n",
      " 61\n",
      " 73\n",
      " 74\n",
      " 58\n",
      " 59\n",
      " 54\n",
      " 73\n",
      " 58\n",
      " 76\n",
      " 67\n",
      " 56\n",
      " 68\n",
      "  2\n",
      " 71\n",
      " 61\n",
      "  2\n",
      " 58\n",
      " 78\n",
      " 55\n",
      " 72\n",
      " 68\n",
      " 72\n",
      " 74\n",
      " 61\n",
      "  2\n",
      " 62\n",
      "  2\n",
      " 69\n",
      " 68\n",
      " 78\n",
      " 58\n",
      " 57\n",
      " 73\n",
      " 67\n",
      " 73\n",
      " 56\n",
      " 56\n",
      " 73\n",
      " 67\n",
      " 62\n",
      " 58\n",
      " 73\n",
      " 74\n",
      "  2\n",
      " 75\n",
      " 30\n",
      " 58\n",
      " 68\n",
      " 62\n",
      "  2\n",
      " 57\n",
      "  1\n",
      "  2\n",
      " 66\n",
      " 54\n",
      "  2\n",
      " 58\n",
      " 56\n",
      " 68\n",
      " 68\n",
      " 61\n",
      " 73\n",
      " 60\n",
      " 61\n",
      "[torch.cuda.LongTensor of size 512 (GPU 0)]\n"
     ]
    },
    {
     "name": "stdout",
     "output_type": "stream",
     "text": [
      "\n",
      "torch.Size([512, 256])\n",
      "torch.Size([512])\n",
      "torch.Size([512, 42])\n",
      "Variable containing:\n",
      " 72\n",
      " 76\n",
      " 58\n",
      " 66\n",
      " 60\n",
      " 68\n",
      " 67\n",
      " 68\n",
      " 66\n",
      " 73\n",
      " 67\n",
      " 68\n",
      " 65\n",
      " 54\n",
      " 72\n",
      " 60\n",
      " 65\n",
      " 66\n",
      " 73\n",
      " 59\n",
      " 71\n",
      " 67\n",
      "  2\n",
      " 61\n",
      " 62\n",
      "  2\n",
      " 72\n",
      "  2\n",
      " 16\n",
      " 54\n",
      " 69\n",
      " 56\n",
      "  2\n",
      " 60\n",
      " 67\n",
      " 62\n",
      " 58\n",
      " 54\n",
      " 73\n",
      " 67\n",
      " 73\n",
      " 68\n",
      " 72\n",
      " 68\n",
      "  2\n",
      " 75\n",
      " 71\n",
      "  1\n",
      "  2\n",
      " 73\n",
      " 61\n",
      " 57\n",
      " 62\n",
      " 61\n",
      "  2\n",
      " 58\n",
      " 58\n",
      "  2\n",
      " 67\n",
      " 62\n",
      " 68\n",
      " 71\n",
      " 72\n",
      " 72\n",
      " 62\n",
      "  9\n",
      " 54\n",
      " 68\n",
      " 71\n",
      " 58\n",
      " 59\n",
      " 58\n",
      " 58\n",
      " 71\n",
      " 73\n",
      " 62\n",
      " 54\n",
      " 68\n",
      " 69\n",
      " 58\n",
      " 59\n",
      " 67\n",
      " 78\n",
      " 78\n",
      " 54\n",
      " 62\n",
      " 61\n",
      " 78\n",
      " 58\n",
      " 54\n",
      "  1\n",
      " 66\n",
      "  2\n",
      " 51\n",
      " 73\n",
      "  2\n",
      "  8\n",
      " 37\n",
      "  3\n",
      " 64\n",
      " 62\n",
      " 25\n",
      " 61\n",
      " 72\n",
      " 78\n",
      " 68\n",
      " 71\n",
      " 23\n",
      " 56\n",
      " 39\n",
      " 71\n",
      " 59\n",
      " 58\n",
      " 73\n",
      " 72\n",
      "  2\n",
      " 73\n",
      " 61\n",
      "  2\n",
      " 58\n",
      " 58\n",
      " 57\n",
      " 74\n",
      "  2\n",
      "  2\n",
      " 58\n",
      " 72\n",
      " 58\n",
      " 65\n",
      " 66\n",
      " 73\n",
      " 47\n",
      " 54\n",
      "  2\n",
      " 71\n",
      " 68\n",
      " 58\n",
      "  2\n",
      " 68\n",
      " 65\n",
      " 62\n",
      " 71\n",
      " 55\n",
      " 73\n",
      " 54\n",
      " 66\n",
      "  2\n",
      " 65\n",
      " 72\n",
      " 54\n",
      " 71\n",
      "  4\n",
      " 66\n",
      " 62\n",
      " 62\n",
      " 76\n",
      " 54\n",
      " 68\n",
      "  2\n",
      " 58\n",
      " 71\n",
      "  8\n",
      " 61\n",
      " 57\n",
      " 68\n",
      " 76\n",
      " 66\n",
      "  2\n",
      " 68\n",
      " 73\n",
      " 58\n",
      " 56\n",
      "  2\n",
      " 73\n",
      " 72\n",
      " 68\n",
      " 67\n",
      " 61\n",
      " 58\n",
      " 57\n",
      " 54\n",
      " 62\n",
      " 68\n",
      " 57\n",
      "  1\n",
      "  2\n",
      " 72\n",
      " 67\n",
      " 68\n",
      " 21\n",
      "  2\n",
      "  2\n",
      " 54\n",
      "  2\n",
      " 69\n",
      " 43\n",
      " 71\n",
      " 73\n",
      " 73\n",
      " 54\n",
      " 67\n",
      " 67\n",
      "  2\n",
      " 78\n",
      " 71\n",
      " 73\n",
      "  2\n",
      " 60\n",
      " 78\n",
      " 57\n",
      " 54\n",
      " 73\n",
      " 68\n",
      " 71\n",
      " 73\n",
      " 71\n",
      " 73\n",
      " 59\n",
      " 72\n",
      " 72\n",
      " 68\n",
      " 56\n",
      " 72\n",
      " 67\n",
      "  1\n",
      " 75\n",
      " 54\n",
      " 59\n",
      " 67\n",
      " 59\n",
      " 61\n",
      " 61\n",
      "  8\n",
      " 54\n",
      " 71\n",
      " 67\n",
      " 62\n",
      " 65\n",
      " 58\n",
      " 54\n",
      "  2\n",
      " 58\n",
      " 25\n",
      " 72\n",
      "  2\n",
      " 58\n",
      "  2\n",
      " 68\n",
      " 61\n",
      " 60\n",
      " 68\n",
      " 16\n",
      " 58\n",
      "  2\n",
      " 54\n",
      "  2\n",
      " 62\n",
      " 62\n",
      " 65\n",
      " 54\n",
      " 58\n",
      " 68\n",
      " 65\n",
      " 65\n",
      " 76\n",
      " 65\n",
      " 68\n",
      " 59\n",
      " 58\n",
      "  2\n",
      " 72\n",
      " 10\n",
      " 69\n",
      " 58\n",
      " 61\n",
      " 72\n",
      " 65\n",
      " 25\n",
      " 72\n",
      " 66\n",
      "  8\n",
      " 62\n",
      " 68\n",
      " 59\n",
      "  2\n",
      "  2\n",
      "  9\n",
      " 68\n",
      " 55\n",
      " 67\n",
      " 54\n",
      " 62\n",
      " 72\n",
      "  2\n",
      " 68\n",
      " 67\n",
      " 68\n",
      " 58\n",
      " 61\n",
      " 56\n",
      " 56\n",
      "  2\n",
      " 61\n",
      " 57\n",
      "  2\n",
      " 73\n",
      " 72\n",
      " 61\n",
      "  2\n",
      " 67\n",
      " 55\n",
      " 62\n",
      " 73\n",
      "  2\n",
      " 62\n",
      " 74\n",
      " 73\n",
      " 57\n",
      " 57\n",
      "  2\n",
      " 54\n",
      " 73\n",
      " 58\n",
      " 60\n",
      "  2\n",
      " 71\n",
      " 72\n",
      " 73\n",
      " 61\n",
      " 61\n",
      " 71\n",
      " 54\n",
      " 71\n",
      " 58\n",
      " 62\n",
      "  4\n",
      " 10\n",
      " 66\n",
      " 65\n",
      " 62\n",
      " 54\n",
      " 61\n",
      " 67\n",
      " 62\n",
      " 71\n",
      " 66\n",
      "  2\n",
      " 73\n",
      " 54\n",
      " 61\n",
      " 62\n",
      " 54\n",
      "  1\n",
      "  2\n",
      "  2\n",
      "  2\n",
      "  1\n",
      " 54\n",
      " 58\n",
      " 71\n",
      " 73\n",
      "  2\n",
      " 65\n",
      " 75\n",
      " 72\n",
      " 58\n",
      "  2\n",
      " 54\n",
      " 68\n",
      "  2\n",
      " 76\n",
      " 58\n",
      " 68\n",
      " 58\n",
      " 75\n",
      " 68\n",
      " 72\n",
      " 76\n",
      " 59\n",
      " 76\n",
      " 58\n",
      " 70\n",
      " 72\n",
      " 74\n",
      " 72\n",
      " 65\n",
      " 71\n",
      " 73\n",
      "  2\n",
      "  1\n",
      "  1\n",
      " 67\n",
      "  1\n",
      " 61\n",
      " 44\n",
      " 62\n",
      "  2\n",
      " 54\n",
      " 67\n",
      " 72\n",
      " 74\n",
      " 61\n",
      " 54\n",
      " 58\n",
      "  2\n",
      " 66\n",
      " 73\n",
      " 67\n",
      " 73\n",
      " 64\n",
      " 44\n",
      " 58\n",
      "  2\n",
      "  2\n",
      "  2\n",
      "  1\n",
      "  8\n",
      " 73\n",
      " 74\n",
      " 56\n",
      " 73\n",
      " 71\n",
      " 64\n",
      " 59\n",
      " 57\n",
      " 72\n",
      " 58\n",
      " 62\n",
      " 58\n",
      " 56\n",
      " 56\n",
      " 66\n",
      " 68\n",
      "  2\n",
      " 58\n",
      " 59\n",
      " 65\n",
      " 68\n",
      " 62\n",
      " 61\n",
      " 72\n",
      " 54\n",
      "  2\n",
      " 61\n",
      " 62\n",
      " 62\n",
      "  2\n",
      " 59\n",
      " 54\n",
      " 58\n",
      " 72\n",
      "  8\n",
      "  2\n",
      " 65\n",
      "  2\n",
      "  2\n",
      " 62\n",
      " 56\n",
      " 74\n",
      " 71\n",
      " 73\n",
      " 58\n",
      " 62\n",
      " 69\n",
      "  2\n",
      "  2\n",
      " 58\n",
      "  1\n",
      " 59\n",
      " 73\n",
      " 54\n",
      "  1\n",
      " 54\n",
      " 66\n",
      " 30\n",
      " 69\n",
      " 71\n",
      "  2\n",
      " 67\n",
      " 58\n",
      " 78\n",
      " 10\n",
      "  1\n",
      " 54\n",
      " 61\n",
      " 61\n",
      " 65\n",
      " 72\n",
      " 67\n",
      " 62\n",
      " 67\n",
      " 76\n",
      " 54\n",
      " 39\n",
      " 67\n",
      " 68\n",
      " 71\n",
      " 72\n",
      " 62\n",
      " 13\n",
      " 73\n",
      " 58\n",
      " 67\n",
      " 72\n",
      "  4\n",
      " 74\n",
      " 74\n",
      " 57\n",
      " 58\n",
      " 54\n",
      " 62\n",
      " 54\n",
      "[torch.cuda.LongTensor of size 512 (GPU 0)]\n",
      "\n",
      "torch.Size([512, 256])\n",
      "torch.Size([512])\n",
      "torch.Size([512, 42])\n",
      "Variable containing:\n",
      " 58\n",
      " 54\n",
      "  2\n",
      " 62\n",
      " 71\n",
      " 59\n",
      " 57\n",
      " 67\n",
      " 66\n",
      "  2\n",
      "  2\n",
      " 74\n",
      " 62\n",
      " 73\n",
      "  2\n",
      "  5\n",
      " 65\n",
      " 58\n",
      " 68\n",
      " 71\n",
      " 72\n",
      " 56\n",
      " 68\n",
      "  2\n",
      " 68\n",
      " 60\n",
      " 73\n",
      " 62\n",
      "  1\n",
      " 67\n",
      " 68\n",
      " 58\n",
      " 62\n",
      " 54\n",
      " 58\n",
      " 68\n",
      " 77\n",
      " 75\n",
      "  2\n",
      " 58\n",
      " 61\n",
      " 59\n",
      " 73\n",
      " 72\n",
      " 73\n",
      " 62\n",
      " 62\n",
      " 58\n",
      " 62\n",
      " 61\n",
      " 58\n",
      "  2\n",
      " 73\n",
      " 54\n",
      " 62\n",
      "  2\n",
      " 71\n",
      " 73\n",
      " 68\n",
      " 73\n",
      " 59\n",
      " 68\n",
      "  2\n",
      "  2\n",
      " 72\n",
      "  9\n",
      " 72\n",
      "  2\n",
      " 58\n",
      " 73\n",
      "  2\n",
      "  8\n",
      " 71\n",
      "  2\n",
      " 61\n",
      " 56\n",
      " 65\n",
      " 67\n",
      " 72\n",
      "  1\n",
      "  2\n",
      " 57\n",
      "  2\n",
      "  2\n",
      " 72\n",
      " 56\n",
      " 58\n",
      "  2\n",
      " 72\n",
      " 67\n",
      " 73\n",
      " 10\n",
      " 56\n",
      " 14\n",
      " 72\n",
      " 61\n",
      "  2\n",
      " 29\n",
      "  1\n",
      "  2\n",
      " 67\n",
      " 42\n",
      " 58\n",
      " 68\n",
      "  2\n",
      " 73\n",
      " 57\n",
      "  9\n",
      " 68\n",
      " 42\n",
      " 78\n",
      " 73\n",
      "  2\n",
      " 74\n",
      " 58\n",
      " 37\n",
      " 61\n",
      " 58\n",
      " 61\n",
      " 72\n",
      "  2\n",
      "  8\n",
      " 71\n",
      " 66\n",
      " 73\n",
      " 72\n",
      " 68\n",
      " 75\n",
      " 68\n",
      " 54\n",
      " 58\n",
      " 61\n",
      " 64\n",
      " 60\n",
      " 54\n",
      " 59\n",
      " 72\n",
      " 68\n",
      " 74\n",
      " 62\n",
      " 68\n",
      " 67\n",
      " 65\n",
      "  2\n",
      " 65\n",
      " 58\n",
      " 65\n",
      " 58\n",
      " 58\n",
      " 74\n",
      " 57\n",
      "  9\n",
      " 68\n",
      " 57\n",
      " 73\n",
      " 68\n",
      " 73\n",
      " 73\n",
      " 62\n",
      "  2\n",
      " 58\n",
      "  2\n",
      " 65\n",
      "  2\n",
      " 72\n",
      "  2\n",
      " 58\n",
      " 54\n",
      " 75\n",
      " 62\n",
      "  2\n",
      " 58\n",
      " 30\n",
      " 61\n",
      "  2\n",
      " 75\n",
      "  2\n",
      " 68\n",
      " 71\n",
      "  2\n",
      " 66\n",
      " 72\n",
      " 74\n",
      "  1\n",
      " 76\n",
      " 61\n",
      "  8\n",
      " 60\n",
      " 72\n",
      "  2\n",
      " 57\n",
      " 73\n",
      " 73\n",
      " 72\n",
      " 73\n",
      " 44\n",
      " 67\n",
      "  2\n",
      "  2\n",
      " 67\n",
      " 73\n",
      " 60\n",
      " 72\n",
      " 72\n",
      " 58\n",
      " 58\n",
      " 54\n",
      " 71\n",
      "  2\n",
      "  2\n",
      " 71\n",
      " 61\n",
      " 60\n",
      "  1\n",
      "  2\n",
      " 66\n",
      " 61\n",
      " 68\n",
      " 69\n",
      " 68\n",
      " 71\n",
      " 54\n",
      " 72\n",
      " 57\n",
      " 76\n",
      " 58\n",
      " 56\n",
      " 54\n",
      "  2\n",
      " 74\n",
      " 54\n",
      " 58\n",
      "  2\n",
      " 67\n",
      " 58\n",
      " 60\n",
      " 71\n",
      " 65\n",
      " 60\n",
      " 65\n",
      " 68\n",
      " 78\n",
      " 37\n",
      "  2\n",
      " 76\n",
      "  2\n",
      " 73\n",
      " 59\n",
      " 58\n",
      " 61\n",
      "  2\n",
      " 10\n",
      " 72\n",
      " 73\n",
      " 56\n",
      " 69\n",
      " 59\n",
      " 58\n",
      " 58\n",
      " 75\n",
      "  2\n",
      " 65\n",
      " 78\n",
      " 72\n",
      " 61\n",
      "  2\n",
      " 67\n",
      "  2\n",
      "  1\n",
      " 68\n",
      "  2\n",
      "  2\n",
      " 68\n",
      "  1\n",
      "  1\n",
      " 68\n",
      "  2\n",
      " 67\n",
      " 60\n",
      " 58\n",
      "  2\n",
      " 56\n",
      " 59\n",
      "  2\n",
      " 73\n",
      " 73\n",
      " 73\n",
      " 73\n",
      " 68\n",
      "  8\n",
      " 67\n",
      " 72\n",
      " 72\n",
      " 58\n",
      " 67\n",
      "  2\n",
      " 74\n",
      "  2\n",
      " 58\n",
      " 58\n",
      " 68\n",
      " 68\n",
      " 58\n",
      "  2\n",
      " 61\n",
      " 69\n",
      " 73\n",
      " 58\n",
      " 69\n",
      " 60\n",
      " 65\n",
      " 57\n",
      " 72\n",
      " 55\n",
      " 73\n",
      " 69\n",
      " 61\n",
      "  2\n",
      " 54\n",
      " 54\n",
      " 69\n",
      "  2\n",
      " 72\n",
      " 61\n",
      " 73\n",
      "  2\n",
      "  2\n",
      "  1\n",
      " 54\n",
      "  2\n",
      "  2\n",
      " 71\n",
      " 62\n",
      " 56\n",
      " 67\n",
      " 69\n",
      "  2\n",
      " 58\n",
      "  2\n",
      " 66\n",
      " 65\n",
      " 62\n",
      " 57\n",
      " 72\n",
      " 62\n",
      " 58\n",
      " 54\n",
      "  2\n",
      " 65\n",
      " 62\n",
      " 58\n",
      " 67\n",
      " 72\n",
      " 65\n",
      " 68\n",
      " 62\n",
      " 56\n",
      " 56\n",
      " 65\n",
      " 58\n",
      " 62\n",
      " 60\n",
      " 66\n",
      " 58\n",
      " 73\n",
      "  2\n",
      " 57\n",
      " 73\n",
      " 65\n",
      " 54\n",
      "  2\n",
      "  2\n",
      " 65\n",
      "  2\n",
      " 58\n",
      " 62\n",
      " 58\n",
      " 54\n",
      " 62\n",
      " 68\n",
      "  2\n",
      " 74\n",
      "  1\n",
      " 65\n",
      " 74\n",
      " 62\n",
      " 68\n",
      " 61\n",
      " 54\n",
      " 76\n",
      " 67\n",
      " 58\n",
      " 75\n",
      " 58\n",
      " 33\n",
      " 65\n",
      " 56\n",
      " 78\n",
      " 73\n",
      " 54\n",
      " 72\n",
      " 58\n",
      " 67\n",
      " 69\n",
      " 76\n",
      " 69\n",
      " 68\n",
      "  2\n",
      " 61\n",
      " 67\n",
      " 29\n",
      "  2\n",
      " 68\n",
      " 44\n",
      " 25\n",
      " 62\n",
      "  2\n",
      " 61\n",
      " 72\n",
      " 54\n",
      " 58\n",
      " 54\n",
      " 62\n",
      "  2\n",
      " 68\n",
      " 58\n",
      "  2\n",
      " 59\n",
      "  2\n",
      " 64\n",
      " 71\n",
      "  8\n",
      " 67\n",
      " 73\n",
      " 73\n",
      " 71\n",
      " 78\n",
      " 74\n",
      " 72\n",
      " 62\n",
      " 58\n",
      " 67\n",
      " 54\n",
      " 58\n",
      " 67\n",
      " 67\n",
      " 66\n",
      " 54\n",
      " 73\n",
      " 71\n",
      "  8\n",
      "  1\n",
      " 73\n",
      " 73\n",
      " 56\n",
      " 68\n",
      " 73\n",
      " 58\n",
      " 69\n",
      " 54\n",
      " 61\n",
      "  2\n",
      " 56\n",
      " 68\n",
      " 65\n",
      " 54\n",
      " 59\n",
      " 54\n",
      "  2\n",
      " 58\n",
      " 65\n",
      " 72\n",
      "  2\n",
      " 69\n",
      " 71\n",
      " 65\n",
      "  2\n",
      " 54\n",
      " 56\n",
      "  2\n",
      "  2\n",
      "  4\n",
      " 73\n",
      " 71\n",
      "  2\n",
      " 58\n",
      " 78\n",
      "  2\n",
      " 73\n",
      " 67\n",
      " 56\n",
      " 61\n",
      " 65\n",
      " 39\n",
      " 72\n",
      " 57\n",
      " 72\n",
      " 62\n",
      " 67\n",
      " 13\n",
      " 61\n",
      " 67\n",
      " 56\n",
      " 61\n",
      "  2\n",
      " 65\n",
      " 67\n",
      "  4\n",
      "  2\n",
      " 62\n",
      " 75\n",
      " 73\n",
      "[torch.cuda.LongTensor of size 512 (GPU 0)]\n",
      "\n",
      "torch.Size([512, 256])\n",
      "torch.Size([512])\n",
      "torch.Size([512, 42])\n",
      "Variable containing:\n",
      "  2\n",
      " 57\n",
      " 72\n",
      " 67\n",
      " 68\n",
      "  2\n",
      "  2\n",
      " 56\n",
      " 54\n",
      " 73\n",
      " 66\n",
      " 72\n",
      " 73\n",
      "  2\n",
      " 74\n",
      " 24\n",
      "  2\n",
      " 67\n",
      " 71\n",
      " 58\n",
      "  2\n",
      " 58\n",
      " 59\n",
      " 62\n",
      " 74\n",
      " 65\n",
      " 71\n",
      " 67\n",
      "  1\n",
      " 57\n",
      " 72\n",
      "  2\n",
      " 67\n",
      " 75\n",
      "  2\n",
      " 67\n",
      " 70\n",
      " 58\n",
      " 66\n",
      " 74\n",
      " 58\n",
      "  1\n",
      " 62\n",
      " 58\n",
      " 61\n",
      " 57\n",
      " 67\n",
      " 67\n",
      " 73\n",
      " 54\n",
      "  2\n",
      " 72\n",
      " 22\n",
      " 69\n",
      " 67\n",
      " 62\n",
      "  8\n",
      " 68\n",
      "  2\n",
      " 62\n",
      " 73\n",
      " 66\n",
      " 54\n",
      " 66\n",
      " 73\n",
      " 54\n",
      " 62\n",
      " 57\n",
      " 61\n",
      " 54\n",
      " 73\n",
      "  2\n",
      " 72\n",
      " 63\n",
      " 54\n",
      "  8\n",
      " 71\n",
      " 72\n",
      "  2\n",
      " 68\n",
      " 73\n",
      "  2\n",
      " 66\n",
      " 62\n",
      "  2\n",
      " 62\n",
      "  2\n",
      " 57\n",
      " 73\n",
      " 58\n",
      " 61\n",
      "  2\n",
      " 68\n",
      " 52\n",
      "  2\n",
      " 58\n",
      " 54\n",
      " 38\n",
      "  1\n",
      " 62\n",
      "  2\n",
      " 37\n",
      "  2\n",
      " 66\n",
      " 54\n",
      "  2\n",
      " 72\n",
      "  9\n",
      " 66\n",
      " 33\n",
      "  1\n",
      " 58\n",
      " 61\n",
      " 71\n",
      " 65\n",
      " 25\n",
      " 58\n",
      " 67\n",
      " 58\n",
      " 58\n",
      " 61\n",
      "  2\n",
      "  1\n",
      " 54\n",
      " 61\n",
      " 58\n",
      " 74\n",
      " 58\n",
      " 60\n",
      " 63\n",
      "  2\n",
      " 68\n",
      " 58\n",
      " 68\n",
      " 65\n",
      "  2\n",
      "  2\n",
      " 75\n",
      " 73\n",
      " 73\n",
      " 72\n",
      "  2\n",
      " 58\n",
      " 73\n",
      " 62\n",
      " 67\n",
      " 68\n",
      "  8\n",
      " 65\n",
      " 73\n",
      " 72\n",
      "  9\n",
      " 71\n",
      " 62\n",
      " 78\n",
      " 66\n",
      "  2\n",
      " 61\n",
      " 67\n",
      " 67\n",
      " 54\n",
      " 68\n",
      " 78\n",
      " 72\n",
      " 58\n",
      " 61\n",
      " 67\n",
      " 67\n",
      " 58\n",
      " 66\n",
      " 54\n",
      " 67\n",
      " 65\n",
      " 58\n",
      " 68\n",
      " 58\n",
      " 62\n",
      " 72\n",
      " 61\n",
      " 54\n",
      " 68\n",
      "  2\n",
      " 60\n",
      " 60\n",
      " 61\n",
      " 54\n",
      "  2\n",
      " 72\n",
      " 68\n",
      " 33\n",
      " 62\n",
      " 61\n",
      "  2\n",
      " 69\n",
      " 62\n",
      " 33\n",
      "  8\n",
      " 66\n",
      " 73\n",
      " 57\n",
      "  2\n",
      "  2\n",
      " 69\n",
      "  2\n",
      " 72\n",
      " 65\n",
      " 72\n",
      " 54\n",
      " 68\n",
      " 76\n",
      " 58\n",
      " 54\n",
      " 62\n",
      " 71\n",
      " 76\n",
      " 10\n",
      " 58\n",
      " 71\n",
      " 68\n",
      " 66\n",
      "  2\n",
      " 73\n",
      " 58\n",
      "  2\n",
      " 61\n",
      " 71\n",
      " 56\n",
      " 56\n",
      " 73\n",
      " 67\n",
      " 72\n",
      "  2\n",
      " 72\n",
      " 57\n",
      " 54\n",
      "  2\n",
      " 58\n",
      "  2\n",
      " 54\n",
      " 72\n",
      " 76\n",
      "  1\n",
      "  2\n",
      " 62\n",
      " 68\n",
      " 54\n",
      " 61\n",
      "  2\n",
      "  2\n",
      " 55\n",
      " 56\n",
      "  2\n",
      "  8\n",
      " 68\n",
      " 64\n",
      " 54\n",
      " 58\n",
      " 75\n",
      " 74\n",
      " 68\n",
      " 36\n",
      " 68\n",
      "  2\n",
      " 68\n",
      " 58\n",
      " 73\n",
      "  2\n",
      " 75\n",
      " 73\n",
      " 55\n",
      " 59\n",
      " 29\n",
      " 71\n",
      " 55\n",
      " 60\n",
      " 66\n",
      " 73\n",
      " 57\n",
      " 74\n",
      " 67\n",
      " 62\n",
      " 58\n",
      "  2\n",
      " 73\n",
      " 61\n",
      " 61\n",
      " 61\n",
      " 62\n",
      " 74\n",
      "  2\n",
      " 57\n",
      " 56\n",
      "  4\n",
      " 70\n",
      " 58\n",
      " 54\n",
      " 71\n",
      " 68\n",
      " 71\n",
      " 71\n",
      " 66\n",
      " 59\n",
      "  2\n",
      " 66\n",
      " 58\n",
      " 68\n",
      " 71\n",
      " 65\n",
      " 61\n",
      " 58\n",
      " 58\n",
      " 58\n",
      "  2\n",
      " 74\n",
      " 72\n",
      " 68\n",
      " 58\n",
      " 73\n",
      " 78\n",
      " 72\n",
      " 69\n",
      " 72\n",
      "  1\n",
      "  8\n",
      " 61\n",
      " 54\n",
      " 67\n",
      " 69\n",
      " 73\n",
      " 62\n",
      " 68\n",
      " 62\n",
      " 58\n",
      " 68\n",
      " 54\n",
      " 61\n",
      " 39\n",
      " 67\n",
      " 73\n",
      " 58\n",
      " 62\n",
      " 65\n",
      "  2\n",
      "  2\n",
      " 68\n",
      "  2\n",
      " 66\n",
      " 54\n",
      " 62\n",
      " 56\n",
      " 72\n",
      "  2\n",
      " 78\n",
      " 62\n",
      " 59\n",
      " 72\n",
      " 68\n",
      " 56\n",
      " 78\n",
      "  2\n",
      " 66\n",
      " 74\n",
      "  9\n",
      "  2\n",
      " 62\n",
      " 60\n",
      " 62\n",
      " 58\n",
      " 58\n",
      " 67\n",
      " 56\n",
      " 72\n",
      " 75\n",
      " 66\n",
      " 71\n",
      " 67\n",
      "  2\n",
      " 64\n",
      " 56\n",
      "  2\n",
      " 69\n",
      " 62\n",
      " 62\n",
      " 73\n",
      " 71\n",
      " 56\n",
      " 69\n",
      " 58\n",
      " 60\n",
      " 61\n",
      " 54\n",
      " 72\n",
      " 68\n",
      " 62\n",
      " 38\n",
      " 62\n",
      " 54\n",
      " 21\n",
      " 58\n",
      " 71\n",
      "  2\n",
      " 54\n",
      "  2\n",
      " 73\n",
      " 58\n",
      " 65\n",
      " 68\n",
      " 54\n",
      " 58\n",
      " 58\n",
      "  2\n",
      " 56\n",
      " 67\n",
      " 61\n",
      " 67\n",
      " 71\n",
      " 58\n",
      " 62\n",
      " 58\n",
      " 65\n",
      " 67\n",
      " 78\n",
      " 67\n",
      " 73\n",
      "  2\n",
      " 67\n",
      " 65\n",
      "  2\n",
      " 71\n",
      "  2\n",
      " 54\n",
      "  2\n",
      "  2\n",
      " 61\n",
      "  2\n",
      " 68\n",
      "  2\n",
      " 72\n",
      "  2\n",
      " 67\n",
      "  2\n",
      " 57\n",
      " 56\n",
      "  2\n",
      " 60\n",
      "  2\n",
      " 54\n",
      " 66\n",
      "  2\n",
      " 71\n",
      "  2\n",
      " 59\n",
      " 71\n",
      " 68\n",
      " 68\n",
      " 59\n",
      " 61\n",
      "  2\n",
      " 78\n",
      " 65\n",
      " 58\n",
      " 54\n",
      " 61\n",
      " 71\n",
      " 58\n",
      " 60\n",
      " 68\n",
      " 73\n",
      " 72\n",
      " 66\n",
      " 62\n",
      " 56\n",
      " 69\n",
      " 74\n",
      " 58\n",
      " 62\n",
      " 54\n",
      " 71\n",
      " 58\n",
      " 54\n",
      " 25\n",
      "  2\n",
      " 61\n",
      " 62\n",
      " 65\n",
      "  1\n",
      "  8\n",
      " 61\n",
      " 62\n",
      " 60\n",
      " 58\n",
      " 54\n",
      " 74\n",
      " 44\n",
      " 62\n",
      "  4\n",
      " 73\n",
      " 56\n",
      " 54\n",
      " 20\n",
      " 74\n",
      " 73\n",
      " 58\n",
      " 58\n",
      " 68\n",
      " 73\n",
      " 73\n",
      "  2\n",
      " 58\n",
      " 67\n",
      " 58\n",
      "  2\n",
      "[torch.cuda.LongTensor of size 512 (GPU 0)]\n",
      "\n",
      "torch.Size([512, 256])\n",
      "torch.Size([512])\n",
      "torch.Size([512, 42])\n",
      "Variable containing:\n",
      " 68\n",
      " 54\n",
      " 74\n",
      " 57\n",
      " 72\n",
      " 73\n",
      " 69\n",
      " 58\n",
      " 67\n",
      " 61\n",
      " 54\n",
      "  2\n",
      " 78\n",
      " 61\n",
      " 69\n",
      "  1\n",
      " 42\n",
      " 73\n",
      " 78\n",
      " 58\n",
      " 76\n",
      " 72\n",
      "  2\n",
      " 72\n",
      " 72\n",
      " 54\n",
      " 54\n",
      " 73\n",
      " 23\n",
      "  2\n",
      " 62\n",
      " 69\n",
      "  2\n",
      " 58\n",
      " 76\n",
      "  1\n",
      " 74\n",
      "  2\n",
      " 68\n",
      " 66\n",
      "  1\n",
      " 45\n",
      " 67\n",
      "  2\n",
      " 58\n",
      " 74\n",
      " 60\n",
      " 73\n",
      "  2\n",
      " 73\n",
      " 73\n",
      " 74\n",
      "  2\n",
      " 69\n",
      "  2\n",
      " 72\n",
      "  2\n",
      "  2\n",
      " 66\n",
      " 58\n",
      " 58\n",
      "  2\n",
      " 72\n",
      " 54\n",
      "  2\n",
      "  2\n",
      " 68\n",
      " 68\n",
      " 58\n",
      " 69\n",
      " 61\n",
      " 73\n",
      "  8\n",
      " 74\n",
      " 67\n",
      "  2\n",
      " 78\n",
      "  2\n",
      " 62\n",
      " 73\n",
      " 61\n",
      " 72\n",
      " 54\n",
      " 67\n",
      " 72\n",
      " 54\n",
      " 59\n",
      " 58\n",
      " 78\n",
      " 76\n",
      " 58\n",
      " 35\n",
      " 67\n",
      "  2\n",
      " 58\n",
      "  2\n",
      " 71\n",
      " 44\n",
      " 38\n",
      " 67\n",
      " 73\n",
      " 26\n",
      " 69\n",
      " 58\n",
      " 67\n",
      " 55\n",
      "  8\n",
      " 27\n",
      " 66\n",
      " 29\n",
      " 72\n",
      " 67\n",
      " 58\n",
      " 58\n",
      " 59\n",
      " 38\n",
      "  2\n",
      "  8\n",
      "  2\n",
      " 67\n",
      " 54\n",
      " 62\n",
      " 76\n",
      " 67\n",
      " 58\n",
      " 65\n",
      " 73\n",
      " 71\n",
      " 74\n",
      " 68\n",
      " 68\n",
      " 58\n",
      " 72\n",
      " 57\n",
      " 72\n",
      " 72\n",
      " 68\n",
      " 58\n",
      " 55\n",
      " 62\n",
      " 62\n",
      " 69\n",
      " 66\n",
      " 68\n",
      " 73\n",
      "  2\n",
      " 75\n",
      "  2\n",
      " 78\n",
      " 61\n",
      "  2\n",
      " 54\n",
      " 54\n",
      " 73\n",
      "  2\n",
      " 54\n",
      " 68\n",
      " 58\n",
      "  2\n",
      " 54\n",
      " 73\n",
      " 74\n",
      "  2\n",
      " 78\n",
      "  2\n",
      " 54\n",
      " 73\n",
      " 57\n",
      "  2\n",
      " 54\n",
      " 71\n",
      " 58\n",
      " 54\n",
      "  1\n",
      " 74\n",
      " 71\n",
      " 73\n",
      " 58\n",
      " 54\n",
      "  2\n",
      " 67\n",
      " 55\n",
      " 61\n",
      " 68\n",
      " 58\n",
      " 75\n",
      " 68\n",
      "  2\n",
      " 69\n",
      " 72\n",
      " 72\n",
      " 58\n",
      " 62\n",
      " 62\n",
      " 68\n",
      " 38\n",
      "  1\n",
      " 54\n",
      " 61\n",
      "  2\n",
      " 61\n",
      " 73\n",
      " 58\n",
      " 68\n",
      " 58\n",
      " 65\n",
      "  2\n",
      " 67\n",
      " 69\n",
      " 61\n",
      "  2\n",
      " 73\n",
      " 56\n",
      " 58\n",
      " 62\n",
      "  1\n",
      "  2\n",
      "  2\n",
      " 67\n",
      " 58\n",
      " 69\n",
      " 62\n",
      " 67\n",
      " 56\n",
      " 62\n",
      " 58\n",
      " 74\n",
      " 58\n",
      " 61\n",
      " 56\n",
      "  2\n",
      " 72\n",
      " 58\n",
      "  2\n",
      " 73\n",
      " 70\n",
      "  3\n",
      " 73\n",
      " 71\n",
      " 68\n",
      " 67\n",
      " 76\n",
      " 29\n",
      " 67\n",
      " 71\n",
      " 65\n",
      " 54\n",
      " 73\n",
      " 73\n",
      " 68\n",
      " 68\n",
      " 47\n",
      "  2\n",
      "  2\n",
      " 62\n",
      " 72\n",
      " 72\n",
      " 58\n",
      " 71\n",
      " 71\n",
      " 62\n",
      " 60\n",
      " 59\n",
      "  2\n",
      " 67\n",
      " 61\n",
      " 68\n",
      " 62\n",
      " 62\n",
      " 63\n",
      " 54\n",
      " 75\n",
      " 73\n",
      " 68\n",
      " 65\n",
      " 58\n",
      " 61\n",
      "  2\n",
      " 62\n",
      " 73\n",
      " 67\n",
      " 57\n",
      " 54\n",
      " 61\n",
      " 58\n",
      " 71\n",
      " 62\n",
      " 75\n",
      " 73\n",
      " 76\n",
      "  2\n",
      " 68\n",
      "  3\n",
      " 74\n",
      "  5\n",
      "  2\n",
      " 72\n",
      " 59\n",
      "  2\n",
      " 73\n",
      " 69\n",
      "  2\n",
      "  4\n",
      " 68\n",
      "  2\n",
      " 72\n",
      " 54\n",
      " 58\n",
      " 62\n",
      " 66\n",
      "  8\n",
      " 67\n",
      " 73\n",
      " 73\n",
      " 58\n",
      " 67\n",
      "  2\n",
      " 61\n",
      " 72\n",
      " 72\n",
      " 71\n",
      " 73\n",
      " 76\n",
      "  2\n",
      " 58\n",
      " 67\n",
      " 68\n",
      " 71\n",
      "  2\n",
      " 73\n",
      " 56\n",
      " 72\n",
      " 67\n",
      " 67\n",
      " 73\n",
      " 62\n",
      " 67\n",
      " 68\n",
      " 68\n",
      " 72\n",
      " 73\n",
      " 62\n",
      " 56\n",
      " 56\n",
      " 74\n",
      " 68\n",
      " 68\n",
      " 72\n",
      " 73\n",
      " 61\n",
      "  4\n",
      " 72\n",
      " 66\n",
      " 60\n",
      "  2\n",
      "  2\n",
      " 66\n",
      " 74\n",
      "  8\n",
      " 55\n",
      " 58\n",
      " 62\n",
      "  9\n",
      " 62\n",
      " 67\n",
      " 68\n",
      " 72\n",
      " 72\n",
      "  2\n",
      " 57\n",
      " 54\n",
      " 68\n",
      " 62\n",
      " 58\n",
      " 78\n",
      " 73\n",
      " 76\n",
      " 58\n",
      "  9\n",
      " 58\n",
      " 71\n",
      " 71\n",
      " 67\n",
      " 62\n",
      " 69\n",
      " 54\n",
      " 68\n",
      " 71\n",
      " 58\n",
      " 68\n",
      " 73\n",
      "  2\n",
      " 65\n",
      " 71\n",
      " 27\n",
      " 54\n",
      " 65\n",
      "  2\n",
      " 71\n",
      " 78\n",
      " 68\n",
      " 71\n",
      " 55\n",
      " 62\n",
      "  1\n",
      " 58\n",
      " 57\n",
      "  2\n",
      "  2\n",
      " 76\n",
      " 73\n",
      " 61\n",
      "  2\n",
      " 58\n",
      " 57\n",
      " 71\n",
      " 75\n",
      " 67\n",
      "  2\n",
      " 65\n",
      " 58\n",
      "  2\n",
      " 57\n",
      " 61\n",
      " 62\n",
      " 73\n",
      " 62\n",
      " 68\n",
      " 58\n",
      " 68\n",
      " 73\n",
      " 61\n",
      " 76\n",
      " 58\n",
      " 58\n",
      " 66\n",
      " 73\n",
      "  2\n",
      " 71\n",
      " 60\n",
      " 56\n",
      "  2\n",
      " 73\n",
      " 72\n",
      "  2\n",
      " 54\n",
      " 78\n",
      " 62\n",
      " 76\n",
      " 62\n",
      " 61\n",
      " 54\n",
      " 74\n",
      " 60\n",
      " 74\n",
      "  2\n",
      "  2\n",
      " 54\n",
      "  2\n",
      "  2\n",
      "  2\n",
      " 71\n",
      "  2\n",
      " 73\n",
      " 54\n",
      " 71\n",
      " 71\n",
      "  2\n",
      " 58\n",
      "  2\n",
      " 73\n",
      " 62\n",
      " 65\n",
      " 65\n",
      " 67\n",
      " 58\n",
      " 72\n",
      " 58\n",
      " 71\n",
      "  2\n",
      " 36\n",
      " 30\n",
      " 58\n",
      " 68\n",
      " 68\n",
      " 62\n",
      "  2\n",
      " 58\n",
      " 74\n",
      "  2\n",
      " 71\n",
      " 73\n",
      " 58\n",
      " 38\n",
      " 73\n",
      "  1\n",
      "  2\n",
      " 64\n",
      " 71\n",
      " 10\n",
      " 72\n",
      " 10\n",
      "  9\n",
      " 57\n",
      " 67\n",
      "  2\n",
      "  2\n",
      " 68\n",
      " 67\n",
      " 72\n",
      "  2\n",
      " 59\n",
      "[torch.cuda.LongTensor of size 512 (GPU 0)]\n"
     ]
    },
    {
     "name": "stdout",
     "output_type": "stream",
     "text": [
      "\n"
     ]
    }
   ],
   "source": [
    "it = iter(md.trn_dl)\n",
    "*xs,yt = next(it)\n",
    "t = m(*V(xs))"
   ]
  },
  {
   "cell_type": "code",
   "execution_count": 95,
   "metadata": {
    "scrolled": false
   },
   "outputs": [
    {
     "data": {
      "application/vnd.jupyter.widget-view+json": {
       "model_id": "d1b3572e787441d8b2e5d80317245596",
       "version_major": 2,
       "version_minor": 0
      },
      "text/plain": [
       "A Jupyter Widget"
      ]
     },
     "metadata": {},
     "output_type": "display_data"
    },
    {
     "name": "stdout",
     "output_type": "stream",
     "text": [
      "[ 0.       1.81654  1.78501]                                \n",
      "\n"
     ]
    }
   ],
   "source": [
    "fit(m, md, 1, opt, F.nll_loss)"
   ]
  },
  {
   "cell_type": "code",
   "execution_count": 96,
   "metadata": {
    "collapsed": true
   },
   "outputs": [],
   "source": [
    "set_lrs(opt, 1e-4)"
   ]
  },
  {
   "cell_type": "code",
   "execution_count": 97,
   "metadata": {},
   "outputs": [
    {
     "data": {
      "application/vnd.jupyter.widget-view+json": {
       "model_id": "9aa67fbb4a2f42509dbe7753bc86d9a1",
       "version_major": 2,
       "version_minor": 0
      },
      "text/plain": [
       "A Jupyter Widget"
      ]
     },
     "metadata": {},
     "output_type": "display_data"
    },
    {
     "name": "stdout",
     "output_type": "stream",
     "text": [
      "[ 0.       1.69008  1.69936]                                 \n",
      "\n"
     ]
    }
   ],
   "source": [
    "fit(m, md, 1, opt, F.nll_loss)"
   ]
  },
  {
   "cell_type": "markdown",
   "metadata": {
    "heading_collapsed": true
   },
   "source": [
    "### Test model"
   ]
  },
  {
   "cell_type": "code",
   "execution_count": 98,
   "metadata": {
    "collapsed": true,
    "hidden": true
   },
   "outputs": [],
   "source": [
    "def get_next(inp):\n",
    "    idxs = T(np.array([char_indices[c] for c in inp]))\n",
    "    p = m(*VV(idxs))\n",
    "    i = np.argmax(to_np(p))\n",
    "    return chars[i]"
   ]
  },
  {
   "cell_type": "code",
   "execution_count": 99,
   "metadata": {
    "hidden": true
   },
   "outputs": [
    {
     "data": {
      "text/plain": [
       "'e'"
      ]
     },
     "execution_count": 99,
     "metadata": {},
     "output_type": "execute_result"
    }
   ],
   "source": [
    "get_next('for thos')"
   ]
  },
  {
   "cell_type": "code",
   "execution_count": 100,
   "metadata": {
    "hidden": true
   },
   "outputs": [
    {
     "data": {
      "text/plain": [
       "'t'"
      ]
     },
     "execution_count": 100,
     "metadata": {},
     "output_type": "execute_result"
    }
   ],
   "source": [
    "get_next('part of ')"
   ]
  },
  {
   "cell_type": "code",
   "execution_count": 101,
   "metadata": {
    "hidden": true
   },
   "outputs": [
    {
     "data": {
      "text/plain": [
       "'n'"
      ]
     },
     "execution_count": 101,
     "metadata": {},
     "output_type": "execute_result"
    }
   ],
   "source": [
    "get_next('queens a')"
   ]
  },
  {
   "cell_type": "markdown",
   "metadata": {
    "collapsed": true
   },
   "source": [
    "## RNN with pytorch"
   ]
  },
  {
   "cell_type": "code",
   "execution_count": 108,
   "metadata": {
    "collapsed": true
   },
   "outputs": [],
   "source": [
    "class CharRnn(nn.Module):\n",
    "    def __init__(self, vocab_size, n_fac):\n",
    "        super().__init__()\n",
    "        self.e = nn.Embedding(vocab_size, n_fac)\n",
    "        self.rnn = nn.RNN(n_fac, n_hidden)\n",
    "        self.l_out = nn.Linear(n_hidden, vocab_size)\n",
    "        \n",
    "    def forward(self, *cs):\n",
    "        bs = cs[0].size(0)\n",
    "        h = V(torch.zeros(1, bs, n_hidden))\n",
    "        inp = self.e(torch.stack(cs))\n",
    "        outp,h = self.rnn(inp, h)\n",
    "        \n",
    "        return F.log_softmax(self.l_out(outp[-1]), dim=-1)"
   ]
  },
  {
   "cell_type": "code",
   "execution_count": 109,
   "metadata": {
    "collapsed": true
   },
   "outputs": [],
   "source": [
    "m = CharRnn(vocab_size, n_fac).cuda()\n",
    "opt = optim.Adam(m.parameters(), 1e-3)"
   ]
  },
  {
   "cell_type": "code",
   "execution_count": 110,
   "metadata": {
    "collapsed": true
   },
   "outputs": [],
   "source": [
    "it = iter(md.trn_dl)\n",
    "*xs,yt = next(it)"
   ]
  },
  {
   "cell_type": "code",
   "execution_count": 111,
   "metadata": {},
   "outputs": [
    {
     "data": {
      "text/plain": [
       "torch.Size([8, 512, 42])"
      ]
     },
     "execution_count": 111,
     "metadata": {},
     "output_type": "execute_result"
    }
   ],
   "source": [
    "t = m.e(V(torch.stack(xs)))\n",
    "t.size()"
   ]
  },
  {
   "cell_type": "code",
   "execution_count": 112,
   "metadata": {},
   "outputs": [
    {
     "data": {
      "text/plain": [
       "(torch.Size([8, 512, 256]), torch.Size([1, 512, 256]))"
      ]
     },
     "execution_count": 112,
     "metadata": {},
     "output_type": "execute_result"
    }
   ],
   "source": [
    "ht = V(torch.zeros(1, 512,n_hidden))\n",
    "outp, hn = m.rnn(t, ht)\n",
    "outp.size(), hn.size()"
   ]
  },
  {
   "cell_type": "code",
   "execution_count": 113,
   "metadata": {},
   "outputs": [
    {
     "data": {
      "text/plain": [
       "torch.Size([512, 85])"
      ]
     },
     "execution_count": 113,
     "metadata": {},
     "output_type": "execute_result"
    }
   ],
   "source": [
    "t = m(*V(xs)); t.size()"
   ]
  },
  {
   "cell_type": "code",
   "execution_count": 114,
   "metadata": {
    "scrolled": false
   },
   "outputs": [
    {
     "data": {
      "application/vnd.jupyter.widget-view+json": {
       "model_id": "497078d15ec348149442681039df2e50",
       "version_major": 2,
       "version_minor": 0
      },
      "text/plain": [
       "A Jupyter Widget"
      ]
     },
     "metadata": {},
     "output_type": "display_data"
    },
    {
     "name": "stdout",
     "output_type": "stream",
     "text": [
      "[ 0.       1.86065  1.84255]                                 \n",
      "[ 1.       1.68014  1.67387]                                 \n",
      "[ 2.       1.58828  1.59169]                                 \n",
      "[ 3.       1.52989  1.54942]                                 \n",
      "\n"
     ]
    }
   ],
   "source": [
    "fit(m, md, 4, opt, F.nll_loss)"
   ]
  },
  {
   "cell_type": "code",
   "execution_count": 115,
   "metadata": {
    "collapsed": true
   },
   "outputs": [],
   "source": [
    "set_lrs(opt, 1e-4)"
   ]
  },
  {
   "cell_type": "code",
   "execution_count": 116,
   "metadata": {},
   "outputs": [
    {
     "data": {
      "application/vnd.jupyter.widget-view+json": {
       "model_id": "65a2f7bedaa34de2a40296a07387c1c9",
       "version_major": 2,
       "version_minor": 0
      },
      "text/plain": [
       "A Jupyter Widget"
      ]
     },
     "metadata": {},
     "output_type": "display_data"
    },
    {
     "name": "stdout",
     "output_type": "stream",
     "text": [
      "[ 0.       1.46841  1.50966]                                 \n",
      "[ 1.       1.46482  1.5039 ]                                 \n",
      "\n"
     ]
    }
   ],
   "source": [
    "fit(m, md, 2, opt, F.nll_loss)"
   ]
  },
  {
   "cell_type": "markdown",
   "metadata": {
    "heading_collapsed": true
   },
   "source": [
    "### Test model"
   ]
  },
  {
   "cell_type": "code",
   "execution_count": 117,
   "metadata": {
    "collapsed": true,
    "hidden": true
   },
   "outputs": [],
   "source": [
    "def get_next(inp):\n",
    "    idxs = T(np.array([char_indices[c] for c in inp]))\n",
    "    p = m(*VV(idxs))\n",
    "    i = np.argmax(to_np(p))\n",
    "    return chars[i]"
   ]
  },
  {
   "cell_type": "code",
   "execution_count": 118,
   "metadata": {
    "hidden": true
   },
   "outputs": [
    {
     "data": {
      "text/plain": [
       "'e'"
      ]
     },
     "execution_count": 118,
     "metadata": {},
     "output_type": "execute_result"
    }
   ],
   "source": [
    "get_next('for thos')"
   ]
  },
  {
   "cell_type": "code",
   "execution_count": 119,
   "metadata": {
    "collapsed": true,
    "hidden": true
   },
   "outputs": [],
   "source": [
    "def get_next_n(inp, n):\n",
    "    res = inp\n",
    "    for i in range(n):\n",
    "        c = get_next(inp)\n",
    "        res += c\n",
    "        inp = inp[1:]+c\n",
    "    return res"
   ]
  },
  {
   "cell_type": "code",
   "execution_count": 120,
   "metadata": {
    "hidden": true
   },
   "outputs": [
    {
     "data": {
      "text/plain": [
       "'for those the same the same the same the same th'"
      ]
     },
     "execution_count": 120,
     "metadata": {},
     "output_type": "execute_result"
    }
   ],
   "source": [
    "get_next_n('for thos', 40)"
   ]
  },
  {
   "cell_type": "markdown",
   "metadata": {
    "collapsed": true
   },
   "source": [
    "## Multi-output model"
   ]
  },
  {
   "cell_type": "markdown",
   "metadata": {},
   "source": [
    "### Setup"
   ]
  },
  {
   "cell_type": "markdown",
   "metadata": {},
   "source": [
    "Let's take non-overlapping sets of characters this time"
   ]
  },
  {
   "cell_type": "code",
   "execution_count": 19,
   "metadata": {
    "collapsed": true
   },
   "outputs": [],
   "source": [
    "c_in_dat = [[idx[i+j] for i in range(cs)] for j in range(0, len(idx)-cs-1, cs)]"
   ]
  },
  {
   "cell_type": "markdown",
   "metadata": {},
   "source": [
    "Then create the exact same thing, offset by 1, as our labels"
   ]
  },
  {
   "cell_type": "code",
   "execution_count": 20,
   "metadata": {
    "collapsed": true
   },
   "outputs": [],
   "source": [
    "c_out_dat = [[idx[i+j] for i in range(cs)] for j in range(1, len(idx)-cs, cs)]"
   ]
  },
  {
   "cell_type": "code",
   "execution_count": 21,
   "metadata": {},
   "outputs": [
    {
     "data": {
      "text/plain": [
       "(75111, 8)"
      ]
     },
     "execution_count": 21,
     "metadata": {},
     "output_type": "execute_result"
    }
   ],
   "source": [
    "xs = np.stack(c_in_dat)\n",
    "xs.shape"
   ]
  },
  {
   "cell_type": "code",
   "execution_count": 22,
   "metadata": {},
   "outputs": [
    {
     "data": {
      "text/plain": [
       "(75111, 8)"
      ]
     },
     "execution_count": 22,
     "metadata": {},
     "output_type": "execute_result"
    }
   ],
   "source": [
    "ys = np.stack(c_out_dat)\n",
    "ys.shape"
   ]
  },
  {
   "cell_type": "code",
   "execution_count": 23,
   "metadata": {},
   "outputs": [
    {
     "data": {
      "text/plain": [
       "array([[40, 42, 29, 30, 25, 27, 29,  1],\n",
       "       [ 1,  1, 43, 45, 40, 40, 39, 43],\n",
       "       [33, 38, 31,  2, 73, 61, 54, 73],\n",
       "       [ 2, 44, 71, 74, 73, 61,  2, 62],\n",
       "       [72,  2, 54,  2, 76, 68, 66, 54],\n",
       "       [67,  9,  9, 76, 61, 54, 73,  2],\n",
       "       [73, 61, 58, 67, 24,  2, 33, 72],\n",
       "       [ 2, 73, 61, 58, 71, 58,  2, 67]])"
      ]
     },
     "execution_count": 23,
     "metadata": {},
     "output_type": "execute_result"
    }
   ],
   "source": [
    "xs[:cs,:cs]"
   ]
  },
  {
   "cell_type": "code",
   "execution_count": 24,
   "metadata": {},
   "outputs": [
    {
     "data": {
      "text/plain": [
       "array([[42, 29, 30, 25, 27, 29,  1,  1],\n",
       "       [ 1, 43, 45, 40, 40, 39, 43, 33],\n",
       "       [38, 31,  2, 73, 61, 54, 73,  2],\n",
       "       [44, 71, 74, 73, 61,  2, 62, 72],\n",
       "       [ 2, 54,  2, 76, 68, 66, 54, 67],\n",
       "       [ 9,  9, 76, 61, 54, 73,  2, 73],\n",
       "       [61, 58, 67, 24,  2, 33, 72,  2],\n",
       "       [73, 61, 58, 71, 58,  2, 67, 68]])"
      ]
     },
     "execution_count": 24,
     "metadata": {},
     "output_type": "execute_result"
    }
   ],
   "source": [
    "ys[:cs,:cs]"
   ]
  },
  {
   "cell_type": "markdown",
   "metadata": {},
   "source": [
    "### Create and train model"
   ]
  },
  {
   "cell_type": "code",
   "execution_count": 127,
   "metadata": {
    "collapsed": true
   },
   "outputs": [],
   "source": [
    "val_idx = get_cv_idxs(len(xs)-cs-1)"
   ]
  },
  {
   "cell_type": "code",
   "execution_count": 128,
   "metadata": {
    "collapsed": true
   },
   "outputs": [],
   "source": [
    "md = ColumnarModelData.from_arrays('.', val_idx, xs, ys, bs=512)"
   ]
  },
  {
   "cell_type": "code",
   "execution_count": 133,
   "metadata": {
    "collapsed": true
   },
   "outputs": [],
   "source": [
    "class CharSeqRnn(nn.Module):\n",
    "    def __init__(self, vocab_size, n_fac):\n",
    "        super().__init__()\n",
    "        self.e = nn.Embedding(vocab_size, n_fac)\n",
    "        self.rnn = nn.RNN(n_fac, n_hidden)\n",
    "        self.l_out = nn.Linear(n_hidden, vocab_size)\n",
    "        \n",
    "    def forward(self, *cs):\n",
    "        bs = cs[0].size(0)\n",
    "        h = V(torch.zeros(1, bs, n_hidden))\n",
    "        inp = self.e(torch.stack(cs))\n",
    "        outp,h = self.rnn(inp, h)\n",
    "        return F.log_softmax(self.l_out(outp), dim=-1)"
   ]
  },
  {
   "cell_type": "code",
   "execution_count": 134,
   "metadata": {
    "collapsed": true
   },
   "outputs": [],
   "source": [
    "m = CharSeqRnn(vocab_size, n_fac).cuda()\n",
    "opt = optim.Adam(m.parameters(), 1e-3)"
   ]
  },
  {
   "cell_type": "code",
   "execution_count": 135,
   "metadata": {
    "collapsed": true
   },
   "outputs": [],
   "source": [
    "it = iter(md.trn_dl)\n",
    "*xst,yt = next(it)"
   ]
  },
  {
   "cell_type": "code",
   "execution_count": 136,
   "metadata": {
    "collapsed": true
   },
   "outputs": [],
   "source": [
    "def nll_loss_seq(inp, targ):\n",
    "    sl,bs,nh = inp.size()\n",
    "    targ = targ.transpose(0,1).contiguous().view(-1)\n",
    "    return F.nll_loss(inp.view(-1,nh), targ)"
   ]
  },
  {
   "cell_type": "code",
   "execution_count": 137,
   "metadata": {
    "scrolled": false
   },
   "outputs": [
    {
     "data": {
      "application/vnd.jupyter.widget-view+json": {
       "model_id": "725ca331d28b482e9c7a4f83f741498e",
       "version_major": 2,
       "version_minor": 0
      },
      "text/plain": [
       "A Jupyter Widget"
      ]
     },
     "metadata": {},
     "output_type": "display_data"
    },
    {
     "name": "stdout",
     "output_type": "stream",
     "text": [
      "[ 0.       2.59241  2.40251]                                \n",
      "[ 1.       2.28474  2.19859]                                \n",
      "[ 2.       2.13883  2.08836]                                \n",
      "[ 3.       2.04892  2.01564]                                \n",
      "\n"
     ]
    }
   ],
   "source": [
    "fit(m, md, 4, opt, nll_loss_seq)"
   ]
  },
  {
   "cell_type": "code",
   "execution_count": 138,
   "metadata": {
    "collapsed": true
   },
   "outputs": [],
   "source": [
    "set_lrs(opt, 1e-4)"
   ]
  },
  {
   "cell_type": "code",
   "execution_count": 139,
   "metadata": {},
   "outputs": [
    {
     "data": {
      "application/vnd.jupyter.widget-view+json": {
       "model_id": "adb9aa22524d4bfd8b001d2efd10dbc3",
       "version_major": 2,
       "version_minor": 0
      },
      "text/plain": [
       "A Jupyter Widget"
      ]
     },
     "metadata": {},
     "output_type": "display_data"
    },
    {
     "name": "stdout",
     "output_type": "stream",
     "text": [
      "[ 0.       1.99819  2.00106]                               \n",
      "\n"
     ]
    }
   ],
   "source": [
    "fit(m, md, 1, opt, nll_loss_seq)"
   ]
  },
  {
   "cell_type": "markdown",
   "metadata": {
    "heading_collapsed": true
   },
   "source": [
    "### Identity init!"
   ]
  },
  {
   "cell_type": "code",
   "execution_count": 140,
   "metadata": {
    "collapsed": true,
    "hidden": true
   },
   "outputs": [],
   "source": [
    "m = CharSeqRnn(vocab_size, n_fac).cuda()\n",
    "opt = optim.Adam(m.parameters(), 1e-2)"
   ]
  },
  {
   "cell_type": "code",
   "execution_count": 141,
   "metadata": {
    "hidden": true
   },
   "outputs": [
    {
     "data": {
      "text/plain": [
       "\n",
       "    1     0     0  ...      0     0     0\n",
       "    0     1     0  ...      0     0     0\n",
       "    0     0     1  ...      0     0     0\n",
       "       ...          ⋱          ...       \n",
       "    0     0     0  ...      1     0     0\n",
       "    0     0     0  ...      0     1     0\n",
       "    0     0     0  ...      0     0     1\n",
       "[torch.cuda.FloatTensor of size 256x256 (GPU 0)]"
      ]
     },
     "execution_count": 141,
     "metadata": {},
     "output_type": "execute_result"
    }
   ],
   "source": [
    "m.rnn.weight_hh_l0.data.copy_(torch.eye(n_hidden))"
   ]
  },
  {
   "cell_type": "code",
   "execution_count": 142,
   "metadata": {
    "hidden": true,
    "scrolled": false
   },
   "outputs": [
    {
     "data": {
      "application/vnd.jupyter.widget-view+json": {
       "model_id": "8e141251f24d4083a6e8b2fa15dea724",
       "version_major": 2,
       "version_minor": 0
      },
      "text/plain": [
       "A Jupyter Widget"
      ]
     },
     "metadata": {},
     "output_type": "display_data"
    },
    {
     "name": "stdout",
     "output_type": "stream",
     "text": [
      "[ 0.       2.39428  2.21111]                                \n",
      "[ 1.       2.10381  2.03275]                                \n",
      "[ 2.       1.99451  1.96393]                               \n",
      "[ 3.       1.93492  1.91763]                                \n",
      "\n"
     ]
    }
   ],
   "source": [
    "fit(m, md, 4, opt, nll_loss_seq)"
   ]
  },
  {
   "cell_type": "code",
   "execution_count": 143,
   "metadata": {
    "collapsed": true,
    "hidden": true
   },
   "outputs": [],
   "source": [
    "set_lrs(opt, 1e-3)"
   ]
  },
  {
   "cell_type": "code",
   "execution_count": 144,
   "metadata": {
    "hidden": true
   },
   "outputs": [
    {
     "data": {
      "application/vnd.jupyter.widget-view+json": {
       "model_id": "ddf833e8b7ec4a3aa29dd271911f76ec",
       "version_major": 2,
       "version_minor": 0
      },
      "text/plain": [
       "A Jupyter Widget"
      ]
     },
     "metadata": {},
     "output_type": "display_data"
    },
    {
     "name": "stdout",
     "output_type": "stream",
     "text": [
      "[ 0.       1.84035  1.85742]                                \n",
      "[ 1.       1.82896  1.84887]                                \n",
      "[ 2.       1.81879  1.84281]                               \n",
      "[ 3.       1.81337  1.83801]                                \n",
      "\n"
     ]
    }
   ],
   "source": [
    "fit(m, md, 4, opt, nll_loss_seq)"
   ]
  },
  {
   "cell_type": "markdown",
   "metadata": {},
   "source": [
    "## Stateful model"
   ]
  },
  {
   "cell_type": "markdown",
   "metadata": {},
   "source": [
    "### Setup"
   ]
  },
  {
   "cell_type": "code",
   "execution_count": 15,
   "metadata": {},
   "outputs": [
    {
     "name": "stdout",
     "output_type": "stream",
     "text": [
      "\u001b[0m\u001b[01;34mmodels\u001b[0m/  nietzsche.txt  \u001b[01;34mtrn\u001b[0m/  \u001b[01;34mval\u001b[0m/\r\n"
     ]
    }
   ],
   "source": [
    "from torchtext import vocab, data\n",
    "\n",
    "from fastai.nlp import *\n",
    "from fastai.lm_rnn import *\n",
    "\n",
    "PATH='data/nietzsche/'\n",
    "\n",
    "TRN_PATH = 'trn/'\n",
    "VAL_PATH = 'val/'\n",
    "TRN = f'{PATH}{TRN_PATH}'\n",
    "VAL = f'{PATH}{VAL_PATH}'\n",
    "\n",
    "%ls {PATH}"
   ]
  },
  {
   "cell_type": "code",
   "execution_count": 16,
   "metadata": {},
   "outputs": [
    {
     "name": "stdout",
     "output_type": "stream",
     "text": [
      "trn.txt\r\n"
     ]
    }
   ],
   "source": [
    "%ls {PATH}trn"
   ]
  },
  {
   "cell_type": "code",
   "execution_count": 18,
   "metadata": {},
   "outputs": [
    {
     "data": {
      "text/plain": [
       "(963, 56, 1, 493747)"
      ]
     },
     "execution_count": 18,
     "metadata": {},
     "output_type": "execute_result"
    }
   ],
   "source": [
    "TEXT = data.Field(lower=True, tokenize=list)\n",
    "bs=64; bptt=8; n_fac=42; n_hidden=256\n",
    "\n",
    "FILES = dict(train=TRN_PATH, validation=VAL_PATH, test=VAL_PATH)\n",
    "md = LanguageModelData.from_text_files(PATH, TEXT, **FILES, bs=bs, bptt=bptt, min_freq=3)\n",
    "\n",
    "len(md.trn_dl), md.nt, len(md.trn_ds), len(md.trn_ds[0].text)"
   ]
  },
  {
   "cell_type": "markdown",
   "metadata": {},
   "source": [
    "### RNN"
   ]
  },
  {
   "cell_type": "code",
   "execution_count": 21,
   "metadata": {
    "collapsed": true
   },
   "outputs": [],
   "source": [
    "class CharSeqStatefulRnn(nn.Module):\n",
    "    def __init__(self, vocab_size, n_fac, bs):\n",
    "        self.vocab_size = vocab_size\n",
    "        super().__init__()\n",
    "        self.e = nn.Embedding(vocab_size, n_fac)\n",
    "        self.rnn = nn.RNN(n_fac, n_hidden)\n",
    "        self.l_out = nn.Linear(n_hidden, vocab_size)\n",
    "        self.init_hidden(bs)\n",
    "        \n",
    "    def forward(self, cs):\n",
    "        bs = cs[0].size(0)\n",
    "        if self.h.size(1) != bs: self.init_hidden(bs)\n",
    "        outp,h = self.rnn(self.e(cs), self.h)\n",
    "        self.h = repackage_var(h)\n",
    "        return F.log_softmax(self.l_out(outp), dim=-1).view(-1, self.vocab_size)\n",
    "    \n",
    "    def init_hidden(self, bs): self.h = V(torch.zeros(1, bs, n_hidden))"
   ]
  },
  {
   "cell_type": "code",
   "execution_count": 22,
   "metadata": {
    "collapsed": true
   },
   "outputs": [],
   "source": [
    "m = CharSeqStatefulRnn(md.nt, n_fac, 512).cuda()\n",
    "opt = optim.Adam(m.parameters(), 1e-3)"
   ]
  },
  {
   "cell_type": "code",
   "execution_count": 23,
   "metadata": {
    "scrolled": false
   },
   "outputs": [
    {
     "data": {
      "application/vnd.jupyter.widget-view+json": {
       "model_id": "2a9e0a39ef174c72bac575be7e20579c",
       "version_major": 2,
       "version_minor": 0
      },
      "text/plain": [
       "A Jupyter Widget"
      ]
     },
     "metadata": {},
     "output_type": "display_data"
    },
    {
     "name": "stdout",
     "output_type": "stream",
     "text": [
      "[ 0.       1.81983  1.81247]                                 \n",
      "[ 1.       1.63097  1.66228]                                 \n",
      "[ 2.       1.54433  1.57824]                                 \n",
      "[ 3.       1.48563  1.54505]                                 \n",
      "\n"
     ]
    }
   ],
   "source": [
    "fit(m, md, 4, opt, F.nll_loss)"
   ]
  },
  {
   "cell_type": "code",
   "execution_count": 24,
   "metadata": {},
   "outputs": [
    {
     "data": {
      "application/vnd.jupyter.widget-view+json": {
       "model_id": "8b15bf8bcc7445e694dbcb3beb658b74",
       "version_major": 2,
       "version_minor": 0
      },
      "text/plain": [
       "A Jupyter Widget"
      ]
     },
     "metadata": {},
     "output_type": "display_data"
    },
    {
     "name": "stdout",
     "output_type": "stream",
     "text": [
      "[ 0.       1.4187   1.50374]                                 \n",
      "[ 1.       1.41492  1.49391]                                 \n",
      "[ 2.       1.41001  1.49339]                                 \n",
      "[ 3.       1.40756  1.486  ]                                 \n",
      "\n"
     ]
    }
   ],
   "source": [
    "set_lrs(opt, 1e-4)\n",
    "\n",
    "fit(m, md, 4, opt, F.nll_loss)"
   ]
  },
  {
   "cell_type": "markdown",
   "metadata": {},
   "source": [
    "### RNN loop"
   ]
  },
  {
   "cell_type": "code",
   "execution_count": 9,
   "metadata": {
    "collapsed": true
   },
   "outputs": [],
   "source": [
    "# From the pytorch source\n",
    "\n",
    "def RNNCell(input, hidden, w_ih, w_hh, b_ih, b_hh):\n",
    "    return F.tanh(F.linear(input, w_ih, b_ih) + F.linear(hidden, w_hh, b_hh))"
   ]
  },
  {
   "cell_type": "code",
   "execution_count": 12,
   "metadata": {
    "collapsed": true
   },
   "outputs": [],
   "source": [
    "class CharSeqStatefulRnn2(nn.Module):\n",
    "    def __init__(self, vocab_size, n_fac, bs):\n",
    "        super().__init__()\n",
    "        self.vocab_size = vocab_size\n",
    "        self.e = nn.Embedding(vocab_size, n_fac)\n",
    "        self.rnn = nn.RNNCell(n_fac, n_hidden)\n",
    "        self.l_out = nn.Linear(n_hidden, vocab_size)\n",
    "        self.init_hidden(bs)\n",
    "        \n",
    "    def forward(self, cs):\n",
    "        bs = cs[0].size(0)\n",
    "        if self.h.size(1) != bs: self.init_hidden(bs)\n",
    "        outp = []\n",
    "        o = self.h\n",
    "        for c in cs: \n",
    "            o = self.rnn(self.e(c), o)\n",
    "            outp.append(o)\n",
    "        outp = self.l_out(torch.stack(outp))\n",
    "        self.h = repackage_var(o)\n",
    "        return F.log_softmax(outp, dim=-1).view(-1, self.vocab_size)\n",
    "    \n",
    "    def init_hidden(self, bs): self.h = V(torch.zeros(1, bs, n_hidden))"
   ]
  },
  {
   "cell_type": "code",
   "execution_count": 13,
   "metadata": {},
   "outputs": [],
   "source": [
    "m = CharSeqStatefulRnn2(md.nt, n_fac, 512).cuda()\n",
    "opt = optim.Adam(m.parameters(), 1e-3)"
   ]
  },
  {
   "cell_type": "code",
   "execution_count": 8,
   "metadata": {
    "scrolled": false
   },
   "outputs": [
    {
     "data": {
      "application/vnd.jupyter.widget-view+json": {
       "model_id": "8c46f24bfa194e1ba9d73e22283ca6af",
       "version_major": 2,
       "version_minor": 0
      },
      "text/plain": [
       "A Jupyter Widget"
      ]
     },
     "metadata": {},
     "output_type": "display_data"
    },
    {
     "name": "stdout",
     "output_type": "stream",
     "text": [
      "[ 0.       1.81013  1.7969 ]                                 \n",
      "[ 1.       1.62515  1.65346]                                 \n",
      "[ 2.       1.53913  1.58065]                                 \n",
      "[ 3.       1.48698  1.54217]                                 \n",
      "\n"
     ]
    }
   ],
   "source": [
    "fit(m, md, 4, opt, F.nll_loss)"
   ]
  },
  {
   "cell_type": "markdown",
   "metadata": {},
   "source": [
    "### GRU"
   ]
  },
  {
   "cell_type": "code",
   "execution_count": 18,
   "metadata": {
    "collapsed": true
   },
   "outputs": [],
   "source": [
    "class CharSeqStatefulGRU(nn.Module):\n",
    "    def __init__(self, vocab_size, n_fac, bs):\n",
    "        super().__init__()\n",
    "        self.vocab_size = vocab_size\n",
    "        self.e = nn.Embedding(vocab_size, n_fac)\n",
    "        self.rnn = nn.GRU(n_fac, n_hidden)\n",
    "        self.l_out = nn.Linear(n_hidden, vocab_size)\n",
    "        self.init_hidden(bs)\n",
    "        \n",
    "    def forward(self, cs):\n",
    "        bs = cs[0].size(0)\n",
    "        if self.h.size(1) != bs: self.init_hidden(bs)\n",
    "        outp,h = self.rnn(self.e(cs), self.h)\n",
    "        self.h = repackage_var(h)\n",
    "        return F.log_softmax(self.l_out(outp), dim=-1).view(-1, self.vocab_size)\n",
    "    \n",
    "    def init_hidden(self, bs): self.h = V(torch.zeros(1, bs, n_hidden))"
   ]
  },
  {
   "cell_type": "code",
   "execution_count": null,
   "metadata": {
    "collapsed": true
   },
   "outputs": [],
   "source": [
    "# From the pytorch source code - for reference\n",
    "\n",
    "def GRUCell(input, hidden, w_ih, w_hh, b_ih, b_hh):\n",
    "    gi = F.linear(input, w_ih, b_ih)\n",
    "    gh = F.linear(hidden, w_hh, b_hh)\n",
    "    i_r, i_i, i_n = gi.chunk(3, 1)\n",
    "    h_r, h_i, h_n = gh.chunk(3, 1)\n",
    "\n",
    "    resetgate = F.sigmoid(i_r + h_r)\n",
    "    inputgate = F.sigmoid(i_i + h_i)\n",
    "    newgate = F.tanh(i_n + resetgate * h_n)\n",
    "    return newgate + inputgate * (hidden - newgate)"
   ]
  },
  {
   "cell_type": "code",
   "execution_count": 27,
   "metadata": {
    "collapsed": true
   },
   "outputs": [],
   "source": [
    "m = CharSeqStatefulGRU(md.nt, n_fac, 512).cuda()\n",
    "\n",
    "opt = optim.Adam(m.parameters(), 1e-3)"
   ]
  },
  {
   "cell_type": "code",
   "execution_count": 29,
   "metadata": {
    "scrolled": false
   },
   "outputs": [
    {
     "data": {
      "application/vnd.jupyter.widget-view+json": {
       "model_id": "e518384d71c345a8b145b35d4ee894fa",
       "version_major": 2,
       "version_minor": 0
      },
      "text/plain": [
       "A Jupyter Widget"
      ]
     },
     "metadata": {},
     "output_type": "display_data"
    },
    {
     "name": "stdout",
     "output_type": "stream",
     "text": [
      "[ 0.       1.68409  1.67784]                                 \n",
      "[ 1.       1.49813  1.52661]                                 \n",
      "[ 2.       1.41674  1.46769]                                 \n",
      "[ 3.       1.36359  1.43818]                                 \n",
      "[ 4.       1.33223  1.41777]                                 \n",
      "[ 5.       1.30217  1.40511]                                 \n",
      "\n"
     ]
    }
   ],
   "source": [
    "fit(m, md, 6, opt, F.nll_loss)"
   ]
  },
  {
   "cell_type": "code",
   "execution_count": 30,
   "metadata": {
    "collapsed": true
   },
   "outputs": [],
   "source": [
    "set_lrs(opt, 1e-4)"
   ]
  },
  {
   "cell_type": "code",
   "execution_count": 31,
   "metadata": {
    "scrolled": false
   },
   "outputs": [
    {
     "data": {
      "application/vnd.jupyter.widget-view+json": {
       "model_id": "be385370c27f4b788920caf48f90aeea",
       "version_major": 2,
       "version_minor": 0
      },
      "text/plain": [
       "A Jupyter Widget"
      ]
     },
     "metadata": {},
     "output_type": "display_data"
    },
    {
     "name": "stdout",
     "output_type": "stream",
     "text": [
      "[ 0.       1.22708  1.36926]                                 \n",
      "[ 1.       1.21948  1.3696 ]                                 \n",
      "[ 2.       1.22541  1.36969]                                 \n",
      "\n"
     ]
    }
   ],
   "source": [
    "fit(m, md, 3, opt, F.nll_loss)"
   ]
  },
  {
   "cell_type": "markdown",
   "metadata": {},
   "source": [
    "### Putting it all together: LSTM"
   ]
  },
  {
   "cell_type": "code",
   "execution_count": 12,
   "metadata": {
    "collapsed": true
   },
   "outputs": [],
   "source": [
    "from fastai import sgdr\n",
    "\n",
    "n_hidden=512"
   ]
  },
  {
   "cell_type": "code",
   "execution_count": 22,
   "metadata": {
    "collapsed": true
   },
   "outputs": [],
   "source": [
    "class CharSeqStatefulLSTM(nn.Module):\n",
    "    def __init__(self, vocab_size, n_fac, bs, nl):\n",
    "        super().__init__()\n",
    "        self.vocab_size,self.nl = vocab_size,nl\n",
    "        self.e = nn.Embedding(vocab_size, n_fac)\n",
    "        self.rnn = nn.LSTM(n_fac, n_hidden, nl, dropout=0.5)\n",
    "        self.l_out = nn.Linear(n_hidden, vocab_size)\n",
    "        self.init_hidden(bs)\n",
    "        \n",
    "    def forward(self, cs):\n",
    "        bs = cs[0].size(0)\n",
    "        if self.h[0].size(1) != bs: self.init_hidden(bs)\n",
    "        outp,h = self.rnn(self.e(cs), self.h)\n",
    "        self.h = repackage_var(h)\n",
    "        return F.log_softmax(self.l_out(outp), dim=-1).view(-1, self.vocab_size)\n",
    "    \n",
    "    def init_hidden(self, bs):\n",
    "        self.h = (V(torch.zeros(self.nl, bs, n_hidden)),\n",
    "                  V(torch.zeros(self.nl, bs, n_hidden)))"
   ]
  },
  {
   "cell_type": "code",
   "execution_count": 23,
   "metadata": {
    "collapsed": true
   },
   "outputs": [],
   "source": [
    "m = CharSeqStatefulLSTM(md.nt, n_fac, 512, 2).cuda()\n",
    "lo = LayerOptimizer(optim.Adam, m, 1e-2, 1e-5)"
   ]
  },
  {
   "cell_type": "code",
   "execution_count": 18,
   "metadata": {
    "collapsed": true
   },
   "outputs": [],
   "source": [
    "os.makedirs(f'{PATH}models', exist_ok=True)"
   ]
  },
  {
   "cell_type": "code",
   "execution_count": 19,
   "metadata": {},
   "outputs": [
    {
     "data": {
      "application/vnd.jupyter.widget-view+json": {
       "model_id": "6943ca600bbf4a49a0020b2467c2ddb8",
       "version_major": 2,
       "version_minor": 0
      },
      "text/plain": [
       "A Jupyter Widget"
      ]
     },
     "metadata": {},
     "output_type": "display_data"
    },
    {
     "name": "stdout",
     "output_type": "stream",
     "text": [
      "[ 0.       1.72032  1.64016]                                 \n",
      "[ 1.       1.62891  1.58176]                                 \n",
      "\n"
     ]
    }
   ],
   "source": [
    "fit(m, md, 2, lo.opt, F.nll_loss)"
   ]
  },
  {
   "cell_type": "code",
   "execution_count": 20,
   "metadata": {
    "scrolled": true
   },
   "outputs": [
    {
     "data": {
      "application/vnd.jupyter.widget-view+json": {
       "model_id": "765d0d78da6647d48276a638f70aeec9",
       "version_major": 2,
       "version_minor": 0
      },
      "text/plain": [
       "A Jupyter Widget"
      ]
     },
     "metadata": {},
     "output_type": "display_data"
    },
    {
     "name": "stdout",
     "output_type": "stream",
     "text": [
      "[ 0.       1.47969  1.4472 ]                                 \n",
      "[ 1.       1.51411  1.46612]                                 \n",
      "[ 2.       1.412    1.39909]                                 \n",
      "[ 3.       1.53689  1.48337]                                 \n",
      "[ 4.       1.47375  1.43169]                                 \n",
      "[ 5.       1.39828  1.37963]                                 \n",
      "[ 6.       1.34546  1.35795]                                 \n",
      "[ 7.       1.51999  1.47165]                                 \n",
      "[ 8.       1.48992  1.46146]                                 \n",
      "[ 9.       1.45492  1.42829]                                 \n",
      "[ 10.        1.42027   1.39028]                              \n",
      "[ 11.        1.3814    1.36539]                              \n",
      "[ 12.        1.33895   1.34178]                              \n",
      "[ 13.        1.30737   1.32871]                              \n",
      "[ 14.        1.28244   1.31518]                              \n",
      "\n"
     ]
    }
   ],
   "source": [
    "on_end = lambda sched, cycle: save_model(m, f'{PATH}models/cyc_{cycle}')\n",
    "cb = [CosAnneal(lo, len(md.trn_dl), cycle_mult=2, on_cycle_end=on_end)]\n",
    "fit(m, md, 2**4-1, lo.opt, F.nll_loss, callbacks=cb)"
   ]
  },
  {
   "cell_type": "code",
   "execution_count": 44,
   "metadata": {
    "scrolled": true
   },
   "outputs": [
    {
     "data": {
      "application/vnd.jupyter.widget-view+json": {
       "model_id": "4394818ec37f4b419397628b7cc8b815",
       "version_major": 2,
       "version_minor": 0
      },
      "text/plain": [
       "A Jupyter Widget"
      ]
     },
     "metadata": {},
     "output_type": "display_data"
    },
    {
     "name": "stdout",
     "output_type": "stream",
     "text": [
      "[ 0.       1.46053  1.43462]                                 \n",
      "[ 1.       1.51537  1.47747]                                 \n",
      "[ 2.       1.39208  1.38293]                                 \n",
      "[ 3.       1.53056  1.49371]                                 \n",
      "[ 4.       1.46812  1.43389]                                 \n",
      "[ 5.       1.37624  1.37523]                                 \n",
      "[ 6.       1.3173   1.34022]                                 \n",
      "[ 7.       1.51783  1.47554]                                 \n",
      "[ 8.       1.4921   1.45785]                                 \n",
      "[ 9.       1.44843  1.42215]                                 \n",
      "[ 10.        1.40948   1.40858]                              \n",
      "[ 11.        1.37098   1.36648]                              \n",
      "[ 12.        1.32255   1.33842]                              \n",
      "[ 13.        1.28243   1.31106]                              \n",
      "[ 14.        1.25031   1.2918 ]                              \n",
      "[ 15.        1.49236   1.45316]                              \n",
      "[ 16.        1.46041   1.43622]                              \n",
      "[ 17.        1.45043   1.4498 ]                              \n",
      "[ 18.        1.43331   1.41297]                              \n",
      "[ 19.        1.43841   1.41704]                              \n",
      "[ 20.        1.41536   1.40521]                              \n",
      "[ 21.        1.39829   1.37656]                              \n",
      "[ 22.        1.37001   1.36891]                              \n",
      "[ 23.        1.35469   1.35909]                              \n",
      "[ 24.        1.32202   1.34228]                              \n",
      "[ 25.        1.29972   1.32256]                              \n",
      "[ 26.        1.28007   1.30903]                              \n",
      "[ 27.        1.24503   1.29125]                              \n",
      "[ 28.        1.22261   1.28316]                              \n",
      "[ 29.        1.20563   1.27397]                              \n",
      "[ 30.        1.18764   1.27178]                              \n",
      "[ 31.        1.18114   1.26694]                              \n",
      "[ 32.        1.44344   1.42405]                              \n",
      "[ 33.        1.43344   1.41616]                              \n",
      "[ 34.        1.4346    1.40442]                              \n",
      "[ 35.        1.42152   1.41359]                              \n",
      "[ 36.        1.42072   1.40835]                              \n",
      "[ 37.        1.41732   1.40498]                              \n",
      "[ 38.        1.41268   1.395  ]                              \n",
      "[ 39.        1.40725   1.39433]                              \n",
      "[ 40.        1.40181   1.39864]                              \n",
      "[ 41.        1.38621   1.37549]                              \n",
      "[ 42.        1.3838    1.38587]                              \n",
      "[ 43.        1.37644   1.37118]                              \n",
      "[ 44.        1.36287   1.36211]                              \n",
      "[ 45.        1.35942   1.36145]                              \n",
      "[ 46.        1.34712   1.34924]                              \n",
      "[ 47.        1.32994   1.34884]                              \n",
      "[ 48.        1.32788   1.33387]                              \n",
      "[ 49.        1.31553   1.342  ]                              \n",
      "[ 50.        1.30088   1.32435]                              \n",
      "[ 51.        1.28446   1.31166]                              \n",
      "[ 52.        1.27058   1.30807]                              \n",
      "[ 53.        1.26271   1.29935]                              \n",
      "[ 54.        1.24351   1.28942]                              \n",
      "[ 55.        1.23119   1.2838 ]                              \n",
      "[ 56.        1.2086    1.28364]                              \n",
      "[ 57.        1.19742   1.27375]                              \n",
      "[ 58.        1.18127   1.26758]                              \n",
      "[ 59.        1.17475   1.26858]                              \n",
      "[ 60.        1.15349   1.25999]                              \n",
      "[ 61.        1.14718   1.25779]                              \n",
      "[ 62.        1.13174   1.2524 ]                              \n",
      "\n"
     ]
    }
   ],
   "source": [
    "on_end = lambda sched, cycle: save_model(m, f'{PATH}models/cyc_{cycle}')\n",
    "cb = [CosAnneal(lo, len(md.trn_dl), cycle_mult=2, on_cycle_end=on_end)]\n",
    "fit(m, md, 2**6-1, lo.opt, F.nll_loss, callbacks=cb)"
   ]
  },
  {
   "cell_type": "code",
   "execution_count": null,
   "metadata": {
    "collapsed": true
   },
   "outputs": [],
   "source": []
  },
  {
   "cell_type": "markdown",
   "metadata": {},
   "source": [
    "### Test"
   ]
  },
  {
   "cell_type": "code",
   "execution_count": 45,
   "metadata": {
    "collapsed": true
   },
   "outputs": [],
   "source": [
    "def get_next(inp):\n",
    "    idxs = TEXT.numericalize(inp)\n",
    "    p = m(VV(idxs.transpose(0,1)))\n",
    "    r = torch.multinomial(p[-1].exp(), 1)\n",
    "    return TEXT.vocab.itos[to_np(r)[0]]"
   ]
  },
  {
   "cell_type": "code",
   "execution_count": 46,
   "metadata": {
    "scrolled": false
   },
   "outputs": [
    {
     "data": {
      "text/plain": [
       "'e'"
      ]
     },
     "execution_count": 46,
     "metadata": {},
     "output_type": "execute_result"
    }
   ],
   "source": [
    "get_next('for thos')"
   ]
  },
  {
   "cell_type": "code",
   "execution_count": 47,
   "metadata": {
    "collapsed": true
   },
   "outputs": [],
   "source": [
    "def get_next_n(inp, n):\n",
    "    res = inp\n",
    "    for i in range(n):\n",
    "        c = get_next(inp)\n",
    "        res += c\n",
    "        inp = inp[1:]+c\n",
    "    return res"
   ]
  },
  {
   "cell_type": "code",
   "execution_count": 50,
   "metadata": {},
   "outputs": [
    {
     "name": "stdout",
     "output_type": "stream",
     "text": [
      "for those the skemps), or\n",
      "imaginates, though they deceives. it should so each ourselvess and new\n",
      "present, step absolutely for the\n",
      "science.\" the contradity and\n",
      "measuring, \n",
      "the whole!\n",
      "\n",
      "293. perhaps, that every life a values of blood\n",
      "of\n",
      "intercourse when it senses there is unscrupulus, his very rights, and still impulse, love?\n",
      "just after that thereby how made with the way anything, and set for harmless philos\n"
     ]
    }
   ],
   "source": [
    "print(get_next_n('for thos', 400))"
   ]
  },
  {
   "cell_type": "code",
   "execution_count": null,
   "metadata": {
    "collapsed": true
   },
   "outputs": [],
   "source": []
  }
 ],
 "metadata": {
  "kernelspec": {
   "display_name": "Python 3",
   "language": "python",
   "name": "python3"
  },
  "language_info": {
   "codemirror_mode": {
    "name": "ipython",
    "version": 3
   },
   "file_extension": ".py",
   "mimetype": "text/x-python",
   "name": "python",
   "nbconvert_exporter": "python",
   "pygments_lexer": "ipython3",
   "version": "3.6.4"
  },
  "nav_menu": {},
  "toc": {
   "colors": {
    "hover_highlight": "#DAA520",
    "navigate_num": "#000000",
    "navigate_text": "#333333",
    "running_highlight": "#FF0000",
    "selected_highlight": "#FFD700",
    "sidebar_border": "#EEEEEE",
    "wrapper_background": "#FFFFFF"
   },
   "moveMenuLeft": true,
   "nav_menu": {
    "height": "216px",
    "width": "252px"
   },
   "navigate_menu": true,
   "number_sections": true,
   "sideBar": true,
   "threshold": 4,
   "toc_cell": false,
   "toc_section_display": "block",
   "toc_window_display": false,
   "widenNotebook": false
  }
 },
 "nbformat": 4,
 "nbformat_minor": 1
}
